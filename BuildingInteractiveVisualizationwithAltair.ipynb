{
 "cells": [
  {
   "cell_type": "code",
   "execution_count": 1,
   "metadata": {},
   "outputs": [],
   "source": [
    "import pandas as pd\n",
    "import altair as alt\n",
    "from vega_datasets import data "
   ]
  },
  {
   "cell_type": "code",
   "execution_count": 2,
   "metadata": {},
   "outputs": [
    {
     "data": {
      "text/plain": [
       "RendererRegistry.enable('jupyterlab')"
      ]
     },
     "execution_count": 2,
     "metadata": {},
     "output_type": "execute_result"
    }
   ],
   "source": [
    "alt.renderers.enable('jupyterlab')"
   ]
  },
  {
   "cell_type": "code",
   "execution_count": 4,
   "metadata": {},
   "outputs": [
    {
     "data": {
      "text/html": [
       "<div>\n",
       "<style scoped>\n",
       "    .dataframe tbody tr th:only-of-type {\n",
       "        vertical-align: middle;\n",
       "    }\n",
       "\n",
       "    .dataframe tbody tr th {\n",
       "        vertical-align: top;\n",
       "    }\n",
       "\n",
       "    .dataframe thead th {\n",
       "        text-align: right;\n",
       "    }\n",
       "</style>\n",
       "<table border=\"1\" class=\"dataframe\">\n",
       "  <thead>\n",
       "    <tr style=\"text-align: right;\">\n",
       "      <th></th>\n",
       "      <th>date</th>\n",
       "      <th>precipitation</th>\n",
       "      <th>temp_max</th>\n",
       "      <th>temp_min</th>\n",
       "      <th>wind</th>\n",
       "      <th>weather</th>\n",
       "    </tr>\n",
       "  </thead>\n",
       "  <tbody>\n",
       "    <tr>\n",
       "      <th>1187</th>\n",
       "      <td>2015-04-02</td>\n",
       "      <td>0.0</td>\n",
       "      <td>13.3</td>\n",
       "      <td>5.6</td>\n",
       "      <td>2.4</td>\n",
       "      <td>sun</td>\n",
       "    </tr>\n",
       "    <tr>\n",
       "      <th>123</th>\n",
       "      <td>2012-05-03</td>\n",
       "      <td>18.5</td>\n",
       "      <td>11.1</td>\n",
       "      <td>7.2</td>\n",
       "      <td>3.4</td>\n",
       "      <td>rain</td>\n",
       "    </tr>\n",
       "    <tr>\n",
       "      <th>575</th>\n",
       "      <td>2013-07-29</td>\n",
       "      <td>0.0</td>\n",
       "      <td>25.0</td>\n",
       "      <td>13.3</td>\n",
       "      <td>1.4</td>\n",
       "      <td>sun</td>\n",
       "    </tr>\n",
       "    <tr>\n",
       "      <th>1084</th>\n",
       "      <td>2014-12-20</td>\n",
       "      <td>19.6</td>\n",
       "      <td>12.8</td>\n",
       "      <td>6.7</td>\n",
       "      <td>5.5</td>\n",
       "      <td>fog</td>\n",
       "    </tr>\n",
       "    <tr>\n",
       "      <th>1005</th>\n",
       "      <td>2014-10-02</td>\n",
       "      <td>0.0</td>\n",
       "      <td>19.4</td>\n",
       "      <td>10.0</td>\n",
       "      <td>2.0</td>\n",
       "      <td>sun</td>\n",
       "    </tr>\n",
       "  </tbody>\n",
       "</table>\n",
       "</div>"
      ],
      "text/plain": [
       "           date  precipitation  temp_max  temp_min  wind weather\n",
       "1187 2015-04-02            0.0      13.3       5.6   2.4     sun\n",
       "123  2012-05-03           18.5      11.1       7.2   3.4    rain\n",
       "575  2013-07-29            0.0      25.0      13.3   1.4     sun\n",
       "1084 2014-12-20           19.6      12.8       6.7   5.5     fog\n",
       "1005 2014-10-02            0.0      19.4      10.0   2.0     sun"
      ]
     },
     "execution_count": 4,
     "metadata": {},
     "output_type": "execute_result"
    }
   ],
   "source": [
    "weather_data = data.seattle_weather()\n",
    "\n",
    "weather_data.sample(5)"
   ]
  },
  {
   "cell_type": "code",
   "execution_count": 5,
   "metadata": {},
   "outputs": [
    {
     "data": {
      "text/plain": [
       "(1461, 6)"
      ]
     },
     "execution_count": 5,
     "metadata": {},
     "output_type": "execute_result"
    }
   ],
   "source": [
    "weather_data.shape"
   ]
  },
  {
   "cell_type": "code",
   "execution_count": 7,
   "metadata": {},
   "outputs": [
    {
     "data": {
      "text/plain": [
       "Index(['date', 'precipitation', 'temp_max', 'temp_min', 'wind', 'weather'], dtype='object')"
      ]
     },
     "execution_count": 7,
     "metadata": {},
     "output_type": "execute_result"
    }
   ],
   "source": [
    "weather_data.columns"
   ]
  },
  {
   "cell_type": "code",
   "execution_count": 8,
   "metadata": {},
   "outputs": [],
   "source": [
    "'''Extracting month, year and day from the column and then droppping the column later'''\n",
    "weather_data['year'] = weather_data['date'].dt.year\n",
    "weather_data['month'] = weather_data['date'].dt.month\n",
    "weather_data['day'] = weather_data['date'].dt.day\n",
    "\n",
    "weather_data.drop('date', axis = 1, inplace = True)"
   ]
  },
  {
   "cell_type": "code",
   "execution_count": 9,
   "metadata": {},
   "outputs": [
    {
     "data": {
      "text/plain": [
       "Index(['precipitation', 'temp_max', 'temp_min', 'wind', 'weather', 'year',\n",
       "       'month', 'day'],\n",
       "      dtype='object')"
      ]
     },
     "execution_count": 9,
     "metadata": {},
     "output_type": "execute_result"
    }
   ],
   "source": [
    "'''Checking to ensure that we have additional new columns that I added above'''\n",
    "weather_data.columns"
   ]
  },
  {
   "cell_type": "code",
   "execution_count": 10,
   "metadata": {},
   "outputs": [
    {
     "data": {
      "text/html": [
       "<div>\n",
       "<style scoped>\n",
       "    .dataframe tbody tr th:only-of-type {\n",
       "        vertical-align: middle;\n",
       "    }\n",
       "\n",
       "    .dataframe tbody tr th {\n",
       "        vertical-align: top;\n",
       "    }\n",
       "\n",
       "    .dataframe thead th {\n",
       "        text-align: right;\n",
       "    }\n",
       "</style>\n",
       "<table border=\"1\" class=\"dataframe\">\n",
       "  <thead>\n",
       "    <tr style=\"text-align: right;\">\n",
       "      <th></th>\n",
       "      <th>precipitation</th>\n",
       "      <th>temp_max</th>\n",
       "      <th>temp_min</th>\n",
       "      <th>wind</th>\n",
       "      <th>weather</th>\n",
       "      <th>year</th>\n",
       "      <th>month</th>\n",
       "      <th>day</th>\n",
       "    </tr>\n",
       "  </thead>\n",
       "  <tbody>\n",
       "    <tr>\n",
       "      <th>0</th>\n",
       "      <td>0.0</td>\n",
       "      <td>12.8</td>\n",
       "      <td>5.0</td>\n",
       "      <td>4.7</td>\n",
       "      <td>drizzle</td>\n",
       "      <td>2012</td>\n",
       "      <td>1</td>\n",
       "      <td>1</td>\n",
       "    </tr>\n",
       "    <tr>\n",
       "      <th>1</th>\n",
       "      <td>10.9</td>\n",
       "      <td>10.6</td>\n",
       "      <td>2.8</td>\n",
       "      <td>4.5</td>\n",
       "      <td>rain</td>\n",
       "      <td>2012</td>\n",
       "      <td>1</td>\n",
       "      <td>2</td>\n",
       "    </tr>\n",
       "    <tr>\n",
       "      <th>2</th>\n",
       "      <td>0.8</td>\n",
       "      <td>11.7</td>\n",
       "      <td>7.2</td>\n",
       "      <td>2.3</td>\n",
       "      <td>rain</td>\n",
       "      <td>2012</td>\n",
       "      <td>1</td>\n",
       "      <td>3</td>\n",
       "    </tr>\n",
       "    <tr>\n",
       "      <th>3</th>\n",
       "      <td>20.3</td>\n",
       "      <td>12.2</td>\n",
       "      <td>5.6</td>\n",
       "      <td>4.7</td>\n",
       "      <td>rain</td>\n",
       "      <td>2012</td>\n",
       "      <td>1</td>\n",
       "      <td>4</td>\n",
       "    </tr>\n",
       "    <tr>\n",
       "      <th>4</th>\n",
       "      <td>1.3</td>\n",
       "      <td>8.9</td>\n",
       "      <td>2.8</td>\n",
       "      <td>6.1</td>\n",
       "      <td>rain</td>\n",
       "      <td>2012</td>\n",
       "      <td>1</td>\n",
       "      <td>5</td>\n",
       "    </tr>\n",
       "  </tbody>\n",
       "</table>\n",
       "</div>"
      ],
      "text/plain": [
       "   precipitation  temp_max  temp_min  wind  weather  year  month  day\n",
       "0            0.0      12.8       5.0   4.7  drizzle  2012      1    1\n",
       "1           10.9      10.6       2.8   4.5     rain  2012      1    2\n",
       "2            0.8      11.7       7.2   2.3     rain  2012      1    3\n",
       "3           20.3      12.2       5.6   4.7     rain  2012      1    4\n",
       "4            1.3       8.9       2.8   6.1     rain  2012      1    5"
      ]
     },
     "execution_count": 10,
     "metadata": {},
     "output_type": "execute_result"
    }
   ],
   "source": [
    "weather_data.head()"
   ]
  },
  {
   "cell_type": "code",
   "execution_count": 11,
   "metadata": {},
   "outputs": [
    {
     "data": {
      "text/html": [
       "<div>\n",
       "<style scoped>\n",
       "    .dataframe tbody tr th:only-of-type {\n",
       "        vertical-align: middle;\n",
       "    }\n",
       "\n",
       "    .dataframe tbody tr th {\n",
       "        vertical-align: top;\n",
       "    }\n",
       "\n",
       "    .dataframe thead th {\n",
       "        text-align: right;\n",
       "    }\n",
       "</style>\n",
       "<table border=\"1\" class=\"dataframe\">\n",
       "  <thead>\n",
       "    <tr style=\"text-align: right;\">\n",
       "      <th></th>\n",
       "      <th>precipitation</th>\n",
       "      <th>temp_max</th>\n",
       "      <th>temp_min</th>\n",
       "      <th>wind</th>\n",
       "      <th>year</th>\n",
       "      <th>month</th>\n",
       "      <th>day</th>\n",
       "    </tr>\n",
       "  </thead>\n",
       "  <tbody>\n",
       "    <tr>\n",
       "      <th>count</th>\n",
       "      <td>1461.000000</td>\n",
       "      <td>1461.000000</td>\n",
       "      <td>1461.000000</td>\n",
       "      <td>1461.000000</td>\n",
       "      <td>1461.000000</td>\n",
       "      <td>1461.000000</td>\n",
       "      <td>1461.000000</td>\n",
       "    </tr>\n",
       "    <tr>\n",
       "      <th>mean</th>\n",
       "      <td>3.029432</td>\n",
       "      <td>16.439083</td>\n",
       "      <td>8.234771</td>\n",
       "      <td>3.241136</td>\n",
       "      <td>2013.498973</td>\n",
       "      <td>6.522930</td>\n",
       "      <td>15.729637</td>\n",
       "    </tr>\n",
       "    <tr>\n",
       "      <th>std</th>\n",
       "      <td>6.680194</td>\n",
       "      <td>7.349758</td>\n",
       "      <td>5.023004</td>\n",
       "      <td>1.437825</td>\n",
       "      <td>1.118723</td>\n",
       "      <td>3.449884</td>\n",
       "      <td>8.803105</td>\n",
       "    </tr>\n",
       "    <tr>\n",
       "      <th>min</th>\n",
       "      <td>0.000000</td>\n",
       "      <td>-1.600000</td>\n",
       "      <td>-7.100000</td>\n",
       "      <td>0.400000</td>\n",
       "      <td>2012.000000</td>\n",
       "      <td>1.000000</td>\n",
       "      <td>1.000000</td>\n",
       "    </tr>\n",
       "    <tr>\n",
       "      <th>25%</th>\n",
       "      <td>0.000000</td>\n",
       "      <td>10.600000</td>\n",
       "      <td>4.400000</td>\n",
       "      <td>2.200000</td>\n",
       "      <td>2012.000000</td>\n",
       "      <td>4.000000</td>\n",
       "      <td>8.000000</td>\n",
       "    </tr>\n",
       "    <tr>\n",
       "      <th>50%</th>\n",
       "      <td>0.000000</td>\n",
       "      <td>15.600000</td>\n",
       "      <td>8.300000</td>\n",
       "      <td>3.000000</td>\n",
       "      <td>2013.000000</td>\n",
       "      <td>7.000000</td>\n",
       "      <td>16.000000</td>\n",
       "    </tr>\n",
       "    <tr>\n",
       "      <th>75%</th>\n",
       "      <td>2.800000</td>\n",
       "      <td>22.200000</td>\n",
       "      <td>12.200000</td>\n",
       "      <td>4.000000</td>\n",
       "      <td>2014.000000</td>\n",
       "      <td>10.000000</td>\n",
       "      <td>23.000000</td>\n",
       "    </tr>\n",
       "    <tr>\n",
       "      <th>max</th>\n",
       "      <td>55.900000</td>\n",
       "      <td>35.600000</td>\n",
       "      <td>18.300000</td>\n",
       "      <td>9.500000</td>\n",
       "      <td>2015.000000</td>\n",
       "      <td>12.000000</td>\n",
       "      <td>31.000000</td>\n",
       "    </tr>\n",
       "  </tbody>\n",
       "</table>\n",
       "</div>"
      ],
      "text/plain": [
       "       precipitation     temp_max     temp_min         wind         year  \\\n",
       "count    1461.000000  1461.000000  1461.000000  1461.000000  1461.000000   \n",
       "mean        3.029432    16.439083     8.234771     3.241136  2013.498973   \n",
       "std         6.680194     7.349758     5.023004     1.437825     1.118723   \n",
       "min         0.000000    -1.600000    -7.100000     0.400000  2012.000000   \n",
       "25%         0.000000    10.600000     4.400000     2.200000  2012.000000   \n",
       "50%         0.000000    15.600000     8.300000     3.000000  2013.000000   \n",
       "75%         2.800000    22.200000    12.200000     4.000000  2014.000000   \n",
       "max        55.900000    35.600000    18.300000     9.500000  2015.000000   \n",
       "\n",
       "             month          day  \n",
       "count  1461.000000  1461.000000  \n",
       "mean      6.522930    15.729637  \n",
       "std       3.449884     8.803105  \n",
       "min       1.000000     1.000000  \n",
       "25%       4.000000     8.000000  \n",
       "50%       7.000000    16.000000  \n",
       "75%      10.000000    23.000000  \n",
       "max      12.000000    31.000000  "
      ]
     },
     "execution_count": 11,
     "metadata": {},
     "output_type": "execute_result"
    }
   ],
   "source": [
    "weather_data.describe()"
   ]
  },
  {
   "cell_type": "code",
   "execution_count": 12,
   "metadata": {},
   "outputs": [
    {
     "data": {
      "text/plain": [
       "array([2012, 2013, 2014, 2015], dtype=int64)"
      ]
     },
     "execution_count": 12,
     "metadata": {},
     "output_type": "execute_result"
    }
   ],
   "source": [
    "weather_data['year'].unique()"
   ]
  },
  {
   "cell_type": "code",
   "execution_count": 22,
   "metadata": {},
   "outputs": [
    {
     "data": {
      "application/vnd.vegalite.v4+json": {
       "$schema": "https://vega.github.io/schema/vega-lite/v4.8.1.json",
       "config": {
        "view": {
         "continuousHeight": 300,
         "continuousWidth": 400
        }
       },
       "data": {
        "name": "data-34c913c2ef68cd4023ca26de0be7dcb4"
       },
       "datasets": {
        "data-34c913c2ef68cd4023ca26de0be7dcb4": [
         {
          "day": 1,
          "month": 1,
          "precipitation": 0,
          "temp_max": 12.8,
          "temp_min": 5,
          "weather": "drizzle",
          "wind": 4.7,
          "year": 2012
         },
         {
          "day": 2,
          "month": 1,
          "precipitation": 10.9,
          "temp_max": 10.6,
          "temp_min": 2.8,
          "weather": "rain",
          "wind": 4.5,
          "year": 2012
         },
         {
          "day": 3,
          "month": 1,
          "precipitation": 0.8,
          "temp_max": 11.7,
          "temp_min": 7.2,
          "weather": "rain",
          "wind": 2.3,
          "year": 2012
         },
         {
          "day": 4,
          "month": 1,
          "precipitation": 20.3,
          "temp_max": 12.2,
          "temp_min": 5.6,
          "weather": "rain",
          "wind": 4.7,
          "year": 2012
         },
         {
          "day": 5,
          "month": 1,
          "precipitation": 1.3,
          "temp_max": 8.9,
          "temp_min": 2.8,
          "weather": "rain",
          "wind": 6.1,
          "year": 2012
         },
         {
          "day": 6,
          "month": 1,
          "precipitation": 2.5,
          "temp_max": 4.4,
          "temp_min": 2.2,
          "weather": "rain",
          "wind": 2.2,
          "year": 2012
         },
         {
          "day": 7,
          "month": 1,
          "precipitation": 0,
          "temp_max": 7.2,
          "temp_min": 2.8,
          "weather": "rain",
          "wind": 2.3,
          "year": 2012
         },
         {
          "day": 8,
          "month": 1,
          "precipitation": 0,
          "temp_max": 10,
          "temp_min": 2.8,
          "weather": "sun",
          "wind": 2,
          "year": 2012
         },
         {
          "day": 9,
          "month": 1,
          "precipitation": 4.3,
          "temp_max": 9.4,
          "temp_min": 5,
          "weather": "rain",
          "wind": 3.4,
          "year": 2012
         },
         {
          "day": 10,
          "month": 1,
          "precipitation": 1,
          "temp_max": 6.1,
          "temp_min": 0.6,
          "weather": "rain",
          "wind": 3.4,
          "year": 2012
         },
         {
          "day": 11,
          "month": 1,
          "precipitation": 0,
          "temp_max": 6.1,
          "temp_min": -1.1,
          "weather": "sun",
          "wind": 5.1,
          "year": 2012
         },
         {
          "day": 12,
          "month": 1,
          "precipitation": 0,
          "temp_max": 6.1,
          "temp_min": -1.7,
          "weather": "sun",
          "wind": 1.9,
          "year": 2012
         },
         {
          "day": 13,
          "month": 1,
          "precipitation": 0,
          "temp_max": 5,
          "temp_min": -2.8,
          "weather": "sun",
          "wind": 1.3,
          "year": 2012
         },
         {
          "day": 14,
          "month": 1,
          "precipitation": 4.1,
          "temp_max": 4.4,
          "temp_min": 0.6,
          "weather": "snow",
          "wind": 5.3,
          "year": 2012
         },
         {
          "day": 15,
          "month": 1,
          "precipitation": 5.3,
          "temp_max": 1.1,
          "temp_min": -3.3,
          "weather": "snow",
          "wind": 3.2,
          "year": 2012
         },
         {
          "day": 16,
          "month": 1,
          "precipitation": 2.5,
          "temp_max": 1.7,
          "temp_min": -2.8,
          "weather": "snow",
          "wind": 5,
          "year": 2012
         },
         {
          "day": 17,
          "month": 1,
          "precipitation": 8.1,
          "temp_max": 3.3,
          "temp_min": 0,
          "weather": "snow",
          "wind": 5.6,
          "year": 2012
         },
         {
          "day": 18,
          "month": 1,
          "precipitation": 19.8,
          "temp_max": 0,
          "temp_min": -2.8,
          "weather": "snow",
          "wind": 5,
          "year": 2012
         },
         {
          "day": 19,
          "month": 1,
          "precipitation": 15.2,
          "temp_max": -1.1,
          "temp_min": -2.8,
          "weather": "snow",
          "wind": 1.6,
          "year": 2012
         },
         {
          "day": 20,
          "month": 1,
          "precipitation": 13.5,
          "temp_max": 7.2,
          "temp_min": -1.1,
          "weather": "snow",
          "wind": 2.3,
          "year": 2012
         },
         {
          "day": 21,
          "month": 1,
          "precipitation": 3,
          "temp_max": 8.3,
          "temp_min": 3.3,
          "weather": "rain",
          "wind": 8.2,
          "year": 2012
         },
         {
          "day": 22,
          "month": 1,
          "precipitation": 6.1,
          "temp_max": 6.7,
          "temp_min": 2.2,
          "weather": "rain",
          "wind": 4.8,
          "year": 2012
         },
         {
          "day": 23,
          "month": 1,
          "precipitation": 0,
          "temp_max": 8.3,
          "temp_min": 1.1,
          "weather": "rain",
          "wind": 3.6,
          "year": 2012
         },
         {
          "day": 24,
          "month": 1,
          "precipitation": 8.6,
          "temp_max": 10,
          "temp_min": 2.2,
          "weather": "rain",
          "wind": 5.1,
          "year": 2012
         },
         {
          "day": 25,
          "month": 1,
          "precipitation": 8.1,
          "temp_max": 8.9,
          "temp_min": 4.4,
          "weather": "rain",
          "wind": 5.4,
          "year": 2012
         },
         {
          "day": 26,
          "month": 1,
          "precipitation": 4.8,
          "temp_max": 8.9,
          "temp_min": 1.1,
          "weather": "rain",
          "wind": 4.8,
          "year": 2012
         },
         {
          "day": 27,
          "month": 1,
          "precipitation": 0,
          "temp_max": 6.7,
          "temp_min": -2.2,
          "weather": "drizzle",
          "wind": 1.4,
          "year": 2012
         },
         {
          "day": 28,
          "month": 1,
          "precipitation": 0,
          "temp_max": 6.7,
          "temp_min": 0.6,
          "weather": "rain",
          "wind": 2.2,
          "year": 2012
         },
         {
          "day": 29,
          "month": 1,
          "precipitation": 27.7,
          "temp_max": 9.4,
          "temp_min": 3.9,
          "weather": "rain",
          "wind": 4.5,
          "year": 2012
         },
         {
          "day": 30,
          "month": 1,
          "precipitation": 3.6,
          "temp_max": 8.3,
          "temp_min": 6.1,
          "weather": "rain",
          "wind": 5.1,
          "year": 2012
         },
         {
          "day": 31,
          "month": 1,
          "precipitation": 1.8,
          "temp_max": 9.4,
          "temp_min": 6.1,
          "weather": "rain",
          "wind": 3.9,
          "year": 2012
         },
         {
          "day": 1,
          "month": 2,
          "precipitation": 13.5,
          "temp_max": 8.9,
          "temp_min": 3.3,
          "weather": "rain",
          "wind": 2.7,
          "year": 2012
         },
         {
          "day": 2,
          "month": 2,
          "precipitation": 0,
          "temp_max": 8.3,
          "temp_min": 1.7,
          "weather": "sun",
          "wind": 2.6,
          "year": 2012
         },
         {
          "day": 3,
          "month": 2,
          "precipitation": 0,
          "temp_max": 14.4,
          "temp_min": 2.2,
          "weather": "sun",
          "wind": 5.3,
          "year": 2012
         },
         {
          "day": 4,
          "month": 2,
          "precipitation": 0,
          "temp_max": 15.6,
          "temp_min": 5,
          "weather": "sun",
          "wind": 4.3,
          "year": 2012
         },
         {
          "day": 5,
          "month": 2,
          "precipitation": 0,
          "temp_max": 13.9,
          "temp_min": 1.7,
          "weather": "sun",
          "wind": 2.9,
          "year": 2012
         },
         {
          "day": 6,
          "month": 2,
          "precipitation": 0,
          "temp_max": 16.1,
          "temp_min": 1.7,
          "weather": "sun",
          "wind": 5,
          "year": 2012
         },
         {
          "day": 7,
          "month": 2,
          "precipitation": 0.3,
          "temp_max": 15.6,
          "temp_min": 7.8,
          "weather": "rain",
          "wind": 5.3,
          "year": 2012
         },
         {
          "day": 8,
          "month": 2,
          "precipitation": 2.8,
          "temp_max": 10,
          "temp_min": 5,
          "weather": "rain",
          "wind": 2.7,
          "year": 2012
         },
         {
          "day": 9,
          "month": 2,
          "precipitation": 2.5,
          "temp_max": 11.1,
          "temp_min": 7.8,
          "weather": "rain",
          "wind": 2.4,
          "year": 2012
         },
         {
          "day": 10,
          "month": 2,
          "precipitation": 2.5,
          "temp_max": 12.8,
          "temp_min": 6.7,
          "weather": "rain",
          "wind": 3,
          "year": 2012
         },
         {
          "day": 11,
          "month": 2,
          "precipitation": 0.8,
          "temp_max": 8.9,
          "temp_min": 5.6,
          "weather": "rain",
          "wind": 3.4,
          "year": 2012
         },
         {
          "day": 12,
          "month": 2,
          "precipitation": 1,
          "temp_max": 8.3,
          "temp_min": 5,
          "weather": "rain",
          "wind": 1.3,
          "year": 2012
         },
         {
          "day": 13,
          "month": 2,
          "precipitation": 11.4,
          "temp_max": 7.2,
          "temp_min": 4.4,
          "weather": "rain",
          "wind": 1.4,
          "year": 2012
         },
         {
          "day": 14,
          "month": 2,
          "precipitation": 2.5,
          "temp_max": 6.7,
          "temp_min": 1.1,
          "weather": "rain",
          "wind": 3.1,
          "year": 2012
         },
         {
          "day": 15,
          "month": 2,
          "precipitation": 0,
          "temp_max": 7.2,
          "temp_min": 0.6,
          "weather": "drizzle",
          "wind": 1.8,
          "year": 2012
         },
         {
          "day": 16,
          "month": 2,
          "precipitation": 1.8,
          "temp_max": 7.2,
          "temp_min": 3.3,
          "weather": "rain",
          "wind": 2.1,
          "year": 2012
         },
         {
          "day": 17,
          "month": 2,
          "precipitation": 17.3,
          "temp_max": 10,
          "temp_min": 4.4,
          "weather": "rain",
          "wind": 3.4,
          "year": 2012
         },
         {
          "day": 18,
          "month": 2,
          "precipitation": 6.4,
          "temp_max": 6.7,
          "temp_min": 3.9,
          "weather": "rain",
          "wind": 8.1,
          "year": 2012
         },
         {
          "day": 19,
          "month": 2,
          "precipitation": 0,
          "temp_max": 6.7,
          "temp_min": 2.2,
          "weather": "sun",
          "wind": 4.7,
          "year": 2012
         },
         {
          "day": 20,
          "month": 2,
          "precipitation": 3,
          "temp_max": 7.8,
          "temp_min": 1.7,
          "weather": "rain",
          "wind": 2.9,
          "year": 2012
         },
         {
          "day": 21,
          "month": 2,
          "precipitation": 0.8,
          "temp_max": 10,
          "temp_min": 7.8,
          "weather": "rain",
          "wind": 7.5,
          "year": 2012
         },
         {
          "day": 22,
          "month": 2,
          "precipitation": 8.6,
          "temp_max": 10,
          "temp_min": 2.8,
          "weather": "rain",
          "wind": 5.9,
          "year": 2012
         },
         {
          "day": 23,
          "month": 2,
          "precipitation": 0,
          "temp_max": 8.3,
          "temp_min": 2.8,
          "weather": "sun",
          "wind": 3.9,
          "year": 2012
         },
         {
          "day": 24,
          "month": 2,
          "precipitation": 11.4,
          "temp_max": 6.7,
          "temp_min": 4.4,
          "weather": "rain",
          "wind": 3.5,
          "year": 2012
         },
         {
          "day": 25,
          "month": 2,
          "precipitation": 0,
          "temp_max": 7.2,
          "temp_min": 2.8,
          "weather": "rain",
          "wind": 6.4,
          "year": 2012
         },
         {
          "day": 26,
          "month": 2,
          "precipitation": 1.3,
          "temp_max": 5,
          "temp_min": -1.1,
          "weather": "snow",
          "wind": 3.4,
          "year": 2012
         },
         {
          "day": 27,
          "month": 2,
          "precipitation": 0,
          "temp_max": 6.7,
          "temp_min": -2.2,
          "weather": "sun",
          "wind": 3,
          "year": 2012
         },
         {
          "day": 28,
          "month": 2,
          "precipitation": 3.6,
          "temp_max": 6.7,
          "temp_min": -0.6,
          "weather": "snow",
          "wind": 4.2,
          "year": 2012
         },
         {
          "day": 29,
          "month": 2,
          "precipitation": 0.8,
          "temp_max": 5,
          "temp_min": 1.1,
          "weather": "snow",
          "wind": 7,
          "year": 2012
         },
         {
          "day": 1,
          "month": 3,
          "precipitation": 0,
          "temp_max": 6.1,
          "temp_min": 1.1,
          "weather": "sun",
          "wind": 3.1,
          "year": 2012
         },
         {
          "day": 2,
          "month": 3,
          "precipitation": 2,
          "temp_max": 6.7,
          "temp_min": 3.9,
          "weather": "rain",
          "wind": 5.1,
          "year": 2012
         },
         {
          "day": 3,
          "month": 3,
          "precipitation": 0,
          "temp_max": 12.2,
          "temp_min": 6.7,
          "weather": "sun",
          "wind": 7,
          "year": 2012
         },
         {
          "day": 4,
          "month": 3,
          "precipitation": 0,
          "temp_max": 10.6,
          "temp_min": 6.7,
          "weather": "rain",
          "wind": 5.6,
          "year": 2012
         },
         {
          "day": 5,
          "month": 3,
          "precipitation": 6.9,
          "temp_max": 7.8,
          "temp_min": 1.1,
          "weather": "rain",
          "wind": 6.2,
          "year": 2012
         },
         {
          "day": 6,
          "month": 3,
          "precipitation": 0.5,
          "temp_max": 6.7,
          "temp_min": 0,
          "weather": "snow",
          "wind": 2.7,
          "year": 2012
         },
         {
          "day": 7,
          "month": 3,
          "precipitation": 0,
          "temp_max": 8.9,
          "temp_min": -1.7,
          "weather": "sun",
          "wind": 2.7,
          "year": 2012
         },
         {
          "day": 8,
          "month": 3,
          "precipitation": 0,
          "temp_max": 15.6,
          "temp_min": 0.6,
          "weather": "sun",
          "wind": 2.5,
          "year": 2012
         },
         {
          "day": 9,
          "month": 3,
          "precipitation": 3.6,
          "temp_max": 9.4,
          "temp_min": 5,
          "weather": "rain",
          "wind": 2.8,
          "year": 2012
         },
         {
          "day": 10,
          "month": 3,
          "precipitation": 10.4,
          "temp_max": 7.2,
          "temp_min": 6.1,
          "weather": "rain",
          "wind": 3.4,
          "year": 2012
         },
         {
          "day": 11,
          "month": 3,
          "precipitation": 13.7,
          "temp_max": 6.7,
          "temp_min": 2.8,
          "weather": "rain",
          "wind": 5.8,
          "year": 2012
         },
         {
          "day": 12,
          "month": 3,
          "precipitation": 19.3,
          "temp_max": 8.3,
          "temp_min": 0.6,
          "weather": "snow",
          "wind": 6.2,
          "year": 2012
         },
         {
          "day": 13,
          "month": 3,
          "precipitation": 9.4,
          "temp_max": 5.6,
          "temp_min": 0.6,
          "weather": "snow",
          "wind": 5.3,
          "year": 2012
         },
         {
          "day": 14,
          "month": 3,
          "precipitation": 8.6,
          "temp_max": 7.8,
          "temp_min": 1.1,
          "weather": "rain",
          "wind": 4.7,
          "year": 2012
         },
         {
          "day": 15,
          "month": 3,
          "precipitation": 23.9,
          "temp_max": 11.1,
          "temp_min": 5.6,
          "weather": "snow",
          "wind": 5.8,
          "year": 2012
         },
         {
          "day": 16,
          "month": 3,
          "precipitation": 8.4,
          "temp_max": 8.9,
          "temp_min": 3.9,
          "weather": "rain",
          "wind": 5.1,
          "year": 2012
         },
         {
          "day": 17,
          "month": 3,
          "precipitation": 9.4,
          "temp_max": 10,
          "temp_min": 0.6,
          "weather": "snow",
          "wind": 3.8,
          "year": 2012
         },
         {
          "day": 18,
          "month": 3,
          "precipitation": 3.6,
          "temp_max": 5,
          "temp_min": -0.6,
          "weather": "rain",
          "wind": 2.7,
          "year": 2012
         },
         {
          "day": 19,
          "month": 3,
          "precipitation": 2,
          "temp_max": 7.2,
          "temp_min": -1.1,
          "weather": "rain",
          "wind": 3,
          "year": 2012
         },
         {
          "day": 20,
          "month": 3,
          "precipitation": 3.6,
          "temp_max": 7.8,
          "temp_min": 2.2,
          "weather": "rain",
          "wind": 6.4,
          "year": 2012
         },
         {
          "day": 21,
          "month": 3,
          "precipitation": 1.3,
          "temp_max": 8.9,
          "temp_min": 1.1,
          "weather": "rain",
          "wind": 2.5,
          "year": 2012
         },
         {
          "day": 22,
          "month": 3,
          "precipitation": 4.1,
          "temp_max": 10,
          "temp_min": 1.7,
          "weather": "rain",
          "wind": 2.1,
          "year": 2012
         },
         {
          "day": 23,
          "month": 3,
          "precipitation": 0,
          "temp_max": 12.2,
          "temp_min": 0.6,
          "weather": "sun",
          "wind": 2.8,
          "year": 2012
         },
         {
          "day": 24,
          "month": 3,
          "precipitation": 0,
          "temp_max": 15,
          "temp_min": 3.3,
          "weather": "sun",
          "wind": 5.2,
          "year": 2012
         },
         {
          "day": 25,
          "month": 3,
          "precipitation": 0,
          "temp_max": 13.3,
          "temp_min": 2.2,
          "weather": "rain",
          "wind": 2.7,
          "year": 2012
         },
         {
          "day": 26,
          "month": 3,
          "precipitation": 0,
          "temp_max": 12.8,
          "temp_min": 6.1,
          "weather": "drizzle",
          "wind": 4.3,
          "year": 2012
         },
         {
          "day": 27,
          "month": 3,
          "precipitation": 4.8,
          "temp_max": 14.4,
          "temp_min": 6.7,
          "weather": "rain",
          "wind": 3.8,
          "year": 2012
         },
         {
          "day": 28,
          "month": 3,
          "precipitation": 1.3,
          "temp_max": 10.6,
          "temp_min": 7.2,
          "weather": "rain",
          "wind": 5.9,
          "year": 2012
         },
         {
          "day": 29,
          "month": 3,
          "precipitation": 27.4,
          "temp_max": 10,
          "temp_min": 6.1,
          "weather": "rain",
          "wind": 4.4,
          "year": 2012
         },
         {
          "day": 30,
          "month": 3,
          "precipitation": 5.6,
          "temp_max": 9.4,
          "temp_min": 5,
          "weather": "rain",
          "wind": 4.7,
          "year": 2012
         },
         {
          "day": 31,
          "month": 3,
          "precipitation": 13.2,
          "temp_max": 10,
          "temp_min": 2.8,
          "weather": "rain",
          "wind": 3.4,
          "year": 2012
         },
         {
          "day": 1,
          "month": 4,
          "precipitation": 1.5,
          "temp_max": 8.9,
          "temp_min": 4.4,
          "weather": "rain",
          "wind": 6.8,
          "year": 2012
         },
         {
          "day": 2,
          "month": 4,
          "precipitation": 0,
          "temp_max": 16.7,
          "temp_min": 4.4,
          "weather": "sun",
          "wind": 3.1,
          "year": 2012
         },
         {
          "day": 3,
          "month": 4,
          "precipitation": 1.5,
          "temp_max": 11.7,
          "temp_min": 3.3,
          "weather": "rain",
          "wind": 3.1,
          "year": 2012
         },
         {
          "day": 4,
          "month": 4,
          "precipitation": 0,
          "temp_max": 10.6,
          "temp_min": 2.8,
          "weather": "sun",
          "wind": 2.1,
          "year": 2012
         },
         {
          "day": 5,
          "month": 4,
          "precipitation": 4.6,
          "temp_max": 9.4,
          "temp_min": 2.8,
          "weather": "snow",
          "wind": 1.8,
          "year": 2012
         },
         {
          "day": 6,
          "month": 4,
          "precipitation": 0.3,
          "temp_max": 11.1,
          "temp_min": 3.3,
          "weather": "rain",
          "wind": 2.6,
          "year": 2012
         },
         {
          "day": 7,
          "month": 4,
          "precipitation": 0,
          "temp_max": 16.1,
          "temp_min": 1.7,
          "weather": "sun",
          "wind": 4.3,
          "year": 2012
         },
         {
          "day": 8,
          "month": 4,
          "precipitation": 0,
          "temp_max": 21.1,
          "temp_min": 7.2,
          "weather": "sun",
          "wind": 4.1,
          "year": 2012
         },
         {
          "day": 9,
          "month": 4,
          "precipitation": 0,
          "temp_max": 20,
          "temp_min": 6.1,
          "weather": "sun",
          "wind": 2.1,
          "year": 2012
         },
         {
          "day": 10,
          "month": 4,
          "precipitation": 0,
          "temp_max": 17.8,
          "temp_min": 8.9,
          "weather": "rain",
          "wind": 3.2,
          "year": 2012
         },
         {
          "day": 11,
          "month": 4,
          "precipitation": 2.3,
          "temp_max": 11.1,
          "temp_min": 7.2,
          "weather": "rain",
          "wind": 2.6,
          "year": 2012
         },
         {
          "day": 12,
          "month": 4,
          "precipitation": 0.5,
          "temp_max": 13.9,
          "temp_min": 5.6,
          "weather": "rain",
          "wind": 2.6,
          "year": 2012
         },
         {
          "day": 13,
          "month": 4,
          "precipitation": 0,
          "temp_max": 15,
          "temp_min": 3.9,
          "weather": "drizzle",
          "wind": 4,
          "year": 2012
         },
         {
          "day": 14,
          "month": 4,
          "precipitation": 0,
          "temp_max": 15.6,
          "temp_min": 3.3,
          "weather": "sun",
          "wind": 3,
          "year": 2012
         },
         {
          "day": 15,
          "month": 4,
          "precipitation": 0,
          "temp_max": 16.1,
          "temp_min": 7.2,
          "weather": "rain",
          "wind": 2.9,
          "year": 2012
         },
         {
          "day": 16,
          "month": 4,
          "precipitation": 8.1,
          "temp_max": 13.3,
          "temp_min": 6.7,
          "weather": "rain",
          "wind": 5.8,
          "year": 2012
         },
         {
          "day": 17,
          "month": 4,
          "precipitation": 1.8,
          "temp_max": 10,
          "temp_min": 4.4,
          "weather": "rain",
          "wind": 2,
          "year": 2012
         },
         {
          "day": 18,
          "month": 4,
          "precipitation": 1.8,
          "temp_max": 13.3,
          "temp_min": 7.2,
          "weather": "rain",
          "wind": 3.9,
          "year": 2012
         },
         {
          "day": 19,
          "month": 4,
          "precipitation": 10.9,
          "temp_max": 13.9,
          "temp_min": 5,
          "weather": "rain",
          "wind": 2.6,
          "year": 2012
         },
         {
          "day": 20,
          "month": 4,
          "precipitation": 6.6,
          "temp_max": 13.3,
          "temp_min": 6.7,
          "weather": "rain",
          "wind": 2.7,
          "year": 2012
         },
         {
          "day": 21,
          "month": 4,
          "precipitation": 0,
          "temp_max": 20,
          "temp_min": 4.4,
          "weather": "sun",
          "wind": 2.3,
          "year": 2012
         },
         {
          "day": 22,
          "month": 4,
          "precipitation": 0,
          "temp_max": 23.3,
          "temp_min": 8.3,
          "weather": "rain",
          "wind": 2.6,
          "year": 2012
         },
         {
          "day": 23,
          "month": 4,
          "precipitation": 0,
          "temp_max": 21.7,
          "temp_min": 8.9,
          "weather": "sun",
          "wind": 3.5,
          "year": 2012
         },
         {
          "day": 24,
          "month": 4,
          "precipitation": 4.3,
          "temp_max": 13.9,
          "temp_min": 10,
          "weather": "rain",
          "wind": 2.8,
          "year": 2012
         },
         {
          "day": 25,
          "month": 4,
          "precipitation": 10.7,
          "temp_max": 16.7,
          "temp_min": 8.9,
          "weather": "rain",
          "wind": 2.6,
          "year": 2012
         },
         {
          "day": 26,
          "month": 4,
          "precipitation": 3.8,
          "temp_max": 13.9,
          "temp_min": 6.7,
          "weather": "rain",
          "wind": 5.2,
          "year": 2012
         },
         {
          "day": 27,
          "month": 4,
          "precipitation": 0.8,
          "temp_max": 13.3,
          "temp_min": 6.1,
          "weather": "rain",
          "wind": 4.8,
          "year": 2012
         },
         {
          "day": 28,
          "month": 4,
          "precipitation": 0,
          "temp_max": 16.1,
          "temp_min": 8.3,
          "weather": "drizzle",
          "wind": 2.5,
          "year": 2012
         },
         {
          "day": 29,
          "month": 4,
          "precipitation": 4.3,
          "temp_max": 15.6,
          "temp_min": 8.9,
          "weather": "rain",
          "wind": 1.6,
          "year": 2012
         },
         {
          "day": 30,
          "month": 4,
          "precipitation": 4.3,
          "temp_max": 12.8,
          "temp_min": 7.2,
          "weather": "rain",
          "wind": 8,
          "year": 2012
         },
         {
          "day": 1,
          "month": 5,
          "precipitation": 0.5,
          "temp_max": 11.7,
          "temp_min": 6.1,
          "weather": "rain",
          "wind": 6.4,
          "year": 2012
         },
         {
          "day": 2,
          "month": 5,
          "precipitation": 0.5,
          "temp_max": 13.3,
          "temp_min": 5.6,
          "weather": "rain",
          "wind": 2.5,
          "year": 2012
         },
         {
          "day": 3,
          "month": 5,
          "precipitation": 18.5,
          "temp_max": 11.1,
          "temp_min": 7.2,
          "weather": "rain",
          "wind": 3.4,
          "year": 2012
         },
         {
          "day": 4,
          "month": 5,
          "precipitation": 1.8,
          "temp_max": 12.2,
          "temp_min": 6.1,
          "weather": "rain",
          "wind": 4.6,
          "year": 2012
         },
         {
          "day": 5,
          "month": 5,
          "precipitation": 0,
          "temp_max": 13.3,
          "temp_min": 5,
          "weather": "sun",
          "wind": 2.3,
          "year": 2012
         },
         {
          "day": 6,
          "month": 5,
          "precipitation": 0,
          "temp_max": 17.8,
          "temp_min": 5,
          "weather": "sun",
          "wind": 2.4,
          "year": 2012
         },
         {
          "day": 7,
          "month": 5,
          "precipitation": 0,
          "temp_max": 23.9,
          "temp_min": 6.1,
          "weather": "sun",
          "wind": 2.2,
          "year": 2012
         },
         {
          "day": 8,
          "month": 5,
          "precipitation": 0,
          "temp_max": 18.3,
          "temp_min": 9.4,
          "weather": "sun",
          "wind": 3,
          "year": 2012
         },
         {
          "day": 9,
          "month": 5,
          "precipitation": 0,
          "temp_max": 13.3,
          "temp_min": 6.7,
          "weather": "rain",
          "wind": 3.9,
          "year": 2012
         },
         {
          "day": 10,
          "month": 5,
          "precipitation": 0,
          "temp_max": 14.4,
          "temp_min": 3.9,
          "weather": "sun",
          "wind": 3,
          "year": 2012
         },
         {
          "day": 11,
          "month": 5,
          "precipitation": 0,
          "temp_max": 18.3,
          "temp_min": 4.4,
          "weather": "sun",
          "wind": 4.3,
          "year": 2012
         },
         {
          "day": 12,
          "month": 5,
          "precipitation": 0,
          "temp_max": 24.4,
          "temp_min": 6.7,
          "weather": "sun",
          "wind": 3.4,
          "year": 2012
         },
         {
          "day": 13,
          "month": 5,
          "precipitation": 0,
          "temp_max": 25.6,
          "temp_min": 9.4,
          "weather": "sun",
          "wind": 4.2,
          "year": 2012
         },
         {
          "day": 14,
          "month": 5,
          "precipitation": 0,
          "temp_max": 26.7,
          "temp_min": 12.8,
          "weather": "sun",
          "wind": 3.8,
          "year": 2012
         },
         {
          "day": 15,
          "month": 5,
          "precipitation": 0,
          "temp_max": 24.4,
          "temp_min": 9.4,
          "weather": "drizzle",
          "wind": 4.1,
          "year": 2012
         },
         {
          "day": 16,
          "month": 5,
          "precipitation": 0,
          "temp_max": 19.4,
          "temp_min": 9.4,
          "weather": "sun",
          "wind": 3.5,
          "year": 2012
         },
         {
          "day": 17,
          "month": 5,
          "precipitation": 0,
          "temp_max": 17.8,
          "temp_min": 6.7,
          "weather": "rain",
          "wind": 2.9,
          "year": 2012
         },
         {
          "day": 18,
          "month": 5,
          "precipitation": 0,
          "temp_max": 15.6,
          "temp_min": 7.8,
          "weather": "rain",
          "wind": 3.1,
          "year": 2012
         },
         {
          "day": 19,
          "month": 5,
          "precipitation": 0,
          "temp_max": 19.4,
          "temp_min": 7.2,
          "weather": "sun",
          "wind": 1.5,
          "year": 2012
         },
         {
          "day": 20,
          "month": 5,
          "precipitation": 6.4,
          "temp_max": 14.4,
          "temp_min": 11.7,
          "weather": "rain",
          "wind": 1.3,
          "year": 2012
         },
         {
          "day": 21,
          "month": 5,
          "precipitation": 14,
          "temp_max": 16.7,
          "temp_min": 10,
          "weather": "rain",
          "wind": 4,
          "year": 2012
         },
         {
          "day": 22,
          "month": 5,
          "precipitation": 6.1,
          "temp_max": 12.8,
          "temp_min": 8.9,
          "weather": "rain",
          "wind": 4.8,
          "year": 2012
         },
         {
          "day": 23,
          "month": 5,
          "precipitation": 0.3,
          "temp_max": 14.4,
          "temp_min": 8.9,
          "weather": "rain",
          "wind": 6.3,
          "year": 2012
         },
         {
          "day": 24,
          "month": 5,
          "precipitation": 0,
          "temp_max": 17.2,
          "temp_min": 8.9,
          "weather": "rain",
          "wind": 3.3,
          "year": 2012
         },
         {
          "day": 25,
          "month": 5,
          "precipitation": 0,
          "temp_max": 22.2,
          "temp_min": 8.9,
          "weather": "rain",
          "wind": 3.1,
          "year": 2012
         },
         {
          "day": 26,
          "month": 5,
          "precipitation": 0,
          "temp_max": 22.2,
          "temp_min": 8.9,
          "weather": "sun",
          "wind": 3.6,
          "year": 2012
         },
         {
          "day": 27,
          "month": 5,
          "precipitation": 0,
          "temp_max": 17.2,
          "temp_min": 11.7,
          "weather": "sun",
          "wind": 3.7,
          "year": 2012
         },
         {
          "day": 28,
          "month": 5,
          "precipitation": 0,
          "temp_max": 16.7,
          "temp_min": 10,
          "weather": "rain",
          "wind": 3.4,
          "year": 2012
         },
         {
          "day": 29,
          "month": 5,
          "precipitation": 0,
          "temp_max": 16.1,
          "temp_min": 7.8,
          "weather": "sun",
          "wind": 1.8,
          "year": 2012
         },
         {
          "day": 30,
          "month": 5,
          "precipitation": 0.3,
          "temp_max": 18.9,
          "temp_min": 11.1,
          "weather": "rain",
          "wind": 1.5,
          "year": 2012
         },
         {
          "day": 31,
          "month": 5,
          "precipitation": 3.8,
          "temp_max": 17.8,
          "temp_min": 12.2,
          "weather": "rain",
          "wind": 2.7,
          "year": 2012
         },
         {
          "day": 1,
          "month": 6,
          "precipitation": 6.6,
          "temp_max": 20,
          "temp_min": 12.8,
          "weather": "rain",
          "wind": 3.7,
          "year": 2012
         },
         {
          "day": 2,
          "month": 6,
          "precipitation": 0.3,
          "temp_max": 18.9,
          "temp_min": 10.6,
          "weather": "rain",
          "wind": 3.7,
          "year": 2012
         },
         {
          "day": 3,
          "month": 6,
          "precipitation": 0,
          "temp_max": 17.2,
          "temp_min": 9.4,
          "weather": "sun",
          "wind": 2.9,
          "year": 2012
         },
         {
          "day": 4,
          "month": 6,
          "precipitation": 1.3,
          "temp_max": 12.8,
          "temp_min": 8.9,
          "weather": "rain",
          "wind": 3.1,
          "year": 2012
         },
         {
          "day": 5,
          "month": 6,
          "precipitation": 16,
          "temp_max": 13.3,
          "temp_min": 8.3,
          "weather": "rain",
          "wind": 3.3,
          "year": 2012
         },
         {
          "day": 6,
          "month": 6,
          "precipitation": 0,
          "temp_max": 16.1,
          "temp_min": 6.1,
          "weather": "sun",
          "wind": 3.4,
          "year": 2012
         },
         {
          "day": 7,
          "month": 6,
          "precipitation": 16.5,
          "temp_max": 16.1,
          "temp_min": 8.9,
          "weather": "rain",
          "wind": 3.5,
          "year": 2012
         },
         {
          "day": 8,
          "month": 6,
          "precipitation": 1.5,
          "temp_max": 15,
          "temp_min": 8.3,
          "weather": "rain",
          "wind": 3,
          "year": 2012
         },
         {
          "day": 9,
          "month": 6,
          "precipitation": 0,
          "temp_max": 17.2,
          "temp_min": 8.3,
          "weather": "rain",
          "wind": 4.7,
          "year": 2012
         },
         {
          "day": 10,
          "month": 6,
          "precipitation": 0,
          "temp_max": 18.9,
          "temp_min": 10,
          "weather": "sun",
          "wind": 2.9,
          "year": 2012
         },
         {
          "day": 11,
          "month": 6,
          "precipitation": 0,
          "temp_max": 23.3,
          "temp_min": 10,
          "weather": "rain",
          "wind": 1.8,
          "year": 2012
         },
         {
          "day": 12,
          "month": 6,
          "precipitation": 0.8,
          "temp_max": 18.3,
          "temp_min": 12.8,
          "weather": "rain",
          "wind": 3.9,
          "year": 2012
         },
         {
          "day": 13,
          "month": 6,
          "precipitation": 0,
          "temp_max": 16.1,
          "temp_min": 11.1,
          "weather": "sun",
          "wind": 4.3,
          "year": 2012
         },
         {
          "day": 14,
          "month": 6,
          "precipitation": 0,
          "temp_max": 17.2,
          "temp_min": 10,
          "weather": "sun",
          "wind": 2.7,
          "year": 2012
         },
         {
          "day": 15,
          "month": 6,
          "precipitation": 0,
          "temp_max": 22.2,
          "temp_min": 9.4,
          "weather": "sun",
          "wind": 1.7,
          "year": 2012
         },
         {
          "day": 16,
          "month": 6,
          "precipitation": 0,
          "temp_max": 21.1,
          "temp_min": 15,
          "weather": "rain",
          "wind": 4.1,
          "year": 2012
         },
         {
          "day": 17,
          "month": 6,
          "precipitation": 0,
          "temp_max": 18.9,
          "temp_min": 11.7,
          "weather": "sun",
          "wind": 6.4,
          "year": 2012
         },
         {
          "day": 18,
          "month": 6,
          "precipitation": 3,
          "temp_max": 17.2,
          "temp_min": 10,
          "weather": "rain",
          "wind": 3.8,
          "year": 2012
         },
         {
          "day": 19,
          "month": 6,
          "precipitation": 1,
          "temp_max": 19.4,
          "temp_min": 10,
          "weather": "rain",
          "wind": 3,
          "year": 2012
         },
         {
          "day": 20,
          "month": 6,
          "precipitation": 0,
          "temp_max": 24.4,
          "temp_min": 10,
          "weather": "sun",
          "wind": 3,
          "year": 2012
         },
         {
          "day": 21,
          "month": 6,
          "precipitation": 0,
          "temp_max": 23.9,
          "temp_min": 11.7,
          "weather": "sun",
          "wind": 2.1,
          "year": 2012
         },
         {
          "day": 22,
          "month": 6,
          "precipitation": 15.7,
          "temp_max": 13.9,
          "temp_min": 11.7,
          "weather": "rain",
          "wind": 1.9,
          "year": 2012
         },
         {
          "day": 23,
          "month": 6,
          "precipitation": 8.6,
          "temp_max": 15.6,
          "temp_min": 9.4,
          "weather": "rain",
          "wind": 2.5,
          "year": 2012
         },
         {
          "day": 24,
          "month": 6,
          "precipitation": 0,
          "temp_max": 19.4,
          "temp_min": 9.4,
          "weather": "drizzle",
          "wind": 2,
          "year": 2012
         },
         {
          "day": 25,
          "month": 6,
          "precipitation": 0.5,
          "temp_max": 19.4,
          "temp_min": 11.1,
          "weather": "rain",
          "wind": 3.1,
          "year": 2012
         },
         {
          "day": 26,
          "month": 6,
          "precipitation": 0,
          "temp_max": 18.3,
          "temp_min": 10.6,
          "weather": "rain",
          "wind": 3.4,
          "year": 2012
         },
         {
          "day": 27,
          "month": 6,
          "precipitation": 0,
          "temp_max": 22.8,
          "temp_min": 8.9,
          "weather": "sun",
          "wind": 1.8,
          "year": 2012
         },
         {
          "day": 28,
          "month": 6,
          "precipitation": 0,
          "temp_max": 22.2,
          "temp_min": 11.7,
          "weather": "rain",
          "wind": 2.5,
          "year": 2012
         },
         {
          "day": 29,
          "month": 6,
          "precipitation": 0.3,
          "temp_max": 21.7,
          "temp_min": 15,
          "weather": "rain",
          "wind": 1.9,
          "year": 2012
         },
         {
          "day": 30,
          "month": 6,
          "precipitation": 3,
          "temp_max": 20,
          "temp_min": 13.3,
          "weather": "rain",
          "wind": 2.4,
          "year": 2012
         },
         {
          "day": 1,
          "month": 7,
          "precipitation": 0,
          "temp_max": 20,
          "temp_min": 12.2,
          "weather": "rain",
          "wind": 2.3,
          "year": 2012
         },
         {
          "day": 2,
          "month": 7,
          "precipitation": 2,
          "temp_max": 18.9,
          "temp_min": 11.7,
          "weather": "rain",
          "wind": 2.1,
          "year": 2012
         },
         {
          "day": 3,
          "month": 7,
          "precipitation": 5.8,
          "temp_max": 18.3,
          "temp_min": 10.6,
          "weather": "rain",
          "wind": 6,
          "year": 2012
         },
         {
          "day": 4,
          "month": 7,
          "precipitation": 0,
          "temp_max": 20.6,
          "temp_min": 9.4,
          "weather": "sun",
          "wind": 3.8,
          "year": 2012
         },
         {
          "day": 5,
          "month": 7,
          "precipitation": 0,
          "temp_max": 24.4,
          "temp_min": 10.6,
          "weather": "drizzle",
          "wind": 3.1,
          "year": 2012
         },
         {
          "day": 6,
          "month": 7,
          "precipitation": 0,
          "temp_max": 25,
          "temp_min": 11.1,
          "weather": "sun",
          "wind": 2.1,
          "year": 2012
         },
         {
          "day": 7,
          "month": 7,
          "precipitation": 0,
          "temp_max": 26.7,
          "temp_min": 12.8,
          "weather": "sun",
          "wind": 3.8,
          "year": 2012
         },
         {
          "day": 8,
          "month": 7,
          "precipitation": 0,
          "temp_max": 28.3,
          "temp_min": 14.4,
          "weather": "rain",
          "wind": 2.8,
          "year": 2012
         },
         {
          "day": 9,
          "month": 7,
          "precipitation": 1.5,
          "temp_max": 25,
          "temp_min": 12.8,
          "weather": "rain",
          "wind": 2,
          "year": 2012
         },
         {
          "day": 10,
          "month": 7,
          "precipitation": 0,
          "temp_max": 23.9,
          "temp_min": 11.1,
          "weather": "drizzle",
          "wind": 2.3,
          "year": 2012
         },
         {
          "day": 11,
          "month": 7,
          "precipitation": 0,
          "temp_max": 27.8,
          "temp_min": 13.3,
          "weather": "fog",
          "wind": 2.9,
          "year": 2012
         },
         {
          "day": 12,
          "month": 7,
          "precipitation": 0,
          "temp_max": 25.6,
          "temp_min": 13.3,
          "weather": "drizzle",
          "wind": 2.7,
          "year": 2012
         },
         {
          "day": 13,
          "month": 7,
          "precipitation": 0.5,
          "temp_max": 23.3,
          "temp_min": 13.9,
          "weather": "rain",
          "wind": 2.2,
          "year": 2012
         },
         {
          "day": 14,
          "month": 7,
          "precipitation": 0,
          "temp_max": 25,
          "temp_min": 15,
          "weather": "rain",
          "wind": 2.2,
          "year": 2012
         },
         {
          "day": 15,
          "month": 7,
          "precipitation": 0,
          "temp_max": 18.9,
          "temp_min": 13.3,
          "weather": "rain",
          "wind": 3.8,
          "year": 2012
         },
         {
          "day": 16,
          "month": 7,
          "precipitation": 0.3,
          "temp_max": 26.1,
          "temp_min": 13.3,
          "weather": "rain",
          "wind": 2.5,
          "year": 2012
         },
         {
          "day": 17,
          "month": 7,
          "precipitation": 0,
          "temp_max": 21.7,
          "temp_min": 15,
          "weather": "sun",
          "wind": 2.6,
          "year": 2012
         },
         {
          "day": 18,
          "month": 7,
          "precipitation": 0,
          "temp_max": 21.1,
          "temp_min": 14.4,
          "weather": "sun",
          "wind": 2.9,
          "year": 2012
         },
         {
          "day": 19,
          "month": 7,
          "precipitation": 0,
          "temp_max": 25,
          "temp_min": 14.4,
          "weather": "sun",
          "wind": 2.2,
          "year": 2012
         },
         {
          "day": 20,
          "month": 7,
          "precipitation": 15.2,
          "temp_max": 19.4,
          "temp_min": 13.9,
          "weather": "rain",
          "wind": 4,
          "year": 2012
         },
         {
          "day": 21,
          "month": 7,
          "precipitation": 0,
          "temp_max": 23.9,
          "temp_min": 13.9,
          "weather": "sun",
          "wind": 2.3,
          "year": 2012
         },
         {
          "day": 22,
          "month": 7,
          "precipitation": 1,
          "temp_max": 20.6,
          "temp_min": 12.2,
          "weather": "rain",
          "wind": 3.9,
          "year": 2012
         },
         {
          "day": 23,
          "month": 7,
          "precipitation": 0,
          "temp_max": 18.9,
          "temp_min": 11.1,
          "weather": "rain",
          "wind": 3.3,
          "year": 2012
         },
         {
          "day": 24,
          "month": 7,
          "precipitation": 0,
          "temp_max": 23.3,
          "temp_min": 12.2,
          "weather": "sun",
          "wind": 4.3,
          "year": 2012
         },
         {
          "day": 25,
          "month": 7,
          "precipitation": 0,
          "temp_max": 26.7,
          "temp_min": 12.8,
          "weather": "sun",
          "wind": 2.6,
          "year": 2012
         },
         {
          "day": 26,
          "month": 7,
          "precipitation": 0,
          "temp_max": 25.6,
          "temp_min": 12.8,
          "weather": "drizzle",
          "wind": 2.2,
          "year": 2012
         },
         {
          "day": 27,
          "month": 7,
          "precipitation": 0,
          "temp_max": 18.9,
          "temp_min": 13.9,
          "weather": "drizzle",
          "wind": 2.8,
          "year": 2012
         },
         {
          "day": 28,
          "month": 7,
          "precipitation": 0,
          "temp_max": 22.2,
          "temp_min": 13.3,
          "weather": "drizzle",
          "wind": 1.7,
          "year": 2012
         },
         {
          "day": 29,
          "month": 7,
          "precipitation": 0,
          "temp_max": 22.8,
          "temp_min": 15,
          "weather": "sun",
          "wind": 2,
          "year": 2012
         },
         {
          "day": 30,
          "month": 7,
          "precipitation": 0,
          "temp_max": 19.4,
          "temp_min": 13.3,
          "weather": "sun",
          "wind": 3,
          "year": 2012
         },
         {
          "day": 31,
          "month": 7,
          "precipitation": 0,
          "temp_max": 22.8,
          "temp_min": 13.9,
          "weather": "sun",
          "wind": 2.8,
          "year": 2012
         },
         {
          "day": 1,
          "month": 8,
          "precipitation": 0,
          "temp_max": 23.9,
          "temp_min": 13.3,
          "weather": "drizzle",
          "wind": 2.2,
          "year": 2012
         },
         {
          "day": 2,
          "month": 8,
          "precipitation": 0,
          "temp_max": 23.3,
          "temp_min": 12.2,
          "weather": "sun",
          "wind": 2.5,
          "year": 2012
         },
         {
          "day": 3,
          "month": 8,
          "precipitation": 0,
          "temp_max": 27.2,
          "temp_min": 12.8,
          "weather": "sun",
          "wind": 3.9,
          "year": 2012
         },
         {
          "day": 4,
          "month": 8,
          "precipitation": 0,
          "temp_max": 33.9,
          "temp_min": 16.7,
          "weather": "sun",
          "wind": 3.7,
          "year": 2012
         },
         {
          "day": 5,
          "month": 8,
          "precipitation": 0,
          "temp_max": 33.9,
          "temp_min": 17.8,
          "weather": "sun",
          "wind": 1.9,
          "year": 2012
         },
         {
          "day": 6,
          "month": 8,
          "precipitation": 0,
          "temp_max": 28.3,
          "temp_min": 15.6,
          "weather": "rain",
          "wind": 2.5,
          "year": 2012
         },
         {
          "day": 7,
          "month": 8,
          "precipitation": 0,
          "temp_max": 21.1,
          "temp_min": 15,
          "weather": "drizzle",
          "wind": 2.6,
          "year": 2012
         },
         {
          "day": 8,
          "month": 8,
          "precipitation": 0,
          "temp_max": 22.2,
          "temp_min": 15,
          "weather": "sun",
          "wind": 3.1,
          "year": 2012
         },
         {
          "day": 9,
          "month": 8,
          "precipitation": 0,
          "temp_max": 24.4,
          "temp_min": 14.4,
          "weather": "drizzle",
          "wind": 3.8,
          "year": 2012
         },
         {
          "day": 10,
          "month": 8,
          "precipitation": 0,
          "temp_max": 25.6,
          "temp_min": 12.2,
          "weather": "sun",
          "wind": 2.3,
          "year": 2012
         },
         {
          "day": 11,
          "month": 8,
          "precipitation": 0,
          "temp_max": 28.3,
          "temp_min": 13.3,
          "weather": "sun",
          "wind": 2.5,
          "year": 2012
         },
         {
          "day": 12,
          "month": 8,
          "precipitation": 0,
          "temp_max": 30.6,
          "temp_min": 15,
          "weather": "sun",
          "wind": 3,
          "year": 2012
         },
         {
          "day": 13,
          "month": 8,
          "precipitation": 0,
          "temp_max": 30.6,
          "temp_min": 15,
          "weather": "sun",
          "wind": 2.8,
          "year": 2012
         },
         {
          "day": 14,
          "month": 8,
          "precipitation": 0,
          "temp_max": 28.9,
          "temp_min": 13.9,
          "weather": "sun",
          "wind": 2.8,
          "year": 2012
         },
         {
          "day": 15,
          "month": 8,
          "precipitation": 0,
          "temp_max": 31.1,
          "temp_min": 16.7,
          "weather": "sun",
          "wind": 4.7,
          "year": 2012
         },
         {
          "day": 16,
          "month": 8,
          "precipitation": 0,
          "temp_max": 34.4,
          "temp_min": 18.3,
          "weather": "sun",
          "wind": 2.8,
          "year": 2012
         },
         {
          "day": 17,
          "month": 8,
          "precipitation": 0,
          "temp_max": 32.8,
          "temp_min": 16.1,
          "weather": "sun",
          "wind": 1.8,
          "year": 2012
         },
         {
          "day": 18,
          "month": 8,
          "precipitation": 0,
          "temp_max": 21.7,
          "temp_min": 14.4,
          "weather": "drizzle",
          "wind": 3,
          "year": 2012
         },
         {
          "day": 19,
          "month": 8,
          "precipitation": 0,
          "temp_max": 23.3,
          "temp_min": 15,
          "weather": "drizzle",
          "wind": 2.7,
          "year": 2012
         },
         {
          "day": 20,
          "month": 8,
          "precipitation": 0,
          "temp_max": 25.6,
          "temp_min": 15,
          "weather": "sun",
          "wind": 1.9,
          "year": 2012
         },
         {
          "day": 21,
          "month": 8,
          "precipitation": 0,
          "temp_max": 23.3,
          "temp_min": 13.3,
          "weather": "rain",
          "wind": 3,
          "year": 2012
         },
         {
          "day": 22,
          "month": 8,
          "precipitation": 0,
          "temp_max": 22.2,
          "temp_min": 13.3,
          "weather": "sun",
          "wind": 2.3,
          "year": 2012
         },
         {
          "day": 23,
          "month": 8,
          "precipitation": 0,
          "temp_max": 21.1,
          "temp_min": 13.9,
          "weather": "sun",
          "wind": 3.8,
          "year": 2012
         },
         {
          "day": 24,
          "month": 8,
          "precipitation": 0,
          "temp_max": 22.2,
          "temp_min": 10,
          "weather": "sun",
          "wind": 3.3,
          "year": 2012
         },
         {
          "day": 25,
          "month": 8,
          "precipitation": 0,
          "temp_max": 26.1,
          "temp_min": 11.7,
          "weather": "sun",
          "wind": 3.2,
          "year": 2012
         },
         {
          "day": 26,
          "month": 8,
          "precipitation": 0,
          "temp_max": 21.1,
          "temp_min": 12.2,
          "weather": "sun",
          "wind": 3.4,
          "year": 2012
         },
         {
          "day": 27,
          "month": 8,
          "precipitation": 0,
          "temp_max": 23.9,
          "temp_min": 13.3,
          "weather": "sun",
          "wind": 1.8,
          "year": 2012
         },
         {
          "day": 28,
          "month": 8,
          "precipitation": 0,
          "temp_max": 22.8,
          "temp_min": 12.2,
          "weather": "sun",
          "wind": 3.2,
          "year": 2012
         },
         {
          "day": 29,
          "month": 8,
          "precipitation": 0,
          "temp_max": 22.8,
          "temp_min": 13.3,
          "weather": "sun",
          "wind": 2.4,
          "year": 2012
         },
         {
          "day": 30,
          "month": 8,
          "precipitation": 0,
          "temp_max": 22.8,
          "temp_min": 12.8,
          "weather": "sun",
          "wind": 1.9,
          "year": 2012
         },
         {
          "day": 31,
          "month": 8,
          "precipitation": 0,
          "temp_max": 22.2,
          "temp_min": 10.6,
          "weather": "sun",
          "wind": 2.9,
          "year": 2012
         },
         {
          "day": 1,
          "month": 9,
          "precipitation": 0,
          "temp_max": 21.7,
          "temp_min": 10.6,
          "weather": "sun",
          "wind": 2.1,
          "year": 2012
         },
         {
          "day": 2,
          "month": 9,
          "precipitation": 0,
          "temp_max": 21.1,
          "temp_min": 10,
          "weather": "sun",
          "wind": 2,
          "year": 2012
         },
         {
          "day": 3,
          "month": 9,
          "precipitation": 0,
          "temp_max": 22.8,
          "temp_min": 12.8,
          "weather": "sun",
          "wind": 3.3,
          "year": 2012
         },
         {
          "day": 4,
          "month": 9,
          "precipitation": 0,
          "temp_max": 24.4,
          "temp_min": 11.1,
          "weather": "sun",
          "wind": 3.1,
          "year": 2012
         },
         {
          "day": 5,
          "month": 9,
          "precipitation": 0,
          "temp_max": 26.1,
          "temp_min": 11.7,
          "weather": "sun",
          "wind": 2.6,
          "year": 2012
         },
         {
          "day": 6,
          "month": 9,
          "precipitation": 0,
          "temp_max": 28.3,
          "temp_min": 14.4,
          "weather": "sun",
          "wind": 4.2,
          "year": 2012
         },
         {
          "day": 7,
          "month": 9,
          "precipitation": 0,
          "temp_max": 32.2,
          "temp_min": 13.3,
          "weather": "sun",
          "wind": 3.1,
          "year": 2012
         },
         {
          "day": 8,
          "month": 9,
          "precipitation": 0,
          "temp_max": 25,
          "temp_min": 13.3,
          "weather": "sun",
          "wind": 3,
          "year": 2012
         },
         {
          "day": 9,
          "month": 9,
          "precipitation": 0.3,
          "temp_max": 18.9,
          "temp_min": 13.9,
          "weather": "rain",
          "wind": 5,
          "year": 2012
         },
         {
          "day": 10,
          "month": 9,
          "precipitation": 0.3,
          "temp_max": 20,
          "temp_min": 11.7,
          "weather": "rain",
          "wind": 3.9,
          "year": 2012
         },
         {
          "day": 11,
          "month": 9,
          "precipitation": 0,
          "temp_max": 20,
          "temp_min": 8.9,
          "weather": "sun",
          "wind": 4.2,
          "year": 2012
         },
         {
          "day": 12,
          "month": 9,
          "precipitation": 0,
          "temp_max": 22.2,
          "temp_min": 10,
          "weather": "sun",
          "wind": 5.6,
          "year": 2012
         },
         {
          "day": 13,
          "month": 9,
          "precipitation": 0,
          "temp_max": 27.8,
          "temp_min": 11.7,
          "weather": "sun",
          "wind": 3.6,
          "year": 2012
         },
         {
          "day": 14,
          "month": 9,
          "precipitation": 0,
          "temp_max": 26.1,
          "temp_min": 11.1,
          "weather": "sun",
          "wind": 1.5,
          "year": 2012
         },
         {
          "day": 15,
          "month": 9,
          "precipitation": 0,
          "temp_max": 22.2,
          "temp_min": 11.1,
          "weather": "sun",
          "wind": 1.9,
          "year": 2012
         },
         {
          "day": 16,
          "month": 9,
          "precipitation": 0,
          "temp_max": 24.4,
          "temp_min": 9.4,
          "weather": "sun",
          "wind": 2.3,
          "year": 2012
         },
         {
          "day": 17,
          "month": 9,
          "precipitation": 0,
          "temp_max": 27.8,
          "temp_min": 11.7,
          "weather": "fog",
          "wind": 2.2,
          "year": 2012
         },
         {
          "day": 18,
          "month": 9,
          "precipitation": 0,
          "temp_max": 27.8,
          "temp_min": 11.7,
          "weather": "sun",
          "wind": 1.4,
          "year": 2012
         },
         {
          "day": 19,
          "month": 9,
          "precipitation": 0,
          "temp_max": 23.9,
          "temp_min": 11.7,
          "weather": "drizzle",
          "wind": 1.9,
          "year": 2012
         },
         {
          "day": 20,
          "month": 9,
          "precipitation": 0,
          "temp_max": 19.4,
          "temp_min": 10,
          "weather": "drizzle",
          "wind": 2.5,
          "year": 2012
         },
         {
          "day": 21,
          "month": 9,
          "precipitation": 0,
          "temp_max": 16.1,
          "temp_min": 12.8,
          "weather": "drizzle",
          "wind": 2.1,
          "year": 2012
         },
         {
          "day": 22,
          "month": 9,
          "precipitation": 0.3,
          "temp_max": 19.4,
          "temp_min": 11.7,
          "weather": "rain",
          "wind": 1.1,
          "year": 2012
         },
         {
          "day": 23,
          "month": 9,
          "precipitation": 0,
          "temp_max": 19.4,
          "temp_min": 10,
          "weather": "fog",
          "wind": 1.4,
          "year": 2012
         },
         {
          "day": 24,
          "month": 9,
          "precipitation": 0,
          "temp_max": 21.1,
          "temp_min": 10,
          "weather": "fog",
          "wind": 1.8,
          "year": 2012
         },
         {
          "day": 25,
          "month": 9,
          "precipitation": 0,
          "temp_max": 19.4,
          "temp_min": 11.1,
          "weather": "sun",
          "wind": 1.7,
          "year": 2012
         },
         {
          "day": 26,
          "month": 9,
          "precipitation": 0,
          "temp_max": 19.4,
          "temp_min": 9.4,
          "weather": "drizzle",
          "wind": 1.7,
          "year": 2012
         },
         {
          "day": 27,
          "month": 9,
          "precipitation": 0,
          "temp_max": 22.8,
          "temp_min": 10,
          "weather": "drizzle",
          "wind": 1.7,
          "year": 2012
         },
         {
          "day": 28,
          "month": 9,
          "precipitation": 0,
          "temp_max": 25,
          "temp_min": 12.2,
          "weather": "rain",
          "wind": 1.1,
          "year": 2012
         },
         {
          "day": 29,
          "month": 9,
          "precipitation": 0,
          "temp_max": 20.6,
          "temp_min": 12.2,
          "weather": "sun",
          "wind": 4.3,
          "year": 2012
         },
         {
          "day": 30,
          "month": 9,
          "precipitation": 0,
          "temp_max": 21.1,
          "temp_min": 7.8,
          "weather": "sun",
          "wind": 3.1,
          "year": 2012
         },
         {
          "day": 1,
          "month": 10,
          "precipitation": 0,
          "temp_max": 23.3,
          "temp_min": 8.9,
          "weather": "sun",
          "wind": 3,
          "year": 2012
         },
         {
          "day": 2,
          "month": 10,
          "precipitation": 0,
          "temp_max": 17.8,
          "temp_min": 10,
          "weather": "sun",
          "wind": 4.1,
          "year": 2012
         },
         {
          "day": 3,
          "month": 10,
          "precipitation": 0,
          "temp_max": 18.9,
          "temp_min": 7.8,
          "weather": "sun",
          "wind": 7.3,
          "year": 2012
         },
         {
          "day": 4,
          "month": 10,
          "precipitation": 0,
          "temp_max": 18.9,
          "temp_min": 8.3,
          "weather": "sun",
          "wind": 6.5,
          "year": 2012
         },
         {
          "day": 5,
          "month": 10,
          "precipitation": 0,
          "temp_max": 21.7,
          "temp_min": 8.9,
          "weather": "sun",
          "wind": 5.7,
          "year": 2012
         },
         {
          "day": 6,
          "month": 10,
          "precipitation": 0,
          "temp_max": 23.9,
          "temp_min": 7.8,
          "weather": "sun",
          "wind": 5.1,
          "year": 2012
         },
         {
          "day": 7,
          "month": 10,
          "precipitation": 0,
          "temp_max": 23.9,
          "temp_min": 7.8,
          "weather": "sun",
          "wind": 1.3,
          "year": 2012
         },
         {
          "day": 8,
          "month": 10,
          "precipitation": 0,
          "temp_max": 21.1,
          "temp_min": 7.8,
          "weather": "sun",
          "wind": 1.9,
          "year": 2012
         },
         {
          "day": 9,
          "month": 10,
          "precipitation": 0,
          "temp_max": 16.1,
          "temp_min": 8.9,
          "weather": "drizzle",
          "wind": 1.6,
          "year": 2012
         },
         {
          "day": 10,
          "month": 10,
          "precipitation": 0,
          "temp_max": 12.2,
          "temp_min": 8.3,
          "weather": "drizzle",
          "wind": 1.4,
          "year": 2012
         },
         {
          "day": 11,
          "month": 10,
          "precipitation": 0,
          "temp_max": 13.9,
          "temp_min": 7.2,
          "weather": "drizzle",
          "wind": 1.3,
          "year": 2012
         },
         {
          "day": 12,
          "month": 10,
          "precipitation": 2,
          "temp_max": 13.9,
          "temp_min": 8.9,
          "weather": "rain",
          "wind": 4.6,
          "year": 2012
         },
         {
          "day": 13,
          "month": 10,
          "precipitation": 4.8,
          "temp_max": 15.6,
          "temp_min": 12.2,
          "weather": "rain",
          "wind": 3.9,
          "year": 2012
         },
         {
          "day": 14,
          "month": 10,
          "precipitation": 16.5,
          "temp_max": 17.8,
          "temp_min": 13.3,
          "weather": "rain",
          "wind": 3.4,
          "year": 2012
         },
         {
          "day": 15,
          "month": 10,
          "precipitation": 7.9,
          "temp_max": 17.2,
          "temp_min": 11.1,
          "weather": "rain",
          "wind": 4.6,
          "year": 2012
         },
         {
          "day": 16,
          "month": 10,
          "precipitation": 0,
          "temp_max": 16.1,
          "temp_min": 8.3,
          "weather": "sun",
          "wind": 5.5,
          "year": 2012
         },
         {
          "day": 17,
          "month": 10,
          "precipitation": 0,
          "temp_max": 14.4,
          "temp_min": 6.1,
          "weather": "sun",
          "wind": 1.6,
          "year": 2012
         },
         {
          "day": 18,
          "month": 10,
          "precipitation": 20.8,
          "temp_max": 17.8,
          "temp_min": 6.7,
          "weather": "rain",
          "wind": 2,
          "year": 2012
         },
         {
          "day": 19,
          "month": 10,
          "precipitation": 4.8,
          "temp_max": 15,
          "temp_min": 9.4,
          "weather": "rain",
          "wind": 5.3,
          "year": 2012
         },
         {
          "day": 20,
          "month": 10,
          "precipitation": 0.5,
          "temp_max": 11.1,
          "temp_min": 6.1,
          "weather": "rain",
          "wind": 5.7,
          "year": 2012
         },
         {
          "day": 21,
          "month": 10,
          "precipitation": 6.4,
          "temp_max": 11.7,
          "temp_min": 4.4,
          "weather": "rain",
          "wind": 2.7,
          "year": 2012
         },
         {
          "day": 22,
          "month": 10,
          "precipitation": 8.9,
          "temp_max": 7.8,
          "temp_min": 3.3,
          "weather": "rain",
          "wind": 2.6,
          "year": 2012
         },
         {
          "day": 23,
          "month": 10,
          "precipitation": 0,
          "temp_max": 11.1,
          "temp_min": 5.6,
          "weather": "rain",
          "wind": 3,
          "year": 2012
         },
         {
          "day": 24,
          "month": 10,
          "precipitation": 7.1,
          "temp_max": 11.7,
          "temp_min": 6.1,
          "weather": "rain",
          "wind": 2.1,
          "year": 2012
         },
         {
          "day": 25,
          "month": 10,
          "precipitation": 0,
          "temp_max": 11.7,
          "temp_min": 6.7,
          "weather": "sun",
          "wind": 1.5,
          "year": 2012
         },
         {
          "day": 26,
          "month": 10,
          "precipitation": 1.5,
          "temp_max": 11.1,
          "temp_min": 7.2,
          "weather": "rain",
          "wind": 2.5,
          "year": 2012
         },
         {
          "day": 27,
          "month": 10,
          "precipitation": 23.1,
          "temp_max": 14.4,
          "temp_min": 9.4,
          "weather": "rain",
          "wind": 5.1,
          "year": 2012
         },
         {
          "day": 28,
          "month": 10,
          "precipitation": 6.1,
          "temp_max": 14.4,
          "temp_min": 10,
          "weather": "rain",
          "wind": 3.8,
          "year": 2012
         },
         {
          "day": 29,
          "month": 10,
          "precipitation": 10.9,
          "temp_max": 15.6,
          "temp_min": 10,
          "weather": "rain",
          "wind": 4.9,
          "year": 2012
         },
         {
          "day": 30,
          "month": 10,
          "precipitation": 34.5,
          "temp_max": 15,
          "temp_min": 12.2,
          "weather": "rain",
          "wind": 2.8,
          "year": 2012
         },
         {
          "day": 31,
          "month": 10,
          "precipitation": 14.5,
          "temp_max": 15.6,
          "temp_min": 11.1,
          "weather": "rain",
          "wind": 2.7,
          "year": 2012
         },
         {
          "day": 1,
          "month": 11,
          "precipitation": 9.7,
          "temp_max": 15,
          "temp_min": 10.6,
          "weather": "rain",
          "wind": 3,
          "year": 2012
         },
         {
          "day": 2,
          "month": 11,
          "precipitation": 5.6,
          "temp_max": 15,
          "temp_min": 10.6,
          "weather": "rain",
          "wind": 1,
          "year": 2012
         },
         {
          "day": 3,
          "month": 11,
          "precipitation": 0.5,
          "temp_max": 15.6,
          "temp_min": 11.1,
          "weather": "rain",
          "wind": 3.6,
          "year": 2012
         },
         {
          "day": 4,
          "month": 11,
          "precipitation": 8.1,
          "temp_max": 17.8,
          "temp_min": 12.8,
          "weather": "rain",
          "wind": 3.8,
          "year": 2012
         },
         {
          "day": 5,
          "month": 11,
          "precipitation": 0.8,
          "temp_max": 15,
          "temp_min": 7.8,
          "weather": "rain",
          "wind": 4,
          "year": 2012
         },
         {
          "day": 6,
          "month": 11,
          "precipitation": 0.3,
          "temp_max": 12.8,
          "temp_min": 6.7,
          "weather": "rain",
          "wind": 3.5,
          "year": 2012
         },
         {
          "day": 7,
          "month": 11,
          "precipitation": 0,
          "temp_max": 12.2,
          "temp_min": 3.9,
          "weather": "rain",
          "wind": 3.4,
          "year": 2012
         },
         {
          "day": 8,
          "month": 11,
          "precipitation": 0,
          "temp_max": 10,
          "temp_min": 1.1,
          "weather": "rain",
          "wind": 3.4,
          "year": 2012
         },
         {
          "day": 9,
          "month": 11,
          "precipitation": 0,
          "temp_max": 8.9,
          "temp_min": 1.1,
          "weather": "rain",
          "wind": 2,
          "year": 2012
         },
         {
          "day": 10,
          "month": 11,
          "precipitation": 0,
          "temp_max": 7.8,
          "temp_min": -0.6,
          "weather": "sun",
          "wind": 2.2,
          "year": 2012
         },
         {
          "day": 11,
          "month": 11,
          "precipitation": 15.2,
          "temp_max": 8.9,
          "temp_min": 1.1,
          "weather": "rain",
          "wind": 3,
          "year": 2012
         },
         {
          "day": 12,
          "month": 11,
          "precipitation": 3.6,
          "temp_max": 12.8,
          "temp_min": 6.1,
          "weather": "rain",
          "wind": 3,
          "year": 2012
         },
         {
          "day": 13,
          "month": 11,
          "precipitation": 5.3,
          "temp_max": 11.1,
          "temp_min": 7.8,
          "weather": "rain",
          "wind": 2.5,
          "year": 2012
         },
         {
          "day": 14,
          "month": 11,
          "precipitation": 0.8,
          "temp_max": 11.1,
          "temp_min": 5,
          "weather": "rain",
          "wind": 2.6,
          "year": 2012
         },
         {
          "day": 15,
          "month": 11,
          "precipitation": 0,
          "temp_max": 9.4,
          "temp_min": 2.8,
          "weather": "drizzle",
          "wind": 2.4,
          "year": 2012
         },
         {
          "day": 16,
          "month": 11,
          "precipitation": 5.6,
          "temp_max": 9.4,
          "temp_min": 2.2,
          "weather": "rain",
          "wind": 1.6,
          "year": 2012
         },
         {
          "day": 17,
          "month": 11,
          "precipitation": 6.1,
          "temp_max": 12.2,
          "temp_min": 6.1,
          "weather": "rain",
          "wind": 5.3,
          "year": 2012
         },
         {
          "day": 18,
          "month": 11,
          "precipitation": 7.9,
          "temp_max": 10,
          "temp_min": 6.1,
          "weather": "rain",
          "wind": 4.9,
          "year": 2012
         },
         {
          "day": 19,
          "month": 11,
          "precipitation": 54.1,
          "temp_max": 13.3,
          "temp_min": 8.3,
          "weather": "rain",
          "wind": 6,
          "year": 2012
         },
         {
          "day": 20,
          "month": 11,
          "precipitation": 3.8,
          "temp_max": 11.1,
          "temp_min": 7.2,
          "weather": "rain",
          "wind": 4.2,
          "year": 2012
         },
         {
          "day": 21,
          "month": 11,
          "precipitation": 11.2,
          "temp_max": 8.3,
          "temp_min": 3.9,
          "weather": "rain",
          "wind": 5.5,
          "year": 2012
         },
         {
          "day": 22,
          "month": 11,
          "precipitation": 0,
          "temp_max": 8.9,
          "temp_min": 2.8,
          "weather": "rain",
          "wind": 1.5,
          "year": 2012
         },
         {
          "day": 23,
          "month": 11,
          "precipitation": 32,
          "temp_max": 9.4,
          "temp_min": 6.1,
          "weather": "rain",
          "wind": 2.4,
          "year": 2012
         },
         {
          "day": 24,
          "month": 11,
          "precipitation": 0,
          "temp_max": 8.9,
          "temp_min": 3.9,
          "weather": "rain",
          "wind": 1.2,
          "year": 2012
         },
         {
          "day": 25,
          "month": 11,
          "precipitation": 0,
          "temp_max": 8.3,
          "temp_min": 1.1,
          "weather": "drizzle",
          "wind": 3.6,
          "year": 2012
         },
         {
          "day": 26,
          "month": 11,
          "precipitation": 0,
          "temp_max": 9.4,
          "temp_min": 1.7,
          "weather": "fog",
          "wind": 3.8,
          "year": 2012
         },
         {
          "day": 27,
          "month": 11,
          "precipitation": 0,
          "temp_max": 10,
          "temp_min": 1.7,
          "weather": "sun",
          "wind": 1.5,
          "year": 2012
         },
         {
          "day": 28,
          "month": 11,
          "precipitation": 2.8,
          "temp_max": 9.4,
          "temp_min": 2.2,
          "weather": "rain",
          "wind": 2.9,
          "year": 2012
         },
         {
          "day": 29,
          "month": 11,
          "precipitation": 1.5,
          "temp_max": 12.8,
          "temp_min": 7.8,
          "weather": "rain",
          "wind": 4.2,
          "year": 2012
         },
         {
          "day": 30,
          "month": 11,
          "precipitation": 35.6,
          "temp_max": 15,
          "temp_min": 7.8,
          "weather": "rain",
          "wind": 4.6,
          "year": 2012
         },
         {
          "day": 1,
          "month": 12,
          "precipitation": 4.1,
          "temp_max": 13.3,
          "temp_min": 8.3,
          "weather": "rain",
          "wind": 5.5,
          "year": 2012
         },
         {
          "day": 2,
          "month": 12,
          "precipitation": 19.6,
          "temp_max": 8.3,
          "temp_min": 7.2,
          "weather": "rain",
          "wind": 6.2,
          "year": 2012
         },
         {
          "day": 3,
          "month": 12,
          "precipitation": 13,
          "temp_max": 9.4,
          "temp_min": 7.2,
          "weather": "rain",
          "wind": 4.4,
          "year": 2012
         },
         {
          "day": 4,
          "month": 12,
          "precipitation": 14.2,
          "temp_max": 11.7,
          "temp_min": 7.2,
          "weather": "rain",
          "wind": 6.2,
          "year": 2012
         },
         {
          "day": 5,
          "month": 12,
          "precipitation": 1.5,
          "temp_max": 8.9,
          "temp_min": 4.4,
          "weather": "rain",
          "wind": 5,
          "year": 2012
         },
         {
          "day": 6,
          "month": 12,
          "precipitation": 1.5,
          "temp_max": 7.2,
          "temp_min": 6.1,
          "weather": "rain",
          "wind": 5.1,
          "year": 2012
         },
         {
          "day": 7,
          "month": 12,
          "precipitation": 1,
          "temp_max": 7.8,
          "temp_min": 3.3,
          "weather": "rain",
          "wind": 4.6,
          "year": 2012
         },
         {
          "day": 8,
          "month": 12,
          "precipitation": 0,
          "temp_max": 6.7,
          "temp_min": 3.3,
          "weather": "sun",
          "wind": 2,
          "year": 2012
         },
         {
          "day": 9,
          "month": 12,
          "precipitation": 1.5,
          "temp_max": 6.7,
          "temp_min": 2.8,
          "weather": "rain",
          "wind": 2.1,
          "year": 2012
         },
         {
          "day": 10,
          "month": 12,
          "precipitation": 0.5,
          "temp_max": 7.2,
          "temp_min": 5.6,
          "weather": "rain",
          "wind": 1.8,
          "year": 2012
         },
         {
          "day": 11,
          "month": 12,
          "precipitation": 3,
          "temp_max": 7.8,
          "temp_min": 5.6,
          "weather": "rain",
          "wind": 4.5,
          "year": 2012
         },
         {
          "day": 12,
          "month": 12,
          "precipitation": 8.1,
          "temp_max": 6.7,
          "temp_min": 4.4,
          "weather": "rain",
          "wind": 2,
          "year": 2012
         },
         {
          "day": 13,
          "month": 12,
          "precipitation": 2.3,
          "temp_max": 7.2,
          "temp_min": 3.3,
          "weather": "rain",
          "wind": 2.8,
          "year": 2012
         },
         {
          "day": 14,
          "month": 12,
          "precipitation": 7.9,
          "temp_max": 6.1,
          "temp_min": 1.1,
          "weather": "rain",
          "wind": 1.7,
          "year": 2012
         },
         {
          "day": 15,
          "month": 12,
          "precipitation": 5.3,
          "temp_max": 4.4,
          "temp_min": 0.6,
          "weather": "snow",
          "wind": 5.1,
          "year": 2012
         },
         {
          "day": 16,
          "month": 12,
          "precipitation": 22.6,
          "temp_max": 6.7,
          "temp_min": 3.3,
          "weather": "snow",
          "wind": 5.5,
          "year": 2012
         },
         {
          "day": 17,
          "month": 12,
          "precipitation": 2,
          "temp_max": 8.3,
          "temp_min": 1.7,
          "weather": "rain",
          "wind": 9.5,
          "year": 2012
         },
         {
          "day": 18,
          "month": 12,
          "precipitation": 3.3,
          "temp_max": 3.9,
          "temp_min": 0.6,
          "weather": "snow",
          "wind": 5.3,
          "year": 2012
         },
         {
          "day": 19,
          "month": 12,
          "precipitation": 13.7,
          "temp_max": 8.3,
          "temp_min": 1.7,
          "weather": "snow",
          "wind": 5.8,
          "year": 2012
         },
         {
          "day": 20,
          "month": 12,
          "precipitation": 13.2,
          "temp_max": 7.2,
          "temp_min": 0.6,
          "weather": "rain",
          "wind": 3.7,
          "year": 2012
         },
         {
          "day": 21,
          "month": 12,
          "precipitation": 1.8,
          "temp_max": 8.3,
          "temp_min": -1.7,
          "weather": "rain",
          "wind": 1.7,
          "year": 2012
         },
         {
          "day": 22,
          "month": 12,
          "precipitation": 3.3,
          "temp_max": 8.3,
          "temp_min": 3.9,
          "weather": "rain",
          "wind": 3.5,
          "year": 2012
         },
         {
          "day": 23,
          "month": 12,
          "precipitation": 6.6,
          "temp_max": 7.2,
          "temp_min": 3.3,
          "weather": "rain",
          "wind": 2.5,
          "year": 2012
         },
         {
          "day": 24,
          "month": 12,
          "precipitation": 0.3,
          "temp_max": 5.6,
          "temp_min": 2.8,
          "weather": "rain",
          "wind": 2.8,
          "year": 2012
         },
         {
          "day": 25,
          "month": 12,
          "precipitation": 13.5,
          "temp_max": 5.6,
          "temp_min": 2.8,
          "weather": "snow",
          "wind": 4.2,
          "year": 2012
         },
         {
          "day": 26,
          "month": 12,
          "precipitation": 4.6,
          "temp_max": 6.7,
          "temp_min": 3.3,
          "weather": "rain",
          "wind": 4.9,
          "year": 2012
         },
         {
          "day": 27,
          "month": 12,
          "precipitation": 4.1,
          "temp_max": 7.8,
          "temp_min": 3.3,
          "weather": "rain",
          "wind": 3.2,
          "year": 2012
         },
         {
          "day": 28,
          "month": 12,
          "precipitation": 0,
          "temp_max": 8.3,
          "temp_min": 3.9,
          "weather": "rain",
          "wind": 1.7,
          "year": 2012
         },
         {
          "day": 29,
          "month": 12,
          "precipitation": 1.5,
          "temp_max": 5,
          "temp_min": 3.3,
          "weather": "rain",
          "wind": 1.7,
          "year": 2012
         },
         {
          "day": 30,
          "month": 12,
          "precipitation": 0,
          "temp_max": 4.4,
          "temp_min": 0,
          "weather": "drizzle",
          "wind": 1.8,
          "year": 2012
         },
         {
          "day": 31,
          "month": 12,
          "precipitation": 0,
          "temp_max": 3.3,
          "temp_min": -1.1,
          "weather": "drizzle",
          "wind": 2,
          "year": 2012
         },
         {
          "day": 1,
          "month": 1,
          "precipitation": 0,
          "temp_max": 5,
          "temp_min": -2.8,
          "weather": "sun",
          "wind": 2.7,
          "year": 2013
         },
         {
          "day": 2,
          "month": 1,
          "precipitation": 0,
          "temp_max": 6.1,
          "temp_min": -1.1,
          "weather": "sun",
          "wind": 3.2,
          "year": 2013
         },
         {
          "day": 3,
          "month": 1,
          "precipitation": 4.1,
          "temp_max": 6.7,
          "temp_min": -1.7,
          "weather": "rain",
          "wind": 3,
          "year": 2013
         },
         {
          "day": 4,
          "month": 1,
          "precipitation": 2.5,
          "temp_max": 10,
          "temp_min": 2.2,
          "weather": "rain",
          "wind": 2.8,
          "year": 2013
         },
         {
          "day": 5,
          "month": 1,
          "precipitation": 3,
          "temp_max": 6.7,
          "temp_min": 4.4,
          "weather": "rain",
          "wind": 3.1,
          "year": 2013
         },
         {
          "day": 6,
          "month": 1,
          "precipitation": 2,
          "temp_max": 7.2,
          "temp_min": 2.8,
          "weather": "rain",
          "wind": 3,
          "year": 2013
         },
         {
          "day": 7,
          "month": 1,
          "precipitation": 2.3,
          "temp_max": 10,
          "temp_min": 4.4,
          "weather": "rain",
          "wind": 7.3,
          "year": 2013
         },
         {
          "day": 8,
          "month": 1,
          "precipitation": 16.3,
          "temp_max": 11.7,
          "temp_min": 5.6,
          "weather": "rain",
          "wind": 6.3,
          "year": 2013
         },
         {
          "day": 9,
          "month": 1,
          "precipitation": 38.4,
          "temp_max": 10,
          "temp_min": 1.7,
          "weather": "rain",
          "wind": 5.1,
          "year": 2013
         },
         {
          "day": 10,
          "month": 1,
          "precipitation": 0.3,
          "temp_max": 3.3,
          "temp_min": -0.6,
          "weather": "snow",
          "wind": 2.1,
          "year": 2013
         },
         {
          "day": 11,
          "month": 1,
          "precipitation": 0,
          "temp_max": 2.8,
          "temp_min": -2.8,
          "weather": "drizzle",
          "wind": 1.9,
          "year": 2013
         },
         {
          "day": 12,
          "month": 1,
          "precipitation": 0,
          "temp_max": 2.8,
          "temp_min": -3.9,
          "weather": "sun",
          "wind": 2,
          "year": 2013
         },
         {
          "day": 13,
          "month": 1,
          "precipitation": 0,
          "temp_max": 2.2,
          "temp_min": -4.4,
          "weather": "sun",
          "wind": 1.5,
          "year": 2013
         },
         {
          "day": 14,
          "month": 1,
          "precipitation": 0,
          "temp_max": 3.3,
          "temp_min": -2.2,
          "weather": "sun",
          "wind": 1.3,
          "year": 2013
         },
         {
          "day": 15,
          "month": 1,
          "precipitation": 0,
          "temp_max": 6.7,
          "temp_min": -0.6,
          "weather": "sun",
          "wind": 2.3,
          "year": 2013
         },
         {
          "day": 16,
          "month": 1,
          "precipitation": 0,
          "temp_max": 6.1,
          "temp_min": -3.9,
          "weather": "drizzle",
          "wind": 1.8,
          "year": 2013
         },
         {
          "day": 17,
          "month": 1,
          "precipitation": 0,
          "temp_max": 3.9,
          "temp_min": -2.8,
          "weather": "drizzle",
          "wind": 1,
          "year": 2013
         },
         {
          "day": 18,
          "month": 1,
          "precipitation": 0,
          "temp_max": 3.3,
          "temp_min": -1.1,
          "weather": "drizzle",
          "wind": 1.3,
          "year": 2013
         },
         {
          "day": 19,
          "month": 1,
          "precipitation": 0,
          "temp_max": 1.1,
          "temp_min": -0.6,
          "weather": "drizzle",
          "wind": 1.9,
          "year": 2013
         },
         {
          "day": 20,
          "month": 1,
          "precipitation": 0,
          "temp_max": 3.3,
          "temp_min": -0.6,
          "weather": "drizzle",
          "wind": 2.1,
          "year": 2013
         },
         {
          "day": 21,
          "month": 1,
          "precipitation": 0,
          "temp_max": 2.2,
          "temp_min": -1.7,
          "weather": "drizzle",
          "wind": 1.1,
          "year": 2013
         },
         {
          "day": 22,
          "month": 1,
          "precipitation": 0,
          "temp_max": 3.3,
          "temp_min": -1.7,
          "weather": "drizzle",
          "wind": 0.6,
          "year": 2013
         },
         {
          "day": 23,
          "month": 1,
          "precipitation": 5.1,
          "temp_max": 7.2,
          "temp_min": 2.2,
          "weather": "rain",
          "wind": 3.1,
          "year": 2013
         },
         {
          "day": 24,
          "month": 1,
          "precipitation": 5.8,
          "temp_max": 7.2,
          "temp_min": 1.1,
          "weather": "rain",
          "wind": 2.6,
          "year": 2013
         },
         {
          "day": 25,
          "month": 1,
          "precipitation": 3,
          "temp_max": 10.6,
          "temp_min": 2.8,
          "weather": "rain",
          "wind": 2.1,
          "year": 2013
         },
         {
          "day": 26,
          "month": 1,
          "precipitation": 2.3,
          "temp_max": 8.3,
          "temp_min": 3.9,
          "weather": "rain",
          "wind": 4.5,
          "year": 2013
         },
         {
          "day": 27,
          "month": 1,
          "precipitation": 1.8,
          "temp_max": 5.6,
          "temp_min": 3.9,
          "weather": "rain",
          "wind": 4.5,
          "year": 2013
         },
         {
          "day": 28,
          "month": 1,
          "precipitation": 7.9,
          "temp_max": 6.1,
          "temp_min": 3.3,
          "weather": "rain",
          "wind": 3.2,
          "year": 2013
         },
         {
          "day": 29,
          "month": 1,
          "precipitation": 4.3,
          "temp_max": 8.3,
          "temp_min": 5,
          "weather": "rain",
          "wind": 3.9,
          "year": 2013
         },
         {
          "day": 30,
          "month": 1,
          "precipitation": 3.6,
          "temp_max": 8.9,
          "temp_min": 6.7,
          "weather": "rain",
          "wind": 3.9,
          "year": 2013
         },
         {
          "day": 31,
          "month": 1,
          "precipitation": 3,
          "temp_max": 9.4,
          "temp_min": 7.2,
          "weather": "rain",
          "wind": 4,
          "year": 2013
         },
         {
          "day": 1,
          "month": 2,
          "precipitation": 0.3,
          "temp_max": 11.7,
          "temp_min": 5,
          "weather": "rain",
          "wind": 2.9,
          "year": 2013
         },
         {
          "day": 2,
          "month": 2,
          "precipitation": 0,
          "temp_max": 6.1,
          "temp_min": 2.8,
          "weather": "drizzle",
          "wind": 2,
          "year": 2013
         },
         {
          "day": 3,
          "month": 2,
          "precipitation": 2.3,
          "temp_max": 8.9,
          "temp_min": 2.8,
          "weather": "rain",
          "wind": 2.9,
          "year": 2013
         },
         {
          "day": 4,
          "month": 2,
          "precipitation": 0,
          "temp_max": 10.6,
          "temp_min": 6.7,
          "weather": "rain",
          "wind": 2.6,
          "year": 2013
         },
         {
          "day": 5,
          "month": 2,
          "precipitation": 3.3,
          "temp_max": 10,
          "temp_min": 6.7,
          "weather": "rain",
          "wind": 5.1,
          "year": 2013
         },
         {
          "day": 6,
          "month": 2,
          "precipitation": 1,
          "temp_max": 10.6,
          "temp_min": 6.1,
          "weather": "rain",
          "wind": 4.5,
          "year": 2013
         },
         {
          "day": 7,
          "month": 2,
          "precipitation": 1.3,
          "temp_max": 9.4,
          "temp_min": 3.3,
          "weather": "rain",
          "wind": 4.1,
          "year": 2013
         },
         {
          "day": 8,
          "month": 2,
          "precipitation": 0,
          "temp_max": 7.8,
          "temp_min": 2.2,
          "weather": "sun",
          "wind": 1.3,
          "year": 2013
         },
         {
          "day": 9,
          "month": 2,
          "precipitation": 0.3,
          "temp_max": 8.3,
          "temp_min": 4.4,
          "weather": "rain",
          "wind": 1.3,
          "year": 2013
         },
         {
          "day": 10,
          "month": 2,
          "precipitation": 0,
          "temp_max": 8.9,
          "temp_min": 1.7,
          "weather": "drizzle",
          "wind": 2,
          "year": 2013
         },
         {
          "day": 11,
          "month": 2,
          "precipitation": 0.3,
          "temp_max": 8.3,
          "temp_min": 4.4,
          "weather": "rain",
          "wind": 1.4,
          "year": 2013
         },
         {
          "day": 12,
          "month": 2,
          "precipitation": 1,
          "temp_max": 11.1,
          "temp_min": 7.2,
          "weather": "rain",
          "wind": 5.6,
          "year": 2013
         },
         {
          "day": 13,
          "month": 2,
          "precipitation": 2.3,
          "temp_max": 9.4,
          "temp_min": 7.2,
          "weather": "rain",
          "wind": 4.1,
          "year": 2013
         },
         {
          "day": 14,
          "month": 2,
          "precipitation": 1,
          "temp_max": 9.4,
          "temp_min": 5.6,
          "weather": "rain",
          "wind": 2.2,
          "year": 2013
         },
         {
          "day": 15,
          "month": 2,
          "precipitation": 0,
          "temp_max": 13.3,
          "temp_min": 5,
          "weather": "drizzle",
          "wind": 2.4,
          "year": 2013
         },
         {
          "day": 16,
          "month": 2,
          "precipitation": 0,
          "temp_max": 11.1,
          "temp_min": 3.9,
          "weather": "rain",
          "wind": 5.6,
          "year": 2013
         },
         {
          "day": 17,
          "month": 2,
          "precipitation": 0,
          "temp_max": 9.4,
          "temp_min": 4.4,
          "weather": "rain",
          "wind": 3.4,
          "year": 2013
         },
         {
          "day": 18,
          "month": 2,
          "precipitation": 0,
          "temp_max": 7.8,
          "temp_min": 3.9,
          "weather": "rain",
          "wind": 1.9,
          "year": 2013
         },
         {
          "day": 19,
          "month": 2,
          "precipitation": 0,
          "temp_max": 10.6,
          "temp_min": 1.7,
          "weather": "sun",
          "wind": 3.4,
          "year": 2013
         },
         {
          "day": 20,
          "month": 2,
          "precipitation": 1.5,
          "temp_max": 7.8,
          "temp_min": 1.1,
          "weather": "rain",
          "wind": 2.1,
          "year": 2013
         },
         {
          "day": 21,
          "month": 2,
          "precipitation": 0.5,
          "temp_max": 6.7,
          "temp_min": 3.9,
          "weather": "rain",
          "wind": 6.2,
          "year": 2013
         },
         {
          "day": 22,
          "month": 2,
          "precipitation": 9.4,
          "temp_max": 7.8,
          "temp_min": 3.9,
          "weather": "rain",
          "wind": 8.1,
          "year": 2013
         },
         {
          "day": 23,
          "month": 2,
          "precipitation": 0.3,
          "temp_max": 10,
          "temp_min": 3.9,
          "weather": "rain",
          "wind": 4.6,
          "year": 2013
         },
         {
          "day": 24,
          "month": 2,
          "precipitation": 0,
          "temp_max": 8.9,
          "temp_min": 5,
          "weather": "rain",
          "wind": 5.5,
          "year": 2013
         },
         {
          "day": 25,
          "month": 2,
          "precipitation": 2.3,
          "temp_max": 10.6,
          "temp_min": 3.3,
          "weather": "rain",
          "wind": 7.1,
          "year": 2013
         },
         {
          "day": 26,
          "month": 2,
          "precipitation": 0.5,
          "temp_max": 8.9,
          "temp_min": 3.9,
          "weather": "rain",
          "wind": 3.8,
          "year": 2013
         },
         {
          "day": 27,
          "month": 2,
          "precipitation": 4.6,
          "temp_max": 10,
          "temp_min": 4.4,
          "weather": "rain",
          "wind": 1.8,
          "year": 2013
         },
         {
          "day": 28,
          "month": 2,
          "precipitation": 8.1,
          "temp_max": 11.7,
          "temp_min": 6.7,
          "weather": "rain",
          "wind": 3.8,
          "year": 2013
         },
         {
          "day": 1,
          "month": 3,
          "precipitation": 4.1,
          "temp_max": 15,
          "temp_min": 11.1,
          "weather": "rain",
          "wind": 5.4,
          "year": 2013
         },
         {
          "day": 2,
          "month": 3,
          "precipitation": 0.8,
          "temp_max": 13.9,
          "temp_min": 5,
          "weather": "rain",
          "wind": 4.5,
          "year": 2013
         },
         {
          "day": 3,
          "month": 3,
          "precipitation": 0,
          "temp_max": 11.1,
          "temp_min": 2.2,
          "weather": "sun",
          "wind": 2.8,
          "year": 2013
         },
         {
          "day": 4,
          "month": 3,
          "precipitation": 0,
          "temp_max": 13.3,
          "temp_min": 0,
          "weather": "sun",
          "wind": 3.9,
          "year": 2013
         },
         {
          "day": 5,
          "month": 3,
          "precipitation": 0,
          "temp_max": 9.4,
          "temp_min": 6.1,
          "weather": "rain",
          "wind": 2.4,
          "year": 2013
         },
         {
          "day": 6,
          "month": 3,
          "precipitation": 11.9,
          "temp_max": 7.2,
          "temp_min": 5,
          "weather": "rain",
          "wind": 4.1,
          "year": 2013
         },
         {
          "day": 7,
          "month": 3,
          "precipitation": 7.4,
          "temp_max": 12.2,
          "temp_min": 5,
          "weather": "rain",
          "wind": 2.5,
          "year": 2013
         },
         {
          "day": 8,
          "month": 3,
          "precipitation": 0,
          "temp_max": 11.7,
          "temp_min": 2.2,
          "weather": "drizzle",
          "wind": 2.6,
          "year": 2013
         },
         {
          "day": 9,
          "month": 3,
          "precipitation": 0,
          "temp_max": 12.8,
          "temp_min": 1.1,
          "weather": "fog",
          "wind": 1.3,
          "year": 2013
         },
         {
          "day": 10,
          "month": 3,
          "precipitation": 0.8,
          "temp_max": 7.8,
          "temp_min": 3.9,
          "weather": "rain",
          "wind": 1.6,
          "year": 2013
         },
         {
          "day": 11,
          "month": 3,
          "precipitation": 1.3,
          "temp_max": 10.6,
          "temp_min": 6.1,
          "weather": "rain",
          "wind": 1.1,
          "year": 2013
         },
         {
          "day": 12,
          "month": 3,
          "precipitation": 2,
          "temp_max": 12.8,
          "temp_min": 10,
          "weather": "rain",
          "wind": 5.7,
          "year": 2013
         },
         {
          "day": 13,
          "month": 3,
          "precipitation": 2.3,
          "temp_max": 11.7,
          "temp_min": 9.4,
          "weather": "rain",
          "wind": 3.7,
          "year": 2013
         },
         {
          "day": 14,
          "month": 3,
          "precipitation": 2.8,
          "temp_max": 11.7,
          "temp_min": 9.4,
          "weather": "rain",
          "wind": 3,
          "year": 2013
         },
         {
          "day": 15,
          "month": 3,
          "precipitation": 0,
          "temp_max": 14.4,
          "temp_min": 8.9,
          "weather": "rain",
          "wind": 4.3,
          "year": 2013
         },
         {
          "day": 16,
          "month": 3,
          "precipitation": 4.3,
          "temp_max": 10.6,
          "temp_min": 4.4,
          "weather": "rain",
          "wind": 6.4,
          "year": 2013
         },
         {
          "day": 17,
          "month": 3,
          "precipitation": 0,
          "temp_max": 8.9,
          "temp_min": 3.9,
          "weather": "sun",
          "wind": 6.1,
          "year": 2013
         },
         {
          "day": 18,
          "month": 3,
          "precipitation": 0,
          "temp_max": 11.7,
          "temp_min": 3.9,
          "weather": "rain",
          "wind": 5.9,
          "year": 2013
         },
         {
          "day": 19,
          "month": 3,
          "precipitation": 11.7,
          "temp_max": 12.8,
          "temp_min": 1.7,
          "weather": "rain",
          "wind": 3.4,
          "year": 2013
         },
         {
          "day": 20,
          "month": 3,
          "precipitation": 9.9,
          "temp_max": 11.1,
          "temp_min": 4.4,
          "weather": "rain",
          "wind": 7.6,
          "year": 2013
         },
         {
          "day": 21,
          "month": 3,
          "precipitation": 8.1,
          "temp_max": 10,
          "temp_min": 2.2,
          "weather": "snow",
          "wind": 4.9,
          "year": 2013
         },
         {
          "day": 22,
          "month": 3,
          "precipitation": 0,
          "temp_max": 9.4,
          "temp_min": 0.6,
          "weather": "sun",
          "wind": 2.2,
          "year": 2013
         },
         {
          "day": 23,
          "month": 3,
          "precipitation": 0,
          "temp_max": 10,
          "temp_min": 1.1,
          "weather": "sun",
          "wind": 2.6,
          "year": 2013
         },
         {
          "day": 24,
          "month": 3,
          "precipitation": 0,
          "temp_max": 12.2,
          "temp_min": 0.6,
          "weather": "sun",
          "wind": 2.1,
          "year": 2013
         },
         {
          "day": 25,
          "month": 3,
          "precipitation": 0,
          "temp_max": 16.7,
          "temp_min": 4.4,
          "weather": "sun",
          "wind": 2.8,
          "year": 2013
         },
         {
          "day": 26,
          "month": 3,
          "precipitation": 0,
          "temp_max": 16.7,
          "temp_min": 6.1,
          "weather": "sun",
          "wind": 1.7,
          "year": 2013
         },
         {
          "day": 27,
          "month": 3,
          "precipitation": 0.3,
          "temp_max": 13.3,
          "temp_min": 7.2,
          "weather": "rain",
          "wind": 1.6,
          "year": 2013
         },
         {
          "day": 28,
          "month": 3,
          "precipitation": 2,
          "temp_max": 16.1,
          "temp_min": 8.3,
          "weather": "rain",
          "wind": 1.3,
          "year": 2013
         },
         {
          "day": 29,
          "month": 3,
          "precipitation": 0,
          "temp_max": 18.3,
          "temp_min": 7.8,
          "weather": "rain",
          "wind": 2.5,
          "year": 2013
         },
         {
          "day": 30,
          "month": 3,
          "precipitation": 0,
          "temp_max": 20,
          "temp_min": 5.6,
          "weather": "drizzle",
          "wind": 4.4,
          "year": 2013
         },
         {
          "day": 31,
          "month": 3,
          "precipitation": 0,
          "temp_max": 20.6,
          "temp_min": 6.7,
          "weather": "sun",
          "wind": 2.9,
          "year": 2013
         },
         {
          "day": 1,
          "month": 4,
          "precipitation": 0,
          "temp_max": 17.2,
          "temp_min": 8.3,
          "weather": "sun",
          "wind": 3.6,
          "year": 2013
         },
         {
          "day": 2,
          "month": 4,
          "precipitation": 0,
          "temp_max": 13.9,
          "temp_min": 8.9,
          "weather": "sun",
          "wind": 2.2,
          "year": 2013
         },
         {
          "day": 3,
          "month": 4,
          "precipitation": 0,
          "temp_max": 16.7,
          "temp_min": 7.8,
          "weather": "sun",
          "wind": 1.6,
          "year": 2013
         },
         {
          "day": 4,
          "month": 4,
          "precipitation": 8.4,
          "temp_max": 14.4,
          "temp_min": 10,
          "weather": "fog",
          "wind": 3,
          "year": 2013
         },
         {
          "day": 5,
          "month": 4,
          "precipitation": 18.5,
          "temp_max": 13.9,
          "temp_min": 10,
          "weather": "fog",
          "wind": 5.6,
          "year": 2013
         },
         {
          "day": 6,
          "month": 4,
          "precipitation": 12.7,
          "temp_max": 12.2,
          "temp_min": 7.2,
          "weather": "fog",
          "wind": 5,
          "year": 2013
         },
         {
          "day": 7,
          "month": 4,
          "precipitation": 39.1,
          "temp_max": 8.3,
          "temp_min": 5,
          "weather": "fog",
          "wind": 3.9,
          "year": 2013
         },
         {
          "day": 8,
          "month": 4,
          "precipitation": 0.8,
          "temp_max": 13.3,
          "temp_min": 6.1,
          "weather": "fog",
          "wind": 3.1,
          "year": 2013
         },
         {
          "day": 9,
          "month": 4,
          "precipitation": 0,
          "temp_max": 12.2,
          "temp_min": 6.1,
          "weather": "sun",
          "wind": 2.4,
          "year": 2013
         },
         {
          "day": 10,
          "month": 4,
          "precipitation": 9.4,
          "temp_max": 15,
          "temp_min": 8.9,
          "weather": "sun",
          "wind": 6.4,
          "year": 2013
         },
         {
          "day": 11,
          "month": 4,
          "precipitation": 1.5,
          "temp_max": 12.2,
          "temp_min": 6.7,
          "weather": "fog",
          "wind": 3.8,
          "year": 2013
         },
         {
          "day": 12,
          "month": 4,
          "precipitation": 9.7,
          "temp_max": 7.8,
          "temp_min": 4.4,
          "weather": "fog",
          "wind": 4.6,
          "year": 2013
         },
         {
          "day": 13,
          "month": 4,
          "precipitation": 9.4,
          "temp_max": 10.6,
          "temp_min": 3.3,
          "weather": "fog",
          "wind": 5.7,
          "year": 2013
         },
         {
          "day": 14,
          "month": 4,
          "precipitation": 5.8,
          "temp_max": 12.8,
          "temp_min": 4.4,
          "weather": "fog",
          "wind": 2.3,
          "year": 2013
         },
         {
          "day": 15,
          "month": 4,
          "precipitation": 0,
          "temp_max": 13.9,
          "temp_min": 4.4,
          "weather": "fog",
          "wind": 2.4,
          "year": 2013
         },
         {
          "day": 16,
          "month": 4,
          "precipitation": 0.3,
          "temp_max": 13.9,
          "temp_min": 3.3,
          "weather": "sun",
          "wind": 2.6,
          "year": 2013
         },
         {
          "day": 17,
          "month": 4,
          "precipitation": 0,
          "temp_max": 15,
          "temp_min": 3.9,
          "weather": "drizzle",
          "wind": 3.3,
          "year": 2013
         },
         {
          "day": 18,
          "month": 4,
          "precipitation": 5.3,
          "temp_max": 11.7,
          "temp_min": 6.7,
          "weather": "fog",
          "wind": 4,
          "year": 2013
         },
         {
          "day": 19,
          "month": 4,
          "precipitation": 20.6,
          "temp_max": 13.3,
          "temp_min": 9.4,
          "weather": "fog",
          "wind": 4.9,
          "year": 2013
         },
         {
          "day": 20,
          "month": 4,
          "precipitation": 0,
          "temp_max": 13.9,
          "temp_min": 8.3,
          "weather": "sun",
          "wind": 5.8,
          "year": 2013
         },
         {
          "day": 21,
          "month": 4,
          "precipitation": 3.3,
          "temp_max": 12.2,
          "temp_min": 6.7,
          "weather": "sun",
          "wind": 4.1,
          "year": 2013
         },
         {
          "day": 22,
          "month": 4,
          "precipitation": 0,
          "temp_max": 16.1,
          "temp_min": 5,
          "weather": "sun",
          "wind": 4.3,
          "year": 2013
         },
         {
          "day": 23,
          "month": 4,
          "precipitation": 0,
          "temp_max": 17.8,
          "temp_min": 3.9,
          "weather": "sun",
          "wind": 2.8,
          "year": 2013
         },
         {
          "day": 24,
          "month": 4,
          "precipitation": 0,
          "temp_max": 21.1,
          "temp_min": 6.1,
          "weather": "sun",
          "wind": 3,
          "year": 2013
         },
         {
          "day": 25,
          "month": 4,
          "precipitation": 0,
          "temp_max": 21.7,
          "temp_min": 6.7,
          "weather": "sun",
          "wind": 1.1,
          "year": 2013
         },
         {
          "day": 26,
          "month": 4,
          "precipitation": 0,
          "temp_max": 20.6,
          "temp_min": 8.3,
          "weather": "fog",
          "wind": 2.2,
          "year": 2013
         },
         {
          "day": 27,
          "month": 4,
          "precipitation": 0,
          "temp_max": 13.9,
          "temp_min": 10.6,
          "weather": "sun",
          "wind": 5.9,
          "year": 2013
         },
         {
          "day": 28,
          "month": 4,
          "precipitation": 1,
          "temp_max": 15,
          "temp_min": 9.4,
          "weather": "drizzle",
          "wind": 5.2,
          "year": 2013
         },
         {
          "day": 29,
          "month": 4,
          "precipitation": 3.8,
          "temp_max": 13.9,
          "temp_min": 6.7,
          "weather": "fog",
          "wind": 4.2,
          "year": 2013
         },
         {
          "day": 30,
          "month": 4,
          "precipitation": 0,
          "temp_max": 12.8,
          "temp_min": 4.4,
          "weather": "sun",
          "wind": 2.4,
          "year": 2013
         },
         {
          "day": 1,
          "month": 5,
          "precipitation": 0,
          "temp_max": 18.3,
          "temp_min": 3.3,
          "weather": "sun",
          "wind": 3.1,
          "year": 2013
         },
         {
          "day": 2,
          "month": 5,
          "precipitation": 0,
          "temp_max": 20.6,
          "temp_min": 6.7,
          "weather": "sun",
          "wind": 4,
          "year": 2013
         },
         {
          "day": 3,
          "month": 5,
          "precipitation": 0,
          "temp_max": 21.7,
          "temp_min": 9.4,
          "weather": "sun",
          "wind": 4.9,
          "year": 2013
         },
         {
          "day": 4,
          "month": 5,
          "precipitation": 0,
          "temp_max": 25,
          "temp_min": 11.1,
          "weather": "sun",
          "wind": 6.5,
          "year": 2013
         },
         {
          "day": 5,
          "month": 5,
          "precipitation": 0,
          "temp_max": 28.9,
          "temp_min": 11.7,
          "weather": "sun",
          "wind": 5.3,
          "year": 2013
         },
         {
          "day": 6,
          "month": 5,
          "precipitation": 0,
          "temp_max": 30.6,
          "temp_min": 12.2,
          "weather": "sun",
          "wind": 2,
          "year": 2013
         },
         {
          "day": 7,
          "month": 5,
          "precipitation": 0,
          "temp_max": 20.6,
          "temp_min": 11.1,
          "weather": "sun",
          "wind": 3.3,
          "year": 2013
         },
         {
          "day": 8,
          "month": 5,
          "precipitation": 0,
          "temp_max": 19.4,
          "temp_min": 11.1,
          "weather": "sun",
          "wind": 1.9,
          "year": 2013
         },
         {
          "day": 9,
          "month": 5,
          "precipitation": 0,
          "temp_max": 22.8,
          "temp_min": 10,
          "weather": "sun",
          "wind": 1.3,
          "year": 2013
         },
         {
          "day": 10,
          "month": 5,
          "precipitation": 0,
          "temp_max": 26.1,
          "temp_min": 9.4,
          "weather": "sun",
          "wind": 1,
          "year": 2013
         },
         {
          "day": 11,
          "month": 5,
          "precipitation": 0,
          "temp_max": 27.2,
          "temp_min": 12.2,
          "weather": "sun",
          "wind": 2.6,
          "year": 2013
         },
         {
          "day": 12,
          "month": 5,
          "precipitation": 6.6,
          "temp_max": 21.7,
          "temp_min": 13.9,
          "weather": "fog",
          "wind": 3.9,
          "year": 2013
         },
         {
          "day": 13,
          "month": 5,
          "precipitation": 3.3,
          "temp_max": 18.9,
          "temp_min": 9.4,
          "weather": "sun",
          "wind": 5,
          "year": 2013
         },
         {
          "day": 14,
          "month": 5,
          "precipitation": 0,
          "temp_max": 18.3,
          "temp_min": 7.8,
          "weather": "sun",
          "wind": 2.4,
          "year": 2013
         },
         {
          "day": 15,
          "month": 5,
          "precipitation": 1,
          "temp_max": 17.2,
          "temp_min": 8.9,
          "weather": "fog",
          "wind": 2.3,
          "year": 2013
         },
         {
          "day": 16,
          "month": 5,
          "precipitation": 0,
          "temp_max": 21.7,
          "temp_min": 12.2,
          "weather": "fog",
          "wind": 2.7,
          "year": 2013
         },
         {
          "day": 17,
          "month": 5,
          "precipitation": 0.5,
          "temp_max": 17.2,
          "temp_min": 11.7,
          "weather": "sun",
          "wind": 3.7,
          "year": 2013
         },
         {
          "day": 18,
          "month": 5,
          "precipitation": 0,
          "temp_max": 16.7,
          "temp_min": 11.1,
          "weather": "sun",
          "wind": 2.9,
          "year": 2013
         },
         {
          "day": 19,
          "month": 5,
          "precipitation": 0,
          "temp_max": 18.3,
          "temp_min": 10.6,
          "weather": "sun",
          "wind": 2.3,
          "year": 2013
         },
         {
          "day": 20,
          "month": 5,
          "precipitation": 0,
          "temp_max": 19.4,
          "temp_min": 9.4,
          "weather": "sun",
          "wind": 1.8,
          "year": 2013
         },
         {
          "day": 21,
          "month": 5,
          "precipitation": 13.7,
          "temp_max": 15.6,
          "temp_min": 8.3,
          "weather": "fog",
          "wind": 4.8,
          "year": 2013
         },
         {
          "day": 22,
          "month": 5,
          "precipitation": 13.7,
          "temp_max": 11.1,
          "temp_min": 7.2,
          "weather": "fog",
          "wind": 3,
          "year": 2013
         },
         {
          "day": 23,
          "month": 5,
          "precipitation": 4.1,
          "temp_max": 12.2,
          "temp_min": 6.7,
          "weather": "fog",
          "wind": 1.9,
          "year": 2013
         },
         {
          "day": 24,
          "month": 5,
          "precipitation": 0.3,
          "temp_max": 16.7,
          "temp_min": 8.9,
          "weather": "sun",
          "wind": 2.7,
          "year": 2013
         },
         {
          "day": 25,
          "month": 5,
          "precipitation": 0,
          "temp_max": 17.8,
          "temp_min": 10,
          "weather": "sun",
          "wind": 2.7,
          "year": 2013
         },
         {
          "day": 26,
          "month": 5,
          "precipitation": 1.5,
          "temp_max": 18.3,
          "temp_min": 10.6,
          "weather": "fog",
          "wind": 2.2,
          "year": 2013
         },
         {
          "day": 27,
          "month": 5,
          "precipitation": 9.7,
          "temp_max": 16.7,
          "temp_min": 11.1,
          "weather": "fog",
          "wind": 3.1,
          "year": 2013
         },
         {
          "day": 28,
          "month": 5,
          "precipitation": 0.5,
          "temp_max": 17.2,
          "temp_min": 11.7,
          "weather": "fog",
          "wind": 2.8,
          "year": 2013
         },
         {
          "day": 29,
          "month": 5,
          "precipitation": 5.6,
          "temp_max": 16.1,
          "temp_min": 9.4,
          "weather": "fog",
          "wind": 4,
          "year": 2013
         },
         {
          "day": 30,
          "month": 5,
          "precipitation": 0,
          "temp_max": 16.7,
          "temp_min": 9.4,
          "weather": "sun",
          "wind": 5.3,
          "year": 2013
         },
         {
          "day": 31,
          "month": 5,
          "precipitation": 0,
          "temp_max": 19.4,
          "temp_min": 11.1,
          "weather": "sun",
          "wind": 2.5,
          "year": 2013
         },
         {
          "day": 1,
          "month": 6,
          "precipitation": 0,
          "temp_max": 22.8,
          "temp_min": 12.2,
          "weather": "sun",
          "wind": 2.5,
          "year": 2013
         },
         {
          "day": 2,
          "month": 6,
          "precipitation": 1,
          "temp_max": 20.6,
          "temp_min": 12.2,
          "weather": "sun",
          "wind": 3.1,
          "year": 2013
         },
         {
          "day": 3,
          "month": 6,
          "precipitation": 0,
          "temp_max": 22.2,
          "temp_min": 11.1,
          "weather": "sun",
          "wind": 2.9,
          "year": 2013
         },
         {
          "day": 4,
          "month": 6,
          "precipitation": 0,
          "temp_max": 26.1,
          "temp_min": 12.2,
          "weather": "sun",
          "wind": 3.4,
          "year": 2013
         },
         {
          "day": 5,
          "month": 6,
          "precipitation": 0,
          "temp_max": 26.7,
          "temp_min": 14.4,
          "weather": "sun",
          "wind": 3.1,
          "year": 2013
         },
         {
          "day": 6,
          "month": 6,
          "precipitation": 0,
          "temp_max": 26.7,
          "temp_min": 12.2,
          "weather": "sun",
          "wind": 2.5,
          "year": 2013
         },
         {
          "day": 7,
          "month": 6,
          "precipitation": 0,
          "temp_max": 21.7,
          "temp_min": 13.3,
          "weather": "sun",
          "wind": 3.2,
          "year": 2013
         },
         {
          "day": 8,
          "month": 6,
          "precipitation": 0,
          "temp_max": 20.6,
          "temp_min": 12.8,
          "weather": "sun",
          "wind": 3.1,
          "year": 2013
         },
         {
          "day": 9,
          "month": 6,
          "precipitation": 0,
          "temp_max": 20.6,
          "temp_min": 11.1,
          "weather": "sun",
          "wind": 3.7,
          "year": 2013
         },
         {
          "day": 10,
          "month": 6,
          "precipitation": 0,
          "temp_max": 21.7,
          "temp_min": 11.7,
          "weather": "sun",
          "wind": 3.2,
          "year": 2013
         },
         {
          "day": 11,
          "month": 6,
          "precipitation": 0,
          "temp_max": 20,
          "temp_min": 10,
          "weather": "sun",
          "wind": 5.7,
          "year": 2013
         },
         {
          "day": 12,
          "month": 6,
          "precipitation": 0.3,
          "temp_max": 20.6,
          "temp_min": 11.7,
          "weather": "sun",
          "wind": 4.2,
          "year": 2013
         },
         {
          "day": 13,
          "month": 6,
          "precipitation": 0,
          "temp_max": 21.1,
          "temp_min": 11.7,
          "weather": "sun",
          "wind": 2.6,
          "year": 2013
         },
         {
          "day": 14,
          "month": 6,
          "precipitation": 0,
          "temp_max": 20,
          "temp_min": 12.2,
          "weather": "sun",
          "wind": 3.7,
          "year": 2013
         },
         {
          "day": 15,
          "month": 6,
          "precipitation": 0,
          "temp_max": 25.6,
          "temp_min": 10,
          "weather": "sun",
          "wind": 2.9,
          "year": 2013
         },
         {
          "day": 16,
          "month": 6,
          "precipitation": 0,
          "temp_max": 23.9,
          "temp_min": 12.8,
          "weather": "sun",
          "wind": 3.4,
          "year": 2013
         },
         {
          "day": 17,
          "month": 6,
          "precipitation": 0,
          "temp_max": 25.6,
          "temp_min": 13.9,
          "weather": "sun",
          "wind": 3,
          "year": 2013
         },
         {
          "day": 18,
          "month": 6,
          "precipitation": 0.3,
          "temp_max": 23.3,
          "temp_min": 13.3,
          "weather": "fog",
          "wind": 3.4,
          "year": 2013
         },
         {
          "day": 19,
          "month": 6,
          "precipitation": 0,
          "temp_max": 20,
          "temp_min": 12.8,
          "weather": "sun",
          "wind": 3.7,
          "year": 2013
         },
         {
          "day": 20,
          "month": 6,
          "precipitation": 3,
          "temp_max": 17.2,
          "temp_min": 12.8,
          "weather": "sun",
          "wind": 5,
          "year": 2013
         },
         {
          "day": 21,
          "month": 6,
          "precipitation": 0.3,
          "temp_max": 20.6,
          "temp_min": 12.2,
          "weather": "sun",
          "wind": 1.5,
          "year": 2013
         },
         {
          "day": 22,
          "month": 6,
          "precipitation": 0,
          "temp_max": 25.6,
          "temp_min": 11.7,
          "weather": "sun",
          "wind": 1.7,
          "year": 2013
         },
         {
          "day": 23,
          "month": 6,
          "precipitation": 7.9,
          "temp_max": 22.2,
          "temp_min": 15,
          "weather": "fog",
          "wind": 2.1,
          "year": 2013
         },
         {
          "day": 24,
          "month": 6,
          "precipitation": 4.8,
          "temp_max": 21.1,
          "temp_min": 13.9,
          "weather": "fog",
          "wind": 3.7,
          "year": 2013
         },
         {
          "day": 25,
          "month": 6,
          "precipitation": 9.9,
          "temp_max": 23.3,
          "temp_min": 14.4,
          "weather": "sun",
          "wind": 2.8,
          "year": 2013
         },
         {
          "day": 26,
          "month": 6,
          "precipitation": 2,
          "temp_max": 22.2,
          "temp_min": 15,
          "weather": "fog",
          "wind": 2.3,
          "year": 2013
         },
         {
          "day": 27,
          "month": 6,
          "precipitation": 3.6,
          "temp_max": 21.1,
          "temp_min": 16.7,
          "weather": "fog",
          "wind": 1.3,
          "year": 2013
         },
         {
          "day": 28,
          "month": 6,
          "precipitation": 0,
          "temp_max": 30.6,
          "temp_min": 16.1,
          "weather": "sun",
          "wind": 2.2,
          "year": 2013
         },
         {
          "day": 29,
          "month": 6,
          "precipitation": 0,
          "temp_max": 30,
          "temp_min": 18.3,
          "weather": "sun",
          "wind": 1.7,
          "year": 2013
         },
         {
          "day": 30,
          "month": 6,
          "precipitation": 0,
          "temp_max": 33.9,
          "temp_min": 17.2,
          "weather": "sun",
          "wind": 2.5,
          "year": 2013
         },
         {
          "day": 1,
          "month": 7,
          "precipitation": 0,
          "temp_max": 31.7,
          "temp_min": 18.3,
          "weather": "sun",
          "wind": 2.3,
          "year": 2013
         },
         {
          "day": 2,
          "month": 7,
          "precipitation": 0,
          "temp_max": 28.3,
          "temp_min": 15.6,
          "weather": "sun",
          "wind": 3,
          "year": 2013
         },
         {
          "day": 3,
          "month": 7,
          "precipitation": 0,
          "temp_max": 26.1,
          "temp_min": 16.7,
          "weather": "sun",
          "wind": 3.2,
          "year": 2013
         },
         {
          "day": 4,
          "month": 7,
          "precipitation": 0,
          "temp_max": 21.7,
          "temp_min": 13.9,
          "weather": "fog",
          "wind": 2.2,
          "year": 2013
         },
         {
          "day": 5,
          "month": 7,
          "precipitation": 0,
          "temp_max": 23.3,
          "temp_min": 13.9,
          "weather": "sun",
          "wind": 2.6,
          "year": 2013
         },
         {
          "day": 6,
          "month": 7,
          "precipitation": 0,
          "temp_max": 26.1,
          "temp_min": 13.3,
          "weather": "sun",
          "wind": 2.2,
          "year": 2013
         },
         {
          "day": 7,
          "month": 7,
          "precipitation": 0,
          "temp_max": 23.9,
          "temp_min": 13.9,
          "weather": "sun",
          "wind": 2.9,
          "year": 2013
         },
         {
          "day": 8,
          "month": 7,
          "precipitation": 0,
          "temp_max": 26.7,
          "temp_min": 13.3,
          "weather": "sun",
          "wind": 2.8,
          "year": 2013
         },
         {
          "day": 9,
          "month": 7,
          "precipitation": 0,
          "temp_max": 30,
          "temp_min": 15,
          "weather": "sun",
          "wind": 2.5,
          "year": 2013
         },
         {
          "day": 10,
          "month": 7,
          "precipitation": 0,
          "temp_max": 22.2,
          "temp_min": 13.9,
          "weather": "sun",
          "wind": 2.6,
          "year": 2013
         },
         {
          "day": 11,
          "month": 7,
          "precipitation": 0,
          "temp_max": 22.8,
          "temp_min": 12.2,
          "weather": "sun",
          "wind": 3,
          "year": 2013
         },
         {
          "day": 12,
          "month": 7,
          "precipitation": 0,
          "temp_max": 19.4,
          "temp_min": 13.3,
          "weather": "sun",
          "wind": 2.2,
          "year": 2013
         },
         {
          "day": 13,
          "month": 7,
          "precipitation": 0,
          "temp_max": 26.1,
          "temp_min": 11.1,
          "weather": "sun",
          "wind": 3.1,
          "year": 2013
         },
         {
          "day": 14,
          "month": 7,
          "precipitation": 0,
          "temp_max": 27.8,
          "temp_min": 12.8,
          "weather": "sun",
          "wind": 3,
          "year": 2013
         },
         {
          "day": 15,
          "month": 7,
          "precipitation": 0,
          "temp_max": 27.8,
          "temp_min": 14.4,
          "weather": "sun",
          "wind": 4.6,
          "year": 2013
         },
         {
          "day": 16,
          "month": 7,
          "precipitation": 0,
          "temp_max": 31.1,
          "temp_min": 18.3,
          "weather": "sun",
          "wind": 4.1,
          "year": 2013
         },
         {
          "day": 17,
          "month": 7,
          "precipitation": 0,
          "temp_max": 22.2,
          "temp_min": 15,
          "weather": "rain",
          "wind": 3.7,
          "year": 2013
         },
         {
          "day": 18,
          "month": 7,
          "precipitation": 0,
          "temp_max": 26.1,
          "temp_min": 13.9,
          "weather": "sun",
          "wind": 2,
          "year": 2013
         },
         {
          "day": 19,
          "month": 7,
          "precipitation": 0,
          "temp_max": 27.8,
          "temp_min": 13.3,
          "weather": "sun",
          "wind": 1.9,
          "year": 2013
         },
         {
          "day": 20,
          "month": 7,
          "precipitation": 0,
          "temp_max": 25,
          "temp_min": 13.3,
          "weather": "sun",
          "wind": 2,
          "year": 2013
         },
         {
          "day": 21,
          "month": 7,
          "precipitation": 0,
          "temp_max": 23.9,
          "temp_min": 12.8,
          "weather": "sun",
          "wind": 2.3,
          "year": 2013
         },
         {
          "day": 22,
          "month": 7,
          "precipitation": 0,
          "temp_max": 26.1,
          "temp_min": 13.3,
          "weather": "fog",
          "wind": 2.4,
          "year": 2013
         },
         {
          "day": 23,
          "month": 7,
          "precipitation": 0,
          "temp_max": 31.1,
          "temp_min": 13.9,
          "weather": "sun",
          "wind": 3,
          "year": 2013
         },
         {
          "day": 24,
          "month": 7,
          "precipitation": 0,
          "temp_max": 31.1,
          "temp_min": 14.4,
          "weather": "sun",
          "wind": 2.5,
          "year": 2013
         },
         {
          "day": 25,
          "month": 7,
          "precipitation": 0,
          "temp_max": 31.1,
          "temp_min": 12.8,
          "weather": "sun",
          "wind": 2.3,
          "year": 2013
         },
         {
          "day": 26,
          "month": 7,
          "precipitation": 0,
          "temp_max": 31.1,
          "temp_min": 14.4,
          "weather": "sun",
          "wind": 2.9,
          "year": 2013
         },
         {
          "day": 27,
          "month": 7,
          "precipitation": 0,
          "temp_max": 25.6,
          "temp_min": 12.8,
          "weather": "sun",
          "wind": 2.6,
          "year": 2013
         },
         {
          "day": 28,
          "month": 7,
          "precipitation": 0,
          "temp_max": 21.1,
          "temp_min": 12.2,
          "weather": "fog",
          "wind": 3.4,
          "year": 2013
         },
         {
          "day": 29,
          "month": 7,
          "precipitation": 0,
          "temp_max": 25,
          "temp_min": 13.3,
          "weather": "sun",
          "wind": 1.4,
          "year": 2013
         },
         {
          "day": 30,
          "month": 7,
          "precipitation": 0,
          "temp_max": 25,
          "temp_min": 13.3,
          "weather": "sun",
          "wind": 2.8,
          "year": 2013
         },
         {
          "day": 31,
          "month": 7,
          "precipitation": 0,
          "temp_max": 21.7,
          "temp_min": 13.3,
          "weather": "sun",
          "wind": 1.8,
          "year": 2013
         },
         {
          "day": 1,
          "month": 8,
          "precipitation": 0,
          "temp_max": 20.6,
          "temp_min": 13.3,
          "weather": "sun",
          "wind": 3.9,
          "year": 2013
         },
         {
          "day": 2,
          "month": 8,
          "precipitation": 2,
          "temp_max": 17.2,
          "temp_min": 15,
          "weather": "sun",
          "wind": 2,
          "year": 2013
         },
         {
          "day": 3,
          "month": 8,
          "precipitation": 0,
          "temp_max": 25,
          "temp_min": 15.6,
          "weather": "fog",
          "wind": 2.4,
          "year": 2013
         },
         {
          "day": 4,
          "month": 8,
          "precipitation": 0,
          "temp_max": 28.9,
          "temp_min": 15,
          "weather": "sun",
          "wind": 3.4,
          "year": 2013
         },
         {
          "day": 5,
          "month": 8,
          "precipitation": 0,
          "temp_max": 30,
          "temp_min": 15,
          "weather": "sun",
          "wind": 2.1,
          "year": 2013
         },
         {
          "day": 6,
          "month": 8,
          "precipitation": 0,
          "temp_max": 30.6,
          "temp_min": 13.9,
          "weather": "sun",
          "wind": 1.4,
          "year": 2013
         },
         {
          "day": 7,
          "month": 8,
          "precipitation": 0,
          "temp_max": 31.1,
          "temp_min": 13.9,
          "weather": "sun",
          "wind": 1.9,
          "year": 2013
         },
         {
          "day": 8,
          "month": 8,
          "precipitation": 0,
          "temp_max": 28.3,
          "temp_min": 14.4,
          "weather": "sun",
          "wind": 2.5,
          "year": 2013
         },
         {
          "day": 9,
          "month": 8,
          "precipitation": 0,
          "temp_max": 28.3,
          "temp_min": 14.4,
          "weather": "rain",
          "wind": 2.1,
          "year": 2013
         },
         {
          "day": 10,
          "month": 8,
          "precipitation": 2.3,
          "temp_max": 25.6,
          "temp_min": 15,
          "weather": "sun",
          "wind": 2.9,
          "year": 2013
         },
         {
          "day": 11,
          "month": 8,
          "precipitation": 0,
          "temp_max": 25,
          "temp_min": 14.4,
          "weather": "sun",
          "wind": 2.9,
          "year": 2013
         },
         {
          "day": 12,
          "month": 8,
          "precipitation": 0,
          "temp_max": 25.6,
          "temp_min": 16.1,
          "weather": "sun",
          "wind": 1.9,
          "year": 2013
         },
         {
          "day": 13,
          "month": 8,
          "precipitation": 0,
          "temp_max": 27.8,
          "temp_min": 15,
          "weather": "sun",
          "wind": 1.8,
          "year": 2013
         },
         {
          "day": 14,
          "month": 8,
          "precipitation": 0.8,
          "temp_max": 27.2,
          "temp_min": 15,
          "weather": "sun",
          "wind": 2,
          "year": 2013
         },
         {
          "day": 15,
          "month": 8,
          "precipitation": 1.8,
          "temp_max": 21.1,
          "temp_min": 17.2,
          "weather": "sun",
          "wind": 1,
          "year": 2013
         },
         {
          "day": 16,
          "month": 8,
          "precipitation": 0,
          "temp_max": 28.9,
          "temp_min": 16.1,
          "weather": "fog",
          "wind": 2.2,
          "year": 2013
         },
         {
          "day": 17,
          "month": 8,
          "precipitation": 0,
          "temp_max": 25.6,
          "temp_min": 17.2,
          "weather": "sun",
          "wind": 3,
          "year": 2013
         },
         {
          "day": 18,
          "month": 8,
          "precipitation": 0,
          "temp_max": 26.1,
          "temp_min": 15.6,
          "weather": "sun",
          "wind": 3.1,
          "year": 2013
         },
         {
          "day": 19,
          "month": 8,
          "precipitation": 0,
          "temp_max": 26.7,
          "temp_min": 15.6,
          "weather": "sun",
          "wind": 3,
          "year": 2013
         },
         {
          "day": 20,
          "month": 8,
          "precipitation": 0,
          "temp_max": 25.6,
          "temp_min": 16.1,
          "weather": "sun",
          "wind": 4.6,
          "year": 2013
         },
         {
          "day": 21,
          "month": 8,
          "precipitation": 0,
          "temp_max": 27.8,
          "temp_min": 15,
          "weather": "sun",
          "wind": 4.3,
          "year": 2013
         },
         {
          "day": 22,
          "month": 8,
          "precipitation": 0,
          "temp_max": 28.9,
          "temp_min": 15,
          "weather": "sun",
          "wind": 1.9,
          "year": 2013
         },
         {
          "day": 23,
          "month": 8,
          "precipitation": 0,
          "temp_max": 25,
          "temp_min": 16.1,
          "weather": "sun",
          "wind": 4.1,
          "year": 2013
         },
         {
          "day": 24,
          "month": 8,
          "precipitation": 0,
          "temp_max": 25,
          "temp_min": 16.7,
          "weather": "sun",
          "wind": 2.7,
          "year": 2013
         },
         {
          "day": 25,
          "month": 8,
          "precipitation": 0.3,
          "temp_max": 22.2,
          "temp_min": 16.1,
          "weather": "sun",
          "wind": 2.6,
          "year": 2013
         },
         {
          "day": 26,
          "month": 8,
          "precipitation": 1,
          "temp_max": 24.4,
          "temp_min": 16.1,
          "weather": "sun",
          "wind": 1.9,
          "year": 2013
         },
         {
          "day": 27,
          "month": 8,
          "precipitation": 1.3,
          "temp_max": 26.7,
          "temp_min": 17.2,
          "weather": "sun",
          "wind": 1.4,
          "year": 2013
         },
         {
          "day": 28,
          "month": 8,
          "precipitation": 5.6,
          "temp_max": 26.7,
          "temp_min": 15.6,
          "weather": "fog",
          "wind": 1.3,
          "year": 2013
         },
         {
          "day": 29,
          "month": 8,
          "precipitation": 19.3,
          "temp_max": 23.9,
          "temp_min": 18.3,
          "weather": "sun",
          "wind": 3,
          "year": 2013
         },
         {
          "day": 30,
          "month": 8,
          "precipitation": 0,
          "temp_max": 26.1,
          "temp_min": 16.1,
          "weather": "sun",
          "wind": 2.9,
          "year": 2013
         },
         {
          "day": 31,
          "month": 8,
          "precipitation": 0,
          "temp_max": 27.8,
          "temp_min": 13.9,
          "weather": "sun",
          "wind": 2.6,
          "year": 2013
         },
         {
          "day": 1,
          "month": 9,
          "precipitation": 0,
          "temp_max": 27.8,
          "temp_min": 15.6,
          "weather": "sun",
          "wind": 2.5,
          "year": 2013
         },
         {
          "day": 2,
          "month": 9,
          "precipitation": 0,
          "temp_max": 27.8,
          "temp_min": 17.2,
          "weather": "sun",
          "wind": 2.1,
          "year": 2013
         },
         {
          "day": 3,
          "month": 9,
          "precipitation": 2.3,
          "temp_max": 25,
          "temp_min": 16.7,
          "weather": "fog",
          "wind": 1.7,
          "year": 2013
         },
         {
          "day": 4,
          "month": 9,
          "precipitation": 0.3,
          "temp_max": 22.8,
          "temp_min": 16.1,
          "weather": "fog",
          "wind": 2.4,
          "year": 2013
         },
         {
          "day": 5,
          "month": 9,
          "precipitation": 27.7,
          "temp_max": 20,
          "temp_min": 15.6,
          "weather": "sun",
          "wind": 2.5,
          "year": 2013
         },
         {
          "day": 6,
          "month": 9,
          "precipitation": 21.3,
          "temp_max": 21.7,
          "temp_min": 16.1,
          "weather": "fog",
          "wind": 2.6,
          "year": 2013
         },
         {
          "day": 7,
          "month": 9,
          "precipitation": 0,
          "temp_max": 23.3,
          "temp_min": 17.2,
          "weather": "sun",
          "wind": 2,
          "year": 2013
         },
         {
          "day": 8,
          "month": 9,
          "precipitation": 0,
          "temp_max": 26.7,
          "temp_min": 14.4,
          "weather": "fog",
          "wind": 1.5,
          "year": 2013
         },
         {
          "day": 9,
          "month": 9,
          "precipitation": 0,
          "temp_max": 26.1,
          "temp_min": 13.9,
          "weather": "sun",
          "wind": 2.1,
          "year": 2013
         },
         {
          "day": 10,
          "month": 9,
          "precipitation": 0,
          "temp_max": 26.7,
          "temp_min": 15,
          "weather": "sun",
          "wind": 3.7,
          "year": 2013
         },
         {
          "day": 11,
          "month": 9,
          "precipitation": 0,
          "temp_max": 33.9,
          "temp_min": 16.1,
          "weather": "sun",
          "wind": 2.4,
          "year": 2013
         },
         {
          "day": 12,
          "month": 9,
          "precipitation": 0,
          "temp_max": 25.6,
          "temp_min": 15,
          "weather": "sun",
          "wind": 1.7,
          "year": 2013
         },
         {
          "day": 13,
          "month": 9,
          "precipitation": 0,
          "temp_max": 18.9,
          "temp_min": 15.6,
          "weather": "sun",
          "wind": 2,
          "year": 2013
         },
         {
          "day": 14,
          "month": 9,
          "precipitation": 0,
          "temp_max": 21.7,
          "temp_min": 15.6,
          "weather": "fog",
          "wind": 1.4,
          "year": 2013
         },
         {
          "day": 15,
          "month": 9,
          "precipitation": 3.3,
          "temp_max": 18.9,
          "temp_min": 14.4,
          "weather": "sun",
          "wind": 2.2,
          "year": 2013
         },
         {
          "day": 16,
          "month": 9,
          "precipitation": 0.3,
          "temp_max": 21.7,
          "temp_min": 15,
          "weather": "fog",
          "wind": 4.3,
          "year": 2013
         },
         {
          "day": 17,
          "month": 9,
          "precipitation": 0,
          "temp_max": 17.8,
          "temp_min": 13.9,
          "weather": "sun",
          "wind": 2.3,
          "year": 2013
         },
         {
          "day": 18,
          "month": 9,
          "precipitation": 0,
          "temp_max": 21.1,
          "temp_min": 13.3,
          "weather": "sun",
          "wind": 2.5,
          "year": 2013
         },
         {
          "day": 19,
          "month": 9,
          "precipitation": 0,
          "temp_max": 25.6,
          "temp_min": 10,
          "weather": "sun",
          "wind": 1.5,
          "year": 2013
         },
         {
          "day": 20,
          "month": 9,
          "precipitation": 3.6,
          "temp_max": 23.3,
          "temp_min": 13.3,
          "weather": "fog",
          "wind": 3,
          "year": 2013
         },
         {
          "day": 21,
          "month": 9,
          "precipitation": 0,
          "temp_max": 21.1,
          "temp_min": 13.3,
          "weather": "sun",
          "wind": 2.5,
          "year": 2013
         },
         {
          "day": 22,
          "month": 9,
          "precipitation": 13.5,
          "temp_max": 17.2,
          "temp_min": 13.3,
          "weather": "fog",
          "wind": 5.5,
          "year": 2013
         },
         {
          "day": 23,
          "month": 9,
          "precipitation": 2.8,
          "temp_max": 16.1,
          "temp_min": 11.1,
          "weather": "fog",
          "wind": 4.5,
          "year": 2013
         },
         {
          "day": 24,
          "month": 9,
          "precipitation": 0,
          "temp_max": 17.8,
          "temp_min": 10,
          "weather": "sun",
          "wind": 2.6,
          "year": 2013
         },
         {
          "day": 25,
          "month": 9,
          "precipitation": 2,
          "temp_max": 16.1,
          "temp_min": 9.4,
          "weather": "fog",
          "wind": 3,
          "year": 2013
         },
         {
          "day": 26,
          "month": 9,
          "precipitation": 0,
          "temp_max": 17.2,
          "temp_min": 7.2,
          "weather": "sun",
          "wind": 2.2,
          "year": 2013
         },
         {
          "day": 27,
          "month": 9,
          "precipitation": 1,
          "temp_max": 13.9,
          "temp_min": 10.6,
          "weather": "fog",
          "wind": 4.3,
          "year": 2013
         },
         {
          "day": 28,
          "month": 9,
          "precipitation": 43.4,
          "temp_max": 16.7,
          "temp_min": 11.7,
          "weather": "fog",
          "wind": 6,
          "year": 2013
         },
         {
          "day": 29,
          "month": 9,
          "precipitation": 16.8,
          "temp_max": 14.4,
          "temp_min": 11.1,
          "weather": "sun",
          "wind": 7.1,
          "year": 2013
         },
         {
          "day": 30,
          "month": 9,
          "precipitation": 18.5,
          "temp_max": 13.9,
          "temp_min": 10,
          "weather": "fog",
          "wind": 6.3,
          "year": 2013
         },
         {
          "day": 1,
          "month": 10,
          "precipitation": 7.9,
          "temp_max": 14.4,
          "temp_min": 8.9,
          "weather": "fog",
          "wind": 4.7,
          "year": 2013
         },
         {
          "day": 2,
          "month": 10,
          "precipitation": 5.3,
          "temp_max": 12.8,
          "temp_min": 9.4,
          "weather": "fog",
          "wind": 2.4,
          "year": 2013
         },
         {
          "day": 3,
          "month": 10,
          "precipitation": 0.8,
          "temp_max": 14.4,
          "temp_min": 8.9,
          "weather": "fog",
          "wind": 0.9,
          "year": 2013
         },
         {
          "day": 4,
          "month": 10,
          "precipitation": 0,
          "temp_max": 17.8,
          "temp_min": 5.6,
          "weather": "sun",
          "wind": 1.1,
          "year": 2013
         },
         {
          "day": 5,
          "month": 10,
          "precipitation": 0,
          "temp_max": 20,
          "temp_min": 8.3,
          "weather": "sun",
          "wind": 1.6,
          "year": 2013
         },
         {
          "day": 6,
          "month": 10,
          "precipitation": 4.1,
          "temp_max": 22.8,
          "temp_min": 7.8,
          "weather": "fog",
          "wind": 2.6,
          "year": 2013
         },
         {
          "day": 7,
          "month": 10,
          "precipitation": 0.5,
          "temp_max": 16.1,
          "temp_min": 11.7,
          "weather": "fog",
          "wind": 6.3,
          "year": 2013
         },
         {
          "day": 8,
          "month": 10,
          "precipitation": 6.9,
          "temp_max": 13.9,
          "temp_min": 7.8,
          "weather": "rain",
          "wind": 3,
          "year": 2013
         },
         {
          "day": 9,
          "month": 10,
          "precipitation": 0,
          "temp_max": 15,
          "temp_min": 5.6,
          "weather": "sun",
          "wind": 1.6,
          "year": 2013
         },
         {
          "day": 10,
          "month": 10,
          "precipitation": 1,
          "temp_max": 14.4,
          "temp_min": 8.3,
          "weather": "fog",
          "wind": 1.7,
          "year": 2013
         },
         {
          "day": 11,
          "month": 10,
          "precipitation": 9.1,
          "temp_max": 13.9,
          "temp_min": 10.6,
          "weather": "sun",
          "wind": 1,
          "year": 2013
         },
         {
          "day": 12,
          "month": 10,
          "precipitation": 1,
          "temp_max": 14.4,
          "temp_min": 8.9,
          "weather": "fog",
          "wind": 2.2,
          "year": 2013
         },
         {
          "day": 13,
          "month": 10,
          "precipitation": 0,
          "temp_max": 15,
          "temp_min": 6.7,
          "weather": "fog",
          "wind": 1.8,
          "year": 2013
         },
         {
          "day": 14,
          "month": 10,
          "precipitation": 0,
          "temp_max": 15.6,
          "temp_min": 3.9,
          "weather": "sun",
          "wind": 1.6,
          "year": 2013
         },
         {
          "day": 15,
          "month": 10,
          "precipitation": 0,
          "temp_max": 15.6,
          "temp_min": 5,
          "weather": "sun",
          "wind": 0.9,
          "year": 2013
         },
         {
          "day": 16,
          "month": 10,
          "precipitation": 0,
          "temp_max": 12.8,
          "temp_min": 8.9,
          "weather": "fog",
          "wind": 2.7,
          "year": 2013
         },
         {
          "day": 17,
          "month": 10,
          "precipitation": 0,
          "temp_max": 14.4,
          "temp_min": 8.9,
          "weather": "fog",
          "wind": 1.7,
          "year": 2013
         },
         {
          "day": 18,
          "month": 10,
          "precipitation": 0,
          "temp_max": 12.8,
          "temp_min": 7.2,
          "weather": "sun",
          "wind": 1.2,
          "year": 2013
         },
         {
          "day": 19,
          "month": 10,
          "precipitation": 0,
          "temp_max": 10.6,
          "temp_min": 7.8,
          "weather": "sun",
          "wind": 1.4,
          "year": 2013
         },
         {
          "day": 20,
          "month": 10,
          "precipitation": 0,
          "temp_max": 10.6,
          "temp_min": 7.8,
          "weather": "sun",
          "wind": 2.4,
          "year": 2013
         },
         {
          "day": 21,
          "month": 10,
          "precipitation": 0,
          "temp_max": 11.7,
          "temp_min": 8.3,
          "weather": "sun",
          "wind": 2.5,
          "year": 2013
         },
         {
          "day": 22,
          "month": 10,
          "precipitation": 0,
          "temp_max": 14.4,
          "temp_min": 7.2,
          "weather": "sun",
          "wind": 1.9,
          "year": 2013
         },
         {
          "day": 23,
          "month": 10,
          "precipitation": 0,
          "temp_max": 12.8,
          "temp_min": 6.1,
          "weather": "sun",
          "wind": 0.4,
          "year": 2013
         },
         {
          "day": 24,
          "month": 10,
          "precipitation": 0,
          "temp_max": 10,
          "temp_min": 6.1,
          "weather": "sun",
          "wind": 0.6,
          "year": 2013
         },
         {
          "day": 25,
          "month": 10,
          "precipitation": 0,
          "temp_max": 12.2,
          "temp_min": 7.8,
          "weather": "sun",
          "wind": 1.8,
          "year": 2013
         },
         {
          "day": 26,
          "month": 10,
          "precipitation": 0,
          "temp_max": 11.7,
          "temp_min": 8.3,
          "weather": "sun",
          "wind": 2.7,
          "year": 2013
         },
         {
          "day": 27,
          "month": 10,
          "precipitation": 1.8,
          "temp_max": 13.9,
          "temp_min": 8.3,
          "weather": "fog",
          "wind": 4.4,
          "year": 2013
         },
         {
          "day": 28,
          "month": 10,
          "precipitation": 0,
          "temp_max": 14.4,
          "temp_min": 7.2,
          "weather": "sun",
          "wind": 5.1,
          "year": 2013
         },
         {
          "day": 29,
          "month": 10,
          "precipitation": 0,
          "temp_max": 13.3,
          "temp_min": 3.3,
          "weather": "sun",
          "wind": 2.2,
          "year": 2013
         },
         {
          "day": 30,
          "month": 10,
          "precipitation": 0.5,
          "temp_max": 15,
          "temp_min": 5.6,
          "weather": "sun",
          "wind": 3.9,
          "year": 2013
         },
         {
          "day": 31,
          "month": 10,
          "precipitation": 0.3,
          "temp_max": 14.4,
          "temp_min": 10.6,
          "weather": "fog",
          "wind": 2.2,
          "year": 2013
         },
         {
          "day": 1,
          "month": 11,
          "precipitation": 1.3,
          "temp_max": 17.8,
          "temp_min": 11.7,
          "weather": "sun",
          "wind": 1.4,
          "year": 2013
         },
         {
          "day": 2,
          "month": 11,
          "precipitation": 12.7,
          "temp_max": 14.4,
          "temp_min": 8.3,
          "weather": "fog",
          "wind": 7.9,
          "year": 2013
         },
         {
          "day": 3,
          "month": 11,
          "precipitation": 0.5,
          "temp_max": 12.2,
          "temp_min": 4.4,
          "weather": "sun",
          "wind": 2.4,
          "year": 2013
         },
         {
          "day": 4,
          "month": 11,
          "precipitation": 0,
          "temp_max": 10.6,
          "temp_min": 3.9,
          "weather": "drizzle",
          "wind": 1.6,
          "year": 2013
         },
         {
          "day": 5,
          "month": 11,
          "precipitation": 2.5,
          "temp_max": 13.3,
          "temp_min": 7.2,
          "weather": "fog",
          "wind": 3.1,
          "year": 2013
         },
         {
          "day": 6,
          "month": 11,
          "precipitation": 3.8,
          "temp_max": 12.8,
          "temp_min": 7.8,
          "weather": "sun",
          "wind": 1.7,
          "year": 2013
         },
         {
          "day": 7,
          "month": 11,
          "precipitation": 30,
          "temp_max": 11.1,
          "temp_min": 10,
          "weather": "fog",
          "wind": 7.2,
          "year": 2013
         },
         {
          "day": 8,
          "month": 11,
          "precipitation": 0,
          "temp_max": 13.3,
          "temp_min": 7.2,
          "weather": "sun",
          "wind": 4.1,
          "year": 2013
         },
         {
          "day": 9,
          "month": 11,
          "precipitation": 1.8,
          "temp_max": 11.1,
          "temp_min": 5,
          "weather": "sun",
          "wind": 1.4,
          "year": 2013
         },
         {
          "day": 10,
          "month": 11,
          "precipitation": 0,
          "temp_max": 11.1,
          "temp_min": 8.3,
          "weather": "sun",
          "wind": 4.4,
          "year": 2013
         },
         {
          "day": 11,
          "month": 11,
          "precipitation": 0,
          "temp_max": 16.1,
          "temp_min": 6.1,
          "weather": "fog",
          "wind": 2.6,
          "year": 2013
         },
         {
          "day": 12,
          "month": 11,
          "precipitation": 4.1,
          "temp_max": 15.6,
          "temp_min": 8.9,
          "weather": "fog",
          "wind": 2.2,
          "year": 2013
         },
         {
          "day": 13,
          "month": 11,
          "precipitation": 0,
          "temp_max": 13.9,
          "temp_min": 10.6,
          "weather": "sun",
          "wind": 3.8,
          "year": 2013
         },
         {
          "day": 14,
          "month": 11,
          "precipitation": 1.3,
          "temp_max": 11.1,
          "temp_min": 6.1,
          "weather": "fog",
          "wind": 1.1,
          "year": 2013
         },
         {
          "day": 15,
          "month": 11,
          "precipitation": 3,
          "temp_max": 10.6,
          "temp_min": 7.2,
          "weather": "sun",
          "wind": 6,
          "year": 2013
         },
         {
          "day": 16,
          "month": 11,
          "precipitation": 0,
          "temp_max": 10,
          "temp_min": 5,
          "weather": "sun",
          "wind": 4.6,
          "year": 2013
         },
         {
          "day": 17,
          "month": 11,
          "precipitation": 5.3,
          "temp_max": 11.7,
          "temp_min": 7.2,
          "weather": "fog",
          "wind": 5.4,
          "year": 2013
         },
         {
          "day": 18,
          "month": 11,
          "precipitation": 26.2,
          "temp_max": 12.8,
          "temp_min": 9.4,
          "weather": "fog",
          "wind": 3.9,
          "year": 2013
         },
         {
          "day": 19,
          "month": 11,
          "precipitation": 1,
          "temp_max": 13.3,
          "temp_min": 4.4,
          "weather": "fog",
          "wind": 5.1,
          "year": 2013
         },
         {
          "day": 20,
          "month": 11,
          "precipitation": 0,
          "temp_max": 7.8,
          "temp_min": 1.7,
          "weather": "sun",
          "wind": 4.3,
          "year": 2013
         },
         {
          "day": 21,
          "month": 11,
          "precipitation": 0,
          "temp_max": 7.8,
          "temp_min": -0.5,
          "weather": "sun",
          "wind": 3.6,
          "year": 2013
         },
         {
          "day": 22,
          "month": 11,
          "precipitation": 0,
          "temp_max": 9.4,
          "temp_min": 0,
          "weather": "sun",
          "wind": 4.6,
          "year": 2013
         },
         {
          "day": 23,
          "month": 11,
          "precipitation": 0,
          "temp_max": 11.1,
          "temp_min": 1.1,
          "weather": "sun",
          "wind": 2.6,
          "year": 2013
         },
         {
          "day": 24,
          "month": 11,
          "precipitation": 0,
          "temp_max": 11.7,
          "temp_min": 0.6,
          "weather": "fog",
          "wind": 0.9,
          "year": 2013
         },
         {
          "day": 25,
          "month": 11,
          "precipitation": 0,
          "temp_max": 12.2,
          "temp_min": 2.2,
          "weather": "sun",
          "wind": 0.5,
          "year": 2013
         },
         {
          "day": 26,
          "month": 11,
          "precipitation": 0,
          "temp_max": 12.2,
          "temp_min": 2.8,
          "weather": "sun",
          "wind": 1,
          "year": 2013
         },
         {
          "day": 27,
          "month": 11,
          "precipitation": 0,
          "temp_max": 14.4,
          "temp_min": 5.6,
          "weather": "sun",
          "wind": 1.3,
          "year": 2013
         },
         {
          "day": 28,
          "month": 11,
          "precipitation": 0,
          "temp_max": 11.7,
          "temp_min": 3.3,
          "weather": "sun",
          "wind": 0.7,
          "year": 2013
         },
         {
          "day": 29,
          "month": 11,
          "precipitation": 0.5,
          "temp_max": 9.4,
          "temp_min": 5,
          "weather": "fog",
          "wind": 2.1,
          "year": 2013
         },
         {
          "day": 30,
          "month": 11,
          "precipitation": 2.3,
          "temp_max": 11.1,
          "temp_min": 7.2,
          "weather": "fog",
          "wind": 3.9,
          "year": 2013
         },
         {
          "day": 1,
          "month": 12,
          "precipitation": 3,
          "temp_max": 13.3,
          "temp_min": 7.8,
          "weather": "fog",
          "wind": 8.8,
          "year": 2013
         },
         {
          "day": 2,
          "month": 12,
          "precipitation": 4.6,
          "temp_max": 7.8,
          "temp_min": 1.7,
          "weather": "sun",
          "wind": 3.5,
          "year": 2013
         },
         {
          "day": 3,
          "month": 12,
          "precipitation": 0,
          "temp_max": 5,
          "temp_min": -0.5,
          "weather": "sun",
          "wind": 5.6,
          "year": 2013
         },
         {
          "day": 4,
          "month": 12,
          "precipitation": 0,
          "temp_max": 4.4,
          "temp_min": -2.1,
          "weather": "sun",
          "wind": 1.6,
          "year": 2013
         },
         {
          "day": 5,
          "month": 12,
          "precipitation": 0,
          "temp_max": 1.1,
          "temp_min": -4.9,
          "weather": "sun",
          "wind": 2.6,
          "year": 2013
         },
         {
          "day": 6,
          "month": 12,
          "precipitation": 0,
          "temp_max": 1.1,
          "temp_min": -4.3,
          "weather": "sun",
          "wind": 4.7,
          "year": 2013
         },
         {
          "day": 7,
          "month": 12,
          "precipitation": 0,
          "temp_max": 0,
          "temp_min": -7.1,
          "weather": "sun",
          "wind": 3.1,
          "year": 2013
         },
         {
          "day": 8,
          "month": 12,
          "precipitation": 0,
          "temp_max": 2.2,
          "temp_min": -6.6,
          "weather": "sun",
          "wind": 2.2,
          "year": 2013
         },
         {
          "day": 9,
          "month": 12,
          "precipitation": 0,
          "temp_max": 1.1,
          "temp_min": -4.9,
          "weather": "sun",
          "wind": 1.3,
          "year": 2013
         },
         {
          "day": 10,
          "month": 12,
          "precipitation": 0,
          "temp_max": 5.6,
          "temp_min": 0.6,
          "weather": "sun",
          "wind": 1.5,
          "year": 2013
         },
         {
          "day": 11,
          "month": 12,
          "precipitation": 0,
          "temp_max": 5,
          "temp_min": -1.6,
          "weather": "sun",
          "wind": 0.8,
          "year": 2013
         },
         {
          "day": 12,
          "month": 12,
          "precipitation": 6.9,
          "temp_max": 5.6,
          "temp_min": -0.5,
          "weather": "sun",
          "wind": 2.3,
          "year": 2013
         },
         {
          "day": 13,
          "month": 12,
          "precipitation": 0.5,
          "temp_max": 9.4,
          "temp_min": 5.6,
          "weather": "fog",
          "wind": 2.9,
          "year": 2013
         },
         {
          "day": 14,
          "month": 12,
          "precipitation": 0,
          "temp_max": 9.4,
          "temp_min": 6.1,
          "weather": "sun",
          "wind": 3.7,
          "year": 2013
         },
         {
          "day": 15,
          "month": 12,
          "precipitation": 1.3,
          "temp_max": 11.7,
          "temp_min": 8.3,
          "weather": "fog",
          "wind": 3.9,
          "year": 2013
         },
         {
          "day": 16,
          "month": 12,
          "precipitation": 0.3,
          "temp_max": 10,
          "temp_min": 4.4,
          "weather": "sun",
          "wind": 1,
          "year": 2013
         },
         {
          "day": 17,
          "month": 12,
          "precipitation": 0,
          "temp_max": 8.3,
          "temp_min": 4.4,
          "weather": "sun",
          "wind": 2.7,
          "year": 2013
         },
         {
          "day": 18,
          "month": 12,
          "precipitation": 1.3,
          "temp_max": 7.8,
          "temp_min": 2.2,
          "weather": "fog",
          "wind": 2.8,
          "year": 2013
         },
         {
          "day": 19,
          "month": 12,
          "precipitation": 0,
          "temp_max": 5,
          "temp_min": 0,
          "weather": "sun",
          "wind": 2.1,
          "year": 2013
         },
         {
          "day": 20,
          "month": 12,
          "precipitation": 5.6,
          "temp_max": 8.3,
          "temp_min": 0.6,
          "weather": "fog",
          "wind": 3.7,
          "year": 2013
         },
         {
          "day": 21,
          "month": 12,
          "precipitation": 5.6,
          "temp_max": 8.9,
          "temp_min": 5.6,
          "weather": "fog",
          "wind": 2.3,
          "year": 2013
         },
         {
          "day": 22,
          "month": 12,
          "precipitation": 10.7,
          "temp_max": 10.6,
          "temp_min": 8.3,
          "weather": "fog",
          "wind": 4,
          "year": 2013
         },
         {
          "day": 23,
          "month": 12,
          "precipitation": 1.5,
          "temp_max": 11.7,
          "temp_min": 6.1,
          "weather": "fog",
          "wind": 5.9,
          "year": 2013
         },
         {
          "day": 24,
          "month": 12,
          "precipitation": 0,
          "temp_max": 8.3,
          "temp_min": 2.8,
          "weather": "sun",
          "wind": 1.7,
          "year": 2013
         },
         {
          "day": 25,
          "month": 12,
          "precipitation": 0,
          "temp_max": 6.7,
          "temp_min": 1.7,
          "weather": "sun",
          "wind": 0.8,
          "year": 2013
         },
         {
          "day": 26,
          "month": 12,
          "precipitation": 0,
          "temp_max": 6.7,
          "temp_min": 0.6,
          "weather": "sun",
          "wind": 0.5,
          "year": 2013
         },
         {
          "day": 27,
          "month": 12,
          "precipitation": 0.3,
          "temp_max": 8.9,
          "temp_min": 0,
          "weather": "fog",
          "wind": 2.1,
          "year": 2013
         },
         {
          "day": 28,
          "month": 12,
          "precipitation": 0,
          "temp_max": 9.4,
          "temp_min": 3.3,
          "weather": "sun",
          "wind": 1.3,
          "year": 2013
         },
         {
          "day": 29,
          "month": 12,
          "precipitation": 0,
          "temp_max": 7.2,
          "temp_min": 1.7,
          "weather": "sun",
          "wind": 1.1,
          "year": 2013
         },
         {
          "day": 30,
          "month": 12,
          "precipitation": 0.3,
          "temp_max": 8.9,
          "temp_min": 4.4,
          "weather": "sun",
          "wind": 2.6,
          "year": 2013
         },
         {
          "day": 31,
          "month": 12,
          "precipitation": 0.5,
          "temp_max": 8.3,
          "temp_min": 5,
          "weather": "sun",
          "wind": 1.7,
          "year": 2013
         },
         {
          "day": 1,
          "month": 1,
          "precipitation": 0,
          "temp_max": 7.2,
          "temp_min": 3.3,
          "weather": "sun",
          "wind": 1.2,
          "year": 2014
         },
         {
          "day": 2,
          "month": 1,
          "precipitation": 4.1,
          "temp_max": 10.6,
          "temp_min": 6.1,
          "weather": "sun",
          "wind": 3.2,
          "year": 2014
         },
         {
          "day": 3,
          "month": 1,
          "precipitation": 1.5,
          "temp_max": 8.9,
          "temp_min": 2.8,
          "weather": "fog",
          "wind": 2.6,
          "year": 2014
         },
         {
          "day": 4,
          "month": 1,
          "precipitation": 0,
          "temp_max": 7.8,
          "temp_min": 0.6,
          "weather": "fog",
          "wind": 2.7,
          "year": 2014
         },
         {
          "day": 5,
          "month": 1,
          "precipitation": 0,
          "temp_max": 8.3,
          "temp_min": -0.5,
          "weather": "sun",
          "wind": 3.7,
          "year": 2014
         },
         {
          "day": 6,
          "month": 1,
          "precipitation": 0.3,
          "temp_max": 7.8,
          "temp_min": -0.5,
          "weather": "fog",
          "wind": 2.6,
          "year": 2014
         },
         {
          "day": 7,
          "month": 1,
          "precipitation": 12.2,
          "temp_max": 8.3,
          "temp_min": 5,
          "weather": "sun",
          "wind": 1.6,
          "year": 2014
         },
         {
          "day": 8,
          "month": 1,
          "precipitation": 9.7,
          "temp_max": 10,
          "temp_min": 7.2,
          "weather": "fog",
          "wind": 4.6,
          "year": 2014
         },
         {
          "day": 9,
          "month": 1,
          "precipitation": 5.8,
          "temp_max": 9.4,
          "temp_min": 5.6,
          "weather": "fog",
          "wind": 6.3,
          "year": 2014
         },
         {
          "day": 10,
          "month": 1,
          "precipitation": 4.3,
          "temp_max": 12.8,
          "temp_min": 8.3,
          "weather": "sun",
          "wind": 7,
          "year": 2014
         },
         {
          "day": 11,
          "month": 1,
          "precipitation": 21.3,
          "temp_max": 14.4,
          "temp_min": 7.2,
          "weather": "fog",
          "wind": 8.8,
          "year": 2014
         },
         {
          "day": 12,
          "month": 1,
          "precipitation": 1.5,
          "temp_max": 11.1,
          "temp_min": 5.6,
          "weather": "fog",
          "wind": 8.1,
          "year": 2014
         },
         {
          "day": 13,
          "month": 1,
          "precipitation": 0,
          "temp_max": 10.6,
          "temp_min": 10,
          "weather": "sun",
          "wind": 7.1,
          "year": 2014
         },
         {
          "day": 14,
          "month": 1,
          "precipitation": 0,
          "temp_max": 11.1,
          "temp_min": 7.2,
          "weather": "sun",
          "wind": 1.3,
          "year": 2014
         },
         {
          "day": 15,
          "month": 1,
          "precipitation": 0,
          "temp_max": 11.1,
          "temp_min": 5.6,
          "weather": "sun",
          "wind": 2.5,
          "year": 2014
         },
         {
          "day": 16,
          "month": 1,
          "precipitation": 0,
          "temp_max": 6.7,
          "temp_min": 4.4,
          "weather": "sun",
          "wind": 2.7,
          "year": 2014
         },
         {
          "day": 17,
          "month": 1,
          "precipitation": 0,
          "temp_max": 5.6,
          "temp_min": 2.8,
          "weather": "sun",
          "wind": 2.3,
          "year": 2014
         },
         {
          "day": 18,
          "month": 1,
          "precipitation": 0,
          "temp_max": 9.4,
          "temp_min": 0.6,
          "weather": "sun",
          "wind": 2.2,
          "year": 2014
         },
         {
          "day": 19,
          "month": 1,
          "precipitation": 0,
          "temp_max": 6.1,
          "temp_min": 3.3,
          "weather": "sun",
          "wind": 2.5,
          "year": 2014
         },
         {
          "day": 20,
          "month": 1,
          "precipitation": 0,
          "temp_max": 10,
          "temp_min": 2.8,
          "weather": "sun",
          "wind": 2.2,
          "year": 2014
         },
         {
          "day": 21,
          "month": 1,
          "precipitation": 0,
          "temp_max": 10,
          "temp_min": 1.7,
          "weather": "sun",
          "wind": 1.5,
          "year": 2014
         },
         {
          "day": 22,
          "month": 1,
          "precipitation": 0.5,
          "temp_max": 9.4,
          "temp_min": 5.6,
          "weather": "sun",
          "wind": 2.6,
          "year": 2014
         },
         {
          "day": 23,
          "month": 1,
          "precipitation": 0,
          "temp_max": 10,
          "temp_min": 2.8,
          "weather": "fog",
          "wind": 5.2,
          "year": 2014
         },
         {
          "day": 24,
          "month": 1,
          "precipitation": 0,
          "temp_max": 12.8,
          "temp_min": 1.1,
          "weather": "sun",
          "wind": 1.9,
          "year": 2014
         },
         {
          "day": 25,
          "month": 1,
          "precipitation": 0,
          "temp_max": 12.2,
          "temp_min": 1.1,
          "weather": "sun",
          "wind": 0.8,
          "year": 2014
         },
         {
          "day": 26,
          "month": 1,
          "precipitation": 0,
          "temp_max": 8.3,
          "temp_min": 0.6,
          "weather": "sun",
          "wind": 1.3,
          "year": 2014
         },
         {
          "day": 27,
          "month": 1,
          "precipitation": 0,
          "temp_max": 9.4,
          "temp_min": 1.7,
          "weather": "sun",
          "wind": 1.3,
          "year": 2014
         },
         {
          "day": 28,
          "month": 1,
          "precipitation": 8.9,
          "temp_max": 11.1,
          "temp_min": 6.1,
          "weather": "fog",
          "wind": 1.6,
          "year": 2014
         },
         {
          "day": 29,
          "month": 1,
          "precipitation": 21.6,
          "temp_max": 11.1,
          "temp_min": 7.2,
          "weather": "fog",
          "wind": 3.4,
          "year": 2014
         },
         {
          "day": 30,
          "month": 1,
          "precipitation": 0,
          "temp_max": 8.3,
          "temp_min": 6.1,
          "weather": "sun",
          "wind": 6.4,
          "year": 2014
         },
         {
          "day": 31,
          "month": 1,
          "precipitation": 2.3,
          "temp_max": 7.8,
          "temp_min": 5.6,
          "weather": "fog",
          "wind": 2.6,
          "year": 2014
         },
         {
          "day": 1,
          "month": 2,
          "precipitation": 2,
          "temp_max": 7.8,
          "temp_min": 2.8,
          "weather": "sun",
          "wind": 0.8,
          "year": 2014
         },
         {
          "day": 2,
          "month": 2,
          "precipitation": 0,
          "temp_max": 8.9,
          "temp_min": 1.1,
          "weather": "sun",
          "wind": 2.5,
          "year": 2014
         },
         {
          "day": 3,
          "month": 2,
          "precipitation": 0,
          "temp_max": 5,
          "temp_min": 0,
          "weather": "sun",
          "wind": 4.3,
          "year": 2014
         },
         {
          "day": 4,
          "month": 2,
          "precipitation": 0,
          "temp_max": 2.8,
          "temp_min": -2.1,
          "weather": "sun",
          "wind": 4.7,
          "year": 2014
         },
         {
          "day": 5,
          "month": 2,
          "precipitation": 0,
          "temp_max": -0.5,
          "temp_min": -5.5,
          "weather": "sun",
          "wind": 6.6,
          "year": 2014
         },
         {
          "day": 6,
          "month": 2,
          "precipitation": 0,
          "temp_max": -1.6,
          "temp_min": -6,
          "weather": "sun",
          "wind": 4.5,
          "year": 2014
         },
         {
          "day": 7,
          "month": 2,
          "precipitation": 0,
          "temp_max": 3.3,
          "temp_min": -4.9,
          "weather": "sun",
          "wind": 4.2,
          "year": 2014
         },
         {
          "day": 8,
          "month": 2,
          "precipitation": 5.1,
          "temp_max": 5.6,
          "temp_min": -0.5,
          "weather": "fog",
          "wind": 4.6,
          "year": 2014
         },
         {
          "day": 9,
          "month": 2,
          "precipitation": 0.5,
          "temp_max": 3.9,
          "temp_min": 0,
          "weather": "fog",
          "wind": 2.4,
          "year": 2014
         },
         {
          "day": 10,
          "month": 2,
          "precipitation": 18.3,
          "temp_max": 10,
          "temp_min": 2.2,
          "weather": "fog",
          "wind": 4.7,
          "year": 2014
         },
         {
          "day": 11,
          "month": 2,
          "precipitation": 17,
          "temp_max": 12.2,
          "temp_min": 5.6,
          "weather": "fog",
          "wind": 3.8,
          "year": 2014
         },
         {
          "day": 12,
          "month": 2,
          "precipitation": 4.6,
          "temp_max": 12.2,
          "temp_min": 7.2,
          "weather": "fog",
          "wind": 6.4,
          "year": 2014
         },
         {
          "day": 13,
          "month": 2,
          "precipitation": 1.8,
          "temp_max": 12.8,
          "temp_min": 7.8,
          "weather": "fog",
          "wind": 6.3,
          "year": 2014
         },
         {
          "day": 14,
          "month": 2,
          "precipitation": 9.4,
          "temp_max": 11.7,
          "temp_min": 6.1,
          "weather": "fog",
          "wind": 6.4,
          "year": 2014
         },
         {
          "day": 15,
          "month": 2,
          "precipitation": 11.7,
          "temp_max": 11.1,
          "temp_min": 5,
          "weather": "fog",
          "wind": 5.1,
          "year": 2014
         },
         {
          "day": 16,
          "month": 2,
          "precipitation": 26.4,
          "temp_max": 9.4,
          "temp_min": 3.9,
          "weather": "fog",
          "wind": 7.9,
          "year": 2014
         },
         {
          "day": 17,
          "month": 2,
          "precipitation": 14.5,
          "temp_max": 8.3,
          "temp_min": 4.4,
          "weather": "fog",
          "wind": 5.5,
          "year": 2014
         },
         {
          "day": 18,
          "month": 2,
          "precipitation": 15.2,
          "temp_max": 8.9,
          "temp_min": 5,
          "weather": "fog",
          "wind": 6.2,
          "year": 2014
         },
         {
          "day": 19,
          "month": 2,
          "precipitation": 1,
          "temp_max": 8.3,
          "temp_min": 3.9,
          "weather": "sun",
          "wind": 6,
          "year": 2014
         },
         {
          "day": 20,
          "month": 2,
          "precipitation": 3,
          "temp_max": 10,
          "temp_min": 5.6,
          "weather": "fog",
          "wind": 6.9,
          "year": 2014
         },
         {
          "day": 21,
          "month": 2,
          "precipitation": 2.8,
          "temp_max": 6.7,
          "temp_min": 3.9,
          "weather": "fog",
          "wind": 2.9,
          "year": 2014
         },
         {
          "day": 22,
          "month": 2,
          "precipitation": 2.5,
          "temp_max": 5.6,
          "temp_min": 2.8,
          "weather": "fog",
          "wind": 3.1,
          "year": 2014
         },
         {
          "day": 23,
          "month": 2,
          "precipitation": 6.1,
          "temp_max": 7.2,
          "temp_min": 3.9,
          "weather": "fog",
          "wind": 2.6,
          "year": 2014
         },
         {
          "day": 24,
          "month": 2,
          "precipitation": 13,
          "temp_max": 6.7,
          "temp_min": 3.3,
          "weather": "fog",
          "wind": 3.2,
          "year": 2014
         },
         {
          "day": 25,
          "month": 2,
          "precipitation": 0.3,
          "temp_max": 12.2,
          "temp_min": 3.9,
          "weather": "fog",
          "wind": 4.5,
          "year": 2014
         },
         {
          "day": 26,
          "month": 2,
          "precipitation": 0,
          "temp_max": 13.9,
          "temp_min": 5.6,
          "weather": "sun",
          "wind": 2.5,
          "year": 2014
         },
         {
          "day": 27,
          "month": 2,
          "precipitation": 0,
          "temp_max": 12.8,
          "temp_min": 4.4,
          "weather": "sun",
          "wind": 2.3,
          "year": 2014
         },
         {
          "day": 28,
          "month": 2,
          "precipitation": 0,
          "temp_max": 14.4,
          "temp_min": 4.4,
          "weather": "sun",
          "wind": 5.9,
          "year": 2014
         },
         {
          "day": 1,
          "month": 3,
          "precipitation": 0.5,
          "temp_max": 7.2,
          "temp_min": 4.4,
          "weather": "sun",
          "wind": 4.7,
          "year": 2014
         },
         {
          "day": 2,
          "month": 3,
          "precipitation": 19.1,
          "temp_max": 11.1,
          "temp_min": 2.8,
          "weather": "fog",
          "wind": 5.7,
          "year": 2014
         },
         {
          "day": 3,
          "month": 3,
          "precipitation": 10.7,
          "temp_max": 14.4,
          "temp_min": 8.9,
          "weather": "fog",
          "wind": 5.1,
          "year": 2014
         },
         {
          "day": 4,
          "month": 3,
          "precipitation": 16.5,
          "temp_max": 13.9,
          "temp_min": 7.8,
          "weather": "fog",
          "wind": 3.9,
          "year": 2014
         },
         {
          "day": 5,
          "month": 3,
          "precipitation": 46.7,
          "temp_max": 15.6,
          "temp_min": 10.6,
          "weather": "fog",
          "wind": 3.9,
          "year": 2014
         },
         {
          "day": 6,
          "month": 3,
          "precipitation": 3,
          "temp_max": 13.3,
          "temp_min": 10,
          "weather": "fog",
          "wind": 6.2,
          "year": 2014
         },
         {
          "day": 7,
          "month": 3,
          "precipitation": 0,
          "temp_max": 15.6,
          "temp_min": 8.9,
          "weather": "sun",
          "wind": 4.2,
          "year": 2014
         },
         {
          "day": 8,
          "month": 3,
          "precipitation": 32.3,
          "temp_max": 12.8,
          "temp_min": 6.7,
          "weather": "fog",
          "wind": 2.7,
          "year": 2014
         },
         {
          "day": 9,
          "month": 3,
          "precipitation": 4.3,
          "temp_max": 15,
          "temp_min": 9.4,
          "weather": "fog",
          "wind": 4.3,
          "year": 2014
         },
         {
          "day": 10,
          "month": 3,
          "precipitation": 18.8,
          "temp_max": 12.2,
          "temp_min": 6.1,
          "weather": "fog",
          "wind": 2.2,
          "year": 2014
         },
         {
          "day": 11,
          "month": 3,
          "precipitation": 0,
          "temp_max": 14.4,
          "temp_min": 4.4,
          "weather": "fog",
          "wind": 2.3,
          "year": 2014
         },
         {
          "day": 12,
          "month": 3,
          "precipitation": 0,
          "temp_max": 16.1,
          "temp_min": 3.3,
          "weather": "fog",
          "wind": 1.9,
          "year": 2014
         },
         {
          "day": 13,
          "month": 3,
          "precipitation": 0.5,
          "temp_max": 13.9,
          "temp_min": 5,
          "weather": "fog",
          "wind": 2.5,
          "year": 2014
         },
         {
          "day": 14,
          "month": 3,
          "precipitation": 6.9,
          "temp_max": 14.4,
          "temp_min": 8.3,
          "weather": "fog",
          "wind": 6.1,
          "year": 2014
         },
         {
          "day": 15,
          "month": 3,
          "precipitation": 8.1,
          "temp_max": 16.7,
          "temp_min": 4.4,
          "weather": "fog",
          "wind": 3,
          "year": 2014
         },
         {
          "day": 16,
          "month": 3,
          "precipitation": 27.7,
          "temp_max": 10.6,
          "temp_min": 4.4,
          "weather": "fog",
          "wind": 3.8,
          "year": 2014
         },
         {
          "day": 17,
          "month": 3,
          "precipitation": 0.3,
          "temp_max": 10,
          "temp_min": 2.8,
          "weather": "fog",
          "wind": 3.2,
          "year": 2014
         },
         {
          "day": 18,
          "month": 3,
          "precipitation": 0,
          "temp_max": 10,
          "temp_min": 3.3,
          "weather": "sun",
          "wind": 1.6,
          "year": 2014
         },
         {
          "day": 19,
          "month": 3,
          "precipitation": 0.5,
          "temp_max": 11.1,
          "temp_min": 3.3,
          "weather": "sun",
          "wind": 5.1,
          "year": 2014
         },
         {
          "day": 20,
          "month": 3,
          "precipitation": 0,
          "temp_max": 11.1,
          "temp_min": 1.7,
          "weather": "sun",
          "wind": 3,
          "year": 2014
         },
         {
          "day": 21,
          "month": 3,
          "precipitation": 0,
          "temp_max": 10.6,
          "temp_min": 2.8,
          "weather": "sun",
          "wind": 3.8,
          "year": 2014
         },
         {
          "day": 22,
          "month": 3,
          "precipitation": 0,
          "temp_max": 11.1,
          "temp_min": 1.1,
          "weather": "sun",
          "wind": 1.8,
          "year": 2014
         },
         {
          "day": 23,
          "month": 3,
          "precipitation": 0,
          "temp_max": 12.8,
          "temp_min": 4.4,
          "weather": "sun",
          "wind": 3.3,
          "year": 2014
         },
         {
          "day": 24,
          "month": 3,
          "precipitation": 0,
          "temp_max": 18.9,
          "temp_min": 2.8,
          "weather": "sun",
          "wind": 2.2,
          "year": 2014
         },
         {
          "day": 25,
          "month": 3,
          "precipitation": 4.1,
          "temp_max": 13.9,
          "temp_min": 6.7,
          "weather": "fog",
          "wind": 4.4,
          "year": 2014
         },
         {
          "day": 26,
          "month": 3,
          "precipitation": 3.6,
          "temp_max": 11.1,
          "temp_min": 5.6,
          "weather": "fog",
          "wind": 2.4,
          "year": 2014
         },
         {
          "day": 27,
          "month": 3,
          "precipitation": 0.3,
          "temp_max": 12.2,
          "temp_min": 6.7,
          "weather": "fog",
          "wind": 2.8,
          "year": 2014
         },
         {
          "day": 28,
          "month": 3,
          "precipitation": 22.1,
          "temp_max": 11.7,
          "temp_min": 7.2,
          "weather": "fog",
          "wind": 3.9,
          "year": 2014
         },
         {
          "day": 29,
          "month": 3,
          "precipitation": 14,
          "temp_max": 11.7,
          "temp_min": 7.2,
          "weather": "fog",
          "wind": 5.1,
          "year": 2014
         },
         {
          "day": 30,
          "month": 3,
          "precipitation": 0,
          "temp_max": 11.1,
          "temp_min": 5,
          "weather": "sun",
          "wind": 5.1,
          "year": 2014
         },
         {
          "day": 31,
          "month": 3,
          "precipitation": 0,
          "temp_max": 15.6,
          "temp_min": 2.2,
          "weather": "sun",
          "wind": 3.8,
          "year": 2014
         },
         {
          "day": 1,
          "month": 4,
          "precipitation": 0,
          "temp_max": 14.4,
          "temp_min": 6.7,
          "weather": "sun",
          "wind": 2.8,
          "year": 2014
         },
         {
          "day": 2,
          "month": 4,
          "precipitation": 0,
          "temp_max": 14.4,
          "temp_min": 5.6,
          "weather": "sun",
          "wind": 4.2,
          "year": 2014
         },
         {
          "day": 3,
          "month": 4,
          "precipitation": 2.5,
          "temp_max": 13.3,
          "temp_min": 6.1,
          "weather": "sun",
          "wind": 3.9,
          "year": 2014
         },
         {
          "day": 4,
          "month": 4,
          "precipitation": 0,
          "temp_max": 12.8,
          "temp_min": 6.1,
          "weather": "sun",
          "wind": 4.7,
          "year": 2014
         },
         {
          "day": 5,
          "month": 4,
          "precipitation": 4.6,
          "temp_max": 11.7,
          "temp_min": 7.8,
          "weather": "fog",
          "wind": 4.3,
          "year": 2014
         },
         {
          "day": 6,
          "month": 4,
          "precipitation": 0,
          "temp_max": 13.9,
          "temp_min": 8.3,
          "weather": "sun",
          "wind": 2.6,
          "year": 2014
         },
         {
          "day": 7,
          "month": 4,
          "precipitation": 0,
          "temp_max": 21.1,
          "temp_min": 9.4,
          "weather": "sun",
          "wind": 2.5,
          "year": 2014
         },
         {
          "day": 8,
          "month": 4,
          "precipitation": 4.6,
          "temp_max": 15.6,
          "temp_min": 8.3,
          "weather": "fog",
          "wind": 4.2,
          "year": 2014
         },
         {
          "day": 9,
          "month": 4,
          "precipitation": 0,
          "temp_max": 14.4,
          "temp_min": 6.7,
          "weather": "sun",
          "wind": 2.9,
          "year": 2014
         },
         {
          "day": 10,
          "month": 4,
          "precipitation": 0,
          "temp_max": 15,
          "temp_min": 6.7,
          "weather": "sun",
          "wind": 3.6,
          "year": 2014
         },
         {
          "day": 11,
          "month": 4,
          "precipitation": 0,
          "temp_max": 17.2,
          "temp_min": 5,
          "weather": "sun",
          "wind": 2.8,
          "year": 2014
         },
         {
          "day": 12,
          "month": 4,
          "precipitation": 0,
          "temp_max": 16.1,
          "temp_min": 7.8,
          "weather": "sun",
          "wind": 4.4,
          "year": 2014
         },
         {
          "day": 13,
          "month": 4,
          "precipitation": 0,
          "temp_max": 20.6,
          "temp_min": 5.6,
          "weather": "sun",
          "wind": 3.1,
          "year": 2014
         },
         {
          "day": 14,
          "month": 4,
          "precipitation": 0,
          "temp_max": 20,
          "temp_min": 5.6,
          "weather": "sun",
          "wind": 2.6,
          "year": 2014
         },
         {
          "day": 15,
          "month": 4,
          "precipitation": 0.5,
          "temp_max": 14.4,
          "temp_min": 7.8,
          "weather": "sun",
          "wind": 4,
          "year": 2014
         },
         {
          "day": 16,
          "month": 4,
          "precipitation": 10.9,
          "temp_max": 11.1,
          "temp_min": 8.9,
          "weather": "fog",
          "wind": 4.6,
          "year": 2014
         },
         {
          "day": 17,
          "month": 4,
          "precipitation": 18.5,
          "temp_max": 11.7,
          "temp_min": 7.2,
          "weather": "fog",
          "wind": 4.7,
          "year": 2014
         },
         {
          "day": 18,
          "month": 4,
          "precipitation": 0,
          "temp_max": 14.4,
          "temp_min": 5.6,
          "weather": "sun",
          "wind": 3.8,
          "year": 2014
         },
         {
          "day": 19,
          "month": 4,
          "precipitation": 13.7,
          "temp_max": 11.7,
          "temp_min": 5.6,
          "weather": "fog",
          "wind": 4.7,
          "year": 2014
         },
         {
          "day": 20,
          "month": 4,
          "precipitation": 0,
          "temp_max": 15.6,
          "temp_min": 5.6,
          "weather": "sun",
          "wind": 2.7,
          "year": 2014
         },
         {
          "day": 21,
          "month": 4,
          "precipitation": 5.1,
          "temp_max": 17.2,
          "temp_min": 7.8,
          "weather": "fog",
          "wind": 2.5,
          "year": 2014
         },
         {
          "day": 22,
          "month": 4,
          "precipitation": 14.2,
          "temp_max": 12.2,
          "temp_min": 5,
          "weather": "fog",
          "wind": 4.2,
          "year": 2014
         },
         {
          "day": 23,
          "month": 4,
          "precipitation": 8.9,
          "temp_max": 11.7,
          "temp_min": 6.1,
          "weather": "fog",
          "wind": 5,
          "year": 2014
         },
         {
          "day": 24,
          "month": 4,
          "precipitation": 12.4,
          "temp_max": 13.9,
          "temp_min": 6.1,
          "weather": "fog",
          "wind": 5.3,
          "year": 2014
         },
         {
          "day": 25,
          "month": 4,
          "precipitation": 0,
          "temp_max": 14.4,
          "temp_min": 5.6,
          "weather": "sun",
          "wind": 2.3,
          "year": 2014
         },
         {
          "day": 26,
          "month": 4,
          "precipitation": 3.3,
          "temp_max": 15,
          "temp_min": 5.6,
          "weather": "sun",
          "wind": 3.9,
          "year": 2014
         },
         {
          "day": 27,
          "month": 4,
          "precipitation": 6.9,
          "temp_max": 11.1,
          "temp_min": 6.1,
          "weather": "fog",
          "wind": 5.8,
          "year": 2014
         },
         {
          "day": 28,
          "month": 4,
          "precipitation": 0,
          "temp_max": 16.1,
          "temp_min": 4.4,
          "weather": "sun",
          "wind": 2.6,
          "year": 2014
         },
         {
          "day": 29,
          "month": 4,
          "precipitation": 0,
          "temp_max": 25,
          "temp_min": 9.4,
          "weather": "sun",
          "wind": 2.3,
          "year": 2014
         },
         {
          "day": 30,
          "month": 4,
          "precipitation": 0,
          "temp_max": 27.8,
          "temp_min": 9.4,
          "weather": "sun",
          "wind": 3.9,
          "year": 2014
         },
         {
          "day": 1,
          "month": 5,
          "precipitation": 0,
          "temp_max": 29.4,
          "temp_min": 11.1,
          "weather": "sun",
          "wind": 3,
          "year": 2014
         },
         {
          "day": 2,
          "month": 5,
          "precipitation": 0,
          "temp_max": 18.3,
          "temp_min": 10.6,
          "weather": "sun",
          "wind": 4.7,
          "year": 2014
         },
         {
          "day": 3,
          "month": 5,
          "precipitation": 33.3,
          "temp_max": 15,
          "temp_min": 8.9,
          "weather": "fog",
          "wind": 3.4,
          "year": 2014
         },
         {
          "day": 4,
          "month": 5,
          "precipitation": 16,
          "temp_max": 14.4,
          "temp_min": 8.9,
          "weather": "fog",
          "wind": 4.2,
          "year": 2014
         },
         {
          "day": 5,
          "month": 5,
          "precipitation": 5.1,
          "temp_max": 15.6,
          "temp_min": 9.4,
          "weather": "fog",
          "wind": 3.8,
          "year": 2014
         },
         {
          "day": 6,
          "month": 5,
          "precipitation": 0,
          "temp_max": 16.7,
          "temp_min": 8.3,
          "weather": "sun",
          "wind": 2.6,
          "year": 2014
         },
         {
          "day": 7,
          "month": 5,
          "precipitation": 0,
          "temp_max": 18.3,
          "temp_min": 7.2,
          "weather": "sun",
          "wind": 1.7,
          "year": 2014
         },
         {
          "day": 8,
          "month": 5,
          "precipitation": 13.7,
          "temp_max": 13.9,
          "temp_min": 9.4,
          "weather": "fog",
          "wind": 3.4,
          "year": 2014
         },
         {
          "day": 9,
          "month": 5,
          "precipitation": 2,
          "temp_max": 13.3,
          "temp_min": 7.2,
          "weather": "sun",
          "wind": 5.6,
          "year": 2014
         },
         {
          "day": 10,
          "month": 5,
          "precipitation": 0.5,
          "temp_max": 15.6,
          "temp_min": 7.2,
          "weather": "fog",
          "wind": 2.1,
          "year": 2014
         },
         {
          "day": 11,
          "month": 5,
          "precipitation": 0,
          "temp_max": 18.9,
          "temp_min": 8.3,
          "weather": "sun",
          "wind": 1.7,
          "year": 2014
         },
         {
          "day": 12,
          "month": 5,
          "precipitation": 0,
          "temp_max": 24.4,
          "temp_min": 9.4,
          "weather": "sun",
          "wind": 2.7,
          "year": 2014
         },
         {
          "day": 13,
          "month": 5,
          "precipitation": 0,
          "temp_max": 26.7,
          "temp_min": 12.8,
          "weather": "sun",
          "wind": 3.8,
          "year": 2014
         },
         {
          "day": 14,
          "month": 5,
          "precipitation": 0,
          "temp_max": 27.8,
          "temp_min": 13.3,
          "weather": "sun",
          "wind": 3.3,
          "year": 2014
         },
         {
          "day": 15,
          "month": 5,
          "precipitation": 0,
          "temp_max": 26.7,
          "temp_min": 12.8,
          "weather": "sun",
          "wind": 3,
          "year": 2014
         },
         {
          "day": 16,
          "month": 5,
          "precipitation": 0,
          "temp_max": 20,
          "temp_min": 11.7,
          "weather": "sun",
          "wind": 4.1,
          "year": 2014
         },
         {
          "day": 17,
          "month": 5,
          "precipitation": 0,
          "temp_max": 20,
          "temp_min": 11.7,
          "weather": "sun",
          "wind": 3.2,
          "year": 2014
         },
         {
          "day": 18,
          "month": 5,
          "precipitation": 0,
          "temp_max": 20,
          "temp_min": 10.6,
          "weather": "sun",
          "wind": 3.2,
          "year": 2014
         },
         {
          "day": 19,
          "month": 5,
          "precipitation": 0,
          "temp_max": 21.1,
          "temp_min": 10,
          "weather": "sun",
          "wind": 2.2,
          "year": 2014
         },
         {
          "day": 20,
          "month": 5,
          "precipitation": 0,
          "temp_max": 22.2,
          "temp_min": 10,
          "weather": "sun",
          "wind": 2.7,
          "year": 2014
         },
         {
          "day": 21,
          "month": 5,
          "precipitation": 0,
          "temp_max": 20,
          "temp_min": 10.6,
          "weather": "sun",
          "wind": 1.7,
          "year": 2014
         },
         {
          "day": 22,
          "month": 5,
          "precipitation": 0,
          "temp_max": 24.4,
          "temp_min": 11.7,
          "weather": "sun",
          "wind": 2.5,
          "year": 2014
         },
         {
          "day": 23,
          "month": 5,
          "precipitation": 3.8,
          "temp_max": 20,
          "temp_min": 12.8,
          "weather": "fog",
          "wind": 4,
          "year": 2014
         },
         {
          "day": 24,
          "month": 5,
          "precipitation": 0,
          "temp_max": 18.3,
          "temp_min": 11.1,
          "weather": "sun",
          "wind": 2.4,
          "year": 2014
         },
         {
          "day": 25,
          "month": 5,
          "precipitation": 5.6,
          "temp_max": 15,
          "temp_min": 10.6,
          "weather": "fog",
          "wind": 1.4,
          "year": 2014
         },
         {
          "day": 26,
          "month": 5,
          "precipitation": 0,
          "temp_max": 18.3,
          "temp_min": 11.1,
          "weather": "sun",
          "wind": 4.5,
          "year": 2014
         },
         {
          "day": 27,
          "month": 5,
          "precipitation": 0,
          "temp_max": 20,
          "temp_min": 10,
          "weather": "sun",
          "wind": 2.5,
          "year": 2014
         },
         {
          "day": 28,
          "month": 5,
          "precipitation": 0,
          "temp_max": 18.9,
          "temp_min": 10,
          "weather": "sun",
          "wind": 3.4,
          "year": 2014
         },
         {
          "day": 29,
          "month": 5,
          "precipitation": 0,
          "temp_max": 18.9,
          "temp_min": 11.1,
          "weather": "sun",
          "wind": 4.3,
          "year": 2014
         },
         {
          "day": 30,
          "month": 5,
          "precipitation": 0,
          "temp_max": 20.6,
          "temp_min": 8.9,
          "weather": "sun",
          "wind": 4.5,
          "year": 2014
         },
         {
          "day": 31,
          "month": 5,
          "precipitation": 0,
          "temp_max": 23.3,
          "temp_min": 10,
          "weather": "sun",
          "wind": 2.2,
          "year": 2014
         },
         {
          "day": 1,
          "month": 6,
          "precipitation": 0,
          "temp_max": 22.2,
          "temp_min": 10.6,
          "weather": "sun",
          "wind": 2.3,
          "year": 2014
         },
         {
          "day": 2,
          "month": 6,
          "precipitation": 0,
          "temp_max": 23.3,
          "temp_min": 11.1,
          "weather": "sun",
          "wind": 2.4,
          "year": 2014
         },
         {
          "day": 3,
          "month": 6,
          "precipitation": 0,
          "temp_max": 18.3,
          "temp_min": 11.1,
          "weather": "sun",
          "wind": 3.2,
          "year": 2014
         },
         {
          "day": 4,
          "month": 6,
          "precipitation": 0,
          "temp_max": 19.4,
          "temp_min": 10,
          "weather": "sun",
          "wind": 2.6,
          "year": 2014
         },
         {
          "day": 5,
          "month": 6,
          "precipitation": 0,
          "temp_max": 22.2,
          "temp_min": 10,
          "weather": "sun",
          "wind": 2.4,
          "year": 2014
         },
         {
          "day": 6,
          "month": 6,
          "precipitation": 0,
          "temp_max": 25,
          "temp_min": 10.6,
          "weather": "sun",
          "wind": 3.2,
          "year": 2014
         },
         {
          "day": 7,
          "month": 6,
          "precipitation": 0,
          "temp_max": 24.4,
          "temp_min": 13.3,
          "weather": "sun",
          "wind": 3.1,
          "year": 2014
         },
         {
          "day": 8,
          "month": 6,
          "precipitation": 0,
          "temp_max": 23.3,
          "temp_min": 12.2,
          "weather": "sun",
          "wind": 2.1,
          "year": 2014
         },
         {
          "day": 9,
          "month": 6,
          "precipitation": 0,
          "temp_max": 21.1,
          "temp_min": 13.3,
          "weather": "sun",
          "wind": 3.6,
          "year": 2014
         },
         {
          "day": 10,
          "month": 6,
          "precipitation": 0,
          "temp_max": 20,
          "temp_min": 12.2,
          "weather": "sun",
          "wind": 2.9,
          "year": 2014
         },
         {
          "day": 11,
          "month": 6,
          "precipitation": 0,
          "temp_max": 23.9,
          "temp_min": 11.1,
          "weather": "sun",
          "wind": 2.7,
          "year": 2014
         },
         {
          "day": 12,
          "month": 6,
          "precipitation": 1.8,
          "temp_max": 21.7,
          "temp_min": 12.2,
          "weather": "sun",
          "wind": 4,
          "year": 2014
         },
         {
          "day": 13,
          "month": 6,
          "precipitation": 6.4,
          "temp_max": 15.6,
          "temp_min": 11.1,
          "weather": "fog",
          "wind": 5,
          "year": 2014
         },
         {
          "day": 14,
          "month": 6,
          "precipitation": 0,
          "temp_max": 17.8,
          "temp_min": 11.7,
          "weather": "sun",
          "wind": 3.2,
          "year": 2014
         },
         {
          "day": 15,
          "month": 6,
          "precipitation": 0.5,
          "temp_max": 18.3,
          "temp_min": 10,
          "weather": "fog",
          "wind": 3.6,
          "year": 2014
         },
         {
          "day": 16,
          "month": 6,
          "precipitation": 3.6,
          "temp_max": 17.8,
          "temp_min": 8.9,
          "weather": "fog",
          "wind": 2.4,
          "year": 2014
         },
         {
          "day": 17,
          "month": 6,
          "precipitation": 1.3,
          "temp_max": 17.8,
          "temp_min": 10,
          "weather": "fog",
          "wind": 3,
          "year": 2014
         },
         {
          "day": 18,
          "month": 6,
          "precipitation": 0,
          "temp_max": 18.9,
          "temp_min": 11.1,
          "weather": "sun",
          "wind": 2.7,
          "year": 2014
         },
         {
          "day": 19,
          "month": 6,
          "precipitation": 0.8,
          "temp_max": 25.6,
          "temp_min": 11.7,
          "weather": "sun",
          "wind": 3.7,
          "year": 2014
         },
         {
          "day": 20,
          "month": 6,
          "precipitation": 0.3,
          "temp_max": 20,
          "temp_min": 10,
          "weather": "sun",
          "wind": 3.4,
          "year": 2014
         },
         {
          "day": 21,
          "month": 6,
          "precipitation": 0,
          "temp_max": 22.2,
          "temp_min": 10.6,
          "weather": "sun",
          "wind": 3.6,
          "year": 2014
         },
         {
          "day": 22,
          "month": 6,
          "precipitation": 0,
          "temp_max": 25,
          "temp_min": 11.1,
          "weather": "sun",
          "wind": 2.7,
          "year": 2014
         },
         {
          "day": 23,
          "month": 6,
          "precipitation": 0,
          "temp_max": 25,
          "temp_min": 13.3,
          "weather": "sun",
          "wind": 2.5,
          "year": 2014
         },
         {
          "day": 24,
          "month": 6,
          "precipitation": 0,
          "temp_max": 24.4,
          "temp_min": 14.4,
          "weather": "sun",
          "wind": 2.5,
          "year": 2014
         },
         {
          "day": 25,
          "month": 6,
          "precipitation": 0,
          "temp_max": 26.1,
          "temp_min": 13.9,
          "weather": "sun",
          "wind": 2.4,
          "year": 2014
         },
         {
          "day": 26,
          "month": 6,
          "precipitation": 0,
          "temp_max": 21.1,
          "temp_min": 14.4,
          "weather": "sun",
          "wind": 4.1,
          "year": 2014
         },
         {
          "day": 27,
          "month": 6,
          "precipitation": 1.8,
          "temp_max": 21.1,
          "temp_min": 13.9,
          "weather": "fog",
          "wind": 4.5,
          "year": 2014
         },
         {
          "day": 28,
          "month": 6,
          "precipitation": 2.3,
          "temp_max": 20,
          "temp_min": 13.3,
          "weather": "fog",
          "wind": 4.3,
          "year": 2014
         },
         {
          "day": 29,
          "month": 6,
          "precipitation": 0,
          "temp_max": 20.6,
          "temp_min": 12.8,
          "weather": "sun",
          "wind": 3.2,
          "year": 2014
         },
         {
          "day": 30,
          "month": 6,
          "precipitation": 0,
          "temp_max": 25.6,
          "temp_min": 12.8,
          "weather": "sun",
          "wind": 4.4,
          "year": 2014
         },
         {
          "day": 1,
          "month": 7,
          "precipitation": 0,
          "temp_max": 34.4,
          "temp_min": 15.6,
          "weather": "sun",
          "wind": 3.5,
          "year": 2014
         },
         {
          "day": 2,
          "month": 7,
          "precipitation": 0,
          "temp_max": 27.2,
          "temp_min": 14.4,
          "weather": "sun",
          "wind": 3.6,
          "year": 2014
         },
         {
          "day": 3,
          "month": 7,
          "precipitation": 0,
          "temp_max": 21.7,
          "temp_min": 13.9,
          "weather": "sun",
          "wind": 3.1,
          "year": 2014
         },
         {
          "day": 4,
          "month": 7,
          "precipitation": 0,
          "temp_max": 23.9,
          "temp_min": 13.9,
          "weather": "sun",
          "wind": 3.6,
          "year": 2014
         },
         {
          "day": 5,
          "month": 7,
          "precipitation": 0,
          "temp_max": 24.4,
          "temp_min": 13.3,
          "weather": "fog",
          "wind": 2.2,
          "year": 2014
         },
         {
          "day": 6,
          "month": 7,
          "precipitation": 0,
          "temp_max": 28.9,
          "temp_min": 15,
          "weather": "sun",
          "wind": 3,
          "year": 2014
         },
         {
          "day": 7,
          "month": 7,
          "precipitation": 0,
          "temp_max": 27.2,
          "temp_min": 17.8,
          "weather": "fog",
          "wind": 4.1,
          "year": 2014
         },
         {
          "day": 8,
          "month": 7,
          "precipitation": 0,
          "temp_max": 30,
          "temp_min": 15.6,
          "weather": "sun",
          "wind": 3.5,
          "year": 2014
         },
         {
          "day": 9,
          "month": 7,
          "precipitation": 0,
          "temp_max": 26.7,
          "temp_min": 13.9,
          "weather": "sun",
          "wind": 2.3,
          "year": 2014
         },
         {
          "day": 10,
          "month": 7,
          "precipitation": 0,
          "temp_max": 28.9,
          "temp_min": 12.8,
          "weather": "fog",
          "wind": 2.2,
          "year": 2014
         },
         {
          "day": 11,
          "month": 7,
          "precipitation": 0,
          "temp_max": 31.1,
          "temp_min": 15,
          "weather": "sun",
          "wind": 2.2,
          "year": 2014
         },
         {
          "day": 12,
          "month": 7,
          "precipitation": 0,
          "temp_max": 32.2,
          "temp_min": 16.7,
          "weather": "sun",
          "wind": 2.2,
          "year": 2014
         },
         {
          "day": 13,
          "month": 7,
          "precipitation": 0,
          "temp_max": 29.4,
          "temp_min": 15,
          "weather": "rain",
          "wind": 2.6,
          "year": 2014
         },
         {
          "day": 14,
          "month": 7,
          "precipitation": 0,
          "temp_max": 27.8,
          "temp_min": 15,
          "weather": "sun",
          "wind": 2.8,
          "year": 2014
         },
         {
          "day": 15,
          "month": 7,
          "precipitation": 0,
          "temp_max": 31.1,
          "temp_min": 13.9,
          "weather": "sun",
          "wind": 2.3,
          "year": 2014
         },
         {
          "day": 16,
          "month": 7,
          "precipitation": 0,
          "temp_max": 31.1,
          "temp_min": 14.4,
          "weather": "sun",
          "wind": 2.4,
          "year": 2014
         },
         {
          "day": 17,
          "month": 7,
          "precipitation": 0,
          "temp_max": 26.7,
          "temp_min": 13.9,
          "weather": "sun",
          "wind": 3.7,
          "year": 2014
         },
         {
          "day": 18,
          "month": 7,
          "precipitation": 0,
          "temp_max": 23.9,
          "temp_min": 11.7,
          "weather": "sun",
          "wind": 2.8,
          "year": 2014
         },
         {
          "day": 19,
          "month": 7,
          "precipitation": 0,
          "temp_max": 25.6,
          "temp_min": 15,
          "weather": "fog",
          "wind": 5.4,
          "year": 2014
         },
         {
          "day": 20,
          "month": 7,
          "precipitation": 0,
          "temp_max": 19.4,
          "temp_min": 14.4,
          "weather": "sun",
          "wind": 2.8,
          "year": 2014
         },
         {
          "day": 21,
          "month": 7,
          "precipitation": 0,
          "temp_max": 23.9,
          "temp_min": 13.3,
          "weather": "sun",
          "wind": 2.2,
          "year": 2014
         },
         {
          "day": 22,
          "month": 7,
          "precipitation": 0.3,
          "temp_max": 21.1,
          "temp_min": 13.3,
          "weather": "fog",
          "wind": 1.1,
          "year": 2014
         },
         {
          "day": 23,
          "month": 7,
          "precipitation": 19.3,
          "temp_max": 18.9,
          "temp_min": 13.3,
          "weather": "sun",
          "wind": 3.3,
          "year": 2014
         },
         {
          "day": 24,
          "month": 7,
          "precipitation": 0,
          "temp_max": 20.6,
          "temp_min": 12.8,
          "weather": "sun",
          "wind": 4.7,
          "year": 2014
         },
         {
          "day": 25,
          "month": 7,
          "precipitation": 0,
          "temp_max": 22.8,
          "temp_min": 12.2,
          "weather": "sun",
          "wind": 2.7,
          "year": 2014
         },
         {
          "day": 26,
          "month": 7,
          "precipitation": 0,
          "temp_max": 26.1,
          "temp_min": 13.3,
          "weather": "sun",
          "wind": 3.6,
          "year": 2014
         },
         {
          "day": 27,
          "month": 7,
          "precipitation": 0,
          "temp_max": 28.3,
          "temp_min": 15,
          "weather": "sun",
          "wind": 4.1,
          "year": 2014
         },
         {
          "day": 28,
          "month": 7,
          "precipitation": 0,
          "temp_max": 30.6,
          "temp_min": 15,
          "weather": "sun",
          "wind": 3.7,
          "year": 2014
         },
         {
          "day": 29,
          "month": 7,
          "precipitation": 0,
          "temp_max": 30,
          "temp_min": 15.6,
          "weather": "sun",
          "wind": 2.8,
          "year": 2014
         },
         {
          "day": 30,
          "month": 7,
          "precipitation": 0,
          "temp_max": 29.4,
          "temp_min": 14.4,
          "weather": "sun",
          "wind": 3.4,
          "year": 2014
         },
         {
          "day": 31,
          "month": 7,
          "precipitation": 0,
          "temp_max": 30.6,
          "temp_min": 17.8,
          "weather": "sun",
          "wind": 4.1,
          "year": 2014
         },
         {
          "day": 1,
          "month": 8,
          "precipitation": 0,
          "temp_max": 28.9,
          "temp_min": 15,
          "weather": "sun",
          "wind": 3.3,
          "year": 2014
         },
         {
          "day": 2,
          "month": 8,
          "precipitation": 0.5,
          "temp_max": 29.4,
          "temp_min": 15.6,
          "weather": "sun",
          "wind": 1.7,
          "year": 2014
         },
         {
          "day": 3,
          "month": 8,
          "precipitation": 0,
          "temp_max": 31.7,
          "temp_min": 14.4,
          "weather": "sun",
          "wind": 2.6,
          "year": 2014
         },
         {
          "day": 4,
          "month": 8,
          "precipitation": 0,
          "temp_max": 32.8,
          "temp_min": 16.1,
          "weather": "sun",
          "wind": 2.6,
          "year": 2014
         },
         {
          "day": 5,
          "month": 8,
          "precipitation": 0,
          "temp_max": 25,
          "temp_min": 13.9,
          "weather": "sun",
          "wind": 2.7,
          "year": 2014
         },
         {
          "day": 6,
          "month": 8,
          "precipitation": 0,
          "temp_max": 26.1,
          "temp_min": 15,
          "weather": "fog",
          "wind": 2.2,
          "year": 2014
         },
         {
          "day": 7,
          "month": 8,
          "precipitation": 0,
          "temp_max": 25.6,
          "temp_min": 13.3,
          "weather": "fog",
          "wind": 2.4,
          "year": 2014
         },
         {
          "day": 8,
          "month": 8,
          "precipitation": 0,
          "temp_max": 25.6,
          "temp_min": 13.3,
          "weather": "sun",
          "wind": 2.9,
          "year": 2014
         },
         {
          "day": 9,
          "month": 8,
          "precipitation": 0,
          "temp_max": 27.2,
          "temp_min": 15.6,
          "weather": "sun",
          "wind": 4.1,
          "year": 2014
         },
         {
          "day": 10,
          "month": 8,
          "precipitation": 0,
          "temp_max": 30.6,
          "temp_min": 13.9,
          "weather": "sun",
          "wind": 3.4,
          "year": 2014
         },
         {
          "day": 11,
          "month": 8,
          "precipitation": 0.5,
          "temp_max": 35.6,
          "temp_min": 17.8,
          "weather": "rain",
          "wind": 2.6,
          "year": 2014
         },
         {
          "day": 12,
          "month": 8,
          "precipitation": 12.7,
          "temp_max": 27.2,
          "temp_min": 17.2,
          "weather": "fog",
          "wind": 3.1,
          "year": 2014
         },
         {
          "day": 13,
          "month": 8,
          "precipitation": 21.6,
          "temp_max": 23.3,
          "temp_min": 15,
          "weather": "fog",
          "wind": 2.7,
          "year": 2014
         },
         {
          "day": 14,
          "month": 8,
          "precipitation": 0,
          "temp_max": 21.1,
          "temp_min": 17.2,
          "weather": "sun",
          "wind": 0.6,
          "year": 2014
         },
         {
          "day": 15,
          "month": 8,
          "precipitation": 1,
          "temp_max": 24.4,
          "temp_min": 16.7,
          "weather": "fog",
          "wind": 1.5,
          "year": 2014
         },
         {
          "day": 16,
          "month": 8,
          "precipitation": 0,
          "temp_max": 25.6,
          "temp_min": 15.6,
          "weather": "sun",
          "wind": 2.2,
          "year": 2014
         },
         {
          "day": 17,
          "month": 8,
          "precipitation": 0,
          "temp_max": 27.8,
          "temp_min": 15,
          "weather": "sun",
          "wind": 2.8,
          "year": 2014
         },
         {
          "day": 18,
          "month": 8,
          "precipitation": 0,
          "temp_max": 29.4,
          "temp_min": 15.6,
          "weather": "sun",
          "wind": 3.3,
          "year": 2014
         },
         {
          "day": 19,
          "month": 8,
          "precipitation": 0,
          "temp_max": 27.2,
          "temp_min": 15.6,
          "weather": "sun",
          "wind": 2.4,
          "year": 2014
         },
         {
          "day": 20,
          "month": 8,
          "precipitation": 0,
          "temp_max": 21.7,
          "temp_min": 13.9,
          "weather": "sun",
          "wind": 3.6,
          "year": 2014
         },
         {
          "day": 21,
          "month": 8,
          "precipitation": 0,
          "temp_max": 21.1,
          "temp_min": 11.1,
          "weather": "sun",
          "wind": 1.7,
          "year": 2014
         },
         {
          "day": 22,
          "month": 8,
          "precipitation": 0,
          "temp_max": 23.9,
          "temp_min": 13.3,
          "weather": "sun",
          "wind": 2.9,
          "year": 2014
         },
         {
          "day": 23,
          "month": 8,
          "precipitation": 0,
          "temp_max": 27.8,
          "temp_min": 13.9,
          "weather": "sun",
          "wind": 2,
          "year": 2014
         },
         {
          "day": 24,
          "month": 8,
          "precipitation": 0,
          "temp_max": 25,
          "temp_min": 13.3,
          "weather": "sun",
          "wind": 2.3,
          "year": 2014
         },
         {
          "day": 25,
          "month": 8,
          "precipitation": 0,
          "temp_max": 28.9,
          "temp_min": 14.4,
          "weather": "sun",
          "wind": 2,
          "year": 2014
         },
         {
          "day": 26,
          "month": 8,
          "precipitation": 0,
          "temp_max": 31.1,
          "temp_min": 15.6,
          "weather": "sun",
          "wind": 1.8,
          "year": 2014
         },
         {
          "day": 27,
          "month": 8,
          "precipitation": 0,
          "temp_max": 28.9,
          "temp_min": 16.1,
          "weather": "sun",
          "wind": 1.6,
          "year": 2014
         },
         {
          "day": 28,
          "month": 8,
          "precipitation": 0,
          "temp_max": 23.3,
          "temp_min": 14.4,
          "weather": "sun",
          "wind": 2.3,
          "year": 2014
         },
         {
          "day": 29,
          "month": 8,
          "precipitation": 0,
          "temp_max": 22.8,
          "temp_min": 15,
          "weather": "sun",
          "wind": 3.4,
          "year": 2014
         },
         {
          "day": 30,
          "month": 8,
          "precipitation": 8.4,
          "temp_max": 17.8,
          "temp_min": 15,
          "weather": "fog",
          "wind": 2.2,
          "year": 2014
         },
         {
          "day": 31,
          "month": 8,
          "precipitation": 1.3,
          "temp_max": 21.1,
          "temp_min": 13.9,
          "weather": "fog",
          "wind": 1.9,
          "year": 2014
         },
         {
          "day": 1,
          "month": 9,
          "precipitation": 0,
          "temp_max": 23.3,
          "temp_min": 12.8,
          "weather": "sun",
          "wind": 2.5,
          "year": 2014
         },
         {
          "day": 2,
          "month": 9,
          "precipitation": 3,
          "temp_max": 20,
          "temp_min": 13.9,
          "weather": "fog",
          "wind": 4.3,
          "year": 2014
         },
         {
          "day": 3,
          "month": 9,
          "precipitation": 0,
          "temp_max": 20.6,
          "temp_min": 12.8,
          "weather": "sun",
          "wind": 2.7,
          "year": 2014
         },
         {
          "day": 4,
          "month": 9,
          "precipitation": 0,
          "temp_max": 23.9,
          "temp_min": 11.1,
          "weather": "fog",
          "wind": 3.1,
          "year": 2014
         },
         {
          "day": 5,
          "month": 9,
          "precipitation": 0,
          "temp_max": 27.8,
          "temp_min": 13.9,
          "weather": "fog",
          "wind": 6.5,
          "year": 2014
         },
         {
          "day": 6,
          "month": 9,
          "precipitation": 0,
          "temp_max": 32.2,
          "temp_min": 15,
          "weather": "sun",
          "wind": 2.9,
          "year": 2014
         },
         {
          "day": 7,
          "month": 9,
          "precipitation": 0,
          "temp_max": 28.3,
          "temp_min": 13.3,
          "weather": "sun",
          "wind": 2.1,
          "year": 2014
         },
         {
          "day": 8,
          "month": 9,
          "precipitation": 0,
          "temp_max": 21.1,
          "temp_min": 13.3,
          "weather": "sun",
          "wind": 2.8,
          "year": 2014
         },
         {
          "day": 9,
          "month": 9,
          "precipitation": 0,
          "temp_max": 21.7,
          "temp_min": 13.3,
          "weather": "sun",
          "wind": 2.3,
          "year": 2014
         },
         {
          "day": 10,
          "month": 9,
          "precipitation": 0,
          "temp_max": 22.2,
          "temp_min": 12.2,
          "weather": "sun",
          "wind": 3.9,
          "year": 2014
         },
         {
          "day": 11,
          "month": 9,
          "precipitation": 0,
          "temp_max": 24.4,
          "temp_min": 12.8,
          "weather": "sun",
          "wind": 5.3,
          "year": 2014
         },
         {
          "day": 12,
          "month": 9,
          "precipitation": 0,
          "temp_max": 24.4,
          "temp_min": 12.8,
          "weather": "sun",
          "wind": 5.9,
          "year": 2014
         },
         {
          "day": 13,
          "month": 9,
          "precipitation": 0,
          "temp_max": 28.3,
          "temp_min": 10,
          "weather": "sun",
          "wind": 4.2,
          "year": 2014
         },
         {
          "day": 14,
          "month": 9,
          "precipitation": 0,
          "temp_max": 30,
          "temp_min": 11.7,
          "weather": "sun",
          "wind": 1.8,
          "year": 2014
         },
         {
          "day": 15,
          "month": 9,
          "precipitation": 0,
          "temp_max": 30.6,
          "temp_min": 12.2,
          "weather": "sun",
          "wind": 1.2,
          "year": 2014
         },
         {
          "day": 16,
          "month": 9,
          "precipitation": 0,
          "temp_max": 22.2,
          "temp_min": 13.9,
          "weather": "sun",
          "wind": 2.8,
          "year": 2014
         },
         {
          "day": 17,
          "month": 9,
          "precipitation": 0.5,
          "temp_max": 22.8,
          "temp_min": 14.4,
          "weather": "sun",
          "wind": 2.3,
          "year": 2014
         },
         {
          "day": 18,
          "month": 9,
          "precipitation": 0.3,
          "temp_max": 19.4,
          "temp_min": 15,
          "weather": "fog",
          "wind": 3.1,
          "year": 2014
         },
         {
          "day": 19,
          "month": 9,
          "precipitation": 0,
          "temp_max": 23.9,
          "temp_min": 16.1,
          "weather": "sun",
          "wind": 2.8,
          "year": 2014
         },
         {
          "day": 20,
          "month": 9,
          "precipitation": 0,
          "temp_max": 24.4,
          "temp_min": 14.4,
          "weather": "fog",
          "wind": 4.4,
          "year": 2014
         },
         {
          "day": 21,
          "month": 9,
          "precipitation": 0,
          "temp_max": 26.1,
          "temp_min": 12.8,
          "weather": "sun",
          "wind": 3,
          "year": 2014
         },
         {
          "day": 22,
          "month": 9,
          "precipitation": 0.3,
          "temp_max": 22.2,
          "temp_min": 15,
          "weather": "fog",
          "wind": 2.1,
          "year": 2014
         },
         {
          "day": 23,
          "month": 9,
          "precipitation": 18.3,
          "temp_max": 18.9,
          "temp_min": 14.4,
          "weather": "fog",
          "wind": 2.5,
          "year": 2014
         },
         {
          "day": 24,
          "month": 9,
          "precipitation": 20.3,
          "temp_max": 18.9,
          "temp_min": 14.4,
          "weather": "fog",
          "wind": 2.7,
          "year": 2014
         },
         {
          "day": 25,
          "month": 9,
          "precipitation": 4.3,
          "temp_max": 21.7,
          "temp_min": 14.4,
          "weather": "fog",
          "wind": 2.5,
          "year": 2014
         },
         {
          "day": 26,
          "month": 9,
          "precipitation": 8.9,
          "temp_max": 20,
          "temp_min": 13.9,
          "weather": "fog",
          "wind": 3.3,
          "year": 2014
         },
         {
          "day": 27,
          "month": 9,
          "precipitation": 0,
          "temp_max": 20.6,
          "temp_min": 11.7,
          "weather": "fog",
          "wind": 3.2,
          "year": 2014
         },
         {
          "day": 28,
          "month": 9,
          "precipitation": 0,
          "temp_max": 18.9,
          "temp_min": 12.2,
          "weather": "fog",
          "wind": 2,
          "year": 2014
         },
         {
          "day": 29,
          "month": 9,
          "precipitation": 0.8,
          "temp_max": 16.7,
          "temp_min": 11.1,
          "weather": "fog",
          "wind": 3.5,
          "year": 2014
         },
         {
          "day": 30,
          "month": 9,
          "precipitation": 0,
          "temp_max": 19.4,
          "temp_min": 12.2,
          "weather": "sun",
          "wind": 2.6,
          "year": 2014
         },
         {
          "day": 1,
          "month": 10,
          "precipitation": 0,
          "temp_max": 18.3,
          "temp_min": 11.1,
          "weather": "sun",
          "wind": 2.1,
          "year": 2014
         },
         {
          "day": 2,
          "month": 10,
          "precipitation": 0,
          "temp_max": 19.4,
          "temp_min": 10,
          "weather": "sun",
          "wind": 2,
          "year": 2014
         },
         {
          "day": 3,
          "month": 10,
          "precipitation": 0,
          "temp_max": 22.2,
          "temp_min": 8.9,
          "weather": "sun",
          "wind": 1,
          "year": 2014
         },
         {
          "day": 4,
          "month": 10,
          "precipitation": 0,
          "temp_max": 21.7,
          "temp_min": 12.2,
          "weather": "sun",
          "wind": 1.2,
          "year": 2014
         },
         {
          "day": 5,
          "month": 10,
          "precipitation": 0,
          "temp_max": 23.9,
          "temp_min": 11.7,
          "weather": "fog",
          "wind": 1.4,
          "year": 2014
         },
         {
          "day": 6,
          "month": 10,
          "precipitation": 0,
          "temp_max": 25.6,
          "temp_min": 13.3,
          "weather": "fog",
          "wind": 2.5,
          "year": 2014
         },
         {
          "day": 7,
          "month": 10,
          "precipitation": 0,
          "temp_max": 18.9,
          "temp_min": 13.9,
          "weather": "fog",
          "wind": 1,
          "year": 2014
         },
         {
          "day": 8,
          "month": 10,
          "precipitation": 0,
          "temp_max": 20.6,
          "temp_min": 12.8,
          "weather": "fog",
          "wind": 1.8,
          "year": 2014
         },
         {
          "day": 9,
          "month": 10,
          "precipitation": 0,
          "temp_max": 17.2,
          "temp_min": 11.1,
          "weather": "fog",
          "wind": 1,
          "year": 2014
         },
         {
          "day": 10,
          "month": 10,
          "precipitation": 0.3,
          "temp_max": 18.3,
          "temp_min": 10,
          "weather": "fog",
          "wind": 3.8,
          "year": 2014
         },
         {
          "day": 11,
          "month": 10,
          "precipitation": 7.4,
          "temp_max": 18.3,
          "temp_min": 11.7,
          "weather": "rain",
          "wind": 3.5,
          "year": 2014
         },
         {
          "day": 12,
          "month": 10,
          "precipitation": 0,
          "temp_max": 17.8,
          "temp_min": 11.7,
          "weather": "sun",
          "wind": 2.1,
          "year": 2014
         },
         {
          "day": 13,
          "month": 10,
          "precipitation": 7.6,
          "temp_max": 21.1,
          "temp_min": 10,
          "weather": "fog",
          "wind": 3.1,
          "year": 2014
         },
         {
          "day": 14,
          "month": 10,
          "precipitation": 7.1,
          "temp_max": 16.7,
          "temp_min": 11.7,
          "weather": "fog",
          "wind": 2.2,
          "year": 2014
         },
         {
          "day": 15,
          "month": 10,
          "precipitation": 8.6,
          "temp_max": 16.1,
          "temp_min": 11.7,
          "weather": "fog",
          "wind": 4.7,
          "year": 2014
         },
         {
          "day": 16,
          "month": 10,
          "precipitation": 0,
          "temp_max": 20.6,
          "temp_min": 11.1,
          "weather": "sun",
          "wind": 3.3,
          "year": 2014
         },
         {
          "day": 17,
          "month": 10,
          "precipitation": 3.3,
          "temp_max": 16.7,
          "temp_min": 11.7,
          "weather": "fog",
          "wind": 3,
          "year": 2014
         },
         {
          "day": 18,
          "month": 10,
          "precipitation": 15,
          "temp_max": 19.4,
          "temp_min": 13.9,
          "weather": "fog",
          "wind": 1.9,
          "year": 2014
         },
         {
          "day": 19,
          "month": 10,
          "precipitation": 0,
          "temp_max": 22.2,
          "temp_min": 12.8,
          "weather": "sun",
          "wind": 3.2,
          "year": 2014
         },
         {
          "day": 20,
          "month": 10,
          "precipitation": 11.7,
          "temp_max": 16.1,
          "temp_min": 12.2,
          "weather": "fog",
          "wind": 3.1,
          "year": 2014
         },
         {
          "day": 21,
          "month": 10,
          "precipitation": 1,
          "temp_max": 16.1,
          "temp_min": 11.7,
          "weather": "sun",
          "wind": 4.7,
          "year": 2014
         },
         {
          "day": 22,
          "month": 10,
          "precipitation": 32,
          "temp_max": 15.6,
          "temp_min": 11.7,
          "weather": "fog",
          "wind": 5,
          "year": 2014
         },
         {
          "day": 23,
          "month": 10,
          "precipitation": 9.4,
          "temp_max": 14.4,
          "temp_min": 8.3,
          "weather": "sun",
          "wind": 4.6,
          "year": 2014
         },
         {
          "day": 24,
          "month": 10,
          "precipitation": 4.1,
          "temp_max": 14.4,
          "temp_min": 8.9,
          "weather": "sun",
          "wind": 3.2,
          "year": 2014
         },
         {
          "day": 25,
          "month": 10,
          "precipitation": 6.1,
          "temp_max": 16.7,
          "temp_min": 8.3,
          "weather": "fog",
          "wind": 5.4,
          "year": 2014
         },
         {
          "day": 26,
          "month": 10,
          "precipitation": 1.5,
          "temp_max": 12.8,
          "temp_min": 7.8,
          "weather": "fog",
          "wind": 5,
          "year": 2014
         },
         {
          "day": 27,
          "month": 10,
          "precipitation": 0.8,
          "temp_max": 15.6,
          "temp_min": 6.7,
          "weather": "sun",
          "wind": 2.4,
          "year": 2014
         },
         {
          "day": 28,
          "month": 10,
          "precipitation": 12.7,
          "temp_max": 15,
          "temp_min": 9.4,
          "weather": "fog",
          "wind": 3.9,
          "year": 2014
         },
         {
          "day": 29,
          "month": 10,
          "precipitation": 0.5,
          "temp_max": 16.7,
          "temp_min": 11.7,
          "weather": "fog",
          "wind": 3.1,
          "year": 2014
         },
         {
          "day": 30,
          "month": 10,
          "precipitation": 25.4,
          "temp_max": 15.6,
          "temp_min": 11.1,
          "weather": "fog",
          "wind": 3.2,
          "year": 2014
         },
         {
          "day": 31,
          "month": 10,
          "precipitation": 17,
          "temp_max": 12.8,
          "temp_min": 8.3,
          "weather": "fog",
          "wind": 2,
          "year": 2014
         },
         {
          "day": 1,
          "month": 11,
          "precipitation": 0,
          "temp_max": 11.1,
          "temp_min": 7.2,
          "weather": "fog",
          "wind": 1.2,
          "year": 2014
         },
         {
          "day": 2,
          "month": 11,
          "precipitation": 1.8,
          "temp_max": 13.3,
          "temp_min": 7.2,
          "weather": "fog",
          "wind": 2.9,
          "year": 2014
         },
         {
          "day": 3,
          "month": 11,
          "precipitation": 10.9,
          "temp_max": 13.9,
          "temp_min": 11.1,
          "weather": "fog",
          "wind": 4.8,
          "year": 2014
         },
         {
          "day": 4,
          "month": 11,
          "precipitation": 4.1,
          "temp_max": 14.4,
          "temp_min": 10.6,
          "weather": "fog",
          "wind": 3.3,
          "year": 2014
         },
         {
          "day": 5,
          "month": 11,
          "precipitation": 4.8,
          "temp_max": 15,
          "temp_min": 10.6,
          "weather": "fog",
          "wind": 2.1,
          "year": 2014
         },
         {
          "day": 6,
          "month": 11,
          "precipitation": 4.1,
          "temp_max": 16.7,
          "temp_min": 10.6,
          "weather": "fog",
          "wind": 6.7,
          "year": 2014
         },
         {
          "day": 7,
          "month": 11,
          "precipitation": 0,
          "temp_max": 14.4,
          "temp_min": 7.2,
          "weather": "sun",
          "wind": 2.3,
          "year": 2014
         },
         {
          "day": 8,
          "month": 11,
          "precipitation": 0,
          "temp_max": 12.8,
          "temp_min": 3.9,
          "weather": "fog",
          "wind": 0.8,
          "year": 2014
         },
         {
          "day": 9,
          "month": 11,
          "precipitation": 5.1,
          "temp_max": 13.3,
          "temp_min": 7.8,
          "weather": "fog",
          "wind": 3,
          "year": 2014
         },
         {
          "day": 10,
          "month": 11,
          "precipitation": 0,
          "temp_max": 11.1,
          "temp_min": 5.6,
          "weather": "sun",
          "wind": 3.9,
          "year": 2014
         },
         {
          "day": 11,
          "month": 11,
          "precipitation": 0,
          "temp_max": 7.8,
          "temp_min": 1.1,
          "weather": "sun",
          "wind": 7.7,
          "year": 2014
         },
         {
          "day": 12,
          "month": 11,
          "precipitation": 0,
          "temp_max": 6.7,
          "temp_min": 0,
          "weather": "sun",
          "wind": 7.6,
          "year": 2014
         },
         {
          "day": 13,
          "month": 11,
          "precipitation": 0,
          "temp_max": 7.2,
          "temp_min": 0.6,
          "weather": "sun",
          "wind": 4.7,
          "year": 2014
         },
         {
          "day": 14,
          "month": 11,
          "precipitation": 0,
          "temp_max": 7.2,
          "temp_min": -2.1,
          "weather": "sun",
          "wind": 4.5,
          "year": 2014
         },
         {
          "day": 15,
          "month": 11,
          "precipitation": 0,
          "temp_max": 8.3,
          "temp_min": -1.6,
          "weather": "sun",
          "wind": 4.2,
          "year": 2014
         },
         {
          "day": 16,
          "month": 11,
          "precipitation": 0,
          "temp_max": 9.4,
          "temp_min": -2.1,
          "weather": "sun",
          "wind": 4.2,
          "year": 2014
         },
         {
          "day": 17,
          "month": 11,
          "precipitation": 0,
          "temp_max": 10.6,
          "temp_min": -2.1,
          "weather": "sun",
          "wind": 1.9,
          "year": 2014
         },
         {
          "day": 18,
          "month": 11,
          "precipitation": 0,
          "temp_max": 7.2,
          "temp_min": -0.5,
          "weather": "sun",
          "wind": 0.9,
          "year": 2014
         },
         {
          "day": 19,
          "month": 11,
          "precipitation": 0,
          "temp_max": 11.1,
          "temp_min": 2.2,
          "weather": "sun",
          "wind": 1.9,
          "year": 2014
         },
         {
          "day": 20,
          "month": 11,
          "precipitation": 3.6,
          "temp_max": 11.1,
          "temp_min": 5.6,
          "weather": "fog",
          "wind": 2.1,
          "year": 2014
         },
         {
          "day": 21,
          "month": 11,
          "precipitation": 15.2,
          "temp_max": 11.1,
          "temp_min": 8.3,
          "weather": "fog",
          "wind": 4.7,
          "year": 2014
         },
         {
          "day": 22,
          "month": 11,
          "precipitation": 0.5,
          "temp_max": 9.4,
          "temp_min": 6.7,
          "weather": "sun",
          "wind": 4.7,
          "year": 2014
         },
         {
          "day": 23,
          "month": 11,
          "precipitation": 11.9,
          "temp_max": 12.8,
          "temp_min": 5.6,
          "weather": "fog",
          "wind": 5.1,
          "year": 2014
         },
         {
          "day": 24,
          "month": 11,
          "precipitation": 1.3,
          "temp_max": 11.7,
          "temp_min": 4.4,
          "weather": "fog",
          "wind": 3.8,
          "year": 2014
         },
         {
          "day": 25,
          "month": 11,
          "precipitation": 18.3,
          "temp_max": 13.9,
          "temp_min": 9.4,
          "weather": "fog",
          "wind": 4.5,
          "year": 2014
         },
         {
          "day": 26,
          "month": 11,
          "precipitation": 0.3,
          "temp_max": 15,
          "temp_min": 12.2,
          "weather": "sun",
          "wind": 3.9,
          "year": 2014
         },
         {
          "day": 27,
          "month": 11,
          "precipitation": 3.3,
          "temp_max": 14.4,
          "temp_min": 11.7,
          "weather": "fog",
          "wind": 6.6,
          "year": 2014
         },
         {
          "day": 28,
          "month": 11,
          "precipitation": 34.3,
          "temp_max": 12.8,
          "temp_min": 3.3,
          "weather": "fog",
          "wind": 5.8,
          "year": 2014
         },
         {
          "day": 29,
          "month": 11,
          "precipitation": 3.6,
          "temp_max": 4.4,
          "temp_min": -4.3,
          "weather": "fog",
          "wind": 5.3,
          "year": 2014
         },
         {
          "day": 30,
          "month": 11,
          "precipitation": 0,
          "temp_max": 2.8,
          "temp_min": -4.9,
          "weather": "sun",
          "wind": 4.4,
          "year": 2014
         },
         {
          "day": 1,
          "month": 12,
          "precipitation": 0,
          "temp_max": 4.4,
          "temp_min": -3.2,
          "weather": "sun",
          "wind": 2.2,
          "year": 2014
         },
         {
          "day": 2,
          "month": 12,
          "precipitation": 0,
          "temp_max": 5.6,
          "temp_min": -3.2,
          "weather": "fog",
          "wind": 5.7,
          "year": 2014
         },
         {
          "day": 3,
          "month": 12,
          "precipitation": 0,
          "temp_max": 10,
          "temp_min": 0,
          "weather": "sun",
          "wind": 3.6,
          "year": 2014
         },
         {
          "day": 4,
          "month": 12,
          "precipitation": 0.8,
          "temp_max": 8.3,
          "temp_min": 3.9,
          "weather": "fog",
          "wind": 1.1,
          "year": 2014
         },
         {
          "day": 5,
          "month": 12,
          "precipitation": 3,
          "temp_max": 12.8,
          "temp_min": 6.7,
          "weather": "fog",
          "wind": 3.1,
          "year": 2014
         },
         {
          "day": 6,
          "month": 12,
          "precipitation": 7.4,
          "temp_max": 11.7,
          "temp_min": 7.8,
          "weather": "fog",
          "wind": 3.6,
          "year": 2014
         },
         {
          "day": 7,
          "month": 12,
          "precipitation": 0,
          "temp_max": 14.4,
          "temp_min": 6.1,
          "weather": "sun",
          "wind": 2.8,
          "year": 2014
         },
         {
          "day": 8,
          "month": 12,
          "precipitation": 9.1,
          "temp_max": 14.4,
          "temp_min": 8.9,
          "weather": "fog",
          "wind": 4.2,
          "year": 2014
         },
         {
          "day": 9,
          "month": 12,
          "precipitation": 9.9,
          "temp_max": 16.1,
          "temp_min": 10.6,
          "weather": "fog",
          "wind": 5.1,
          "year": 2014
         },
         {
          "day": 10,
          "month": 12,
          "precipitation": 13,
          "temp_max": 18.9,
          "temp_min": 10,
          "weather": "fog",
          "wind": 6.7,
          "year": 2014
         },
         {
          "day": 11,
          "month": 12,
          "precipitation": 6.9,
          "temp_max": 14.4,
          "temp_min": 8.3,
          "weather": "fog",
          "wind": 6.4,
          "year": 2014
         },
         {
          "day": 12,
          "month": 12,
          "precipitation": 0,
          "temp_max": 11.1,
          "temp_min": 7.2,
          "weather": "sun",
          "wind": 3.7,
          "year": 2014
         },
         {
          "day": 13,
          "month": 12,
          "precipitation": 0,
          "temp_max": 10,
          "temp_min": 3.9,
          "weather": "fog",
          "wind": 1.1,
          "year": 2014
         },
         {
          "day": 14,
          "month": 12,
          "precipitation": 0,
          "temp_max": 12.8,
          "temp_min": 1.7,
          "weather": "fog",
          "wind": 3.5,
          "year": 2014
         },
         {
          "day": 15,
          "month": 12,
          "precipitation": 0,
          "temp_max": 12.2,
          "temp_min": 6.7,
          "weather": "sun",
          "wind": 5.9,
          "year": 2014
         },
         {
          "day": 16,
          "month": 12,
          "precipitation": 0,
          "temp_max": 10,
          "temp_min": 8.3,
          "weather": "sun",
          "wind": 4,
          "year": 2014
         },
         {
          "day": 17,
          "month": 12,
          "precipitation": 2.8,
          "temp_max": 8.9,
          "temp_min": 6.1,
          "weather": "fog",
          "wind": 1.6,
          "year": 2014
         },
         {
          "day": 18,
          "month": 12,
          "precipitation": 13,
          "temp_max": 9.4,
          "temp_min": 6.7,
          "weather": "fog",
          "wind": 3.1,
          "year": 2014
         },
         {
          "day": 19,
          "month": 12,
          "precipitation": 3,
          "temp_max": 11.1,
          "temp_min": 7.2,
          "weather": "sun",
          "wind": 4.3,
          "year": 2014
         },
         {
          "day": 20,
          "month": 12,
          "precipitation": 19.6,
          "temp_max": 12.8,
          "temp_min": 6.7,
          "weather": "fog",
          "wind": 5.5,
          "year": 2014
         },
         {
          "day": 21,
          "month": 12,
          "precipitation": 0,
          "temp_max": 12.8,
          "temp_min": 10,
          "weather": "sun",
          "wind": 5.2,
          "year": 2014
         },
         {
          "day": 22,
          "month": 12,
          "precipitation": 0,
          "temp_max": 10.6,
          "temp_min": 6.1,
          "weather": "sun",
          "wind": 1.5,
          "year": 2014
         },
         {
          "day": 23,
          "month": 12,
          "precipitation": 20.6,
          "temp_max": 12.2,
          "temp_min": 5,
          "weather": "fog",
          "wind": 3.8,
          "year": 2014
         },
         {
          "day": 24,
          "month": 12,
          "precipitation": 5.3,
          "temp_max": 7.2,
          "temp_min": 3.9,
          "weather": "fog",
          "wind": 1.8,
          "year": 2014
         },
         {
          "day": 25,
          "month": 12,
          "precipitation": 0,
          "temp_max": 7.8,
          "temp_min": 2.8,
          "weather": "fog",
          "wind": 2.2,
          "year": 2014
         },
         {
          "day": 26,
          "month": 12,
          "precipitation": 0,
          "temp_max": 5.6,
          "temp_min": 1.7,
          "weather": "fog",
          "wind": 1.2,
          "year": 2014
         },
         {
          "day": 27,
          "month": 12,
          "precipitation": 3.3,
          "temp_max": 9.4,
          "temp_min": 4.4,
          "weather": "fog",
          "wind": 4.9,
          "year": 2014
         },
         {
          "day": 28,
          "month": 12,
          "precipitation": 4.1,
          "temp_max": 6.7,
          "temp_min": 2.8,
          "weather": "fog",
          "wind": 1.8,
          "year": 2014
         },
         {
          "day": 29,
          "month": 12,
          "precipitation": 0,
          "temp_max": 6.1,
          "temp_min": 0.6,
          "weather": "fog",
          "wind": 4.3,
          "year": 2014
         },
         {
          "day": 30,
          "month": 12,
          "precipitation": 0,
          "temp_max": 3.3,
          "temp_min": -2.1,
          "weather": "sun",
          "wind": 3.6,
          "year": 2014
         },
         {
          "day": 31,
          "month": 12,
          "precipitation": 0,
          "temp_max": 3.3,
          "temp_min": -2.7,
          "weather": "sun",
          "wind": 3,
          "year": 2014
         },
         {
          "day": 1,
          "month": 1,
          "precipitation": 0,
          "temp_max": 5.6,
          "temp_min": -3.2,
          "weather": "sun",
          "wind": 1.2,
          "year": 2015
         },
         {
          "day": 2,
          "month": 1,
          "precipitation": 1.5,
          "temp_max": 5.6,
          "temp_min": 0,
          "weather": "fog",
          "wind": 2.3,
          "year": 2015
         },
         {
          "day": 3,
          "month": 1,
          "precipitation": 0,
          "temp_max": 5,
          "temp_min": 1.7,
          "weather": "fog",
          "wind": 1.7,
          "year": 2015
         },
         {
          "day": 4,
          "month": 1,
          "precipitation": 10.2,
          "temp_max": 10.6,
          "temp_min": 3.3,
          "weather": "fog",
          "wind": 4.5,
          "year": 2015
         },
         {
          "day": 5,
          "month": 1,
          "precipitation": 8.1,
          "temp_max": 12.2,
          "temp_min": 9.4,
          "weather": "fog",
          "wind": 6.4,
          "year": 2015
         },
         {
          "day": 6,
          "month": 1,
          "precipitation": 0,
          "temp_max": 12.2,
          "temp_min": 6.1,
          "weather": "fog",
          "wind": 1.3,
          "year": 2015
         },
         {
          "day": 7,
          "month": 1,
          "precipitation": 0,
          "temp_max": 7.8,
          "temp_min": 5.6,
          "weather": "fog",
          "wind": 1.6,
          "year": 2015
         },
         {
          "day": 8,
          "month": 1,
          "precipitation": 0,
          "temp_max": 7.8,
          "temp_min": 1.7,
          "weather": "fog",
          "wind": 2.6,
          "year": 2015
         },
         {
          "day": 9,
          "month": 1,
          "precipitation": 0.3,
          "temp_max": 10,
          "temp_min": 3.3,
          "weather": "fog",
          "wind": 0.6,
          "year": 2015
         },
         {
          "day": 10,
          "month": 1,
          "precipitation": 5.8,
          "temp_max": 7.8,
          "temp_min": 6.1,
          "weather": "fog",
          "wind": 0.5,
          "year": 2015
         },
         {
          "day": 11,
          "month": 1,
          "precipitation": 1.5,
          "temp_max": 9.4,
          "temp_min": 7.2,
          "weather": "fog",
          "wind": 1.1,
          "year": 2015
         },
         {
          "day": 12,
          "month": 1,
          "precipitation": 0,
          "temp_max": 11.1,
          "temp_min": 4.4,
          "weather": "fog",
          "wind": 1.6,
          "year": 2015
         },
         {
          "day": 13,
          "month": 1,
          "precipitation": 0,
          "temp_max": 9.4,
          "temp_min": 2.8,
          "weather": "fog",
          "wind": 2.7,
          "year": 2015
         },
         {
          "day": 14,
          "month": 1,
          "precipitation": 0,
          "temp_max": 6.1,
          "temp_min": 0.6,
          "weather": "fog",
          "wind": 2.8,
          "year": 2015
         },
         {
          "day": 15,
          "month": 1,
          "precipitation": 9.7,
          "temp_max": 7.8,
          "temp_min": 1.1,
          "weather": "fog",
          "wind": 3.2,
          "year": 2015
         },
         {
          "day": 16,
          "month": 1,
          "precipitation": 0,
          "temp_max": 11.7,
          "temp_min": 5.6,
          "weather": "fog",
          "wind": 4.5,
          "year": 2015
         },
         {
          "day": 17,
          "month": 1,
          "precipitation": 26.2,
          "temp_max": 13.3,
          "temp_min": 3.3,
          "weather": "fog",
          "wind": 2.8,
          "year": 2015
         },
         {
          "day": 18,
          "month": 1,
          "precipitation": 21.3,
          "temp_max": 13.9,
          "temp_min": 7.2,
          "weather": "rain",
          "wind": 6.6,
          "year": 2015
         },
         {
          "day": 19,
          "month": 1,
          "precipitation": 0.5,
          "temp_max": 10,
          "temp_min": 6.1,
          "weather": "sun",
          "wind": 2.8,
          "year": 2015
         },
         {
          "day": 20,
          "month": 1,
          "precipitation": 0,
          "temp_max": 10,
          "temp_min": 3.3,
          "weather": "fog",
          "wind": 3,
          "year": 2015
         },
         {
          "day": 21,
          "month": 1,
          "precipitation": 0,
          "temp_max": 7.2,
          "temp_min": -0.5,
          "weather": "fog",
          "wind": 1.3,
          "year": 2015
         },
         {
          "day": 22,
          "month": 1,
          "precipitation": 0.8,
          "temp_max": 9.4,
          "temp_min": 6.1,
          "weather": "fog",
          "wind": 1.3,
          "year": 2015
         },
         {
          "day": 23,
          "month": 1,
          "precipitation": 5.8,
          "temp_max": 12.2,
          "temp_min": 8.3,
          "weather": "fog",
          "wind": 2.6,
          "year": 2015
         },
         {
          "day": 24,
          "month": 1,
          "precipitation": 0.5,
          "temp_max": 14.4,
          "temp_min": 11.1,
          "weather": "fog",
          "wind": 3.3,
          "year": 2015
         },
         {
          "day": 25,
          "month": 1,
          "precipitation": 0,
          "temp_max": 17.2,
          "temp_min": 7.2,
          "weather": "fog",
          "wind": 1.4,
          "year": 2015
         },
         {
          "day": 26,
          "month": 1,
          "precipitation": 0,
          "temp_max": 16.1,
          "temp_min": 6.1,
          "weather": "fog",
          "wind": 2.2,
          "year": 2015
         },
         {
          "day": 27,
          "month": 1,
          "precipitation": 0.8,
          "temp_max": 11.1,
          "temp_min": 8.3,
          "weather": "fog",
          "wind": 2,
          "year": 2015
         },
         {
          "day": 28,
          "month": 1,
          "precipitation": 0,
          "temp_max": 12.2,
          "temp_min": 5,
          "weather": "fog",
          "wind": 1.8,
          "year": 2015
         },
         {
          "day": 29,
          "month": 1,
          "precipitation": 0,
          "temp_max": 12.2,
          "temp_min": 3.3,
          "weather": "sun",
          "wind": 2.9,
          "year": 2015
         },
         {
          "day": 30,
          "month": 1,
          "precipitation": 0,
          "temp_max": 8.3,
          "temp_min": 1.1,
          "weather": "fog",
          "wind": 0.8,
          "year": 2015
         },
         {
          "day": 31,
          "month": 1,
          "precipitation": 0,
          "temp_max": 7.2,
          "temp_min": 3.3,
          "weather": "fog",
          "wind": 1.9,
          "year": 2015
         },
         {
          "day": 1,
          "month": 2,
          "precipitation": 1.5,
          "temp_max": 9.4,
          "temp_min": 4.4,
          "weather": "fog",
          "wind": 2.6,
          "year": 2015
         },
         {
          "day": 2,
          "month": 2,
          "precipitation": 7.4,
          "temp_max": 11.1,
          "temp_min": 5,
          "weather": "fog",
          "wind": 4,
          "year": 2015
         },
         {
          "day": 3,
          "month": 2,
          "precipitation": 1.3,
          "temp_max": 10,
          "temp_min": 5.6,
          "weather": "fog",
          "wind": 1.9,
          "year": 2015
         },
         {
          "day": 4,
          "month": 2,
          "precipitation": 8.4,
          "temp_max": 10.6,
          "temp_min": 4.4,
          "weather": "fog",
          "wind": 1.7,
          "year": 2015
         },
         {
          "day": 5,
          "month": 2,
          "precipitation": 26.2,
          "temp_max": 13.3,
          "temp_min": 8.3,
          "weather": "fog",
          "wind": 4.6,
          "year": 2015
         },
         {
          "day": 6,
          "month": 2,
          "precipitation": 17.3,
          "temp_max": 14.4,
          "temp_min": 10,
          "weather": "fog",
          "wind": 4.5,
          "year": 2015
         },
         {
          "day": 7,
          "month": 2,
          "precipitation": 23.6,
          "temp_max": 12.2,
          "temp_min": 9.4,
          "weather": "fog",
          "wind": 4.6,
          "year": 2015
         },
         {
          "day": 8,
          "month": 2,
          "precipitation": 3.6,
          "temp_max": 15,
          "temp_min": 8.3,
          "weather": "fog",
          "wind": 3.9,
          "year": 2015
         },
         {
          "day": 9,
          "month": 2,
          "precipitation": 6.1,
          "temp_max": 13.3,
          "temp_min": 8.3,
          "weather": "fog",
          "wind": 2.5,
          "year": 2015
         },
         {
          "day": 10,
          "month": 2,
          "precipitation": 0.3,
          "temp_max": 12.8,
          "temp_min": 8.3,
          "weather": "fog",
          "wind": 4,
          "year": 2015
         },
         {
          "day": 11,
          "month": 2,
          "precipitation": 0,
          "temp_max": 12.8,
          "temp_min": 5.6,
          "weather": "fog",
          "wind": 1,
          "year": 2015
         },
         {
          "day": 12,
          "month": 2,
          "precipitation": 1,
          "temp_max": 16.7,
          "temp_min": 9.4,
          "weather": "sun",
          "wind": 2.1,
          "year": 2015
         },
         {
          "day": 13,
          "month": 2,
          "precipitation": 0,
          "temp_max": 15.6,
          "temp_min": 6.7,
          "weather": "fog",
          "wind": 1.7,
          "year": 2015
         },
         {
          "day": 14,
          "month": 2,
          "precipitation": 0.3,
          "temp_max": 14.4,
          "temp_min": 6.7,
          "weather": "fog",
          "wind": 2.9,
          "year": 2015
         },
         {
          "day": 15,
          "month": 2,
          "precipitation": 0,
          "temp_max": 12.2,
          "temp_min": 3.9,
          "weather": "sun",
          "wind": 4.8,
          "year": 2015
         },
         {
          "day": 16,
          "month": 2,
          "precipitation": 0,
          "temp_max": 15,
          "temp_min": 5.6,
          "weather": "fog",
          "wind": 6.6,
          "year": 2015
         },
         {
          "day": 17,
          "month": 2,
          "precipitation": 0,
          "temp_max": 16.1,
          "temp_min": 4.4,
          "weather": "sun",
          "wind": 4,
          "year": 2015
         },
         {
          "day": 18,
          "month": 2,
          "precipitation": 0,
          "temp_max": 12.2,
          "temp_min": 4.4,
          "weather": "sun",
          "wind": 2.6,
          "year": 2015
         },
         {
          "day": 19,
          "month": 2,
          "precipitation": 4.6,
          "temp_max": 10.6,
          "temp_min": 8.3,
          "weather": "fog",
          "wind": 2.2,
          "year": 2015
         },
         {
          "day": 20,
          "month": 2,
          "precipitation": 0.8,
          "temp_max": 11.1,
          "temp_min": 7.2,
          "weather": "fog",
          "wind": 0.9,
          "year": 2015
         },
         {
          "day": 21,
          "month": 2,
          "precipitation": 0,
          "temp_max": 12.2,
          "temp_min": 5.6,
          "weather": "sun",
          "wind": 4.5,
          "year": 2015
         },
         {
          "day": 22,
          "month": 2,
          "precipitation": 0,
          "temp_max": 11.7,
          "temp_min": 3.3,
          "weather": "sun",
          "wind": 4.2,
          "year": 2015
         },
         {
          "day": 23,
          "month": 2,
          "precipitation": 0,
          "temp_max": 12.8,
          "temp_min": 0.6,
          "weather": "sun",
          "wind": 1.4,
          "year": 2015
         },
         {
          "day": 24,
          "month": 2,
          "precipitation": 0,
          "temp_max": 11.1,
          "temp_min": 2.2,
          "weather": "sun",
          "wind": 1.5,
          "year": 2015
         },
         {
          "day": 25,
          "month": 2,
          "precipitation": 4.1,
          "temp_max": 10,
          "temp_min": 6.7,
          "weather": "fog",
          "wind": 1,
          "year": 2015
         },
         {
          "day": 26,
          "month": 2,
          "precipitation": 9.4,
          "temp_max": 11.7,
          "temp_min": 7.8,
          "weather": "fog",
          "wind": 1.4,
          "year": 2015
         },
         {
          "day": 27,
          "month": 2,
          "precipitation": 18.3,
          "temp_max": 10,
          "temp_min": 6.7,
          "weather": "fog",
          "wind": 4,
          "year": 2015
         },
         {
          "day": 28,
          "month": 2,
          "precipitation": 0,
          "temp_max": 12.2,
          "temp_min": 3.3,
          "weather": "sun",
          "wind": 5.1,
          "year": 2015
         },
         {
          "day": 1,
          "month": 3,
          "precipitation": 0,
          "temp_max": 11.1,
          "temp_min": 1.1,
          "weather": "sun",
          "wind": 2.2,
          "year": 2015
         },
         {
          "day": 2,
          "month": 3,
          "precipitation": 0,
          "temp_max": 11.1,
          "temp_min": 4.4,
          "weather": "sun",
          "wind": 4.8,
          "year": 2015
         },
         {
          "day": 3,
          "month": 3,
          "precipitation": 0,
          "temp_max": 10.6,
          "temp_min": 0,
          "weather": "sun",
          "wind": 2.1,
          "year": 2015
         },
         {
          "day": 4,
          "month": 3,
          "precipitation": 0,
          "temp_max": 12.8,
          "temp_min": -0.5,
          "weather": "sun",
          "wind": 1.8,
          "year": 2015
         },
         {
          "day": 5,
          "month": 3,
          "precipitation": 0,
          "temp_max": 13.3,
          "temp_min": 2.8,
          "weather": "sun",
          "wind": 1.3,
          "year": 2015
         },
         {
          "day": 6,
          "month": 3,
          "precipitation": 0,
          "temp_max": 15,
          "temp_min": 3.3,
          "weather": "sun",
          "wind": 1.4,
          "year": 2015
         },
         {
          "day": 7,
          "month": 3,
          "precipitation": 0,
          "temp_max": 16.7,
          "temp_min": 3.9,
          "weather": "fog",
          "wind": 2.7,
          "year": 2015
         },
         {
          "day": 8,
          "month": 3,
          "precipitation": 0,
          "temp_max": 17.2,
          "temp_min": 3.9,
          "weather": "fog",
          "wind": 1.7,
          "year": 2015
         },
         {
          "day": 9,
          "month": 3,
          "precipitation": 0,
          "temp_max": 14.4,
          "temp_min": 4.4,
          "weather": "fog",
          "wind": 1.8,
          "year": 2015
         },
         {
          "day": 10,
          "month": 3,
          "precipitation": 0.8,
          "temp_max": 13.3,
          "temp_min": 5,
          "weather": "fog",
          "wind": 2.6,
          "year": 2015
         },
         {
          "day": 11,
          "month": 3,
          "precipitation": 2.5,
          "temp_max": 14.4,
          "temp_min": 8.9,
          "weather": "fog",
          "wind": 3.1,
          "year": 2015
         },
         {
          "day": 12,
          "month": 3,
          "precipitation": 0,
          "temp_max": 17.8,
          "temp_min": 9.4,
          "weather": "sun",
          "wind": 3.2,
          "year": 2015
         },
         {
          "day": 13,
          "month": 3,
          "precipitation": 2,
          "temp_max": 17.2,
          "temp_min": 7.8,
          "weather": "sun",
          "wind": 2.2,
          "year": 2015
         },
         {
          "day": 14,
          "month": 3,
          "precipitation": 17,
          "temp_max": 13.9,
          "temp_min": 9.4,
          "weather": "fog",
          "wind": 3.8,
          "year": 2015
         },
         {
          "day": 15,
          "month": 3,
          "precipitation": 55.9,
          "temp_max": 10.6,
          "temp_min": 6.1,
          "weather": "fog",
          "wind": 4.2,
          "year": 2015
         },
         {
          "day": 16,
          "month": 3,
          "precipitation": 1,
          "temp_max": 13.9,
          "temp_min": 6.1,
          "weather": "fog",
          "wind": 3,
          "year": 2015
         },
         {
          "day": 17,
          "month": 3,
          "precipitation": 0.8,
          "temp_max": 13.3,
          "temp_min": 4.4,
          "weather": "sun",
          "wind": 2.6,
          "year": 2015
         },
         {
          "day": 18,
          "month": 3,
          "precipitation": 0,
          "temp_max": 15.6,
          "temp_min": 7.2,
          "weather": "sun",
          "wind": 2.5,
          "year": 2015
         },
         {
          "day": 19,
          "month": 3,
          "precipitation": 0,
          "temp_max": 15.6,
          "temp_min": 8.3,
          "weather": "sun",
          "wind": 1.9,
          "year": 2015
         },
         {
          "day": 20,
          "month": 3,
          "precipitation": 4.1,
          "temp_max": 13.9,
          "temp_min": 8.9,
          "weather": "sun",
          "wind": 1.9,
          "year": 2015
         },
         {
          "day": 21,
          "month": 3,
          "precipitation": 3.8,
          "temp_max": 13.3,
          "temp_min": 8.3,
          "weather": "fog",
          "wind": 4.7,
          "year": 2015
         },
         {
          "day": 22,
          "month": 3,
          "precipitation": 1,
          "temp_max": 11.7,
          "temp_min": 6.1,
          "weather": "sun",
          "wind": 2.3,
          "year": 2015
         },
         {
          "day": 23,
          "month": 3,
          "precipitation": 8.1,
          "temp_max": 11.1,
          "temp_min": 5.6,
          "weather": "fog",
          "wind": 2.8,
          "year": 2015
         },
         {
          "day": 24,
          "month": 3,
          "precipitation": 7.6,
          "temp_max": 12.8,
          "temp_min": 6.1,
          "weather": "fog",
          "wind": 3.9,
          "year": 2015
         },
         {
          "day": 25,
          "month": 3,
          "precipitation": 5.1,
          "temp_max": 14.4,
          "temp_min": 7.2,
          "weather": "fog",
          "wind": 4.4,
          "year": 2015
         },
         {
          "day": 26,
          "month": 3,
          "precipitation": 0,
          "temp_max": 20.6,
          "temp_min": 10,
          "weather": "sun",
          "wind": 2.2,
          "year": 2015
         },
         {
          "day": 27,
          "month": 3,
          "precipitation": 1,
          "temp_max": 18.3,
          "temp_min": 8.9,
          "weather": "fog",
          "wind": 4,
          "year": 2015
         },
         {
          "day": 28,
          "month": 3,
          "precipitation": 0,
          "temp_max": 15.6,
          "temp_min": 9.4,
          "weather": "sun",
          "wind": 5.7,
          "year": 2015
         },
         {
          "day": 29,
          "month": 3,
          "precipitation": 0,
          "temp_max": 15.6,
          "temp_min": 8.9,
          "weather": "sun",
          "wind": 3,
          "year": 2015
         },
         {
          "day": 30,
          "month": 3,
          "precipitation": 1.8,
          "temp_max": 17.8,
          "temp_min": 10.6,
          "weather": "fog",
          "wind": 2.9,
          "year": 2015
         },
         {
          "day": 31,
          "month": 3,
          "precipitation": 1,
          "temp_max": 12.8,
          "temp_min": 6.1,
          "weather": "fog",
          "wind": 4.2,
          "year": 2015
         },
         {
          "day": 1,
          "month": 4,
          "precipitation": 5.1,
          "temp_max": 12.8,
          "temp_min": 5.6,
          "weather": "rain",
          "wind": 3.2,
          "year": 2015
         },
         {
          "day": 2,
          "month": 4,
          "precipitation": 0,
          "temp_max": 13.3,
          "temp_min": 5.6,
          "weather": "sun",
          "wind": 2.4,
          "year": 2015
         },
         {
          "day": 3,
          "month": 4,
          "precipitation": 1.5,
          "temp_max": 11.1,
          "temp_min": 5,
          "weather": "fog",
          "wind": 3.6,
          "year": 2015
         },
         {
          "day": 4,
          "month": 4,
          "precipitation": 0,
          "temp_max": 12.8,
          "temp_min": 3.9,
          "weather": "sun",
          "wind": 1.7,
          "year": 2015
         },
         {
          "day": 5,
          "month": 4,
          "precipitation": 0,
          "temp_max": 16.7,
          "temp_min": 2.8,
          "weather": "sun",
          "wind": 2.4,
          "year": 2015
         },
         {
          "day": 6,
          "month": 4,
          "precipitation": 1,
          "temp_max": 13.9,
          "temp_min": 6.7,
          "weather": "sun",
          "wind": 3.5,
          "year": 2015
         },
         {
          "day": 7,
          "month": 4,
          "precipitation": 0.5,
          "temp_max": 14.4,
          "temp_min": 6.7,
          "weather": "sun",
          "wind": 3.9,
          "year": 2015
         },
         {
          "day": 8,
          "month": 4,
          "precipitation": 0,
          "temp_max": 17.2,
          "temp_min": 6.1,
          "weather": "sun",
          "wind": 1.7,
          "year": 2015
         },
         {
          "day": 9,
          "month": 4,
          "precipitation": 0,
          "temp_max": 17.2,
          "temp_min": 6.1,
          "weather": "sun",
          "wind": 2.3,
          "year": 2015
         },
         {
          "day": 10,
          "month": 4,
          "precipitation": 10.9,
          "temp_max": 13.9,
          "temp_min": 7.8,
          "weather": "fog",
          "wind": 4.6,
          "year": 2015
         },
         {
          "day": 11,
          "month": 4,
          "precipitation": 0,
          "temp_max": 11.7,
          "temp_min": 5.6,
          "weather": "sun",
          "wind": 6.5,
          "year": 2015
         },
         {
          "day": 12,
          "month": 4,
          "precipitation": 0,
          "temp_max": 13.3,
          "temp_min": 5.6,
          "weather": "sun",
          "wind": 3.6,
          "year": 2015
         },
         {
          "day": 13,
          "month": 4,
          "precipitation": 14,
          "temp_max": 11.7,
          "temp_min": 3.9,
          "weather": "fog",
          "wind": 3.6,
          "year": 2015
         },
         {
          "day": 14,
          "month": 4,
          "precipitation": 3.3,
          "temp_max": 11.7,
          "temp_min": 2.8,
          "weather": "sun",
          "wind": 3.3,
          "year": 2015
         },
         {
          "day": 15,
          "month": 4,
          "precipitation": 0,
          "temp_max": 13.9,
          "temp_min": 3.3,
          "weather": "sun",
          "wind": 2.4,
          "year": 2015
         },
         {
          "day": 16,
          "month": 4,
          "precipitation": 0,
          "temp_max": 17.8,
          "temp_min": 3.9,
          "weather": "sun",
          "wind": 3.1,
          "year": 2015
         },
         {
          "day": 17,
          "month": 4,
          "precipitation": 0,
          "temp_max": 18.9,
          "temp_min": 6.1,
          "weather": "sun",
          "wind": 3.6,
          "year": 2015
         },
         {
          "day": 18,
          "month": 4,
          "precipitation": 0,
          "temp_max": 18.9,
          "temp_min": 8.3,
          "weather": "sun",
          "wind": 3.9,
          "year": 2015
         },
         {
          "day": 19,
          "month": 4,
          "precipitation": 0,
          "temp_max": 21.1,
          "temp_min": 8.3,
          "weather": "sun",
          "wind": 3.6,
          "year": 2015
         },
         {
          "day": 20,
          "month": 4,
          "precipitation": 0,
          "temp_max": 22.8,
          "temp_min": 7.8,
          "weather": "sun",
          "wind": 2.6,
          "year": 2015
         },
         {
          "day": 21,
          "month": 4,
          "precipitation": 5.6,
          "temp_max": 17.2,
          "temp_min": 6.7,
          "weather": "fog",
          "wind": 3.4,
          "year": 2015
         },
         {
          "day": 22,
          "month": 4,
          "precipitation": 0,
          "temp_max": 15.6,
          "temp_min": 5,
          "weather": "sun",
          "wind": 2.3,
          "year": 2015
         },
         {
          "day": 23,
          "month": 4,
          "precipitation": 3,
          "temp_max": 12.2,
          "temp_min": 6.7,
          "weather": "fog",
          "wind": 4.1,
          "year": 2015
         },
         {
          "day": 24,
          "month": 4,
          "precipitation": 3.3,
          "temp_max": 12.2,
          "temp_min": 6.1,
          "weather": "fog",
          "wind": 5,
          "year": 2015
         },
         {
          "day": 25,
          "month": 4,
          "precipitation": 1.3,
          "temp_max": 13.3,
          "temp_min": 5.6,
          "weather": "fog",
          "wind": 3,
          "year": 2015
         },
         {
          "day": 26,
          "month": 4,
          "precipitation": 0,
          "temp_max": 15.6,
          "temp_min": 4.4,
          "weather": "fog",
          "wind": 2.7,
          "year": 2015
         },
         {
          "day": 27,
          "month": 4,
          "precipitation": 0.3,
          "temp_max": 25,
          "temp_min": 10.6,
          "weather": "fog",
          "wind": 2.3,
          "year": 2015
         },
         {
          "day": 28,
          "month": 4,
          "precipitation": 1.8,
          "temp_max": 15.6,
          "temp_min": 8.9,
          "weather": "fog",
          "wind": 4.3,
          "year": 2015
         },
         {
          "day": 29,
          "month": 4,
          "precipitation": 0,
          "temp_max": 16.1,
          "temp_min": 7.2,
          "weather": "sun",
          "wind": 4.7,
          "year": 2015
         },
         {
          "day": 30,
          "month": 4,
          "precipitation": 0,
          "temp_max": 17.2,
          "temp_min": 7.8,
          "weather": "sun",
          "wind": 2.1,
          "year": 2015
         },
         {
          "day": 1,
          "month": 5,
          "precipitation": 0,
          "temp_max": 18.3,
          "temp_min": 8.9,
          "weather": "sun",
          "wind": 3.7,
          "year": 2015
         },
         {
          "day": 2,
          "month": 5,
          "precipitation": 0,
          "temp_max": 18.3,
          "temp_min": 7.8,
          "weather": "sun",
          "wind": 3.7,
          "year": 2015
         },
         {
          "day": 3,
          "month": 5,
          "precipitation": 0,
          "temp_max": 20.6,
          "temp_min": 7.8,
          "weather": "sun",
          "wind": 2.6,
          "year": 2015
         },
         {
          "day": 4,
          "month": 5,
          "precipitation": 0,
          "temp_max": 17.2,
          "temp_min": 7.2,
          "weather": "sun",
          "wind": 5.2,
          "year": 2015
         },
         {
          "day": 5,
          "month": 5,
          "precipitation": 6.1,
          "temp_max": 14.4,
          "temp_min": 7.2,
          "weather": "fog",
          "wind": 5.1,
          "year": 2015
         },
         {
          "day": 6,
          "month": 5,
          "precipitation": 0,
          "temp_max": 16.7,
          "temp_min": 7.2,
          "weather": "fog",
          "wind": 2.6,
          "year": 2015
         },
         {
          "day": 7,
          "month": 5,
          "precipitation": 0,
          "temp_max": 20.6,
          "temp_min": 6.1,
          "weather": "sun",
          "wind": 3,
          "year": 2015
         },
         {
          "day": 8,
          "month": 5,
          "precipitation": 0,
          "temp_max": 23.9,
          "temp_min": 8.3,
          "weather": "sun",
          "wind": 3,
          "year": 2015
         },
         {
          "day": 9,
          "month": 5,
          "precipitation": 0,
          "temp_max": 26.7,
          "temp_min": 9.4,
          "weather": "sun",
          "wind": 2.6,
          "year": 2015
         },
         {
          "day": 10,
          "month": 5,
          "precipitation": 0,
          "temp_max": 19.4,
          "temp_min": 11.1,
          "weather": "sun",
          "wind": 2.8,
          "year": 2015
         },
         {
          "day": 11,
          "month": 5,
          "precipitation": 0,
          "temp_max": 13.9,
          "temp_min": 10,
          "weather": "fog",
          "wind": 2.5,
          "year": 2015
         },
         {
          "day": 12,
          "month": 5,
          "precipitation": 4.3,
          "temp_max": 15.6,
          "temp_min": 10.6,
          "weather": "fog",
          "wind": 3.3,
          "year": 2015
         },
         {
          "day": 13,
          "month": 5,
          "precipitation": 4.1,
          "temp_max": 12.2,
          "temp_min": 10,
          "weather": "fog",
          "wind": 2.8,
          "year": 2015
         },
         {
          "day": 14,
          "month": 5,
          "precipitation": 0.3,
          "temp_max": 17.8,
          "temp_min": 9.4,
          "weather": "fog",
          "wind": 2,
          "year": 2015
         },
         {
          "day": 15,
          "month": 5,
          "precipitation": 0,
          "temp_max": 20,
          "temp_min": 9.4,
          "weather": "fog",
          "wind": 2.8,
          "year": 2015
         },
         {
          "day": 16,
          "month": 5,
          "precipitation": 0,
          "temp_max": 15.6,
          "temp_min": 11.1,
          "weather": "sun",
          "wind": 3,
          "year": 2015
         },
         {
          "day": 17,
          "month": 5,
          "precipitation": 0,
          "temp_max": 19.4,
          "temp_min": 10.6,
          "weather": "sun",
          "wind": 2.1,
          "year": 2015
         },
         {
          "day": 18,
          "month": 5,
          "precipitation": 0,
          "temp_max": 25.6,
          "temp_min": 12.2,
          "weather": "sun",
          "wind": 3,
          "year": 2015
         },
         {
          "day": 19,
          "month": 5,
          "precipitation": 0,
          "temp_max": 21.7,
          "temp_min": 11.7,
          "weather": "sun",
          "wind": 2.6,
          "year": 2015
         },
         {
          "day": 20,
          "month": 5,
          "precipitation": 0,
          "temp_max": 23.3,
          "temp_min": 10.6,
          "weather": "fog",
          "wind": 1.8,
          "year": 2015
         },
         {
          "day": 21,
          "month": 5,
          "precipitation": 0,
          "temp_max": 25.6,
          "temp_min": 11.7,
          "weather": "sun",
          "wind": 2.1,
          "year": 2015
         },
         {
          "day": 22,
          "month": 5,
          "precipitation": 0,
          "temp_max": 16.7,
          "temp_min": 11.7,
          "weather": "sun",
          "wind": 3.7,
          "year": 2015
         },
         {
          "day": 23,
          "month": 5,
          "precipitation": 0,
          "temp_max": 16.1,
          "temp_min": 11.7,
          "weather": "sun",
          "wind": 2.6,
          "year": 2015
         },
         {
          "day": 24,
          "month": 5,
          "precipitation": 0,
          "temp_max": 17.8,
          "temp_min": 11.1,
          "weather": "sun",
          "wind": 2.7,
          "year": 2015
         },
         {
          "day": 25,
          "month": 5,
          "precipitation": 0,
          "temp_max": 15.6,
          "temp_min": 11.1,
          "weather": "sun",
          "wind": 2.7,
          "year": 2015
         },
         {
          "day": 26,
          "month": 5,
          "precipitation": 0,
          "temp_max": 21.7,
          "temp_min": 11.7,
          "weather": "sun",
          "wind": 2.1,
          "year": 2015
         },
         {
          "day": 27,
          "month": 5,
          "precipitation": 0,
          "temp_max": 24.4,
          "temp_min": 11.7,
          "weather": "sun",
          "wind": 1.8,
          "year": 2015
         },
         {
          "day": 28,
          "month": 5,
          "precipitation": 0,
          "temp_max": 27.8,
          "temp_min": 12.2,
          "weather": "sun",
          "wind": 2.1,
          "year": 2015
         },
         {
          "day": 29,
          "month": 5,
          "precipitation": 0,
          "temp_max": 26.1,
          "temp_min": 12.8,
          "weather": "sun",
          "wind": 2.5,
          "year": 2015
         },
         {
          "day": 30,
          "month": 5,
          "precipitation": 0,
          "temp_max": 22.8,
          "temp_min": 10,
          "weather": "sun",
          "wind": 2.5,
          "year": 2015
         },
         {
          "day": 31,
          "month": 5,
          "precipitation": 0,
          "temp_max": 25,
          "temp_min": 11.7,
          "weather": "sun",
          "wind": 2.2,
          "year": 2015
         },
         {
          "day": 1,
          "month": 6,
          "precipitation": 4.6,
          "temp_max": 16.1,
          "temp_min": 11.7,
          "weather": "fog",
          "wind": 3.4,
          "year": 2015
         },
         {
          "day": 2,
          "month": 6,
          "precipitation": 0.5,
          "temp_max": 17.8,
          "temp_min": 12.8,
          "weather": "sun",
          "wind": 5,
          "year": 2015
         },
         {
          "day": 3,
          "month": 6,
          "precipitation": 0,
          "temp_max": 20,
          "temp_min": 11.7,
          "weather": "sun",
          "wind": 3,
          "year": 2015
         },
         {
          "day": 4,
          "month": 6,
          "precipitation": 0,
          "temp_max": 22.8,
          "temp_min": 11.7,
          "weather": "sun",
          "wind": 3.9,
          "year": 2015
         },
         {
          "day": 5,
          "month": 6,
          "precipitation": 0,
          "temp_max": 26.7,
          "temp_min": 12.8,
          "weather": "sun",
          "wind": 4.3,
          "year": 2015
         },
         {
          "day": 6,
          "month": 6,
          "precipitation": 0,
          "temp_max": 29.4,
          "temp_min": 13.3,
          "weather": "sun",
          "wind": 2.6,
          "year": 2015
         },
         {
          "day": 7,
          "month": 6,
          "precipitation": 0,
          "temp_max": 31.1,
          "temp_min": 15.6,
          "weather": "sun",
          "wind": 3.2,
          "year": 2015
         },
         {
          "day": 8,
          "month": 6,
          "precipitation": 0,
          "temp_max": 30.6,
          "temp_min": 14.4,
          "weather": "sun",
          "wind": 3.5,
          "year": 2015
         },
         {
          "day": 9,
          "month": 6,
          "precipitation": 0,
          "temp_max": 28.9,
          "temp_min": 14.4,
          "weather": "sun",
          "wind": 2.7,
          "year": 2015
         },
         {
          "day": 10,
          "month": 6,
          "precipitation": 0,
          "temp_max": 25.6,
          "temp_min": 11.1,
          "weather": "sun",
          "wind": 3,
          "year": 2015
         },
         {
          "day": 11,
          "month": 6,
          "precipitation": 0,
          "temp_max": 24.4,
          "temp_min": 11.1,
          "weather": "sun",
          "wind": 3.5,
          "year": 2015
         },
         {
          "day": 12,
          "month": 6,
          "precipitation": 0,
          "temp_max": 20,
          "temp_min": 11.7,
          "weather": "sun",
          "wind": 2.3,
          "year": 2015
         },
         {
          "day": 13,
          "month": 6,
          "precipitation": 0,
          "temp_max": 23.9,
          "temp_min": 9.4,
          "weather": "sun",
          "wind": 2.6,
          "year": 2015
         },
         {
          "day": 14,
          "month": 6,
          "precipitation": 0,
          "temp_max": 27.8,
          "temp_min": 11.7,
          "weather": "sun",
          "wind": 3.7,
          "year": 2015
         },
         {
          "day": 15,
          "month": 6,
          "precipitation": 0,
          "temp_max": 30,
          "temp_min": 16.1,
          "weather": "drizzle",
          "wind": 3.5,
          "year": 2015
         },
         {
          "day": 16,
          "month": 6,
          "precipitation": 0,
          "temp_max": 22.8,
          "temp_min": 11.1,
          "weather": "sun",
          "wind": 3,
          "year": 2015
         },
         {
          "day": 17,
          "month": 6,
          "precipitation": 0,
          "temp_max": 25,
          "temp_min": 11.1,
          "weather": "sun",
          "wind": 3.1,
          "year": 2015
         },
         {
          "day": 18,
          "month": 6,
          "precipitation": 0,
          "temp_max": 24.4,
          "temp_min": 13.9,
          "weather": "sun",
          "wind": 3,
          "year": 2015
         },
         {
          "day": 19,
          "month": 6,
          "precipitation": 0.5,
          "temp_max": 23.9,
          "temp_min": 13.3,
          "weather": "fog",
          "wind": 3.2,
          "year": 2015
         },
         {
          "day": 20,
          "month": 6,
          "precipitation": 0,
          "temp_max": 25,
          "temp_min": 12.8,
          "weather": "sun",
          "wind": 4.3,
          "year": 2015
         },
         {
          "day": 21,
          "month": 6,
          "precipitation": 0,
          "temp_max": 25.6,
          "temp_min": 13.9,
          "weather": "sun",
          "wind": 3.4,
          "year": 2015
         },
         {
          "day": 22,
          "month": 6,
          "precipitation": 0,
          "temp_max": 25,
          "temp_min": 12.8,
          "weather": "sun",
          "wind": 2.4,
          "year": 2015
         },
         {
          "day": 23,
          "month": 6,
          "precipitation": 0,
          "temp_max": 26.1,
          "temp_min": 11.7,
          "weather": "sun",
          "wind": 2.4,
          "year": 2015
         },
         {
          "day": 24,
          "month": 6,
          "precipitation": 0,
          "temp_max": 25.6,
          "temp_min": 16.1,
          "weather": "sun",
          "wind": 2.6,
          "year": 2015
         },
         {
          "day": 25,
          "month": 6,
          "precipitation": 0,
          "temp_max": 30.6,
          "temp_min": 15.6,
          "weather": "sun",
          "wind": 3,
          "year": 2015
         },
         {
          "day": 26,
          "month": 6,
          "precipitation": 0,
          "temp_max": 31.7,
          "temp_min": 17.8,
          "weather": "sun",
          "wind": 4.7,
          "year": 2015
         },
         {
          "day": 27,
          "month": 6,
          "precipitation": 0,
          "temp_max": 33.3,
          "temp_min": 17.2,
          "weather": "sun",
          "wind": 3.9,
          "year": 2015
         },
         {
          "day": 28,
          "month": 6,
          "precipitation": 0.3,
          "temp_max": 28.3,
          "temp_min": 18.3,
          "weather": "sun",
          "wind": 2.1,
          "year": 2015
         },
         {
          "day": 29,
          "month": 6,
          "precipitation": 0,
          "temp_max": 28.9,
          "temp_min": 17.2,
          "weather": "sun",
          "wind": 2.7,
          "year": 2015
         },
         {
          "day": 30,
          "month": 6,
          "precipitation": 0,
          "temp_max": 30.6,
          "temp_min": 15,
          "weather": "fog",
          "wind": 3.4,
          "year": 2015
         },
         {
          "day": 1,
          "month": 7,
          "precipitation": 0,
          "temp_max": 32.2,
          "temp_min": 17.2,
          "weather": "sun",
          "wind": 4.3,
          "year": 2015
         },
         {
          "day": 2,
          "month": 7,
          "precipitation": 0,
          "temp_max": 33.9,
          "temp_min": 17.8,
          "weather": "sun",
          "wind": 3.4,
          "year": 2015
         },
         {
          "day": 3,
          "month": 7,
          "precipitation": 0,
          "temp_max": 33.3,
          "temp_min": 17.8,
          "weather": "sun",
          "wind": 2.6,
          "year": 2015
         },
         {
          "day": 4,
          "month": 7,
          "precipitation": 0,
          "temp_max": 33.3,
          "temp_min": 15,
          "weather": "sun",
          "wind": 2.9,
          "year": 2015
         },
         {
          "day": 5,
          "month": 7,
          "precipitation": 0,
          "temp_max": 32.8,
          "temp_min": 16.7,
          "weather": "sun",
          "wind": 2.1,
          "year": 2015
         },
         {
          "day": 6,
          "month": 7,
          "precipitation": 0,
          "temp_max": 29.4,
          "temp_min": 15.6,
          "weather": "drizzle",
          "wind": 3.2,
          "year": 2015
         },
         {
          "day": 7,
          "month": 7,
          "precipitation": 0,
          "temp_max": 27.2,
          "temp_min": 13.9,
          "weather": "sun",
          "wind": 2.4,
          "year": 2015
         },
         {
          "day": 8,
          "month": 7,
          "precipitation": 0,
          "temp_max": 30,
          "temp_min": 14.4,
          "weather": "drizzle",
          "wind": 1.9,
          "year": 2015
         },
         {
          "day": 9,
          "month": 7,
          "precipitation": 0,
          "temp_max": 28.9,
          "temp_min": 14.4,
          "weather": "sun",
          "wind": 3.4,
          "year": 2015
         },
         {
          "day": 10,
          "month": 7,
          "precipitation": 0,
          "temp_max": 21.1,
          "temp_min": 16.7,
          "weather": "sun",
          "wind": 3.7,
          "year": 2015
         },
         {
          "day": 11,
          "month": 7,
          "precipitation": 0,
          "temp_max": 22.2,
          "temp_min": 16.7,
          "weather": "sun",
          "wind": 3,
          "year": 2015
         },
         {
          "day": 12,
          "month": 7,
          "precipitation": 0,
          "temp_max": 26.1,
          "temp_min": 16.7,
          "weather": "sun",
          "wind": 2.2,
          "year": 2015
         },
         {
          "day": 13,
          "month": 7,
          "precipitation": 0,
          "temp_max": 25.6,
          "temp_min": 16.1,
          "weather": "sun",
          "wind": 3.1,
          "year": 2015
         },
         {
          "day": 14,
          "month": 7,
          "precipitation": 0,
          "temp_max": 27.8,
          "temp_min": 16.1,
          "weather": "sun",
          "wind": 3.3,
          "year": 2015
         },
         {
          "day": 15,
          "month": 7,
          "precipitation": 0,
          "temp_max": 26.1,
          "temp_min": 14.4,
          "weather": "sun",
          "wind": 3.2,
          "year": 2015
         },
         {
          "day": 16,
          "month": 7,
          "precipitation": 0,
          "temp_max": 26.1,
          "temp_min": 15,
          "weather": "sun",
          "wind": 2.8,
          "year": 2015
         },
         {
          "day": 17,
          "month": 7,
          "precipitation": 0,
          "temp_max": 27.8,
          "temp_min": 13.9,
          "weather": "sun",
          "wind": 3.3,
          "year": 2015
         },
         {
          "day": 18,
          "month": 7,
          "precipitation": 0,
          "temp_max": 33.3,
          "temp_min": 17.8,
          "weather": "sun",
          "wind": 3.4,
          "year": 2015
         },
         {
          "day": 19,
          "month": 7,
          "precipitation": 0,
          "temp_max": 35,
          "temp_min": 17.2,
          "weather": "sun",
          "wind": 3.3,
          "year": 2015
         },
         {
          "day": 20,
          "month": 7,
          "precipitation": 0,
          "temp_max": 26.7,
          "temp_min": 16.7,
          "weather": "sun",
          "wind": 3.9,
          "year": 2015
         },
         {
          "day": 21,
          "month": 7,
          "precipitation": 0,
          "temp_max": 23.9,
          "temp_min": 15,
          "weather": "sun",
          "wind": 2.4,
          "year": 2015
         },
         {
          "day": 22,
          "month": 7,
          "precipitation": 0,
          "temp_max": 23.9,
          "temp_min": 13.9,
          "weather": "sun",
          "wind": 2.8,
          "year": 2015
         },
         {
          "day": 23,
          "month": 7,
          "precipitation": 0,
          "temp_max": 26.1,
          "temp_min": 14.4,
          "weather": "sun",
          "wind": 1.9,
          "year": 2015
         },
         {
          "day": 24,
          "month": 7,
          "precipitation": 0.3,
          "temp_max": 22.8,
          "temp_min": 13.3,
          "weather": "fog",
          "wind": 3.8,
          "year": 2015
         },
         {
          "day": 25,
          "month": 7,
          "precipitation": 0,
          "temp_max": 21.1,
          "temp_min": 14.4,
          "weather": "fog",
          "wind": 2.4,
          "year": 2015
         },
         {
          "day": 26,
          "month": 7,
          "precipitation": 2,
          "temp_max": 22.2,
          "temp_min": 13.9,
          "weather": "fog",
          "wind": 2.6,
          "year": 2015
         },
         {
          "day": 27,
          "month": 7,
          "precipitation": 0,
          "temp_max": 23.3,
          "temp_min": 12.2,
          "weather": "fog",
          "wind": 1.9,
          "year": 2015
         },
         {
          "day": 28,
          "month": 7,
          "precipitation": 0,
          "temp_max": 27.8,
          "temp_min": 13.9,
          "weather": "sun",
          "wind": 3.4,
          "year": 2015
         },
         {
          "day": 29,
          "month": 7,
          "precipitation": 0,
          "temp_max": 32.2,
          "temp_min": 14.4,
          "weather": "sun",
          "wind": 3.8,
          "year": 2015
         },
         {
          "day": 30,
          "month": 7,
          "precipitation": 0,
          "temp_max": 34.4,
          "temp_min": 17.2,
          "weather": "sun",
          "wind": 3.5,
          "year": 2015
         },
         {
          "day": 31,
          "month": 7,
          "precipitation": 0,
          "temp_max": 34.4,
          "temp_min": 17.8,
          "weather": "sun",
          "wind": 2.6,
          "year": 2015
         },
         {
          "day": 1,
          "month": 8,
          "precipitation": 0,
          "temp_max": 33.3,
          "temp_min": 15.6,
          "weather": "sun",
          "wind": 3.1,
          "year": 2015
         },
         {
          "day": 2,
          "month": 8,
          "precipitation": 0,
          "temp_max": 30.6,
          "temp_min": 16.1,
          "weather": "sun",
          "wind": 2,
          "year": 2015
         },
         {
          "day": 3,
          "month": 8,
          "precipitation": 0,
          "temp_max": 28.3,
          "temp_min": 17.2,
          "weather": "sun",
          "wind": 2.3,
          "year": 2015
         },
         {
          "day": 4,
          "month": 8,
          "precipitation": 0,
          "temp_max": 26.1,
          "temp_min": 14.4,
          "weather": "fog",
          "wind": 2.6,
          "year": 2015
         },
         {
          "day": 5,
          "month": 8,
          "precipitation": 0,
          "temp_max": 23.3,
          "temp_min": 12.2,
          "weather": "sun",
          "wind": 3.5,
          "year": 2015
         },
         {
          "day": 6,
          "month": 8,
          "precipitation": 0,
          "temp_max": 25,
          "temp_min": 15,
          "weather": "sun",
          "wind": 2.9,
          "year": 2015
         },
         {
          "day": 7,
          "month": 8,
          "precipitation": 0,
          "temp_max": 28.3,
          "temp_min": 15.6,
          "weather": "sun",
          "wind": 3.7,
          "year": 2015
         },
         {
          "day": 8,
          "month": 8,
          "precipitation": 0,
          "temp_max": 25,
          "temp_min": 15.6,
          "weather": "fog",
          "wind": 3.6,
          "year": 2015
         },
         {
          "day": 9,
          "month": 8,
          "precipitation": 0,
          "temp_max": 28.3,
          "temp_min": 15,
          "weather": "sun",
          "wind": 2.2,
          "year": 2015
         },
         {
          "day": 10,
          "month": 8,
          "precipitation": 0,
          "temp_max": 28.9,
          "temp_min": 16.1,
          "weather": "sun",
          "wind": 2.4,
          "year": 2015
         },
         {
          "day": 11,
          "month": 8,
          "precipitation": 0,
          "temp_max": 30,
          "temp_min": 16.7,
          "weather": "sun",
          "wind": 4.4,
          "year": 2015
         },
         {
          "day": 12,
          "month": 8,
          "precipitation": 7.6,
          "temp_max": 28.3,
          "temp_min": 16.7,
          "weather": "rain",
          "wind": 2.7,
          "year": 2015
         },
         {
          "day": 13,
          "month": 8,
          "precipitation": 0,
          "temp_max": 28.3,
          "temp_min": 15.6,
          "weather": "sun",
          "wind": 2.2,
          "year": 2015
         },
         {
          "day": 14,
          "month": 8,
          "precipitation": 30.5,
          "temp_max": 18.3,
          "temp_min": 15,
          "weather": "rain",
          "wind": 5.2,
          "year": 2015
         },
         {
          "day": 15,
          "month": 8,
          "precipitation": 0,
          "temp_max": 21.7,
          "temp_min": 13.9,
          "weather": "sun",
          "wind": 3.7,
          "year": 2015
         },
         {
          "day": 16,
          "month": 8,
          "precipitation": 0,
          "temp_max": 25,
          "temp_min": 14.4,
          "weather": "sun",
          "wind": 3.7,
          "year": 2015
         },
         {
          "day": 17,
          "month": 8,
          "precipitation": 0,
          "temp_max": 27.2,
          "temp_min": 13.9,
          "weather": "sun",
          "wind": 3,
          "year": 2015
         },
         {
          "day": 18,
          "month": 8,
          "precipitation": 0,
          "temp_max": 30,
          "temp_min": 15,
          "weather": "sun",
          "wind": 3,
          "year": 2015
         },
         {
          "day": 19,
          "month": 8,
          "precipitation": 0,
          "temp_max": 31.7,
          "temp_min": 16.1,
          "weather": "drizzle",
          "wind": 2.1,
          "year": 2015
         },
         {
          "day": 20,
          "month": 8,
          "precipitation": 2,
          "temp_max": 22.8,
          "temp_min": 14.4,
          "weather": "fog",
          "wind": 4.2,
          "year": 2015
         },
         {
          "day": 21,
          "month": 8,
          "precipitation": 0,
          "temp_max": 22.2,
          "temp_min": 14.4,
          "weather": "sun",
          "wind": 2.6,
          "year": 2015
         },
         {
          "day": 22,
          "month": 8,
          "precipitation": 0,
          "temp_max": 26.7,
          "temp_min": 12.2,
          "weather": "drizzle",
          "wind": 2.5,
          "year": 2015
         },
         {
          "day": 23,
          "month": 8,
          "precipitation": 0,
          "temp_max": 27.8,
          "temp_min": 13.9,
          "weather": "drizzle",
          "wind": 1.8,
          "year": 2015
         },
         {
          "day": 24,
          "month": 8,
          "precipitation": 0,
          "temp_max": 23.9,
          "temp_min": 12.2,
          "weather": "sun",
          "wind": 2.3,
          "year": 2015
         },
         {
          "day": 25,
          "month": 8,
          "precipitation": 0,
          "temp_max": 25.6,
          "temp_min": 12.2,
          "weather": "sun",
          "wind": 3.4,
          "year": 2015
         },
         {
          "day": 26,
          "month": 8,
          "precipitation": 0,
          "temp_max": 28.3,
          "temp_min": 13.9,
          "weather": "sun",
          "wind": 1.7,
          "year": 2015
         },
         {
          "day": 27,
          "month": 8,
          "precipitation": 0,
          "temp_max": 29.4,
          "temp_min": 14.4,
          "weather": "sun",
          "wind": 2.1,
          "year": 2015
         },
         {
          "day": 28,
          "month": 8,
          "precipitation": 0.5,
          "temp_max": 23.3,
          "temp_min": 15.6,
          "weather": "fog",
          "wind": 2.6,
          "year": 2015
         },
         {
          "day": 29,
          "month": 8,
          "precipitation": 32.5,
          "temp_max": 22.2,
          "temp_min": 13.3,
          "weather": "fog",
          "wind": 5.8,
          "year": 2015
         },
         {
          "day": 30,
          "month": 8,
          "precipitation": 10.2,
          "temp_max": 20,
          "temp_min": 12.8,
          "weather": "fog",
          "wind": 4.7,
          "year": 2015
         },
         {
          "day": 31,
          "month": 8,
          "precipitation": 0,
          "temp_max": 18.9,
          "temp_min": 16.1,
          "weather": "sun",
          "wind": 5.8,
          "year": 2015
         },
         {
          "day": 1,
          "month": 9,
          "precipitation": 5.8,
          "temp_max": 19.4,
          "temp_min": 13.9,
          "weather": "fog",
          "wind": 5,
          "year": 2015
         },
         {
          "day": 2,
          "month": 9,
          "precipitation": 0,
          "temp_max": 19.4,
          "temp_min": 11.1,
          "weather": "sun",
          "wind": 3.8,
          "year": 2015
         },
         {
          "day": 3,
          "month": 9,
          "precipitation": 0,
          "temp_max": 18.3,
          "temp_min": 10.6,
          "weather": "sun",
          "wind": 2.9,
          "year": 2015
         },
         {
          "day": 4,
          "month": 9,
          "precipitation": 0,
          "temp_max": 18.3,
          "temp_min": 10,
          "weather": "sun",
          "wind": 2.9,
          "year": 2015
         },
         {
          "day": 5,
          "month": 9,
          "precipitation": 0.3,
          "temp_max": 20.6,
          "temp_min": 8.9,
          "weather": "sun",
          "wind": 3.5,
          "year": 2015
         },
         {
          "day": 6,
          "month": 9,
          "precipitation": 5.3,
          "temp_max": 16.1,
          "temp_min": 11.7,
          "weather": "fog",
          "wind": 2.4,
          "year": 2015
         },
         {
          "day": 7,
          "month": 9,
          "precipitation": 0.3,
          "temp_max": 21.1,
          "temp_min": 13.3,
          "weather": "fog",
          "wind": 1.5,
          "year": 2015
         },
         {
          "day": 8,
          "month": 9,
          "precipitation": 0,
          "temp_max": 22.8,
          "temp_min": 13.3,
          "weather": "sun",
          "wind": 2.4,
          "year": 2015
         },
         {
          "day": 9,
          "month": 9,
          "precipitation": 0,
          "temp_max": 24.4,
          "temp_min": 13.9,
          "weather": "sun",
          "wind": 3.3,
          "year": 2015
         },
         {
          "day": 10,
          "month": 9,
          "precipitation": 0,
          "temp_max": 25,
          "temp_min": 14.4,
          "weather": "fog",
          "wind": 3.6,
          "year": 2015
         },
         {
          "day": 11,
          "month": 9,
          "precipitation": 0,
          "temp_max": 27.2,
          "temp_min": 15,
          "weather": "sun",
          "wind": 3.1,
          "year": 2015
         },
         {
          "day": 12,
          "month": 9,
          "precipitation": 0,
          "temp_max": 26.7,
          "temp_min": 14.4,
          "weather": "sun",
          "wind": 2.1,
          "year": 2015
         },
         {
          "day": 13,
          "month": 9,
          "precipitation": 0.5,
          "temp_max": 20.6,
          "temp_min": 12.8,
          "weather": "fog",
          "wind": 3,
          "year": 2015
         },
         {
          "day": 14,
          "month": 9,
          "precipitation": 0,
          "temp_max": 16.7,
          "temp_min": 10.6,
          "weather": "sun",
          "wind": 3.4,
          "year": 2015
         },
         {
          "day": 15,
          "month": 9,
          "precipitation": 0,
          "temp_max": 17.8,
          "temp_min": 10,
          "weather": "sun",
          "wind": 2.8,
          "year": 2015
         },
         {
          "day": 16,
          "month": 9,
          "precipitation": 1,
          "temp_max": 20,
          "temp_min": 10,
          "weather": "sun",
          "wind": 1.9,
          "year": 2015
         },
         {
          "day": 17,
          "month": 9,
          "precipitation": 1.8,
          "temp_max": 18.3,
          "temp_min": 12.8,
          "weather": "fog",
          "wind": 3.8,
          "year": 2015
         },
         {
          "day": 18,
          "month": 9,
          "precipitation": 0,
          "temp_max": 19.4,
          "temp_min": 12.8,
          "weather": "sun",
          "wind": 2.6,
          "year": 2015
         },
         {
          "day": 19,
          "month": 9,
          "precipitation": 0,
          "temp_max": 21.1,
          "temp_min": 14.4,
          "weather": "sun",
          "wind": 4.3,
          "year": 2015
         },
         {
          "day": 20,
          "month": 9,
          "precipitation": 4.1,
          "temp_max": 22.8,
          "temp_min": 12.2,
          "weather": "fog",
          "wind": 6.8,
          "year": 2015
         },
         {
          "day": 21,
          "month": 9,
          "precipitation": 0,
          "temp_max": 18.3,
          "temp_min": 9.4,
          "weather": "fog",
          "wind": 2.7,
          "year": 2015
         },
         {
          "day": 22,
          "month": 9,
          "precipitation": 0,
          "temp_max": 18.9,
          "temp_min": 7.8,
          "weather": "sun",
          "wind": 2,
          "year": 2015
         },
         {
          "day": 23,
          "month": 9,
          "precipitation": 0,
          "temp_max": 20.6,
          "temp_min": 8.3,
          "weather": "sun",
          "wind": 1.8,
          "year": 2015
         },
         {
          "day": 24,
          "month": 9,
          "precipitation": 0,
          "temp_max": 22.2,
          "temp_min": 11.1,
          "weather": "fog",
          "wind": 2.5,
          "year": 2015
         },
         {
          "day": 25,
          "month": 9,
          "precipitation": 2,
          "temp_max": 15.6,
          "temp_min": 12.8,
          "weather": "fog",
          "wind": 2.6,
          "year": 2015
         },
         {
          "day": 26,
          "month": 9,
          "precipitation": 0,
          "temp_max": 18.3,
          "temp_min": 10,
          "weather": "sun",
          "wind": 2.7,
          "year": 2015
         },
         {
          "day": 27,
          "month": 9,
          "precipitation": 0,
          "temp_max": 17.8,
          "temp_min": 7.2,
          "weather": "sun",
          "wind": 3.8,
          "year": 2015
         },
         {
          "day": 28,
          "month": 9,
          "precipitation": 0,
          "temp_max": 21.1,
          "temp_min": 9.4,
          "weather": "sun",
          "wind": 5.1,
          "year": 2015
         },
         {
          "day": 29,
          "month": 9,
          "precipitation": 0,
          "temp_max": 21.7,
          "temp_min": 8.9,
          "weather": "sun",
          "wind": 1.9,
          "year": 2015
         },
         {
          "day": 30,
          "month": 9,
          "precipitation": 0,
          "temp_max": 18.3,
          "temp_min": 10,
          "weather": "fog",
          "wind": 1.3,
          "year": 2015
         },
         {
          "day": 1,
          "month": 10,
          "precipitation": 0,
          "temp_max": 21.1,
          "temp_min": 9.4,
          "weather": "fog",
          "wind": 1.3,
          "year": 2015
         },
         {
          "day": 2,
          "month": 10,
          "precipitation": 0,
          "temp_max": 15.6,
          "temp_min": 10,
          "weather": "fog",
          "wind": 2.9,
          "year": 2015
         },
         {
          "day": 3,
          "month": 10,
          "precipitation": 0,
          "temp_max": 19.4,
          "temp_min": 11.1,
          "weather": "sun",
          "wind": 4.8,
          "year": 2015
         },
         {
          "day": 4,
          "month": 10,
          "precipitation": 0,
          "temp_max": 22.8,
          "temp_min": 10,
          "weather": "sun",
          "wind": 3.7,
          "year": 2015
         },
         {
          "day": 5,
          "month": 10,
          "precipitation": 0,
          "temp_max": 23.3,
          "temp_min": 9.4,
          "weather": "sun",
          "wind": 1.6,
          "year": 2015
         },
         {
          "day": 6,
          "month": 10,
          "precipitation": 0,
          "temp_max": 18.3,
          "temp_min": 10,
          "weather": "drizzle",
          "wind": 2.6,
          "year": 2015
         },
         {
          "day": 7,
          "month": 10,
          "precipitation": 9.9,
          "temp_max": 16.1,
          "temp_min": 13.9,
          "weather": "fog",
          "wind": 2.2,
          "year": 2015
         },
         {
          "day": 8,
          "month": 10,
          "precipitation": 0,
          "temp_max": 18.9,
          "temp_min": 13.3,
          "weather": "fog",
          "wind": 1.1,
          "year": 2015
         },
         {
          "day": 9,
          "month": 10,
          "precipitation": 0.3,
          "temp_max": 19.4,
          "temp_min": 12.2,
          "weather": "fog",
          "wind": 2.6,
          "year": 2015
         },
         {
          "day": 10,
          "month": 10,
          "precipitation": 28.7,
          "temp_max": 21.1,
          "temp_min": 13.3,
          "weather": "fog",
          "wind": 4.7,
          "year": 2015
         },
         {
          "day": 11,
          "month": 10,
          "precipitation": 0,
          "temp_max": 17.8,
          "temp_min": 10.6,
          "weather": "sun",
          "wind": 2.6,
          "year": 2015
         },
         {
          "day": 12,
          "month": 10,
          "precipitation": 4.6,
          "temp_max": 18.3,
          "temp_min": 10.6,
          "weather": "fog",
          "wind": 2.8,
          "year": 2015
         },
         {
          "day": 13,
          "month": 10,
          "precipitation": 1.3,
          "temp_max": 16.7,
          "temp_min": 9.4,
          "weather": "fog",
          "wind": 3.2,
          "year": 2015
         },
         {
          "day": 14,
          "month": 10,
          "precipitation": 0,
          "temp_max": 15,
          "temp_min": 10,
          "weather": "fog",
          "wind": 5,
          "year": 2015
         },
         {
          "day": 15,
          "month": 10,
          "precipitation": 0,
          "temp_max": 21.1,
          "temp_min": 9.4,
          "weather": "fog",
          "wind": 3.4,
          "year": 2015
         },
         {
          "day": 16,
          "month": 10,
          "precipitation": 0,
          "temp_max": 20,
          "temp_min": 8.9,
          "weather": "sun",
          "wind": 1.3,
          "year": 2015
         },
         {
          "day": 17,
          "month": 10,
          "precipitation": 0.3,
          "temp_max": 19.4,
          "temp_min": 11.7,
          "weather": "fog",
          "wind": 1.3,
          "year": 2015
         },
         {
          "day": 18,
          "month": 10,
          "precipitation": 3.8,
          "temp_max": 15,
          "temp_min": 12.8,
          "weather": "fog",
          "wind": 2,
          "year": 2015
         },
         {
          "day": 19,
          "month": 10,
          "precipitation": 0.3,
          "temp_max": 17.2,
          "temp_min": 12.2,
          "weather": "fog",
          "wind": 2.6,
          "year": 2015
         },
         {
          "day": 20,
          "month": 10,
          "precipitation": 0,
          "temp_max": 17.8,
          "temp_min": 10.6,
          "weather": "fog",
          "wind": 1.8,
          "year": 2015
         },
         {
          "day": 21,
          "month": 10,
          "precipitation": 0,
          "temp_max": 16.1,
          "temp_min": 8.3,
          "weather": "fog",
          "wind": 1.3,
          "year": 2015
         },
         {
          "day": 22,
          "month": 10,
          "precipitation": 0,
          "temp_max": 16.1,
          "temp_min": 8.9,
          "weather": "fog",
          "wind": 2.7,
          "year": 2015
         },
         {
          "day": 23,
          "month": 10,
          "precipitation": 0,
          "temp_max": 12.8,
          "temp_min": 7.2,
          "weather": "fog",
          "wind": 2.6,
          "year": 2015
         },
         {
          "day": 24,
          "month": 10,
          "precipitation": 0,
          "temp_max": 15,
          "temp_min": 8.9,
          "weather": "fog",
          "wind": 2.9,
          "year": 2015
         },
         {
          "day": 25,
          "month": 10,
          "precipitation": 8.9,
          "temp_max": 19.4,
          "temp_min": 8.9,
          "weather": "rain",
          "wind": 3.4,
          "year": 2015
         },
         {
          "day": 26,
          "month": 10,
          "precipitation": 6.9,
          "temp_max": 12.2,
          "temp_min": 10,
          "weather": "fog",
          "wind": 4.6,
          "year": 2015
         },
         {
          "day": 27,
          "month": 10,
          "precipitation": 0,
          "temp_max": 16.1,
          "temp_min": 7.8,
          "weather": "fog",
          "wind": 1.7,
          "year": 2015
         },
         {
          "day": 28,
          "month": 10,
          "precipitation": 3.3,
          "temp_max": 13.9,
          "temp_min": 11.1,
          "weather": "fog",
          "wind": 2.8,
          "year": 2015
         },
         {
          "day": 29,
          "month": 10,
          "precipitation": 1.8,
          "temp_max": 15,
          "temp_min": 12.2,
          "weather": "fog",
          "wind": 4.7,
          "year": 2015
         },
         {
          "day": 30,
          "month": 10,
          "precipitation": 19.3,
          "temp_max": 17.2,
          "temp_min": 11.7,
          "weather": "fog",
          "wind": 6.7,
          "year": 2015
         },
         {
          "day": 31,
          "month": 10,
          "precipitation": 33,
          "temp_max": 15.6,
          "temp_min": 11.7,
          "weather": "fog",
          "wind": 7.2,
          "year": 2015
         },
         {
          "day": 1,
          "month": 11,
          "precipitation": 26.2,
          "temp_max": 12.2,
          "temp_min": 8.9,
          "weather": "fog",
          "wind": 6,
          "year": 2015
         },
         {
          "day": 2,
          "month": 11,
          "precipitation": 0.3,
          "temp_max": 11.1,
          "temp_min": 7.2,
          "weather": "fog",
          "wind": 2.8,
          "year": 2015
         },
         {
          "day": 3,
          "month": 11,
          "precipitation": 0.8,
          "temp_max": 10.6,
          "temp_min": 5,
          "weather": "fog",
          "wind": 1.4,
          "year": 2015
         },
         {
          "day": 4,
          "month": 11,
          "precipitation": 0,
          "temp_max": 10,
          "temp_min": 3.3,
          "weather": "sun",
          "wind": 2.2,
          "year": 2015
         },
         {
          "day": 5,
          "month": 11,
          "precipitation": 1.3,
          "temp_max": 11.7,
          "temp_min": 7.8,
          "weather": "fog",
          "wind": 2.3,
          "year": 2015
         },
         {
          "day": 6,
          "month": 11,
          "precipitation": 0,
          "temp_max": 15.6,
          "temp_min": 8.3,
          "weather": "fog",
          "wind": 2.7,
          "year": 2015
         },
         {
          "day": 7,
          "month": 11,
          "precipitation": 12.7,
          "temp_max": 12.2,
          "temp_min": 9.4,
          "weather": "fog",
          "wind": 3,
          "year": 2015
         },
         {
          "day": 8,
          "month": 11,
          "precipitation": 6.6,
          "temp_max": 11.1,
          "temp_min": 7.8,
          "weather": "fog",
          "wind": 1.8,
          "year": 2015
         },
         {
          "day": 9,
          "month": 11,
          "precipitation": 3.3,
          "temp_max": 10,
          "temp_min": 5,
          "weather": "fog",
          "wind": 1.3,
          "year": 2015
         },
         {
          "day": 10,
          "month": 11,
          "precipitation": 1.3,
          "temp_max": 11.1,
          "temp_min": 3.9,
          "weather": "fog",
          "wind": 3.9,
          "year": 2015
         },
         {
          "day": 11,
          "month": 11,
          "precipitation": 1.5,
          "temp_max": 11.1,
          "temp_min": 6.1,
          "weather": "sun",
          "wind": 4.6,
          "year": 2015
         },
         {
          "day": 12,
          "month": 11,
          "precipitation": 9.9,
          "temp_max": 11.1,
          "temp_min": 5,
          "weather": "fog",
          "wind": 5.1,
          "year": 2015
         },
         {
          "day": 13,
          "month": 11,
          "precipitation": 33.5,
          "temp_max": 13.3,
          "temp_min": 9.4,
          "weather": "fog",
          "wind": 6.5,
          "year": 2015
         },
         {
          "day": 14,
          "month": 11,
          "precipitation": 47.2,
          "temp_max": 9.4,
          "temp_min": 6.1,
          "weather": "fog",
          "wind": 4.5,
          "year": 2015
         },
         {
          "day": 15,
          "month": 11,
          "precipitation": 22.4,
          "temp_max": 8.9,
          "temp_min": 2.2,
          "weather": "fog",
          "wind": 4.1,
          "year": 2015
         },
         {
          "day": 16,
          "month": 11,
          "precipitation": 2,
          "temp_max": 8.9,
          "temp_min": 1.7,
          "weather": "fog",
          "wind": 4,
          "year": 2015
         },
         {
          "day": 17,
          "month": 11,
          "precipitation": 29.5,
          "temp_max": 13.3,
          "temp_min": 6.7,
          "weather": "fog",
          "wind": 8,
          "year": 2015
         },
         {
          "day": 18,
          "month": 11,
          "precipitation": 1.5,
          "temp_max": 8.9,
          "temp_min": 3.3,
          "weather": "sun",
          "wind": 3.8,
          "year": 2015
         },
         {
          "day": 19,
          "month": 11,
          "precipitation": 2,
          "temp_max": 8.9,
          "temp_min": 2.8,
          "weather": "sun",
          "wind": 4.2,
          "year": 2015
         },
         {
          "day": 20,
          "month": 11,
          "precipitation": 0,
          "temp_max": 8.3,
          "temp_min": 0.6,
          "weather": "fog",
          "wind": 4,
          "year": 2015
         },
         {
          "day": 21,
          "month": 11,
          "precipitation": 0,
          "temp_max": 8.9,
          "temp_min": 0.6,
          "weather": "sun",
          "wind": 4.7,
          "year": 2015
         },
         {
          "day": 22,
          "month": 11,
          "precipitation": 0,
          "temp_max": 10,
          "temp_min": 1.7,
          "weather": "fog",
          "wind": 3.1,
          "year": 2015
         },
         {
          "day": 23,
          "month": 11,
          "precipitation": 3,
          "temp_max": 6.7,
          "temp_min": 0,
          "weather": "fog",
          "wind": 1.3,
          "year": 2015
         },
         {
          "day": 24,
          "month": 11,
          "precipitation": 7.1,
          "temp_max": 6.7,
          "temp_min": 2.8,
          "weather": "fog",
          "wind": 4.5,
          "year": 2015
         },
         {
          "day": 25,
          "month": 11,
          "precipitation": 0,
          "temp_max": 7.2,
          "temp_min": 0,
          "weather": "sun",
          "wind": 5.7,
          "year": 2015
         },
         {
          "day": 26,
          "month": 11,
          "precipitation": 0,
          "temp_max": 9.4,
          "temp_min": -1,
          "weather": "sun",
          "wind": 4.3,
          "year": 2015
         },
         {
          "day": 27,
          "month": 11,
          "precipitation": 0,
          "temp_max": 9.4,
          "temp_min": -1.6,
          "weather": "sun",
          "wind": 3,
          "year": 2015
         },
         {
          "day": 28,
          "month": 11,
          "precipitation": 0,
          "temp_max": 7.2,
          "temp_min": -2.7,
          "weather": "sun",
          "wind": 1,
          "year": 2015
         },
         {
          "day": 29,
          "month": 11,
          "precipitation": 0,
          "temp_max": 1.7,
          "temp_min": -2.1,
          "weather": "fog",
          "wind": 0.9,
          "year": 2015
         },
         {
          "day": 30,
          "month": 11,
          "precipitation": 0.5,
          "temp_max": 5.6,
          "temp_min": -3.8,
          "weather": "fog",
          "wind": 1.7,
          "year": 2015
         },
         {
          "day": 1,
          "month": 12,
          "precipitation": 12.2,
          "temp_max": 10,
          "temp_min": 3.9,
          "weather": "fog",
          "wind": 3.5,
          "year": 2015
         },
         {
          "day": 2,
          "month": 12,
          "precipitation": 2.5,
          "temp_max": 10.6,
          "temp_min": 4.4,
          "weather": "fog",
          "wind": 5,
          "year": 2015
         },
         {
          "day": 3,
          "month": 12,
          "precipitation": 12.7,
          "temp_max": 15.6,
          "temp_min": 7.8,
          "weather": "fog",
          "wind": 5.9,
          "year": 2015
         },
         {
          "day": 4,
          "month": 12,
          "precipitation": 2,
          "temp_max": 10.6,
          "temp_min": 6.1,
          "weather": "fog",
          "wind": 4.7,
          "year": 2015
         },
         {
          "day": 5,
          "month": 12,
          "precipitation": 15.7,
          "temp_max": 10,
          "temp_min": 6.1,
          "weather": "fog",
          "wind": 4,
          "year": 2015
         },
         {
          "day": 6,
          "month": 12,
          "precipitation": 11.2,
          "temp_max": 12.8,
          "temp_min": 7.2,
          "weather": "fog",
          "wind": 5.9,
          "year": 2015
         },
         {
          "day": 7,
          "month": 12,
          "precipitation": 27.4,
          "temp_max": 11.1,
          "temp_min": 8.3,
          "weather": "fog",
          "wind": 3.4,
          "year": 2015
         },
         {
          "day": 8,
          "month": 12,
          "precipitation": 54.1,
          "temp_max": 15.6,
          "temp_min": 10,
          "weather": "fog",
          "wind": 6.2,
          "year": 2015
         },
         {
          "day": 9,
          "month": 12,
          "precipitation": 13.5,
          "temp_max": 12.2,
          "temp_min": 7.8,
          "weather": "fog",
          "wind": 6.3,
          "year": 2015
         },
         {
          "day": 10,
          "month": 12,
          "precipitation": 9.4,
          "temp_max": 11.7,
          "temp_min": 6.1,
          "weather": "fog",
          "wind": 7.5,
          "year": 2015
         },
         {
          "day": 11,
          "month": 12,
          "precipitation": 0.3,
          "temp_max": 9.4,
          "temp_min": 4.4,
          "weather": "sun",
          "wind": 2.8,
          "year": 2015
         },
         {
          "day": 12,
          "month": 12,
          "precipitation": 16,
          "temp_max": 8.9,
          "temp_min": 5.6,
          "weather": "fog",
          "wind": 5.6,
          "year": 2015
         },
         {
          "day": 13,
          "month": 12,
          "precipitation": 1.3,
          "temp_max": 7.8,
          "temp_min": 6.1,
          "weather": "sun",
          "wind": 6.1,
          "year": 2015
         },
         {
          "day": 14,
          "month": 12,
          "precipitation": 0,
          "temp_max": 7.8,
          "temp_min": 1.7,
          "weather": "sun",
          "wind": 1.7,
          "year": 2015
         },
         {
          "day": 15,
          "month": 12,
          "precipitation": 1.5,
          "temp_max": 6.7,
          "temp_min": 1.1,
          "weather": "fog",
          "wind": 2.9,
          "year": 2015
         },
         {
          "day": 16,
          "month": 12,
          "precipitation": 3.6,
          "temp_max": 6.1,
          "temp_min": 2.8,
          "weather": "fog",
          "wind": 2.3,
          "year": 2015
         },
         {
          "day": 17,
          "month": 12,
          "precipitation": 21.8,
          "temp_max": 6.7,
          "temp_min": 3.9,
          "weather": "fog",
          "wind": 6,
          "year": 2015
         },
         {
          "day": 18,
          "month": 12,
          "precipitation": 18.5,
          "temp_max": 8.9,
          "temp_min": 4.4,
          "weather": "fog",
          "wind": 5.1,
          "year": 2015
         },
         {
          "day": 19,
          "month": 12,
          "precipitation": 0,
          "temp_max": 8.3,
          "temp_min": 2.8,
          "weather": "fog",
          "wind": 4.1,
          "year": 2015
         },
         {
          "day": 20,
          "month": 12,
          "precipitation": 4.3,
          "temp_max": 7.8,
          "temp_min": 4.4,
          "weather": "fog",
          "wind": 6.7,
          "year": 2015
         },
         {
          "day": 21,
          "month": 12,
          "precipitation": 27.4,
          "temp_max": 5.6,
          "temp_min": 2.8,
          "weather": "fog",
          "wind": 4.3,
          "year": 2015
         },
         {
          "day": 22,
          "month": 12,
          "precipitation": 4.6,
          "temp_max": 7.8,
          "temp_min": 2.8,
          "weather": "fog",
          "wind": 5,
          "year": 2015
         },
         {
          "day": 23,
          "month": 12,
          "precipitation": 6.1,
          "temp_max": 5,
          "temp_min": 2.8,
          "weather": "fog",
          "wind": 7.6,
          "year": 2015
         },
         {
          "day": 24,
          "month": 12,
          "precipitation": 2.5,
          "temp_max": 5.6,
          "temp_min": 2.2,
          "weather": "fog",
          "wind": 4.3,
          "year": 2015
         },
         {
          "day": 25,
          "month": 12,
          "precipitation": 5.8,
          "temp_max": 5,
          "temp_min": 2.2,
          "weather": "fog",
          "wind": 1.5,
          "year": 2015
         },
         {
          "day": 26,
          "month": 12,
          "precipitation": 0,
          "temp_max": 4.4,
          "temp_min": 0,
          "weather": "sun",
          "wind": 2.5,
          "year": 2015
         },
         {
          "day": 27,
          "month": 12,
          "precipitation": 8.6,
          "temp_max": 4.4,
          "temp_min": 1.7,
          "weather": "fog",
          "wind": 2.9,
          "year": 2015
         },
         {
          "day": 28,
          "month": 12,
          "precipitation": 1.5,
          "temp_max": 5,
          "temp_min": 1.7,
          "weather": "fog",
          "wind": 1.3,
          "year": 2015
         },
         {
          "day": 29,
          "month": 12,
          "precipitation": 0,
          "temp_max": 7.2,
          "temp_min": 0.6,
          "weather": "fog",
          "wind": 2.6,
          "year": 2015
         },
         {
          "day": 30,
          "month": 12,
          "precipitation": 0,
          "temp_max": 5.6,
          "temp_min": -1,
          "weather": "sun",
          "wind": 3.4,
          "year": 2015
         },
         {
          "day": 31,
          "month": 12,
          "precipitation": 0,
          "temp_max": 5.6,
          "temp_min": -2.1,
          "weather": "sun",
          "wind": 3.5,
          "year": 2015
         }
        ]
       },
       "encoding": {
        "color": {
         "field": "weather",
         "type": "nominal"
        },
        "tooltip": [
         {
          "field": "weather",
          "type": "nominal"
         },
         {
          "field": "temp_max",
          "type": "quantitative"
         }
        ],
        "x": {
         "field": "temp_max",
         "type": "quantitative"
        },
        "y": {
         "field": "wind",
         "type": "quantitative"
        }
       },
       "height": 500,
       "mark": "point",
       "selection": {
        "selector004": {
         "bind": "scales",
         "encodings": [
          "x",
          "y"
         ],
         "type": "interval"
        }
       },
       "width": 900
      },
      "image/png": "[encoded data removed]",
      "text/plain": [
       "<VegaLite 4 object>\n",
       "\n",
       "If you see this message, it means the renderer has not been properly enabled\n",
       "for the frontend that you are using. For more information, see\n",
       "https://altair-viz.github.io/user_guide/troubleshooting.html\n"
      ]
     },
     "execution_count": 22,
     "metadata": {},
     "output_type": "execute_result"
    }
   ],
   "source": [
    "'''tooltip arguments is going to signify what we are going to see when we hover over the data points'''\n",
    "alt.Chart(weather_data, height = 500, width = 900) \\\n",
    "    .mark_point() \\\n",
    "    .encode(x = 'temp_max:Q',\n",
    "               y = 'wind:Q',\n",
    "               color = 'weather:N',\n",
    "               tooltip = ['weather','temp_max']) \\\n",
    ".interactive()"
   ]
  },
  {
   "cell_type": "code",
   "execution_count": 35,
   "metadata": {},
   "outputs": [
    {
     "data": {
      "application/vnd.vegalite.v4+json": {
       "$schema": "https://vega.github.io/schema/vega-lite/v4.8.1.json",
       "config": {
        "view": {
         "continuousHeight": 300,
         "continuousWidth": 400
        }
       },
       "data": {
        "name": "data-34c913c2ef68cd4023ca26de0be7dcb4"
       },
       "datasets": {
        "data-34c913c2ef68cd4023ca26de0be7dcb4": [
         {
          "day": 1,
          "month": 1,
          "precipitation": 0,
          "temp_max": 12.8,
          "temp_min": 5,
          "weather": "drizzle",
          "wind": 4.7,
          "year": 2012
         },
         {
          "day": 2,
          "month": 1,
          "precipitation": 10.9,
          "temp_max": 10.6,
          "temp_min": 2.8,
          "weather": "rain",
          "wind": 4.5,
          "year": 2012
         },
         {
          "day": 3,
          "month": 1,
          "precipitation": 0.8,
          "temp_max": 11.7,
          "temp_min": 7.2,
          "weather": "rain",
          "wind": 2.3,
          "year": 2012
         },
         {
          "day": 4,
          "month": 1,
          "precipitation": 20.3,
          "temp_max": 12.2,
          "temp_min": 5.6,
          "weather": "rain",
          "wind": 4.7,
          "year": 2012
         },
         {
          "day": 5,
          "month": 1,
          "precipitation": 1.3,
          "temp_max": 8.9,
          "temp_min": 2.8,
          "weather": "rain",
          "wind": 6.1,
          "year": 2012
         },
         {
          "day": 6,
          "month": 1,
          "precipitation": 2.5,
          "temp_max": 4.4,
          "temp_min": 2.2,
          "weather": "rain",
          "wind": 2.2,
          "year": 2012
         },
         {
          "day": 7,
          "month": 1,
          "precipitation": 0,
          "temp_max": 7.2,
          "temp_min": 2.8,
          "weather": "rain",
          "wind": 2.3,
          "year": 2012
         },
         {
          "day": 8,
          "month": 1,
          "precipitation": 0,
          "temp_max": 10,
          "temp_min": 2.8,
          "weather": "sun",
          "wind": 2,
          "year": 2012
         },
         {
          "day": 9,
          "month": 1,
          "precipitation": 4.3,
          "temp_max": 9.4,
          "temp_min": 5,
          "weather": "rain",
          "wind": 3.4,
          "year": 2012
         },
         {
          "day": 10,
          "month": 1,
          "precipitation": 1,
          "temp_max": 6.1,
          "temp_min": 0.6,
          "weather": "rain",
          "wind": 3.4,
          "year": 2012
         },
         {
          "day": 11,
          "month": 1,
          "precipitation": 0,
          "temp_max": 6.1,
          "temp_min": -1.1,
          "weather": "sun",
          "wind": 5.1,
          "year": 2012
         },
         {
          "day": 12,
          "month": 1,
          "precipitation": 0,
          "temp_max": 6.1,
          "temp_min": -1.7,
          "weather": "sun",
          "wind": 1.9,
          "year": 2012
         },
         {
          "day": 13,
          "month": 1,
          "precipitation": 0,
          "temp_max": 5,
          "temp_min": -2.8,
          "weather": "sun",
          "wind": 1.3,
          "year": 2012
         },
         {
          "day": 14,
          "month": 1,
          "precipitation": 4.1,
          "temp_max": 4.4,
          "temp_min": 0.6,
          "weather": "snow",
          "wind": 5.3,
          "year": 2012
         },
         {
          "day": 15,
          "month": 1,
          "precipitation": 5.3,
          "temp_max": 1.1,
          "temp_min": -3.3,
          "weather": "snow",
          "wind": 3.2,
          "year": 2012
         },
         {
          "day": 16,
          "month": 1,
          "precipitation": 2.5,
          "temp_max": 1.7,
          "temp_min": -2.8,
          "weather": "snow",
          "wind": 5,
          "year": 2012
         },
         {
          "day": 17,
          "month": 1,
          "precipitation": 8.1,
          "temp_max": 3.3,
          "temp_min": 0,
          "weather": "snow",
          "wind": 5.6,
          "year": 2012
         },
         {
          "day": 18,
          "month": 1,
          "precipitation": 19.8,
          "temp_max": 0,
          "temp_min": -2.8,
          "weather": "snow",
          "wind": 5,
          "year": 2012
         },
         {
          "day": 19,
          "month": 1,
          "precipitation": 15.2,
          "temp_max": -1.1,
          "temp_min": -2.8,
          "weather": "snow",
          "wind": 1.6,
          "year": 2012
         },
         {
          "day": 20,
          "month": 1,
          "precipitation": 13.5,
          "temp_max": 7.2,
          "temp_min": -1.1,
          "weather": "snow",
          "wind": 2.3,
          "year": 2012
         },
         {
          "day": 21,
          "month": 1,
          "precipitation": 3,
          "temp_max": 8.3,
          "temp_min": 3.3,
          "weather": "rain",
          "wind": 8.2,
          "year": 2012
         },
         {
          "day": 22,
          "month": 1,
          "precipitation": 6.1,
          "temp_max": 6.7,
          "temp_min": 2.2,
          "weather": "rain",
          "wind": 4.8,
          "year": 2012
         },
         {
          "day": 23,
          "month": 1,
          "precipitation": 0,
          "temp_max": 8.3,
          "temp_min": 1.1,
          "weather": "rain",
          "wind": 3.6,
          "year": 2012
         },
         {
          "day": 24,
          "month": 1,
          "precipitation": 8.6,
          "temp_max": 10,
          "temp_min": 2.2,
          "weather": "rain",
          "wind": 5.1,
          "year": 2012
         },
         {
          "day": 25,
          "month": 1,
          "precipitation": 8.1,
          "temp_max": 8.9,
          "temp_min": 4.4,
          "weather": "rain",
          "wind": 5.4,
          "year": 2012
         },
         {
          "day": 26,
          "month": 1,
          "precipitation": 4.8,
          "temp_max": 8.9,
          "temp_min": 1.1,
          "weather": "rain",
          "wind": 4.8,
          "year": 2012
         },
         {
          "day": 27,
          "month": 1,
          "precipitation": 0,
          "temp_max": 6.7,
          "temp_min": -2.2,
          "weather": "drizzle",
          "wind": 1.4,
          "year": 2012
         },
         {
          "day": 28,
          "month": 1,
          "precipitation": 0,
          "temp_max": 6.7,
          "temp_min": 0.6,
          "weather": "rain",
          "wind": 2.2,
          "year": 2012
         },
         {
          "day": 29,
          "month": 1,
          "precipitation": 27.7,
          "temp_max": 9.4,
          "temp_min": 3.9,
          "weather": "rain",
          "wind": 4.5,
          "year": 2012
         },
         {
          "day": 30,
          "month": 1,
          "precipitation": 3.6,
          "temp_max": 8.3,
          "temp_min": 6.1,
          "weather": "rain",
          "wind": 5.1,
          "year": 2012
         },
         {
          "day": 31,
          "month": 1,
          "precipitation": 1.8,
          "temp_max": 9.4,
          "temp_min": 6.1,
          "weather": "rain",
          "wind": 3.9,
          "year": 2012
         },
         {
          "day": 1,
          "month": 2,
          "precipitation": 13.5,
          "temp_max": 8.9,
          "temp_min": 3.3,
          "weather": "rain",
          "wind": 2.7,
          "year": 2012
         },
         {
          "day": 2,
          "month": 2,
          "precipitation": 0,
          "temp_max": 8.3,
          "temp_min": 1.7,
          "weather": "sun",
          "wind": 2.6,
          "year": 2012
         },
         {
          "day": 3,
          "month": 2,
          "precipitation": 0,
          "temp_max": 14.4,
          "temp_min": 2.2,
          "weather": "sun",
          "wind": 5.3,
          "year": 2012
         },
         {
          "day": 4,
          "month": 2,
          "precipitation": 0,
          "temp_max": 15.6,
          "temp_min": 5,
          "weather": "sun",
          "wind": 4.3,
          "year": 2012
         },
         {
          "day": 5,
          "month": 2,
          "precipitation": 0,
          "temp_max": 13.9,
          "temp_min": 1.7,
          "weather": "sun",
          "wind": 2.9,
          "year": 2012
         },
         {
          "day": 6,
          "month": 2,
          "precipitation": 0,
          "temp_max": 16.1,
          "temp_min": 1.7,
          "weather": "sun",
          "wind": 5,
          "year": 2012
         },
         {
          "day": 7,
          "month": 2,
          "precipitation": 0.3,
          "temp_max": 15.6,
          "temp_min": 7.8,
          "weather": "rain",
          "wind": 5.3,
          "year": 2012
         },
         {
          "day": 8,
          "month": 2,
          "precipitation": 2.8,
          "temp_max": 10,
          "temp_min": 5,
          "weather": "rain",
          "wind": 2.7,
          "year": 2012
         },
         {
          "day": 9,
          "month": 2,
          "precipitation": 2.5,
          "temp_max": 11.1,
          "temp_min": 7.8,
          "weather": "rain",
          "wind": 2.4,
          "year": 2012
         },
         {
          "day": 10,
          "month": 2,
          "precipitation": 2.5,
          "temp_max": 12.8,
          "temp_min": 6.7,
          "weather": "rain",
          "wind": 3,
          "year": 2012
         },
         {
          "day": 11,
          "month": 2,
          "precipitation": 0.8,
          "temp_max": 8.9,
          "temp_min": 5.6,
          "weather": "rain",
          "wind": 3.4,
          "year": 2012
         },
         {
          "day": 12,
          "month": 2,
          "precipitation": 1,
          "temp_max": 8.3,
          "temp_min": 5,
          "weather": "rain",
          "wind": 1.3,
          "year": 2012
         },
         {
          "day": 13,
          "month": 2,
          "precipitation": 11.4,
          "temp_max": 7.2,
          "temp_min": 4.4,
          "weather": "rain",
          "wind": 1.4,
          "year": 2012
         },
         {
          "day": 14,
          "month": 2,
          "precipitation": 2.5,
          "temp_max": 6.7,
          "temp_min": 1.1,
          "weather": "rain",
          "wind": 3.1,
          "year": 2012
         },
         {
          "day": 15,
          "month": 2,
          "precipitation": 0,
          "temp_max": 7.2,
          "temp_min": 0.6,
          "weather": "drizzle",
          "wind": 1.8,
          "year": 2012
         },
         {
          "day": 16,
          "month": 2,
          "precipitation": 1.8,
          "temp_max": 7.2,
          "temp_min": 3.3,
          "weather": "rain",
          "wind": 2.1,
          "year": 2012
         },
         {
          "day": 17,
          "month": 2,
          "precipitation": 17.3,
          "temp_max": 10,
          "temp_min": 4.4,
          "weather": "rain",
          "wind": 3.4,
          "year": 2012
         },
         {
          "day": 18,
          "month": 2,
          "precipitation": 6.4,
          "temp_max": 6.7,
          "temp_min": 3.9,
          "weather": "rain",
          "wind": 8.1,
          "year": 2012
         },
         {
          "day": 19,
          "month": 2,
          "precipitation": 0,
          "temp_max": 6.7,
          "temp_min": 2.2,
          "weather": "sun",
          "wind": 4.7,
          "year": 2012
         },
         {
          "day": 20,
          "month": 2,
          "precipitation": 3,
          "temp_max": 7.8,
          "temp_min": 1.7,
          "weather": "rain",
          "wind": 2.9,
          "year": 2012
         },
         {
          "day": 21,
          "month": 2,
          "precipitation": 0.8,
          "temp_max": 10,
          "temp_min": 7.8,
          "weather": "rain",
          "wind": 7.5,
          "year": 2012
         },
         {
          "day": 22,
          "month": 2,
          "precipitation": 8.6,
          "temp_max": 10,
          "temp_min": 2.8,
          "weather": "rain",
          "wind": 5.9,
          "year": 2012
         },
         {
          "day": 23,
          "month": 2,
          "precipitation": 0,
          "temp_max": 8.3,
          "temp_min": 2.8,
          "weather": "sun",
          "wind": 3.9,
          "year": 2012
         },
         {
          "day": 24,
          "month": 2,
          "precipitation": 11.4,
          "temp_max": 6.7,
          "temp_min": 4.4,
          "weather": "rain",
          "wind": 3.5,
          "year": 2012
         },
         {
          "day": 25,
          "month": 2,
          "precipitation": 0,
          "temp_max": 7.2,
          "temp_min": 2.8,
          "weather": "rain",
          "wind": 6.4,
          "year": 2012
         },
         {
          "day": 26,
          "month": 2,
          "precipitation": 1.3,
          "temp_max": 5,
          "temp_min": -1.1,
          "weather": "snow",
          "wind": 3.4,
          "year": 2012
         },
         {
          "day": 27,
          "month": 2,
          "precipitation": 0,
          "temp_max": 6.7,
          "temp_min": -2.2,
          "weather": "sun",
          "wind": 3,
          "year": 2012
         },
         {
          "day": 28,
          "month": 2,
          "precipitation": 3.6,
          "temp_max": 6.7,
          "temp_min": -0.6,
          "weather": "snow",
          "wind": 4.2,
          "year": 2012
         },
         {
          "day": 29,
          "month": 2,
          "precipitation": 0.8,
          "temp_max": 5,
          "temp_min": 1.1,
          "weather": "snow",
          "wind": 7,
          "year": 2012
         },
         {
          "day": 1,
          "month": 3,
          "precipitation": 0,
          "temp_max": 6.1,
          "temp_min": 1.1,
          "weather": "sun",
          "wind": 3.1,
          "year": 2012
         },
         {
          "day": 2,
          "month": 3,
          "precipitation": 2,
          "temp_max": 6.7,
          "temp_min": 3.9,
          "weather": "rain",
          "wind": 5.1,
          "year": 2012
         },
         {
          "day": 3,
          "month": 3,
          "precipitation": 0,
          "temp_max": 12.2,
          "temp_min": 6.7,
          "weather": "sun",
          "wind": 7,
          "year": 2012
         },
         {
          "day": 4,
          "month": 3,
          "precipitation": 0,
          "temp_max": 10.6,
          "temp_min": 6.7,
          "weather": "rain",
          "wind": 5.6,
          "year": 2012
         },
         {
          "day": 5,
          "month": 3,
          "precipitation": 6.9,
          "temp_max": 7.8,
          "temp_min": 1.1,
          "weather": "rain",
          "wind": 6.2,
          "year": 2012
         },
         {
          "day": 6,
          "month": 3,
          "precipitation": 0.5,
          "temp_max": 6.7,
          "temp_min": 0,
          "weather": "snow",
          "wind": 2.7,
          "year": 2012
         },
         {
          "day": 7,
          "month": 3,
          "precipitation": 0,
          "temp_max": 8.9,
          "temp_min": -1.7,
          "weather": "sun",
          "wind": 2.7,
          "year": 2012
         },
         {
          "day": 8,
          "month": 3,
          "precipitation": 0,
          "temp_max": 15.6,
          "temp_min": 0.6,
          "weather": "sun",
          "wind": 2.5,
          "year": 2012
         },
         {
          "day": 9,
          "month": 3,
          "precipitation": 3.6,
          "temp_max": 9.4,
          "temp_min": 5,
          "weather": "rain",
          "wind": 2.8,
          "year": 2012
         },
         {
          "day": 10,
          "month": 3,
          "precipitation": 10.4,
          "temp_max": 7.2,
          "temp_min": 6.1,
          "weather": "rain",
          "wind": 3.4,
          "year": 2012
         },
         {
          "day": 11,
          "month": 3,
          "precipitation": 13.7,
          "temp_max": 6.7,
          "temp_min": 2.8,
          "weather": "rain",
          "wind": 5.8,
          "year": 2012
         },
         {
          "day": 12,
          "month": 3,
          "precipitation": 19.3,
          "temp_max": 8.3,
          "temp_min": 0.6,
          "weather": "snow",
          "wind": 6.2,
          "year": 2012
         },
         {
          "day": 13,
          "month": 3,
          "precipitation": 9.4,
          "temp_max": 5.6,
          "temp_min": 0.6,
          "weather": "snow",
          "wind": 5.3,
          "year": 2012
         },
         {
          "day": 14,
          "month": 3,
          "precipitation": 8.6,
          "temp_max": 7.8,
          "temp_min": 1.1,
          "weather": "rain",
          "wind": 4.7,
          "year": 2012
         },
         {
          "day": 15,
          "month": 3,
          "precipitation": 23.9,
          "temp_max": 11.1,
          "temp_min": 5.6,
          "weather": "snow",
          "wind": 5.8,
          "year": 2012
         },
         {
          "day": 16,
          "month": 3,
          "precipitation": 8.4,
          "temp_max": 8.9,
          "temp_min": 3.9,
          "weather": "rain",
          "wind": 5.1,
          "year": 2012
         },
         {
          "day": 17,
          "month": 3,
          "precipitation": 9.4,
          "temp_max": 10,
          "temp_min": 0.6,
          "weather": "snow",
          "wind": 3.8,
          "year": 2012
         },
         {
          "day": 18,
          "month": 3,
          "precipitation": 3.6,
          "temp_max": 5,
          "temp_min": -0.6,
          "weather": "rain",
          "wind": 2.7,
          "year": 2012
         },
         {
          "day": 19,
          "month": 3,
          "precipitation": 2,
          "temp_max": 7.2,
          "temp_min": -1.1,
          "weather": "rain",
          "wind": 3,
          "year": 2012
         },
         {
          "day": 20,
          "month": 3,
          "precipitation": 3.6,
          "temp_max": 7.8,
          "temp_min": 2.2,
          "weather": "rain",
          "wind": 6.4,
          "year": 2012
         },
         {
          "day": 21,
          "month": 3,
          "precipitation": 1.3,
          "temp_max": 8.9,
          "temp_min": 1.1,
          "weather": "rain",
          "wind": 2.5,
          "year": 2012
         },
         {
          "day": 22,
          "month": 3,
          "precipitation": 4.1,
          "temp_max": 10,
          "temp_min": 1.7,
          "weather": "rain",
          "wind": 2.1,
          "year": 2012
         },
         {
          "day": 23,
          "month": 3,
          "precipitation": 0,
          "temp_max": 12.2,
          "temp_min": 0.6,
          "weather": "sun",
          "wind": 2.8,
          "year": 2012
         },
         {
          "day": 24,
          "month": 3,
          "precipitation": 0,
          "temp_max": 15,
          "temp_min": 3.3,
          "weather": "sun",
          "wind": 5.2,
          "year": 2012
         },
         {
          "day": 25,
          "month": 3,
          "precipitation": 0,
          "temp_max": 13.3,
          "temp_min": 2.2,
          "weather": "rain",
          "wind": 2.7,
          "year": 2012
         },
         {
          "day": 26,
          "month": 3,
          "precipitation": 0,
          "temp_max": 12.8,
          "temp_min": 6.1,
          "weather": "drizzle",
          "wind": 4.3,
          "year": 2012
         },
         {
          "day": 27,
          "month": 3,
          "precipitation": 4.8,
          "temp_max": 14.4,
          "temp_min": 6.7,
          "weather": "rain",
          "wind": 3.8,
          "year": 2012
         },
         {
          "day": 28,
          "month": 3,
          "precipitation": 1.3,
          "temp_max": 10.6,
          "temp_min": 7.2,
          "weather": "rain",
          "wind": 5.9,
          "year": 2012
         },
         {
          "day": 29,
          "month": 3,
          "precipitation": 27.4,
          "temp_max": 10,
          "temp_min": 6.1,
          "weather": "rain",
          "wind": 4.4,
          "year": 2012
         },
         {
          "day": 30,
          "month": 3,
          "precipitation": 5.6,
          "temp_max": 9.4,
          "temp_min": 5,
          "weather": "rain",
          "wind": 4.7,
          "year": 2012
         },
         {
          "day": 31,
          "month": 3,
          "precipitation": 13.2,
          "temp_max": 10,
          "temp_min": 2.8,
          "weather": "rain",
          "wind": 3.4,
          "year": 2012
         },
         {
          "day": 1,
          "month": 4,
          "precipitation": 1.5,
          "temp_max": 8.9,
          "temp_min": 4.4,
          "weather": "rain",
          "wind": 6.8,
          "year": 2012
         },
         {
          "day": 2,
          "month": 4,
          "precipitation": 0,
          "temp_max": 16.7,
          "temp_min": 4.4,
          "weather": "sun",
          "wind": 3.1,
          "year": 2012
         },
         {
          "day": 3,
          "month": 4,
          "precipitation": 1.5,
          "temp_max": 11.7,
          "temp_min": 3.3,
          "weather": "rain",
          "wind": 3.1,
          "year": 2012
         },
         {
          "day": 4,
          "month": 4,
          "precipitation": 0,
          "temp_max": 10.6,
          "temp_min": 2.8,
          "weather": "sun",
          "wind": 2.1,
          "year": 2012
         },
         {
          "day": 5,
          "month": 4,
          "precipitation": 4.6,
          "temp_max": 9.4,
          "temp_min": 2.8,
          "weather": "snow",
          "wind": 1.8,
          "year": 2012
         },
         {
          "day": 6,
          "month": 4,
          "precipitation": 0.3,
          "temp_max": 11.1,
          "temp_min": 3.3,
          "weather": "rain",
          "wind": 2.6,
          "year": 2012
         },
         {
          "day": 7,
          "month": 4,
          "precipitation": 0,
          "temp_max": 16.1,
          "temp_min": 1.7,
          "weather": "sun",
          "wind": 4.3,
          "year": 2012
         },
         {
          "day": 8,
          "month": 4,
          "precipitation": 0,
          "temp_max": 21.1,
          "temp_min": 7.2,
          "weather": "sun",
          "wind": 4.1,
          "year": 2012
         },
         {
          "day": 9,
          "month": 4,
          "precipitation": 0,
          "temp_max": 20,
          "temp_min": 6.1,
          "weather": "sun",
          "wind": 2.1,
          "year": 2012
         },
         {
          "day": 10,
          "month": 4,
          "precipitation": 0,
          "temp_max": 17.8,
          "temp_min": 8.9,
          "weather": "rain",
          "wind": 3.2,
          "year": 2012
         },
         {
          "day": 11,
          "month": 4,
          "precipitation": 2.3,
          "temp_max": 11.1,
          "temp_min": 7.2,
          "weather": "rain",
          "wind": 2.6,
          "year": 2012
         },
         {
          "day": 12,
          "month": 4,
          "precipitation": 0.5,
          "temp_max": 13.9,
          "temp_min": 5.6,
          "weather": "rain",
          "wind": 2.6,
          "year": 2012
         },
         {
          "day": 13,
          "month": 4,
          "precipitation": 0,
          "temp_max": 15,
          "temp_min": 3.9,
          "weather": "drizzle",
          "wind": 4,
          "year": 2012
         },
         {
          "day": 14,
          "month": 4,
          "precipitation": 0,
          "temp_max": 15.6,
          "temp_min": 3.3,
          "weather": "sun",
          "wind": 3,
          "year": 2012
         },
         {
          "day": 15,
          "month": 4,
          "precipitation": 0,
          "temp_max": 16.1,
          "temp_min": 7.2,
          "weather": "rain",
          "wind": 2.9,
          "year": 2012
         },
         {
          "day": 16,
          "month": 4,
          "precipitation": 8.1,
          "temp_max": 13.3,
          "temp_min": 6.7,
          "weather": "rain",
          "wind": 5.8,
          "year": 2012
         },
         {
          "day": 17,
          "month": 4,
          "precipitation": 1.8,
          "temp_max": 10,
          "temp_min": 4.4,
          "weather": "rain",
          "wind": 2,
          "year": 2012
         },
         {
          "day": 18,
          "month": 4,
          "precipitation": 1.8,
          "temp_max": 13.3,
          "temp_min": 7.2,
          "weather": "rain",
          "wind": 3.9,
          "year": 2012
         },
         {
          "day": 19,
          "month": 4,
          "precipitation": 10.9,
          "temp_max": 13.9,
          "temp_min": 5,
          "weather": "rain",
          "wind": 2.6,
          "year": 2012
         },
         {
          "day": 20,
          "month": 4,
          "precipitation": 6.6,
          "temp_max": 13.3,
          "temp_min": 6.7,
          "weather": "rain",
          "wind": 2.7,
          "year": 2012
         },
         {
          "day": 21,
          "month": 4,
          "precipitation": 0,
          "temp_max": 20,
          "temp_min": 4.4,
          "weather": "sun",
          "wind": 2.3,
          "year": 2012
         },
         {
          "day": 22,
          "month": 4,
          "precipitation": 0,
          "temp_max": 23.3,
          "temp_min": 8.3,
          "weather": "rain",
          "wind": 2.6,
          "year": 2012
         },
         {
          "day": 23,
          "month": 4,
          "precipitation": 0,
          "temp_max": 21.7,
          "temp_min": 8.9,
          "weather": "sun",
          "wind": 3.5,
          "year": 2012
         },
         {
          "day": 24,
          "month": 4,
          "precipitation": 4.3,
          "temp_max": 13.9,
          "temp_min": 10,
          "weather": "rain",
          "wind": 2.8,
          "year": 2012
         },
         {
          "day": 25,
          "month": 4,
          "precipitation": 10.7,
          "temp_max": 16.7,
          "temp_min": 8.9,
          "weather": "rain",
          "wind": 2.6,
          "year": 2012
         },
         {
          "day": 26,
          "month": 4,
          "precipitation": 3.8,
          "temp_max": 13.9,
          "temp_min": 6.7,
          "weather": "rain",
          "wind": 5.2,
          "year": 2012
         },
         {
          "day": 27,
          "month": 4,
          "precipitation": 0.8,
          "temp_max": 13.3,
          "temp_min": 6.1,
          "weather": "rain",
          "wind": 4.8,
          "year": 2012
         },
         {
          "day": 28,
          "month": 4,
          "precipitation": 0,
          "temp_max": 16.1,
          "temp_min": 8.3,
          "weather": "drizzle",
          "wind": 2.5,
          "year": 2012
         },
         {
          "day": 29,
          "month": 4,
          "precipitation": 4.3,
          "temp_max": 15.6,
          "temp_min": 8.9,
          "weather": "rain",
          "wind": 1.6,
          "year": 2012
         },
         {
          "day": 30,
          "month": 4,
          "precipitation": 4.3,
          "temp_max": 12.8,
          "temp_min": 7.2,
          "weather": "rain",
          "wind": 8,
          "year": 2012
         },
         {
          "day": 1,
          "month": 5,
          "precipitation": 0.5,
          "temp_max": 11.7,
          "temp_min": 6.1,
          "weather": "rain",
          "wind": 6.4,
          "year": 2012
         },
         {
          "day": 2,
          "month": 5,
          "precipitation": 0.5,
          "temp_max": 13.3,
          "temp_min": 5.6,
          "weather": "rain",
          "wind": 2.5,
          "year": 2012
         },
         {
          "day": 3,
          "month": 5,
          "precipitation": 18.5,
          "temp_max": 11.1,
          "temp_min": 7.2,
          "weather": "rain",
          "wind": 3.4,
          "year": 2012
         },
         {
          "day": 4,
          "month": 5,
          "precipitation": 1.8,
          "temp_max": 12.2,
          "temp_min": 6.1,
          "weather": "rain",
          "wind": 4.6,
          "year": 2012
         },
         {
          "day": 5,
          "month": 5,
          "precipitation": 0,
          "temp_max": 13.3,
          "temp_min": 5,
          "weather": "sun",
          "wind": 2.3,
          "year": 2012
         },
         {
          "day": 6,
          "month": 5,
          "precipitation": 0,
          "temp_max": 17.8,
          "temp_min": 5,
          "weather": "sun",
          "wind": 2.4,
          "year": 2012
         },
         {
          "day": 7,
          "month": 5,
          "precipitation": 0,
          "temp_max": 23.9,
          "temp_min": 6.1,
          "weather": "sun",
          "wind": 2.2,
          "year": 2012
         },
         {
          "day": 8,
          "month": 5,
          "precipitation": 0,
          "temp_max": 18.3,
          "temp_min": 9.4,
          "weather": "sun",
          "wind": 3,
          "year": 2012
         },
         {
          "day": 9,
          "month": 5,
          "precipitation": 0,
          "temp_max": 13.3,
          "temp_min": 6.7,
          "weather": "rain",
          "wind": 3.9,
          "year": 2012
         },
         {
          "day": 10,
          "month": 5,
          "precipitation": 0,
          "temp_max": 14.4,
          "temp_min": 3.9,
          "weather": "sun",
          "wind": 3,
          "year": 2012
         },
         {
          "day": 11,
          "month": 5,
          "precipitation": 0,
          "temp_max": 18.3,
          "temp_min": 4.4,
          "weather": "sun",
          "wind": 4.3,
          "year": 2012
         },
         {
          "day": 12,
          "month": 5,
          "precipitation": 0,
          "temp_max": 24.4,
          "temp_min": 6.7,
          "weather": "sun",
          "wind": 3.4,
          "year": 2012
         },
         {
          "day": 13,
          "month": 5,
          "precipitation": 0,
          "temp_max": 25.6,
          "temp_min": 9.4,
          "weather": "sun",
          "wind": 4.2,
          "year": 2012
         },
         {
          "day": 14,
          "month": 5,
          "precipitation": 0,
          "temp_max": 26.7,
          "temp_min": 12.8,
          "weather": "sun",
          "wind": 3.8,
          "year": 2012
         },
         {
          "day": 15,
          "month": 5,
          "precipitation": 0,
          "temp_max": 24.4,
          "temp_min": 9.4,
          "weather": "drizzle",
          "wind": 4.1,
          "year": 2012
         },
         {
          "day": 16,
          "month": 5,
          "precipitation": 0,
          "temp_max": 19.4,
          "temp_min": 9.4,
          "weather": "sun",
          "wind": 3.5,
          "year": 2012
         },
         {
          "day": 17,
          "month": 5,
          "precipitation": 0,
          "temp_max": 17.8,
          "temp_min": 6.7,
          "weather": "rain",
          "wind": 2.9,
          "year": 2012
         },
         {
          "day": 18,
          "month": 5,
          "precipitation": 0,
          "temp_max": 15.6,
          "temp_min": 7.8,
          "weather": "rain",
          "wind": 3.1,
          "year": 2012
         },
         {
          "day": 19,
          "month": 5,
          "precipitation": 0,
          "temp_max": 19.4,
          "temp_min": 7.2,
          "weather": "sun",
          "wind": 1.5,
          "year": 2012
         },
         {
          "day": 20,
          "month": 5,
          "precipitation": 6.4,
          "temp_max": 14.4,
          "temp_min": 11.7,
          "weather": "rain",
          "wind": 1.3,
          "year": 2012
         },
         {
          "day": 21,
          "month": 5,
          "precipitation": 14,
          "temp_max": 16.7,
          "temp_min": 10,
          "weather": "rain",
          "wind": 4,
          "year": 2012
         },
         {
          "day": 22,
          "month": 5,
          "precipitation": 6.1,
          "temp_max": 12.8,
          "temp_min": 8.9,
          "weather": "rain",
          "wind": 4.8,
          "year": 2012
         },
         {
          "day": 23,
          "month": 5,
          "precipitation": 0.3,
          "temp_max": 14.4,
          "temp_min": 8.9,
          "weather": "rain",
          "wind": 6.3,
          "year": 2012
         },
         {
          "day": 24,
          "month": 5,
          "precipitation": 0,
          "temp_max": 17.2,
          "temp_min": 8.9,
          "weather": "rain",
          "wind": 3.3,
          "year": 2012
         },
         {
          "day": 25,
          "month": 5,
          "precipitation": 0,
          "temp_max": 22.2,
          "temp_min": 8.9,
          "weather": "rain",
          "wind": 3.1,
          "year": 2012
         },
         {
          "day": 26,
          "month": 5,
          "precipitation": 0,
          "temp_max": 22.2,
          "temp_min": 8.9,
          "weather": "sun",
          "wind": 3.6,
          "year": 2012
         },
         {
          "day": 27,
          "month": 5,
          "precipitation": 0,
          "temp_max": 17.2,
          "temp_min": 11.7,
          "weather": "sun",
          "wind": 3.7,
          "year": 2012
         },
         {
          "day": 28,
          "month": 5,
          "precipitation": 0,
          "temp_max": 16.7,
          "temp_min": 10,
          "weather": "rain",
          "wind": 3.4,
          "year": 2012
         },
         {
          "day": 29,
          "month": 5,
          "precipitation": 0,
          "temp_max": 16.1,
          "temp_min": 7.8,
          "weather": "sun",
          "wind": 1.8,
          "year": 2012
         },
         {
          "day": 30,
          "month": 5,
          "precipitation": 0.3,
          "temp_max": 18.9,
          "temp_min": 11.1,
          "weather": "rain",
          "wind": 1.5,
          "year": 2012
         },
         {
          "day": 31,
          "month": 5,
          "precipitation": 3.8,
          "temp_max": 17.8,
          "temp_min": 12.2,
          "weather": "rain",
          "wind": 2.7,
          "year": 2012
         },
         {
          "day": 1,
          "month": 6,
          "precipitation": 6.6,
          "temp_max": 20,
          "temp_min": 12.8,
          "weather": "rain",
          "wind": 3.7,
          "year": 2012
         },
         {
          "day": 2,
          "month": 6,
          "precipitation": 0.3,
          "temp_max": 18.9,
          "temp_min": 10.6,
          "weather": "rain",
          "wind": 3.7,
          "year": 2012
         },
         {
          "day": 3,
          "month": 6,
          "precipitation": 0,
          "temp_max": 17.2,
          "temp_min": 9.4,
          "weather": "sun",
          "wind": 2.9,
          "year": 2012
         },
         {
          "day": 4,
          "month": 6,
          "precipitation": 1.3,
          "temp_max": 12.8,
          "temp_min": 8.9,
          "weather": "rain",
          "wind": 3.1,
          "year": 2012
         },
         {
          "day": 5,
          "month": 6,
          "precipitation": 16,
          "temp_max": 13.3,
          "temp_min": 8.3,
          "weather": "rain",
          "wind": 3.3,
          "year": 2012
         },
         {
          "day": 6,
          "month": 6,
          "precipitation": 0,
          "temp_max": 16.1,
          "temp_min": 6.1,
          "weather": "sun",
          "wind": 3.4,
          "year": 2012
         },
         {
          "day": 7,
          "month": 6,
          "precipitation": 16.5,
          "temp_max": 16.1,
          "temp_min": 8.9,
          "weather": "rain",
          "wind": 3.5,
          "year": 2012
         },
         {
          "day": 8,
          "month": 6,
          "precipitation": 1.5,
          "temp_max": 15,
          "temp_min": 8.3,
          "weather": "rain",
          "wind": 3,
          "year": 2012
         },
         {
          "day": 9,
          "month": 6,
          "precipitation": 0,
          "temp_max": 17.2,
          "temp_min": 8.3,
          "weather": "rain",
          "wind": 4.7,
          "year": 2012
         },
         {
          "day": 10,
          "month": 6,
          "precipitation": 0,
          "temp_max": 18.9,
          "temp_min": 10,
          "weather": "sun",
          "wind": 2.9,
          "year": 2012
         },
         {
          "day": 11,
          "month": 6,
          "precipitation": 0,
          "temp_max": 23.3,
          "temp_min": 10,
          "weather": "rain",
          "wind": 1.8,
          "year": 2012
         },
         {
          "day": 12,
          "month": 6,
          "precipitation": 0.8,
          "temp_max": 18.3,
          "temp_min": 12.8,
          "weather": "rain",
          "wind": 3.9,
          "year": 2012
         },
         {
          "day": 13,
          "month": 6,
          "precipitation": 0,
          "temp_max": 16.1,
          "temp_min": 11.1,
          "weather": "sun",
          "wind": 4.3,
          "year": 2012
         },
         {
          "day": 14,
          "month": 6,
          "precipitation": 0,
          "temp_max": 17.2,
          "temp_min": 10,
          "weather": "sun",
          "wind": 2.7,
          "year": 2012
         },
         {
          "day": 15,
          "month": 6,
          "precipitation": 0,
          "temp_max": 22.2,
          "temp_min": 9.4,
          "weather": "sun",
          "wind": 1.7,
          "year": 2012
         },
         {
          "day": 16,
          "month": 6,
          "precipitation": 0,
          "temp_max": 21.1,
          "temp_min": 15,
          "weather": "rain",
          "wind": 4.1,
          "year": 2012
         },
         {
          "day": 17,
          "month": 6,
          "precipitation": 0,
          "temp_max": 18.9,
          "temp_min": 11.7,
          "weather": "sun",
          "wind": 6.4,
          "year": 2012
         },
         {
          "day": 18,
          "month": 6,
          "precipitation": 3,
          "temp_max": 17.2,
          "temp_min": 10,
          "weather": "rain",
          "wind": 3.8,
          "year": 2012
         },
         {
          "day": 19,
          "month": 6,
          "precipitation": 1,
          "temp_max": 19.4,
          "temp_min": 10,
          "weather": "rain",
          "wind": 3,
          "year": 2012
         },
         {
          "day": 20,
          "month": 6,
          "precipitation": 0,
          "temp_max": 24.4,
          "temp_min": 10,
          "weather": "sun",
          "wind": 3,
          "year": 2012
         },
         {
          "day": 21,
          "month": 6,
          "precipitation": 0,
          "temp_max": 23.9,
          "temp_min": 11.7,
          "weather": "sun",
          "wind": 2.1,
          "year": 2012
         },
         {
          "day": 22,
          "month": 6,
          "precipitation": 15.7,
          "temp_max": 13.9,
          "temp_min": 11.7,
          "weather": "rain",
          "wind": 1.9,
          "year": 2012
         },
         {
          "day": 23,
          "month": 6,
          "precipitation": 8.6,
          "temp_max": 15.6,
          "temp_min": 9.4,
          "weather": "rain",
          "wind": 2.5,
          "year": 2012
         },
         {
          "day": 24,
          "month": 6,
          "precipitation": 0,
          "temp_max": 19.4,
          "temp_min": 9.4,
          "weather": "drizzle",
          "wind": 2,
          "year": 2012
         },
         {
          "day": 25,
          "month": 6,
          "precipitation": 0.5,
          "temp_max": 19.4,
          "temp_min": 11.1,
          "weather": "rain",
          "wind": 3.1,
          "year": 2012
         },
         {
          "day": 26,
          "month": 6,
          "precipitation": 0,
          "temp_max": 18.3,
          "temp_min": 10.6,
          "weather": "rain",
          "wind": 3.4,
          "year": 2012
         },
         {
          "day": 27,
          "month": 6,
          "precipitation": 0,
          "temp_max": 22.8,
          "temp_min": 8.9,
          "weather": "sun",
          "wind": 1.8,
          "year": 2012
         },
         {
          "day": 28,
          "month": 6,
          "precipitation": 0,
          "temp_max": 22.2,
          "temp_min": 11.7,
          "weather": "rain",
          "wind": 2.5,
          "year": 2012
         },
         {
          "day": 29,
          "month": 6,
          "precipitation": 0.3,
          "temp_max": 21.7,
          "temp_min": 15,
          "weather": "rain",
          "wind": 1.9,
          "year": 2012
         },
         {
          "day": 30,
          "month": 6,
          "precipitation": 3,
          "temp_max": 20,
          "temp_min": 13.3,
          "weather": "rain",
          "wind": 2.4,
          "year": 2012
         },
         {
          "day": 1,
          "month": 7,
          "precipitation": 0,
          "temp_max": 20,
          "temp_min": 12.2,
          "weather": "rain",
          "wind": 2.3,
          "year": 2012
         },
         {
          "day": 2,
          "month": 7,
          "precipitation": 2,
          "temp_max": 18.9,
          "temp_min": 11.7,
          "weather": "rain",
          "wind": 2.1,
          "year": 2012
         },
         {
          "day": 3,
          "month": 7,
          "precipitation": 5.8,
          "temp_max": 18.3,
          "temp_min": 10.6,
          "weather": "rain",
          "wind": 6,
          "year": 2012
         },
         {
          "day": 4,
          "month": 7,
          "precipitation": 0,
          "temp_max": 20.6,
          "temp_min": 9.4,
          "weather": "sun",
          "wind": 3.8,
          "year": 2012
         },
         {
          "day": 5,
          "month": 7,
          "precipitation": 0,
          "temp_max": 24.4,
          "temp_min": 10.6,
          "weather": "drizzle",
          "wind": 3.1,
          "year": 2012
         },
         {
          "day": 6,
          "month": 7,
          "precipitation": 0,
          "temp_max": 25,
          "temp_min": 11.1,
          "weather": "sun",
          "wind": 2.1,
          "year": 2012
         },
         {
          "day": 7,
          "month": 7,
          "precipitation": 0,
          "temp_max": 26.7,
          "temp_min": 12.8,
          "weather": "sun",
          "wind": 3.8,
          "year": 2012
         },
         {
          "day": 8,
          "month": 7,
          "precipitation": 0,
          "temp_max": 28.3,
          "temp_min": 14.4,
          "weather": "rain",
          "wind": 2.8,
          "year": 2012
         },
         {
          "day": 9,
          "month": 7,
          "precipitation": 1.5,
          "temp_max": 25,
          "temp_min": 12.8,
          "weather": "rain",
          "wind": 2,
          "year": 2012
         },
         {
          "day": 10,
          "month": 7,
          "precipitation": 0,
          "temp_max": 23.9,
          "temp_min": 11.1,
          "weather": "drizzle",
          "wind": 2.3,
          "year": 2012
         },
         {
          "day": 11,
          "month": 7,
          "precipitation": 0,
          "temp_max": 27.8,
          "temp_min": 13.3,
          "weather": "fog",
          "wind": 2.9,
          "year": 2012
         },
         {
          "day": 12,
          "month": 7,
          "precipitation": 0,
          "temp_max": 25.6,
          "temp_min": 13.3,
          "weather": "drizzle",
          "wind": 2.7,
          "year": 2012
         },
         {
          "day": 13,
          "month": 7,
          "precipitation": 0.5,
          "temp_max": 23.3,
          "temp_min": 13.9,
          "weather": "rain",
          "wind": 2.2,
          "year": 2012
         },
         {
          "day": 14,
          "month": 7,
          "precipitation": 0,
          "temp_max": 25,
          "temp_min": 15,
          "weather": "rain",
          "wind": 2.2,
          "year": 2012
         },
         {
          "day": 15,
          "month": 7,
          "precipitation": 0,
          "temp_max": 18.9,
          "temp_min": 13.3,
          "weather": "rain",
          "wind": 3.8,
          "year": 2012
         },
         {
          "day": 16,
          "month": 7,
          "precipitation": 0.3,
          "temp_max": 26.1,
          "temp_min": 13.3,
          "weather": "rain",
          "wind": 2.5,
          "year": 2012
         },
         {
          "day": 17,
          "month": 7,
          "precipitation": 0,
          "temp_max": 21.7,
          "temp_min": 15,
          "weather": "sun",
          "wind": 2.6,
          "year": 2012
         },
         {
          "day": 18,
          "month": 7,
          "precipitation": 0,
          "temp_max": 21.1,
          "temp_min": 14.4,
          "weather": "sun",
          "wind": 2.9,
          "year": 2012
         },
         {
          "day": 19,
          "month": 7,
          "precipitation": 0,
          "temp_max": 25,
          "temp_min": 14.4,
          "weather": "sun",
          "wind": 2.2,
          "year": 2012
         },
         {
          "day": 20,
          "month": 7,
          "precipitation": 15.2,
          "temp_max": 19.4,
          "temp_min": 13.9,
          "weather": "rain",
          "wind": 4,
          "year": 2012
         },
         {
          "day": 21,
          "month": 7,
          "precipitation": 0,
          "temp_max": 23.9,
          "temp_min": 13.9,
          "weather": "sun",
          "wind": 2.3,
          "year": 2012
         },
         {
          "day": 22,
          "month": 7,
          "precipitation": 1,
          "temp_max": 20.6,
          "temp_min": 12.2,
          "weather": "rain",
          "wind": 3.9,
          "year": 2012
         },
         {
          "day": 23,
          "month": 7,
          "precipitation": 0,
          "temp_max": 18.9,
          "temp_min": 11.1,
          "weather": "rain",
          "wind": 3.3,
          "year": 2012
         },
         {
          "day": 24,
          "month": 7,
          "precipitation": 0,
          "temp_max": 23.3,
          "temp_min": 12.2,
          "weather": "sun",
          "wind": 4.3,
          "year": 2012
         },
         {
          "day": 25,
          "month": 7,
          "precipitation": 0,
          "temp_max": 26.7,
          "temp_min": 12.8,
          "weather": "sun",
          "wind": 2.6,
          "year": 2012
         },
         {
          "day": 26,
          "month": 7,
          "precipitation": 0,
          "temp_max": 25.6,
          "temp_min": 12.8,
          "weather": "drizzle",
          "wind": 2.2,
          "year": 2012
         },
         {
          "day": 27,
          "month": 7,
          "precipitation": 0,
          "temp_max": 18.9,
          "temp_min": 13.9,
          "weather": "drizzle",
          "wind": 2.8,
          "year": 2012
         },
         {
          "day": 28,
          "month": 7,
          "precipitation": 0,
          "temp_max": 22.2,
          "temp_min": 13.3,
          "weather": "drizzle",
          "wind": 1.7,
          "year": 2012
         },
         {
          "day": 29,
          "month": 7,
          "precipitation": 0,
          "temp_max": 22.8,
          "temp_min": 15,
          "weather": "sun",
          "wind": 2,
          "year": 2012
         },
         {
          "day": 30,
          "month": 7,
          "precipitation": 0,
          "temp_max": 19.4,
          "temp_min": 13.3,
          "weather": "sun",
          "wind": 3,
          "year": 2012
         },
         {
          "day": 31,
          "month": 7,
          "precipitation": 0,
          "temp_max": 22.8,
          "temp_min": 13.9,
          "weather": "sun",
          "wind": 2.8,
          "year": 2012
         },
         {
          "day": 1,
          "month": 8,
          "precipitation": 0,
          "temp_max": 23.9,
          "temp_min": 13.3,
          "weather": "drizzle",
          "wind": 2.2,
          "year": 2012
         },
         {
          "day": 2,
          "month": 8,
          "precipitation": 0,
          "temp_max": 23.3,
          "temp_min": 12.2,
          "weather": "sun",
          "wind": 2.5,
          "year": 2012
         },
         {
          "day": 3,
          "month": 8,
          "precipitation": 0,
          "temp_max": 27.2,
          "temp_min": 12.8,
          "weather": "sun",
          "wind": 3.9,
          "year": 2012
         },
         {
          "day": 4,
          "month": 8,
          "precipitation": 0,
          "temp_max": 33.9,
          "temp_min": 16.7,
          "weather": "sun",
          "wind": 3.7,
          "year": 2012
         },
         {
          "day": 5,
          "month": 8,
          "precipitation": 0,
          "temp_max": 33.9,
          "temp_min": 17.8,
          "weather": "sun",
          "wind": 1.9,
          "year": 2012
         },
         {
          "day": 6,
          "month": 8,
          "precipitation": 0,
          "temp_max": 28.3,
          "temp_min": 15.6,
          "weather": "rain",
          "wind": 2.5,
          "year": 2012
         },
         {
          "day": 7,
          "month": 8,
          "precipitation": 0,
          "temp_max": 21.1,
          "temp_min": 15,
          "weather": "drizzle",
          "wind": 2.6,
          "year": 2012
         },
         {
          "day": 8,
          "month": 8,
          "precipitation": 0,
          "temp_max": 22.2,
          "temp_min": 15,
          "weather": "sun",
          "wind": 3.1,
          "year": 2012
         },
         {
          "day": 9,
          "month": 8,
          "precipitation": 0,
          "temp_max": 24.4,
          "temp_min": 14.4,
          "weather": "drizzle",
          "wind": 3.8,
          "year": 2012
         },
         {
          "day": 10,
          "month": 8,
          "precipitation": 0,
          "temp_max": 25.6,
          "temp_min": 12.2,
          "weather": "sun",
          "wind": 2.3,
          "year": 2012
         },
         {
          "day": 11,
          "month": 8,
          "precipitation": 0,
          "temp_max": 28.3,
          "temp_min": 13.3,
          "weather": "sun",
          "wind": 2.5,
          "year": 2012
         },
         {
          "day": 12,
          "month": 8,
          "precipitation": 0,
          "temp_max": 30.6,
          "temp_min": 15,
          "weather": "sun",
          "wind": 3,
          "year": 2012
         },
         {
          "day": 13,
          "month": 8,
          "precipitation": 0,
          "temp_max": 30.6,
          "temp_min": 15,
          "weather": "sun",
          "wind": 2.8,
          "year": 2012
         },
         {
          "day": 14,
          "month": 8,
          "precipitation": 0,
          "temp_max": 28.9,
          "temp_min": 13.9,
          "weather": "sun",
          "wind": 2.8,
          "year": 2012
         },
         {
          "day": 15,
          "month": 8,
          "precipitation": 0,
          "temp_max": 31.1,
          "temp_min": 16.7,
          "weather": "sun",
          "wind": 4.7,
          "year": 2012
         },
         {
          "day": 16,
          "month": 8,
          "precipitation": 0,
          "temp_max": 34.4,
          "temp_min": 18.3,
          "weather": "sun",
          "wind": 2.8,
          "year": 2012
         },
         {
          "day": 17,
          "month": 8,
          "precipitation": 0,
          "temp_max": 32.8,
          "temp_min": 16.1,
          "weather": "sun",
          "wind": 1.8,
          "year": 2012
         },
         {
          "day": 18,
          "month": 8,
          "precipitation": 0,
          "temp_max": 21.7,
          "temp_min": 14.4,
          "weather": "drizzle",
          "wind": 3,
          "year": 2012
         },
         {
          "day": 19,
          "month": 8,
          "precipitation": 0,
          "temp_max": 23.3,
          "temp_min": 15,
          "weather": "drizzle",
          "wind": 2.7,
          "year": 2012
         },
         {
          "day": 20,
          "month": 8,
          "precipitation": 0,
          "temp_max": 25.6,
          "temp_min": 15,
          "weather": "sun",
          "wind": 1.9,
          "year": 2012
         },
         {
          "day": 21,
          "month": 8,
          "precipitation": 0,
          "temp_max": 23.3,
          "temp_min": 13.3,
          "weather": "rain",
          "wind": 3,
          "year": 2012
         },
         {
          "day": 22,
          "month": 8,
          "precipitation": 0,
          "temp_max": 22.2,
          "temp_min": 13.3,
          "weather": "sun",
          "wind": 2.3,
          "year": 2012
         },
         {
          "day": 23,
          "month": 8,
          "precipitation": 0,
          "temp_max": 21.1,
          "temp_min": 13.9,
          "weather": "sun",
          "wind": 3.8,
          "year": 2012
         },
         {
          "day": 24,
          "month": 8,
          "precipitation": 0,
          "temp_max": 22.2,
          "temp_min": 10,
          "weather": "sun",
          "wind": 3.3,
          "year": 2012
         },
         {
          "day": 25,
          "month": 8,
          "precipitation": 0,
          "temp_max": 26.1,
          "temp_min": 11.7,
          "weather": "sun",
          "wind": 3.2,
          "year": 2012
         },
         {
          "day": 26,
          "month": 8,
          "precipitation": 0,
          "temp_max": 21.1,
          "temp_min": 12.2,
          "weather": "sun",
          "wind": 3.4,
          "year": 2012
         },
         {
          "day": 27,
          "month": 8,
          "precipitation": 0,
          "temp_max": 23.9,
          "temp_min": 13.3,
          "weather": "sun",
          "wind": 1.8,
          "year": 2012
         },
         {
          "day": 28,
          "month": 8,
          "precipitation": 0,
          "temp_max": 22.8,
          "temp_min": 12.2,
          "weather": "sun",
          "wind": 3.2,
          "year": 2012
         },
         {
          "day": 29,
          "month": 8,
          "precipitation": 0,
          "temp_max": 22.8,
          "temp_min": 13.3,
          "weather": "sun",
          "wind": 2.4,
          "year": 2012
         },
         {
          "day": 30,
          "month": 8,
          "precipitation": 0,
          "temp_max": 22.8,
          "temp_min": 12.8,
          "weather": "sun",
          "wind": 1.9,
          "year": 2012
         },
         {
          "day": 31,
          "month": 8,
          "precipitation": 0,
          "temp_max": 22.2,
          "temp_min": 10.6,
          "weather": "sun",
          "wind": 2.9,
          "year": 2012
         },
         {
          "day": 1,
          "month": 9,
          "precipitation": 0,
          "temp_max": 21.7,
          "temp_min": 10.6,
          "weather": "sun",
          "wind": 2.1,
          "year": 2012
         },
         {
          "day": 2,
          "month": 9,
          "precipitation": 0,
          "temp_max": 21.1,
          "temp_min": 10,
          "weather": "sun",
          "wind": 2,
          "year": 2012
         },
         {
          "day": 3,
          "month": 9,
          "precipitation": 0,
          "temp_max": 22.8,
          "temp_min": 12.8,
          "weather": "sun",
          "wind": 3.3,
          "year": 2012
         },
         {
          "day": 4,
          "month": 9,
          "precipitation": 0,
          "temp_max": 24.4,
          "temp_min": 11.1,
          "weather": "sun",
          "wind": 3.1,
          "year": 2012
         },
         {
          "day": 5,
          "month": 9,
          "precipitation": 0,
          "temp_max": 26.1,
          "temp_min": 11.7,
          "weather": "sun",
          "wind": 2.6,
          "year": 2012
         },
         {
          "day": 6,
          "month": 9,
          "precipitation": 0,
          "temp_max": 28.3,
          "temp_min": 14.4,
          "weather": "sun",
          "wind": 4.2,
          "year": 2012
         },
         {
          "day": 7,
          "month": 9,
          "precipitation": 0,
          "temp_max": 32.2,
          "temp_min": 13.3,
          "weather": "sun",
          "wind": 3.1,
          "year": 2012
         },
         {
          "day": 8,
          "month": 9,
          "precipitation": 0,
          "temp_max": 25,
          "temp_min": 13.3,
          "weather": "sun",
          "wind": 3,
          "year": 2012
         },
         {
          "day": 9,
          "month": 9,
          "precipitation": 0.3,
          "temp_max": 18.9,
          "temp_min": 13.9,
          "weather": "rain",
          "wind": 5,
          "year": 2012
         },
         {
          "day": 10,
          "month": 9,
          "precipitation": 0.3,
          "temp_max": 20,
          "temp_min": 11.7,
          "weather": "rain",
          "wind": 3.9,
          "year": 2012
         },
         {
          "day": 11,
          "month": 9,
          "precipitation": 0,
          "temp_max": 20,
          "temp_min": 8.9,
          "weather": "sun",
          "wind": 4.2,
          "year": 2012
         },
         {
          "day": 12,
          "month": 9,
          "precipitation": 0,
          "temp_max": 22.2,
          "temp_min": 10,
          "weather": "sun",
          "wind": 5.6,
          "year": 2012
         },
         {
          "day": 13,
          "month": 9,
          "precipitation": 0,
          "temp_max": 27.8,
          "temp_min": 11.7,
          "weather": "sun",
          "wind": 3.6,
          "year": 2012
         },
         {
          "day": 14,
          "month": 9,
          "precipitation": 0,
          "temp_max": 26.1,
          "temp_min": 11.1,
          "weather": "sun",
          "wind": 1.5,
          "year": 2012
         },
         {
          "day": 15,
          "month": 9,
          "precipitation": 0,
          "temp_max": 22.2,
          "temp_min": 11.1,
          "weather": "sun",
          "wind": 1.9,
          "year": 2012
         },
         {
          "day": 16,
          "month": 9,
          "precipitation": 0,
          "temp_max": 24.4,
          "temp_min": 9.4,
          "weather": "sun",
          "wind": 2.3,
          "year": 2012
         },
         {
          "day": 17,
          "month": 9,
          "precipitation": 0,
          "temp_max": 27.8,
          "temp_min": 11.7,
          "weather": "fog",
          "wind": 2.2,
          "year": 2012
         },
         {
          "day": 18,
          "month": 9,
          "precipitation": 0,
          "temp_max": 27.8,
          "temp_min": 11.7,
          "weather": "sun",
          "wind": 1.4,
          "year": 2012
         },
         {
          "day": 19,
          "month": 9,
          "precipitation": 0,
          "temp_max": 23.9,
          "temp_min": 11.7,
          "weather": "drizzle",
          "wind": 1.9,
          "year": 2012
         },
         {
          "day": 20,
          "month": 9,
          "precipitation": 0,
          "temp_max": 19.4,
          "temp_min": 10,
          "weather": "drizzle",
          "wind": 2.5,
          "year": 2012
         },
         {
          "day": 21,
          "month": 9,
          "precipitation": 0,
          "temp_max": 16.1,
          "temp_min": 12.8,
          "weather": "drizzle",
          "wind": 2.1,
          "year": 2012
         },
         {
          "day": 22,
          "month": 9,
          "precipitation": 0.3,
          "temp_max": 19.4,
          "temp_min": 11.7,
          "weather": "rain",
          "wind": 1.1,
          "year": 2012
         },
         {
          "day": 23,
          "month": 9,
          "precipitation": 0,
          "temp_max": 19.4,
          "temp_min": 10,
          "weather": "fog",
          "wind": 1.4,
          "year": 2012
         },
         {
          "day": 24,
          "month": 9,
          "precipitation": 0,
          "temp_max": 21.1,
          "temp_min": 10,
          "weather": "fog",
          "wind": 1.8,
          "year": 2012
         },
         {
          "day": 25,
          "month": 9,
          "precipitation": 0,
          "temp_max": 19.4,
          "temp_min": 11.1,
          "weather": "sun",
          "wind": 1.7,
          "year": 2012
         },
         {
          "day": 26,
          "month": 9,
          "precipitation": 0,
          "temp_max": 19.4,
          "temp_min": 9.4,
          "weather": "drizzle",
          "wind": 1.7,
          "year": 2012
         },
         {
          "day": 27,
          "month": 9,
          "precipitation": 0,
          "temp_max": 22.8,
          "temp_min": 10,
          "weather": "drizzle",
          "wind": 1.7,
          "year": 2012
         },
         {
          "day": 28,
          "month": 9,
          "precipitation": 0,
          "temp_max": 25,
          "temp_min": 12.2,
          "weather": "rain",
          "wind": 1.1,
          "year": 2012
         },
         {
          "day": 29,
          "month": 9,
          "precipitation": 0,
          "temp_max": 20.6,
          "temp_min": 12.2,
          "weather": "sun",
          "wind": 4.3,
          "year": 2012
         },
         {
          "day": 30,
          "month": 9,
          "precipitation": 0,
          "temp_max": 21.1,
          "temp_min": 7.8,
          "weather": "sun",
          "wind": 3.1,
          "year": 2012
         },
         {
          "day": 1,
          "month": 10,
          "precipitation": 0,
          "temp_max": 23.3,
          "temp_min": 8.9,
          "weather": "sun",
          "wind": 3,
          "year": 2012
         },
         {
          "day": 2,
          "month": 10,
          "precipitation": 0,
          "temp_max": 17.8,
          "temp_min": 10,
          "weather": "sun",
          "wind": 4.1,
          "year": 2012
         },
         {
          "day": 3,
          "month": 10,
          "precipitation": 0,
          "temp_max": 18.9,
          "temp_min": 7.8,
          "weather": "sun",
          "wind": 7.3,
          "year": 2012
         },
         {
          "day": 4,
          "month": 10,
          "precipitation": 0,
          "temp_max": 18.9,
          "temp_min": 8.3,
          "weather": "sun",
          "wind": 6.5,
          "year": 2012
         },
         {
          "day": 5,
          "month": 10,
          "precipitation": 0,
          "temp_max": 21.7,
          "temp_min": 8.9,
          "weather": "sun",
          "wind": 5.7,
          "year": 2012
         },
         {
          "day": 6,
          "month": 10,
          "precipitation": 0,
          "temp_max": 23.9,
          "temp_min": 7.8,
          "weather": "sun",
          "wind": 5.1,
          "year": 2012
         },
         {
          "day": 7,
          "month": 10,
          "precipitation": 0,
          "temp_max": 23.9,
          "temp_min": 7.8,
          "weather": "sun",
          "wind": 1.3,
          "year": 2012
         },
         {
          "day": 8,
          "month": 10,
          "precipitation": 0,
          "temp_max": 21.1,
          "temp_min": 7.8,
          "weather": "sun",
          "wind": 1.9,
          "year": 2012
         },
         {
          "day": 9,
          "month": 10,
          "precipitation": 0,
          "temp_max": 16.1,
          "temp_min": 8.9,
          "weather": "drizzle",
          "wind": 1.6,
          "year": 2012
         },
         {
          "day": 10,
          "month": 10,
          "precipitation": 0,
          "temp_max": 12.2,
          "temp_min": 8.3,
          "weather": "drizzle",
          "wind": 1.4,
          "year": 2012
         },
         {
          "day": 11,
          "month": 10,
          "precipitation": 0,
          "temp_max": 13.9,
          "temp_min": 7.2,
          "weather": "drizzle",
          "wind": 1.3,
          "year": 2012
         },
         {
          "day": 12,
          "month": 10,
          "precipitation": 2,
          "temp_max": 13.9,
          "temp_min": 8.9,
          "weather": "rain",
          "wind": 4.6,
          "year": 2012
         },
         {
          "day": 13,
          "month": 10,
          "precipitation": 4.8,
          "temp_max": 15.6,
          "temp_min": 12.2,
          "weather": "rain",
          "wind": 3.9,
          "year": 2012
         },
         {
          "day": 14,
          "month": 10,
          "precipitation": 16.5,
          "temp_max": 17.8,
          "temp_min": 13.3,
          "weather": "rain",
          "wind": 3.4,
          "year": 2012
         },
         {
          "day": 15,
          "month": 10,
          "precipitation": 7.9,
          "temp_max": 17.2,
          "temp_min": 11.1,
          "weather": "rain",
          "wind": 4.6,
          "year": 2012
         },
         {
          "day": 16,
          "month": 10,
          "precipitation": 0,
          "temp_max": 16.1,
          "temp_min": 8.3,
          "weather": "sun",
          "wind": 5.5,
          "year": 2012
         },
         {
          "day": 17,
          "month": 10,
          "precipitation": 0,
          "temp_max": 14.4,
          "temp_min": 6.1,
          "weather": "sun",
          "wind": 1.6,
          "year": 2012
         },
         {
          "day": 18,
          "month": 10,
          "precipitation": 20.8,
          "temp_max": 17.8,
          "temp_min": 6.7,
          "weather": "rain",
          "wind": 2,
          "year": 2012
         },
         {
          "day": 19,
          "month": 10,
          "precipitation": 4.8,
          "temp_max": 15,
          "temp_min": 9.4,
          "weather": "rain",
          "wind": 5.3,
          "year": 2012
         },
         {
          "day": 20,
          "month": 10,
          "precipitation": 0.5,
          "temp_max": 11.1,
          "temp_min": 6.1,
          "weather": "rain",
          "wind": 5.7,
          "year": 2012
         },
         {
          "day": 21,
          "month": 10,
          "precipitation": 6.4,
          "temp_max": 11.7,
          "temp_min": 4.4,
          "weather": "rain",
          "wind": 2.7,
          "year": 2012
         },
         {
          "day": 22,
          "month": 10,
          "precipitation": 8.9,
          "temp_max": 7.8,
          "temp_min": 3.3,
          "weather": "rain",
          "wind": 2.6,
          "year": 2012
         },
         {
          "day": 23,
          "month": 10,
          "precipitation": 0,
          "temp_max": 11.1,
          "temp_min": 5.6,
          "weather": "rain",
          "wind": 3,
          "year": 2012
         },
         {
          "day": 24,
          "month": 10,
          "precipitation": 7.1,
          "temp_max": 11.7,
          "temp_min": 6.1,
          "weather": "rain",
          "wind": 2.1,
          "year": 2012
         },
         {
          "day": 25,
          "month": 10,
          "precipitation": 0,
          "temp_max": 11.7,
          "temp_min": 6.7,
          "weather": "sun",
          "wind": 1.5,
          "year": 2012
         },
         {
          "day": 26,
          "month": 10,
          "precipitation": 1.5,
          "temp_max": 11.1,
          "temp_min": 7.2,
          "weather": "rain",
          "wind": 2.5,
          "year": 2012
         },
         {
          "day": 27,
          "month": 10,
          "precipitation": 23.1,
          "temp_max": 14.4,
          "temp_min": 9.4,
          "weather": "rain",
          "wind": 5.1,
          "year": 2012
         },
         {
          "day": 28,
          "month": 10,
          "precipitation": 6.1,
          "temp_max": 14.4,
          "temp_min": 10,
          "weather": "rain",
          "wind": 3.8,
          "year": 2012
         },
         {
          "day": 29,
          "month": 10,
          "precipitation": 10.9,
          "temp_max": 15.6,
          "temp_min": 10,
          "weather": "rain",
          "wind": 4.9,
          "year": 2012
         },
         {
          "day": 30,
          "month": 10,
          "precipitation": 34.5,
          "temp_max": 15,
          "temp_min": 12.2,
          "weather": "rain",
          "wind": 2.8,
          "year": 2012
         },
         {
          "day": 31,
          "month": 10,
          "precipitation": 14.5,
          "temp_max": 15.6,
          "temp_min": 11.1,
          "weather": "rain",
          "wind": 2.7,
          "year": 2012
         },
         {
          "day": 1,
          "month": 11,
          "precipitation": 9.7,
          "temp_max": 15,
          "temp_min": 10.6,
          "weather": "rain",
          "wind": 3,
          "year": 2012
         },
         {
          "day": 2,
          "month": 11,
          "precipitation": 5.6,
          "temp_max": 15,
          "temp_min": 10.6,
          "weather": "rain",
          "wind": 1,
          "year": 2012
         },
         {
          "day": 3,
          "month": 11,
          "precipitation": 0.5,
          "temp_max": 15.6,
          "temp_min": 11.1,
          "weather": "rain",
          "wind": 3.6,
          "year": 2012
         },
         {
          "day": 4,
          "month": 11,
          "precipitation": 8.1,
          "temp_max": 17.8,
          "temp_min": 12.8,
          "weather": "rain",
          "wind": 3.8,
          "year": 2012
         },
         {
          "day": 5,
          "month": 11,
          "precipitation": 0.8,
          "temp_max": 15,
          "temp_min": 7.8,
          "weather": "rain",
          "wind": 4,
          "year": 2012
         },
         {
          "day": 6,
          "month": 11,
          "precipitation": 0.3,
          "temp_max": 12.8,
          "temp_min": 6.7,
          "weather": "rain",
          "wind": 3.5,
          "year": 2012
         },
         {
          "day": 7,
          "month": 11,
          "precipitation": 0,
          "temp_max": 12.2,
          "temp_min": 3.9,
          "weather": "rain",
          "wind": 3.4,
          "year": 2012
         },
         {
          "day": 8,
          "month": 11,
          "precipitation": 0,
          "temp_max": 10,
          "temp_min": 1.1,
          "weather": "rain",
          "wind": 3.4,
          "year": 2012
         },
         {
          "day": 9,
          "month": 11,
          "precipitation": 0,
          "temp_max": 8.9,
          "temp_min": 1.1,
          "weather": "rain",
          "wind": 2,
          "year": 2012
         },
         {
          "day": 10,
          "month": 11,
          "precipitation": 0,
          "temp_max": 7.8,
          "temp_min": -0.6,
          "weather": "sun",
          "wind": 2.2,
          "year": 2012
         },
         {
          "day": 11,
          "month": 11,
          "precipitation": 15.2,
          "temp_max": 8.9,
          "temp_min": 1.1,
          "weather": "rain",
          "wind": 3,
          "year": 2012
         },
         {
          "day": 12,
          "month": 11,
          "precipitation": 3.6,
          "temp_max": 12.8,
          "temp_min": 6.1,
          "weather": "rain",
          "wind": 3,
          "year": 2012
         },
         {
          "day": 13,
          "month": 11,
          "precipitation": 5.3,
          "temp_max": 11.1,
          "temp_min": 7.8,
          "weather": "rain",
          "wind": 2.5,
          "year": 2012
         },
         {
          "day": 14,
          "month": 11,
          "precipitation": 0.8,
          "temp_max": 11.1,
          "temp_min": 5,
          "weather": "rain",
          "wind": 2.6,
          "year": 2012
         },
         {
          "day": 15,
          "month": 11,
          "precipitation": 0,
          "temp_max": 9.4,
          "temp_min": 2.8,
          "weather": "drizzle",
          "wind": 2.4,
          "year": 2012
         },
         {
          "day": 16,
          "month": 11,
          "precipitation": 5.6,
          "temp_max": 9.4,
          "temp_min": 2.2,
          "weather": "rain",
          "wind": 1.6,
          "year": 2012
         },
         {
          "day": 17,
          "month": 11,
          "precipitation": 6.1,
          "temp_max": 12.2,
          "temp_min": 6.1,
          "weather": "rain",
          "wind": 5.3,
          "year": 2012
         },
         {
          "day": 18,
          "month": 11,
          "precipitation": 7.9,
          "temp_max": 10,
          "temp_min": 6.1,
          "weather": "rain",
          "wind": 4.9,
          "year": 2012
         },
         {
          "day": 19,
          "month": 11,
          "precipitation": 54.1,
          "temp_max": 13.3,
          "temp_min": 8.3,
          "weather": "rain",
          "wind": 6,
          "year": 2012
         },
         {
          "day": 20,
          "month": 11,
          "precipitation": 3.8,
          "temp_max": 11.1,
          "temp_min": 7.2,
          "weather": "rain",
          "wind": 4.2,
          "year": 2012
         },
         {
          "day": 21,
          "month": 11,
          "precipitation": 11.2,
          "temp_max": 8.3,
          "temp_min": 3.9,
          "weather": "rain",
          "wind": 5.5,
          "year": 2012
         },
         {
          "day": 22,
          "month": 11,
          "precipitation": 0,
          "temp_max": 8.9,
          "temp_min": 2.8,
          "weather": "rain",
          "wind": 1.5,
          "year": 2012
         },
         {
          "day": 23,
          "month": 11,
          "precipitation": 32,
          "temp_max": 9.4,
          "temp_min": 6.1,
          "weather": "rain",
          "wind": 2.4,
          "year": 2012
         },
         {
          "day": 24,
          "month": 11,
          "precipitation": 0,
          "temp_max": 8.9,
          "temp_min": 3.9,
          "weather": "rain",
          "wind": 1.2,
          "year": 2012
         },
         {
          "day": 25,
          "month": 11,
          "precipitation": 0,
          "temp_max": 8.3,
          "temp_min": 1.1,
          "weather": "drizzle",
          "wind": 3.6,
          "year": 2012
         },
         {
          "day": 26,
          "month": 11,
          "precipitation": 0,
          "temp_max": 9.4,
          "temp_min": 1.7,
          "weather": "fog",
          "wind": 3.8,
          "year": 2012
         },
         {
          "day": 27,
          "month": 11,
          "precipitation": 0,
          "temp_max": 10,
          "temp_min": 1.7,
          "weather": "sun",
          "wind": 1.5,
          "year": 2012
         },
         {
          "day": 28,
          "month": 11,
          "precipitation": 2.8,
          "temp_max": 9.4,
          "temp_min": 2.2,
          "weather": "rain",
          "wind": 2.9,
          "year": 2012
         },
         {
          "day": 29,
          "month": 11,
          "precipitation": 1.5,
          "temp_max": 12.8,
          "temp_min": 7.8,
          "weather": "rain",
          "wind": 4.2,
          "year": 2012
         },
         {
          "day": 30,
          "month": 11,
          "precipitation": 35.6,
          "temp_max": 15,
          "temp_min": 7.8,
          "weather": "rain",
          "wind": 4.6,
          "year": 2012
         },
         {
          "day": 1,
          "month": 12,
          "precipitation": 4.1,
          "temp_max": 13.3,
          "temp_min": 8.3,
          "weather": "rain",
          "wind": 5.5,
          "year": 2012
         },
         {
          "day": 2,
          "month": 12,
          "precipitation": 19.6,
          "temp_max": 8.3,
          "temp_min": 7.2,
          "weather": "rain",
          "wind": 6.2,
          "year": 2012
         },
         {
          "day": 3,
          "month": 12,
          "precipitation": 13,
          "temp_max": 9.4,
          "temp_min": 7.2,
          "weather": "rain",
          "wind": 4.4,
          "year": 2012
         },
         {
          "day": 4,
          "month": 12,
          "precipitation": 14.2,
          "temp_max": 11.7,
          "temp_min": 7.2,
          "weather": "rain",
          "wind": 6.2,
          "year": 2012
         },
         {
          "day": 5,
          "month": 12,
          "precipitation": 1.5,
          "temp_max": 8.9,
          "temp_min": 4.4,
          "weather": "rain",
          "wind": 5,
          "year": 2012
         },
         {
          "day": 6,
          "month": 12,
          "precipitation": 1.5,
          "temp_max": 7.2,
          "temp_min": 6.1,
          "weather": "rain",
          "wind": 5.1,
          "year": 2012
         },
         {
          "day": 7,
          "month": 12,
          "precipitation": 1,
          "temp_max": 7.8,
          "temp_min": 3.3,
          "weather": "rain",
          "wind": 4.6,
          "year": 2012
         },
         {
          "day": 8,
          "month": 12,
          "precipitation": 0,
          "temp_max": 6.7,
          "temp_min": 3.3,
          "weather": "sun",
          "wind": 2,
          "year": 2012
         },
         {
          "day": 9,
          "month": 12,
          "precipitation": 1.5,
          "temp_max": 6.7,
          "temp_min": 2.8,
          "weather": "rain",
          "wind": 2.1,
          "year": 2012
         },
         {
          "day": 10,
          "month": 12,
          "precipitation": 0.5,
          "temp_max": 7.2,
          "temp_min": 5.6,
          "weather": "rain",
          "wind": 1.8,
          "year": 2012
         },
         {
          "day": 11,
          "month": 12,
          "precipitation": 3,
          "temp_max": 7.8,
          "temp_min": 5.6,
          "weather": "rain",
          "wind": 4.5,
          "year": 2012
         },
         {
          "day": 12,
          "month": 12,
          "precipitation": 8.1,
          "temp_max": 6.7,
          "temp_min": 4.4,
          "weather": "rain",
          "wind": 2,
          "year": 2012
         },
         {
          "day": 13,
          "month": 12,
          "precipitation": 2.3,
          "temp_max": 7.2,
          "temp_min": 3.3,
          "weather": "rain",
          "wind": 2.8,
          "year": 2012
         },
         {
          "day": 14,
          "month": 12,
          "precipitation": 7.9,
          "temp_max": 6.1,
          "temp_min": 1.1,
          "weather": "rain",
          "wind": 1.7,
          "year": 2012
         },
         {
          "day": 15,
          "month": 12,
          "precipitation": 5.3,
          "temp_max": 4.4,
          "temp_min": 0.6,
          "weather": "snow",
          "wind": 5.1,
          "year": 2012
         },
         {
          "day": 16,
          "month": 12,
          "precipitation": 22.6,
          "temp_max": 6.7,
          "temp_min": 3.3,
          "weather": "snow",
          "wind": 5.5,
          "year": 2012
         },
         {
          "day": 17,
          "month": 12,
          "precipitation": 2,
          "temp_max": 8.3,
          "temp_min": 1.7,
          "weather": "rain",
          "wind": 9.5,
          "year": 2012
         },
         {
          "day": 18,
          "month": 12,
          "precipitation": 3.3,
          "temp_max": 3.9,
          "temp_min": 0.6,
          "weather": "snow",
          "wind": 5.3,
          "year": 2012
         },
         {
          "day": 19,
          "month": 12,
          "precipitation": 13.7,
          "temp_max": 8.3,
          "temp_min": 1.7,
          "weather": "snow",
          "wind": 5.8,
          "year": 2012
         },
         {
          "day": 20,
          "month": 12,
          "precipitation": 13.2,
          "temp_max": 7.2,
          "temp_min": 0.6,
          "weather": "rain",
          "wind": 3.7,
          "year": 2012
         },
         {
          "day": 21,
          "month": 12,
          "precipitation": 1.8,
          "temp_max": 8.3,
          "temp_min": -1.7,
          "weather": "rain",
          "wind": 1.7,
          "year": 2012
         },
         {
          "day": 22,
          "month": 12,
          "precipitation": 3.3,
          "temp_max": 8.3,
          "temp_min": 3.9,
          "weather": "rain",
          "wind": 3.5,
          "year": 2012
         },
         {
          "day": 23,
          "month": 12,
          "precipitation": 6.6,
          "temp_max": 7.2,
          "temp_min": 3.3,
          "weather": "rain",
          "wind": 2.5,
          "year": 2012
         },
         {
          "day": 24,
          "month": 12,
          "precipitation": 0.3,
          "temp_max": 5.6,
          "temp_min": 2.8,
          "weather": "rain",
          "wind": 2.8,
          "year": 2012
         },
         {
          "day": 25,
          "month": 12,
          "precipitation": 13.5,
          "temp_max": 5.6,
          "temp_min": 2.8,
          "weather": "snow",
          "wind": 4.2,
          "year": 2012
         },
         {
          "day": 26,
          "month": 12,
          "precipitation": 4.6,
          "temp_max": 6.7,
          "temp_min": 3.3,
          "weather": "rain",
          "wind": 4.9,
          "year": 2012
         },
         {
          "day": 27,
          "month": 12,
          "precipitation": 4.1,
          "temp_max": 7.8,
          "temp_min": 3.3,
          "weather": "rain",
          "wind": 3.2,
          "year": 2012
         },
         {
          "day": 28,
          "month": 12,
          "precipitation": 0,
          "temp_max": 8.3,
          "temp_min": 3.9,
          "weather": "rain",
          "wind": 1.7,
          "year": 2012
         },
         {
          "day": 29,
          "month": 12,
          "precipitation": 1.5,
          "temp_max": 5,
          "temp_min": 3.3,
          "weather": "rain",
          "wind": 1.7,
          "year": 2012
         },
         {
          "day": 30,
          "month": 12,
          "precipitation": 0,
          "temp_max": 4.4,
          "temp_min": 0,
          "weather": "drizzle",
          "wind": 1.8,
          "year": 2012
         },
         {
          "day": 31,
          "month": 12,
          "precipitation": 0,
          "temp_max": 3.3,
          "temp_min": -1.1,
          "weather": "drizzle",
          "wind": 2,
          "year": 2012
         },
         {
          "day": 1,
          "month": 1,
          "precipitation": 0,
          "temp_max": 5,
          "temp_min": -2.8,
          "weather": "sun",
          "wind": 2.7,
          "year": 2013
         },
         {
          "day": 2,
          "month": 1,
          "precipitation": 0,
          "temp_max": 6.1,
          "temp_min": -1.1,
          "weather": "sun",
          "wind": 3.2,
          "year": 2013
         },
         {
          "day": 3,
          "month": 1,
          "precipitation": 4.1,
          "temp_max": 6.7,
          "temp_min": -1.7,
          "weather": "rain",
          "wind": 3,
          "year": 2013
         },
         {
          "day": 4,
          "month": 1,
          "precipitation": 2.5,
          "temp_max": 10,
          "temp_min": 2.2,
          "weather": "rain",
          "wind": 2.8,
          "year": 2013
         },
         {
          "day": 5,
          "month": 1,
          "precipitation": 3,
          "temp_max": 6.7,
          "temp_min": 4.4,
          "weather": "rain",
          "wind": 3.1,
          "year": 2013
         },
         {
          "day": 6,
          "month": 1,
          "precipitation": 2,
          "temp_max": 7.2,
          "temp_min": 2.8,
          "weather": "rain",
          "wind": 3,
          "year": 2013
         },
         {
          "day": 7,
          "month": 1,
          "precipitation": 2.3,
          "temp_max": 10,
          "temp_min": 4.4,
          "weather": "rain",
          "wind": 7.3,
          "year": 2013
         },
         {
          "day": 8,
          "month": 1,
          "precipitation": 16.3,
          "temp_max": 11.7,
          "temp_min": 5.6,
          "weather": "rain",
          "wind": 6.3,
          "year": 2013
         },
         {
          "day": 9,
          "month": 1,
          "precipitation": 38.4,
          "temp_max": 10,
          "temp_min": 1.7,
          "weather": "rain",
          "wind": 5.1,
          "year": 2013
         },
         {
          "day": 10,
          "month": 1,
          "precipitation": 0.3,
          "temp_max": 3.3,
          "temp_min": -0.6,
          "weather": "snow",
          "wind": 2.1,
          "year": 2013
         },
         {
          "day": 11,
          "month": 1,
          "precipitation": 0,
          "temp_max": 2.8,
          "temp_min": -2.8,
          "weather": "drizzle",
          "wind": 1.9,
          "year": 2013
         },
         {
          "day": 12,
          "month": 1,
          "precipitation": 0,
          "temp_max": 2.8,
          "temp_min": -3.9,
          "weather": "sun",
          "wind": 2,
          "year": 2013
         },
         {
          "day": 13,
          "month": 1,
          "precipitation": 0,
          "temp_max": 2.2,
          "temp_min": -4.4,
          "weather": "sun",
          "wind": 1.5,
          "year": 2013
         },
         {
          "day": 14,
          "month": 1,
          "precipitation": 0,
          "temp_max": 3.3,
          "temp_min": -2.2,
          "weather": "sun",
          "wind": 1.3,
          "year": 2013
         },
         {
          "day": 15,
          "month": 1,
          "precipitation": 0,
          "temp_max": 6.7,
          "temp_min": -0.6,
          "weather": "sun",
          "wind": 2.3,
          "year": 2013
         },
         {
          "day": 16,
          "month": 1,
          "precipitation": 0,
          "temp_max": 6.1,
          "temp_min": -3.9,
          "weather": "drizzle",
          "wind": 1.8,
          "year": 2013
         },
         {
          "day": 17,
          "month": 1,
          "precipitation": 0,
          "temp_max": 3.9,
          "temp_min": -2.8,
          "weather": "drizzle",
          "wind": 1,
          "year": 2013
         },
         {
          "day": 18,
          "month": 1,
          "precipitation": 0,
          "temp_max": 3.3,
          "temp_min": -1.1,
          "weather": "drizzle",
          "wind": 1.3,
          "year": 2013
         },
         {
          "day": 19,
          "month": 1,
          "precipitation": 0,
          "temp_max": 1.1,
          "temp_min": -0.6,
          "weather": "drizzle",
          "wind": 1.9,
          "year": 2013
         },
         {
          "day": 20,
          "month": 1,
          "precipitation": 0,
          "temp_max": 3.3,
          "temp_min": -0.6,
          "weather": "drizzle",
          "wind": 2.1,
          "year": 2013
         },
         {
          "day": 21,
          "month": 1,
          "precipitation": 0,
          "temp_max": 2.2,
          "temp_min": -1.7,
          "weather": "drizzle",
          "wind": 1.1,
          "year": 2013
         },
         {
          "day": 22,
          "month": 1,
          "precipitation": 0,
          "temp_max": 3.3,
          "temp_min": -1.7,
          "weather": "drizzle",
          "wind": 0.6,
          "year": 2013
         },
         {
          "day": 23,
          "month": 1,
          "precipitation": 5.1,
          "temp_max": 7.2,
          "temp_min": 2.2,
          "weather": "rain",
          "wind": 3.1,
          "year": 2013
         },
         {
          "day": 24,
          "month": 1,
          "precipitation": 5.8,
          "temp_max": 7.2,
          "temp_min": 1.1,
          "weather": "rain",
          "wind": 2.6,
          "year": 2013
         },
         {
          "day": 25,
          "month": 1,
          "precipitation": 3,
          "temp_max": 10.6,
          "temp_min": 2.8,
          "weather": "rain",
          "wind": 2.1,
          "year": 2013
         },
         {
          "day": 26,
          "month": 1,
          "precipitation": 2.3,
          "temp_max": 8.3,
          "temp_min": 3.9,
          "weather": "rain",
          "wind": 4.5,
          "year": 2013
         },
         {
          "day": 27,
          "month": 1,
          "precipitation": 1.8,
          "temp_max": 5.6,
          "temp_min": 3.9,
          "weather": "rain",
          "wind": 4.5,
          "year": 2013
         },
         {
          "day": 28,
          "month": 1,
          "precipitation": 7.9,
          "temp_max": 6.1,
          "temp_min": 3.3,
          "weather": "rain",
          "wind": 3.2,
          "year": 2013
         },
         {
          "day": 29,
          "month": 1,
          "precipitation": 4.3,
          "temp_max": 8.3,
          "temp_min": 5,
          "weather": "rain",
          "wind": 3.9,
          "year": 2013
         },
         {
          "day": 30,
          "month": 1,
          "precipitation": 3.6,
          "temp_max": 8.9,
          "temp_min": 6.7,
          "weather": "rain",
          "wind": 3.9,
          "year": 2013
         },
         {
          "day": 31,
          "month": 1,
          "precipitation": 3,
          "temp_max": 9.4,
          "temp_min": 7.2,
          "weather": "rain",
          "wind": 4,
          "year": 2013
         },
         {
          "day": 1,
          "month": 2,
          "precipitation": 0.3,
          "temp_max": 11.7,
          "temp_min": 5,
          "weather": "rain",
          "wind": 2.9,
          "year": 2013
         },
         {
          "day": 2,
          "month": 2,
          "precipitation": 0,
          "temp_max": 6.1,
          "temp_min": 2.8,
          "weather": "drizzle",
          "wind": 2,
          "year": 2013
         },
         {
          "day": 3,
          "month": 2,
          "precipitation": 2.3,
          "temp_max": 8.9,
          "temp_min": 2.8,
          "weather": "rain",
          "wind": 2.9,
          "year": 2013
         },
         {
          "day": 4,
          "month": 2,
          "precipitation": 0,
          "temp_max": 10.6,
          "temp_min": 6.7,
          "weather": "rain",
          "wind": 2.6,
          "year": 2013
         },
         {
          "day": 5,
          "month": 2,
          "precipitation": 3.3,
          "temp_max": 10,
          "temp_min": 6.7,
          "weather": "rain",
          "wind": 5.1,
          "year": 2013
         },
         {
          "day": 6,
          "month": 2,
          "precipitation": 1,
          "temp_max": 10.6,
          "temp_min": 6.1,
          "weather": "rain",
          "wind": 4.5,
          "year": 2013
         },
         {
          "day": 7,
          "month": 2,
          "precipitation": 1.3,
          "temp_max": 9.4,
          "temp_min": 3.3,
          "weather": "rain",
          "wind": 4.1,
          "year": 2013
         },
         {
          "day": 8,
          "month": 2,
          "precipitation": 0,
          "temp_max": 7.8,
          "temp_min": 2.2,
          "weather": "sun",
          "wind": 1.3,
          "year": 2013
         },
         {
          "day": 9,
          "month": 2,
          "precipitation": 0.3,
          "temp_max": 8.3,
          "temp_min": 4.4,
          "weather": "rain",
          "wind": 1.3,
          "year": 2013
         },
         {
          "day": 10,
          "month": 2,
          "precipitation": 0,
          "temp_max": 8.9,
          "temp_min": 1.7,
          "weather": "drizzle",
          "wind": 2,
          "year": 2013
         },
         {
          "day": 11,
          "month": 2,
          "precipitation": 0.3,
          "temp_max": 8.3,
          "temp_min": 4.4,
          "weather": "rain",
          "wind": 1.4,
          "year": 2013
         },
         {
          "day": 12,
          "month": 2,
          "precipitation": 1,
          "temp_max": 11.1,
          "temp_min": 7.2,
          "weather": "rain",
          "wind": 5.6,
          "year": 2013
         },
         {
          "day": 13,
          "month": 2,
          "precipitation": 2.3,
          "temp_max": 9.4,
          "temp_min": 7.2,
          "weather": "rain",
          "wind": 4.1,
          "year": 2013
         },
         {
          "day": 14,
          "month": 2,
          "precipitation": 1,
          "temp_max": 9.4,
          "temp_min": 5.6,
          "weather": "rain",
          "wind": 2.2,
          "year": 2013
         },
         {
          "day": 15,
          "month": 2,
          "precipitation": 0,
          "temp_max": 13.3,
          "temp_min": 5,
          "weather": "drizzle",
          "wind": 2.4,
          "year": 2013
         },
         {
          "day": 16,
          "month": 2,
          "precipitation": 0,
          "temp_max": 11.1,
          "temp_min": 3.9,
          "weather": "rain",
          "wind": 5.6,
          "year": 2013
         },
         {
          "day": 17,
          "month": 2,
          "precipitation": 0,
          "temp_max": 9.4,
          "temp_min": 4.4,
          "weather": "rain",
          "wind": 3.4,
          "year": 2013
         },
         {
          "day": 18,
          "month": 2,
          "precipitation": 0,
          "temp_max": 7.8,
          "temp_min": 3.9,
          "weather": "rain",
          "wind": 1.9,
          "year": 2013
         },
         {
          "day": 19,
          "month": 2,
          "precipitation": 0,
          "temp_max": 10.6,
          "temp_min": 1.7,
          "weather": "sun",
          "wind": 3.4,
          "year": 2013
         },
         {
          "day": 20,
          "month": 2,
          "precipitation": 1.5,
          "temp_max": 7.8,
          "temp_min": 1.1,
          "weather": "rain",
          "wind": 2.1,
          "year": 2013
         },
         {
          "day": 21,
          "month": 2,
          "precipitation": 0.5,
          "temp_max": 6.7,
          "temp_min": 3.9,
          "weather": "rain",
          "wind": 6.2,
          "year": 2013
         },
         {
          "day": 22,
          "month": 2,
          "precipitation": 9.4,
          "temp_max": 7.8,
          "temp_min": 3.9,
          "weather": "rain",
          "wind": 8.1,
          "year": 2013
         },
         {
          "day": 23,
          "month": 2,
          "precipitation": 0.3,
          "temp_max": 10,
          "temp_min": 3.9,
          "weather": "rain",
          "wind": 4.6,
          "year": 2013
         },
         {
          "day": 24,
          "month": 2,
          "precipitation": 0,
          "temp_max": 8.9,
          "temp_min": 5,
          "weather": "rain",
          "wind": 5.5,
          "year": 2013
         },
         {
          "day": 25,
          "month": 2,
          "precipitation": 2.3,
          "temp_max": 10.6,
          "temp_min": 3.3,
          "weather": "rain",
          "wind": 7.1,
          "year": 2013
         },
         {
          "day": 26,
          "month": 2,
          "precipitation": 0.5,
          "temp_max": 8.9,
          "temp_min": 3.9,
          "weather": "rain",
          "wind": 3.8,
          "year": 2013
         },
         {
          "day": 27,
          "month": 2,
          "precipitation": 4.6,
          "temp_max": 10,
          "temp_min": 4.4,
          "weather": "rain",
          "wind": 1.8,
          "year": 2013
         },
         {
          "day": 28,
          "month": 2,
          "precipitation": 8.1,
          "temp_max": 11.7,
          "temp_min": 6.7,
          "weather": "rain",
          "wind": 3.8,
          "year": 2013
         },
         {
          "day": 1,
          "month": 3,
          "precipitation": 4.1,
          "temp_max": 15,
          "temp_min": 11.1,
          "weather": "rain",
          "wind": 5.4,
          "year": 2013
         },
         {
          "day": 2,
          "month": 3,
          "precipitation": 0.8,
          "temp_max": 13.9,
          "temp_min": 5,
          "weather": "rain",
          "wind": 4.5,
          "year": 2013
         },
         {
          "day": 3,
          "month": 3,
          "precipitation": 0,
          "temp_max": 11.1,
          "temp_min": 2.2,
          "weather": "sun",
          "wind": 2.8,
          "year": 2013
         },
         {
          "day": 4,
          "month": 3,
          "precipitation": 0,
          "temp_max": 13.3,
          "temp_min": 0,
          "weather": "sun",
          "wind": 3.9,
          "year": 2013
         },
         {
          "day": 5,
          "month": 3,
          "precipitation": 0,
          "temp_max": 9.4,
          "temp_min": 6.1,
          "weather": "rain",
          "wind": 2.4,
          "year": 2013
         },
         {
          "day": 6,
          "month": 3,
          "precipitation": 11.9,
          "temp_max": 7.2,
          "temp_min": 5,
          "weather": "rain",
          "wind": 4.1,
          "year": 2013
         },
         {
          "day": 7,
          "month": 3,
          "precipitation": 7.4,
          "temp_max": 12.2,
          "temp_min": 5,
          "weather": "rain",
          "wind": 2.5,
          "year": 2013
         },
         {
          "day": 8,
          "month": 3,
          "precipitation": 0,
          "temp_max": 11.7,
          "temp_min": 2.2,
          "weather": "drizzle",
          "wind": 2.6,
          "year": 2013
         },
         {
          "day": 9,
          "month": 3,
          "precipitation": 0,
          "temp_max": 12.8,
          "temp_min": 1.1,
          "weather": "fog",
          "wind": 1.3,
          "year": 2013
         },
         {
          "day": 10,
          "month": 3,
          "precipitation": 0.8,
          "temp_max": 7.8,
          "temp_min": 3.9,
          "weather": "rain",
          "wind": 1.6,
          "year": 2013
         },
         {
          "day": 11,
          "month": 3,
          "precipitation": 1.3,
          "temp_max": 10.6,
          "temp_min": 6.1,
          "weather": "rain",
          "wind": 1.1,
          "year": 2013
         },
         {
          "day": 12,
          "month": 3,
          "precipitation": 2,
          "temp_max": 12.8,
          "temp_min": 10,
          "weather": "rain",
          "wind": 5.7,
          "year": 2013
         },
         {
          "day": 13,
          "month": 3,
          "precipitation": 2.3,
          "temp_max": 11.7,
          "temp_min": 9.4,
          "weather": "rain",
          "wind": 3.7,
          "year": 2013
         },
         {
          "day": 14,
          "month": 3,
          "precipitation": 2.8,
          "temp_max": 11.7,
          "temp_min": 9.4,
          "weather": "rain",
          "wind": 3,
          "year": 2013
         },
         {
          "day": 15,
          "month": 3,
          "precipitation": 0,
          "temp_max": 14.4,
          "temp_min": 8.9,
          "weather": "rain",
          "wind": 4.3,
          "year": 2013
         },
         {
          "day": 16,
          "month": 3,
          "precipitation": 4.3,
          "temp_max": 10.6,
          "temp_min": 4.4,
          "weather": "rain",
          "wind": 6.4,
          "year": 2013
         },
         {
          "day": 17,
          "month": 3,
          "precipitation": 0,
          "temp_max": 8.9,
          "temp_min": 3.9,
          "weather": "sun",
          "wind": 6.1,
          "year": 2013
         },
         {
          "day": 18,
          "month": 3,
          "precipitation": 0,
          "temp_max": 11.7,
          "temp_min": 3.9,
          "weather": "rain",
          "wind": 5.9,
          "year": 2013
         },
         {
          "day": 19,
          "month": 3,
          "precipitation": 11.7,
          "temp_max": 12.8,
          "temp_min": 1.7,
          "weather": "rain",
          "wind": 3.4,
          "year": 2013
         },
         {
          "day": 20,
          "month": 3,
          "precipitation": 9.9,
          "temp_max": 11.1,
          "temp_min": 4.4,
          "weather": "rain",
          "wind": 7.6,
          "year": 2013
         },
         {
          "day": 21,
          "month": 3,
          "precipitation": 8.1,
          "temp_max": 10,
          "temp_min": 2.2,
          "weather": "snow",
          "wind": 4.9,
          "year": 2013
         },
         {
          "day": 22,
          "month": 3,
          "precipitation": 0,
          "temp_max": 9.4,
          "temp_min": 0.6,
          "weather": "sun",
          "wind": 2.2,
          "year": 2013
         },
         {
          "day": 23,
          "month": 3,
          "precipitation": 0,
          "temp_max": 10,
          "temp_min": 1.1,
          "weather": "sun",
          "wind": 2.6,
          "year": 2013
         },
         {
          "day": 24,
          "month": 3,
          "precipitation": 0,
          "temp_max": 12.2,
          "temp_min": 0.6,
          "weather": "sun",
          "wind": 2.1,
          "year": 2013
         },
         {
          "day": 25,
          "month": 3,
          "precipitation": 0,
          "temp_max": 16.7,
          "temp_min": 4.4,
          "weather": "sun",
          "wind": 2.8,
          "year": 2013
         },
         {
          "day": 26,
          "month": 3,
          "precipitation": 0,
          "temp_max": 16.7,
          "temp_min": 6.1,
          "weather": "sun",
          "wind": 1.7,
          "year": 2013
         },
         {
          "day": 27,
          "month": 3,
          "precipitation": 0.3,
          "temp_max": 13.3,
          "temp_min": 7.2,
          "weather": "rain",
          "wind": 1.6,
          "year": 2013
         },
         {
          "day": 28,
          "month": 3,
          "precipitation": 2,
          "temp_max": 16.1,
          "temp_min": 8.3,
          "weather": "rain",
          "wind": 1.3,
          "year": 2013
         },
         {
          "day": 29,
          "month": 3,
          "precipitation": 0,
          "temp_max": 18.3,
          "temp_min": 7.8,
          "weather": "rain",
          "wind": 2.5,
          "year": 2013
         },
         {
          "day": 30,
          "month": 3,
          "precipitation": 0,
          "temp_max": 20,
          "temp_min": 5.6,
          "weather": "drizzle",
          "wind": 4.4,
          "year": 2013
         },
         {
          "day": 31,
          "month": 3,
          "precipitation": 0,
          "temp_max": 20.6,
          "temp_min": 6.7,
          "weather": "sun",
          "wind": 2.9,
          "year": 2013
         },
         {
          "day": 1,
          "month": 4,
          "precipitation": 0,
          "temp_max": 17.2,
          "temp_min": 8.3,
          "weather": "sun",
          "wind": 3.6,
          "year": 2013
         },
         {
          "day": 2,
          "month": 4,
          "precipitation": 0,
          "temp_max": 13.9,
          "temp_min": 8.9,
          "weather": "sun",
          "wind": 2.2,
          "year": 2013
         },
         {
          "day": 3,
          "month": 4,
          "precipitation": 0,
          "temp_max": 16.7,
          "temp_min": 7.8,
          "weather": "sun",
          "wind": 1.6,
          "year": 2013
         },
         {
          "day": 4,
          "month": 4,
          "precipitation": 8.4,
          "temp_max": 14.4,
          "temp_min": 10,
          "weather": "fog",
          "wind": 3,
          "year": 2013
         },
         {
          "day": 5,
          "month": 4,
          "precipitation": 18.5,
          "temp_max": 13.9,
          "temp_min": 10,
          "weather": "fog",
          "wind": 5.6,
          "year": 2013
         },
         {
          "day": 6,
          "month": 4,
          "precipitation": 12.7,
          "temp_max": 12.2,
          "temp_min": 7.2,
          "weather": "fog",
          "wind": 5,
          "year": 2013
         },
         {
          "day": 7,
          "month": 4,
          "precipitation": 39.1,
          "temp_max": 8.3,
          "temp_min": 5,
          "weather": "fog",
          "wind": 3.9,
          "year": 2013
         },
         {
          "day": 8,
          "month": 4,
          "precipitation": 0.8,
          "temp_max": 13.3,
          "temp_min": 6.1,
          "weather": "fog",
          "wind": 3.1,
          "year": 2013
         },
         {
          "day": 9,
          "month": 4,
          "precipitation": 0,
          "temp_max": 12.2,
          "temp_min": 6.1,
          "weather": "sun",
          "wind": 2.4,
          "year": 2013
         },
         {
          "day": 10,
          "month": 4,
          "precipitation": 9.4,
          "temp_max": 15,
          "temp_min": 8.9,
          "weather": "sun",
          "wind": 6.4,
          "year": 2013
         },
         {
          "day": 11,
          "month": 4,
          "precipitation": 1.5,
          "temp_max": 12.2,
          "temp_min": 6.7,
          "weather": "fog",
          "wind": 3.8,
          "year": 2013
         },
         {
          "day": 12,
          "month": 4,
          "precipitation": 9.7,
          "temp_max": 7.8,
          "temp_min": 4.4,
          "weather": "fog",
          "wind": 4.6,
          "year": 2013
         },
         {
          "day": 13,
          "month": 4,
          "precipitation": 9.4,
          "temp_max": 10.6,
          "temp_min": 3.3,
          "weather": "fog",
          "wind": 5.7,
          "year": 2013
         },
         {
          "day": 14,
          "month": 4,
          "precipitation": 5.8,
          "temp_max": 12.8,
          "temp_min": 4.4,
          "weather": "fog",
          "wind": 2.3,
          "year": 2013
         },
         {
          "day": 15,
          "month": 4,
          "precipitation": 0,
          "temp_max": 13.9,
          "temp_min": 4.4,
          "weather": "fog",
          "wind": 2.4,
          "year": 2013
         },
         {
          "day": 16,
          "month": 4,
          "precipitation": 0.3,
          "temp_max": 13.9,
          "temp_min": 3.3,
          "weather": "sun",
          "wind": 2.6,
          "year": 2013
         },
         {
          "day": 17,
          "month": 4,
          "precipitation": 0,
          "temp_max": 15,
          "temp_min": 3.9,
          "weather": "drizzle",
          "wind": 3.3,
          "year": 2013
         },
         {
          "day": 18,
          "month": 4,
          "precipitation": 5.3,
          "temp_max": 11.7,
          "temp_min": 6.7,
          "weather": "fog",
          "wind": 4,
          "year": 2013
         },
         {
          "day": 19,
          "month": 4,
          "precipitation": 20.6,
          "temp_max": 13.3,
          "temp_min": 9.4,
          "weather": "fog",
          "wind": 4.9,
          "year": 2013
         },
         {
          "day": 20,
          "month": 4,
          "precipitation": 0,
          "temp_max": 13.9,
          "temp_min": 8.3,
          "weather": "sun",
          "wind": 5.8,
          "year": 2013
         },
         {
          "day": 21,
          "month": 4,
          "precipitation": 3.3,
          "temp_max": 12.2,
          "temp_min": 6.7,
          "weather": "sun",
          "wind": 4.1,
          "year": 2013
         },
         {
          "day": 22,
          "month": 4,
          "precipitation": 0,
          "temp_max": 16.1,
          "temp_min": 5,
          "weather": "sun",
          "wind": 4.3,
          "year": 2013
         },
         {
          "day": 23,
          "month": 4,
          "precipitation": 0,
          "temp_max": 17.8,
          "temp_min": 3.9,
          "weather": "sun",
          "wind": 2.8,
          "year": 2013
         },
         {
          "day": 24,
          "month": 4,
          "precipitation": 0,
          "temp_max": 21.1,
          "temp_min": 6.1,
          "weather": "sun",
          "wind": 3,
          "year": 2013
         },
         {
          "day": 25,
          "month": 4,
          "precipitation": 0,
          "temp_max": 21.7,
          "temp_min": 6.7,
          "weather": "sun",
          "wind": 1.1,
          "year": 2013
         },
         {
          "day": 26,
          "month": 4,
          "precipitation": 0,
          "temp_max": 20.6,
          "temp_min": 8.3,
          "weather": "fog",
          "wind": 2.2,
          "year": 2013
         },
         {
          "day": 27,
          "month": 4,
          "precipitation": 0,
          "temp_max": 13.9,
          "temp_min": 10.6,
          "weather": "sun",
          "wind": 5.9,
          "year": 2013
         },
         {
          "day": 28,
          "month": 4,
          "precipitation": 1,
          "temp_max": 15,
          "temp_min": 9.4,
          "weather": "drizzle",
          "wind": 5.2,
          "year": 2013
         },
         {
          "day": 29,
          "month": 4,
          "precipitation": 3.8,
          "temp_max": 13.9,
          "temp_min": 6.7,
          "weather": "fog",
          "wind": 4.2,
          "year": 2013
         },
         {
          "day": 30,
          "month": 4,
          "precipitation": 0,
          "temp_max": 12.8,
          "temp_min": 4.4,
          "weather": "sun",
          "wind": 2.4,
          "year": 2013
         },
         {
          "day": 1,
          "month": 5,
          "precipitation": 0,
          "temp_max": 18.3,
          "temp_min": 3.3,
          "weather": "sun",
          "wind": 3.1,
          "year": 2013
         },
         {
          "day": 2,
          "month": 5,
          "precipitation": 0,
          "temp_max": 20.6,
          "temp_min": 6.7,
          "weather": "sun",
          "wind": 4,
          "year": 2013
         },
         {
          "day": 3,
          "month": 5,
          "precipitation": 0,
          "temp_max": 21.7,
          "temp_min": 9.4,
          "weather": "sun",
          "wind": 4.9,
          "year": 2013
         },
         {
          "day": 4,
          "month": 5,
          "precipitation": 0,
          "temp_max": 25,
          "temp_min": 11.1,
          "weather": "sun",
          "wind": 6.5,
          "year": 2013
         },
         {
          "day": 5,
          "month": 5,
          "precipitation": 0,
          "temp_max": 28.9,
          "temp_min": 11.7,
          "weather": "sun",
          "wind": 5.3,
          "year": 2013
         },
         {
          "day": 6,
          "month": 5,
          "precipitation": 0,
          "temp_max": 30.6,
          "temp_min": 12.2,
          "weather": "sun",
          "wind": 2,
          "year": 2013
         },
         {
          "day": 7,
          "month": 5,
          "precipitation": 0,
          "temp_max": 20.6,
          "temp_min": 11.1,
          "weather": "sun",
          "wind": 3.3,
          "year": 2013
         },
         {
          "day": 8,
          "month": 5,
          "precipitation": 0,
          "temp_max": 19.4,
          "temp_min": 11.1,
          "weather": "sun",
          "wind": 1.9,
          "year": 2013
         },
         {
          "day": 9,
          "month": 5,
          "precipitation": 0,
          "temp_max": 22.8,
          "temp_min": 10,
          "weather": "sun",
          "wind": 1.3,
          "year": 2013
         },
         {
          "day": 10,
          "month": 5,
          "precipitation": 0,
          "temp_max": 26.1,
          "temp_min": 9.4,
          "weather": "sun",
          "wind": 1,
          "year": 2013
         },
         {
          "day": 11,
          "month": 5,
          "precipitation": 0,
          "temp_max": 27.2,
          "temp_min": 12.2,
          "weather": "sun",
          "wind": 2.6,
          "year": 2013
         },
         {
          "day": 12,
          "month": 5,
          "precipitation": 6.6,
          "temp_max": 21.7,
          "temp_min": 13.9,
          "weather": "fog",
          "wind": 3.9,
          "year": 2013
         },
         {
          "day": 13,
          "month": 5,
          "precipitation": 3.3,
          "temp_max": 18.9,
          "temp_min": 9.4,
          "weather": "sun",
          "wind": 5,
          "year": 2013
         },
         {
          "day": 14,
          "month": 5,
          "precipitation": 0,
          "temp_max": 18.3,
          "temp_min": 7.8,
          "weather": "sun",
          "wind": 2.4,
          "year": 2013
         },
         {
          "day": 15,
          "month": 5,
          "precipitation": 1,
          "temp_max": 17.2,
          "temp_min": 8.9,
          "weather": "fog",
          "wind": 2.3,
          "year": 2013
         },
         {
          "day": 16,
          "month": 5,
          "precipitation": 0,
          "temp_max": 21.7,
          "temp_min": 12.2,
          "weather": "fog",
          "wind": 2.7,
          "year": 2013
         },
         {
          "day": 17,
          "month": 5,
          "precipitation": 0.5,
          "temp_max": 17.2,
          "temp_min": 11.7,
          "weather": "sun",
          "wind": 3.7,
          "year": 2013
         },
         {
          "day": 18,
          "month": 5,
          "precipitation": 0,
          "temp_max": 16.7,
          "temp_min": 11.1,
          "weather": "sun",
          "wind": 2.9,
          "year": 2013
         },
         {
          "day": 19,
          "month": 5,
          "precipitation": 0,
          "temp_max": 18.3,
          "temp_min": 10.6,
          "weather": "sun",
          "wind": 2.3,
          "year": 2013
         },
         {
          "day": 20,
          "month": 5,
          "precipitation": 0,
          "temp_max": 19.4,
          "temp_min": 9.4,
          "weather": "sun",
          "wind": 1.8,
          "year": 2013
         },
         {
          "day": 21,
          "month": 5,
          "precipitation": 13.7,
          "temp_max": 15.6,
          "temp_min": 8.3,
          "weather": "fog",
          "wind": 4.8,
          "year": 2013
         },
         {
          "day": 22,
          "month": 5,
          "precipitation": 13.7,
          "temp_max": 11.1,
          "temp_min": 7.2,
          "weather": "fog",
          "wind": 3,
          "year": 2013
         },
         {
          "day": 23,
          "month": 5,
          "precipitation": 4.1,
          "temp_max": 12.2,
          "temp_min": 6.7,
          "weather": "fog",
          "wind": 1.9,
          "year": 2013
         },
         {
          "day": 24,
          "month": 5,
          "precipitation": 0.3,
          "temp_max": 16.7,
          "temp_min": 8.9,
          "weather": "sun",
          "wind": 2.7,
          "year": 2013
         },
         {
          "day": 25,
          "month": 5,
          "precipitation": 0,
          "temp_max": 17.8,
          "temp_min": 10,
          "weather": "sun",
          "wind": 2.7,
          "year": 2013
         },
         {
          "day": 26,
          "month": 5,
          "precipitation": 1.5,
          "temp_max": 18.3,
          "temp_min": 10.6,
          "weather": "fog",
          "wind": 2.2,
          "year": 2013
         },
         {
          "day": 27,
          "month": 5,
          "precipitation": 9.7,
          "temp_max": 16.7,
          "temp_min": 11.1,
          "weather": "fog",
          "wind": 3.1,
          "year": 2013
         },
         {
          "day": 28,
          "month": 5,
          "precipitation": 0.5,
          "temp_max": 17.2,
          "temp_min": 11.7,
          "weather": "fog",
          "wind": 2.8,
          "year": 2013
         },
         {
          "day": 29,
          "month": 5,
          "precipitation": 5.6,
          "temp_max": 16.1,
          "temp_min": 9.4,
          "weather": "fog",
          "wind": 4,
          "year": 2013
         },
         {
          "day": 30,
          "month": 5,
          "precipitation": 0,
          "temp_max": 16.7,
          "temp_min": 9.4,
          "weather": "sun",
          "wind": 5.3,
          "year": 2013
         },
         {
          "day": 31,
          "month": 5,
          "precipitation": 0,
          "temp_max": 19.4,
          "temp_min": 11.1,
          "weather": "sun",
          "wind": 2.5,
          "year": 2013
         },
         {
          "day": 1,
          "month": 6,
          "precipitation": 0,
          "temp_max": 22.8,
          "temp_min": 12.2,
          "weather": "sun",
          "wind": 2.5,
          "year": 2013
         },
         {
          "day": 2,
          "month": 6,
          "precipitation": 1,
          "temp_max": 20.6,
          "temp_min": 12.2,
          "weather": "sun",
          "wind": 3.1,
          "year": 2013
         },
         {
          "day": 3,
          "month": 6,
          "precipitation": 0,
          "temp_max": 22.2,
          "temp_min": 11.1,
          "weather": "sun",
          "wind": 2.9,
          "year": 2013
         },
         {
          "day": 4,
          "month": 6,
          "precipitation": 0,
          "temp_max": 26.1,
          "temp_min": 12.2,
          "weather": "sun",
          "wind": 3.4,
          "year": 2013
         },
         {
          "day": 5,
          "month": 6,
          "precipitation": 0,
          "temp_max": 26.7,
          "temp_min": 14.4,
          "weather": "sun",
          "wind": 3.1,
          "year": 2013
         },
         {
          "day": 6,
          "month": 6,
          "precipitation": 0,
          "temp_max": 26.7,
          "temp_min": 12.2,
          "weather": "sun",
          "wind": 2.5,
          "year": 2013
         },
         {
          "day": 7,
          "month": 6,
          "precipitation": 0,
          "temp_max": 21.7,
          "temp_min": 13.3,
          "weather": "sun",
          "wind": 3.2,
          "year": 2013
         },
         {
          "day": 8,
          "month": 6,
          "precipitation": 0,
          "temp_max": 20.6,
          "temp_min": 12.8,
          "weather": "sun",
          "wind": 3.1,
          "year": 2013
         },
         {
          "day": 9,
          "month": 6,
          "precipitation": 0,
          "temp_max": 20.6,
          "temp_min": 11.1,
          "weather": "sun",
          "wind": 3.7,
          "year": 2013
         },
         {
          "day": 10,
          "month": 6,
          "precipitation": 0,
          "temp_max": 21.7,
          "temp_min": 11.7,
          "weather": "sun",
          "wind": 3.2,
          "year": 2013
         },
         {
          "day": 11,
          "month": 6,
          "precipitation": 0,
          "temp_max": 20,
          "temp_min": 10,
          "weather": "sun",
          "wind": 5.7,
          "year": 2013
         },
         {
          "day": 12,
          "month": 6,
          "precipitation": 0.3,
          "temp_max": 20.6,
          "temp_min": 11.7,
          "weather": "sun",
          "wind": 4.2,
          "year": 2013
         },
         {
          "day": 13,
          "month": 6,
          "precipitation": 0,
          "temp_max": 21.1,
          "temp_min": 11.7,
          "weather": "sun",
          "wind": 2.6,
          "year": 2013
         },
         {
          "day": 14,
          "month": 6,
          "precipitation": 0,
          "temp_max": 20,
          "temp_min": 12.2,
          "weather": "sun",
          "wind": 3.7,
          "year": 2013
         },
         {
          "day": 15,
          "month": 6,
          "precipitation": 0,
          "temp_max": 25.6,
          "temp_min": 10,
          "weather": "sun",
          "wind": 2.9,
          "year": 2013
         },
         {
          "day": 16,
          "month": 6,
          "precipitation": 0,
          "temp_max": 23.9,
          "temp_min": 12.8,
          "weather": "sun",
          "wind": 3.4,
          "year": 2013
         },
         {
          "day": 17,
          "month": 6,
          "precipitation": 0,
          "temp_max": 25.6,
          "temp_min": 13.9,
          "weather": "sun",
          "wind": 3,
          "year": 2013
         },
         {
          "day": 18,
          "month": 6,
          "precipitation": 0.3,
          "temp_max": 23.3,
          "temp_min": 13.3,
          "weather": "fog",
          "wind": 3.4,
          "year": 2013
         },
         {
          "day": 19,
          "month": 6,
          "precipitation": 0,
          "temp_max": 20,
          "temp_min": 12.8,
          "weather": "sun",
          "wind": 3.7,
          "year": 2013
         },
         {
          "day": 20,
          "month": 6,
          "precipitation": 3,
          "temp_max": 17.2,
          "temp_min": 12.8,
          "weather": "sun",
          "wind": 5,
          "year": 2013
         },
         {
          "day": 21,
          "month": 6,
          "precipitation": 0.3,
          "temp_max": 20.6,
          "temp_min": 12.2,
          "weather": "sun",
          "wind": 1.5,
          "year": 2013
         },
         {
          "day": 22,
          "month": 6,
          "precipitation": 0,
          "temp_max": 25.6,
          "temp_min": 11.7,
          "weather": "sun",
          "wind": 1.7,
          "year": 2013
         },
         {
          "day": 23,
          "month": 6,
          "precipitation": 7.9,
          "temp_max": 22.2,
          "temp_min": 15,
          "weather": "fog",
          "wind": 2.1,
          "year": 2013
         },
         {
          "day": 24,
          "month": 6,
          "precipitation": 4.8,
          "temp_max": 21.1,
          "temp_min": 13.9,
          "weather": "fog",
          "wind": 3.7,
          "year": 2013
         },
         {
          "day": 25,
          "month": 6,
          "precipitation": 9.9,
          "temp_max": 23.3,
          "temp_min": 14.4,
          "weather": "sun",
          "wind": 2.8,
          "year": 2013
         },
         {
          "day": 26,
          "month": 6,
          "precipitation": 2,
          "temp_max": 22.2,
          "temp_min": 15,
          "weather": "fog",
          "wind": 2.3,
          "year": 2013
         },
         {
          "day": 27,
          "month": 6,
          "precipitation": 3.6,
          "temp_max": 21.1,
          "temp_min": 16.7,
          "weather": "fog",
          "wind": 1.3,
          "year": 2013
         },
         {
          "day": 28,
          "month": 6,
          "precipitation": 0,
          "temp_max": 30.6,
          "temp_min": 16.1,
          "weather": "sun",
          "wind": 2.2,
          "year": 2013
         },
         {
          "day": 29,
          "month": 6,
          "precipitation": 0,
          "temp_max": 30,
          "temp_min": 18.3,
          "weather": "sun",
          "wind": 1.7,
          "year": 2013
         },
         {
          "day": 30,
          "month": 6,
          "precipitation": 0,
          "temp_max": 33.9,
          "temp_min": 17.2,
          "weather": "sun",
          "wind": 2.5,
          "year": 2013
         },
         {
          "day": 1,
          "month": 7,
          "precipitation": 0,
          "temp_max": 31.7,
          "temp_min": 18.3,
          "weather": "sun",
          "wind": 2.3,
          "year": 2013
         },
         {
          "day": 2,
          "month": 7,
          "precipitation": 0,
          "temp_max": 28.3,
          "temp_min": 15.6,
          "weather": "sun",
          "wind": 3,
          "year": 2013
         },
         {
          "day": 3,
          "month": 7,
          "precipitation": 0,
          "temp_max": 26.1,
          "temp_min": 16.7,
          "weather": "sun",
          "wind": 3.2,
          "year": 2013
         },
         {
          "day": 4,
          "month": 7,
          "precipitation": 0,
          "temp_max": 21.7,
          "temp_min": 13.9,
          "weather": "fog",
          "wind": 2.2,
          "year": 2013
         },
         {
          "day": 5,
          "month": 7,
          "precipitation": 0,
          "temp_max": 23.3,
          "temp_min": 13.9,
          "weather": "sun",
          "wind": 2.6,
          "year": 2013
         },
         {
          "day": 6,
          "month": 7,
          "precipitation": 0,
          "temp_max": 26.1,
          "temp_min": 13.3,
          "weather": "sun",
          "wind": 2.2,
          "year": 2013
         },
         {
          "day": 7,
          "month": 7,
          "precipitation": 0,
          "temp_max": 23.9,
          "temp_min": 13.9,
          "weather": "sun",
          "wind": 2.9,
          "year": 2013
         },
         {
          "day": 8,
          "month": 7,
          "precipitation": 0,
          "temp_max": 26.7,
          "temp_min": 13.3,
          "weather": "sun",
          "wind": 2.8,
          "year": 2013
         },
         {
          "day": 9,
          "month": 7,
          "precipitation": 0,
          "temp_max": 30,
          "temp_min": 15,
          "weather": "sun",
          "wind": 2.5,
          "year": 2013
         },
         {
          "day": 10,
          "month": 7,
          "precipitation": 0,
          "temp_max": 22.2,
          "temp_min": 13.9,
          "weather": "sun",
          "wind": 2.6,
          "year": 2013
         },
         {
          "day": 11,
          "month": 7,
          "precipitation": 0,
          "temp_max": 22.8,
          "temp_min": 12.2,
          "weather": "sun",
          "wind": 3,
          "year": 2013
         },
         {
          "day": 12,
          "month": 7,
          "precipitation": 0,
          "temp_max": 19.4,
          "temp_min": 13.3,
          "weather": "sun",
          "wind": 2.2,
          "year": 2013
         },
         {
          "day": 13,
          "month": 7,
          "precipitation": 0,
          "temp_max": 26.1,
          "temp_min": 11.1,
          "weather": "sun",
          "wind": 3.1,
          "year": 2013
         },
         {
          "day": 14,
          "month": 7,
          "precipitation": 0,
          "temp_max": 27.8,
          "temp_min": 12.8,
          "weather": "sun",
          "wind": 3,
          "year": 2013
         },
         {
          "day": 15,
          "month": 7,
          "precipitation": 0,
          "temp_max": 27.8,
          "temp_min": 14.4,
          "weather": "sun",
          "wind": 4.6,
          "year": 2013
         },
         {
          "day": 16,
          "month": 7,
          "precipitation": 0,
          "temp_max": 31.1,
          "temp_min": 18.3,
          "weather": "sun",
          "wind": 4.1,
          "year": 2013
         },
         {
          "day": 17,
          "month": 7,
          "precipitation": 0,
          "temp_max": 22.2,
          "temp_min": 15,
          "weather": "rain",
          "wind": 3.7,
          "year": 2013
         },
         {
          "day": 18,
          "month": 7,
          "precipitation": 0,
          "temp_max": 26.1,
          "temp_min": 13.9,
          "weather": "sun",
          "wind": 2,
          "year": 2013
         },
         {
          "day": 19,
          "month": 7,
          "precipitation": 0,
          "temp_max": 27.8,
          "temp_min": 13.3,
          "weather": "sun",
          "wind": 1.9,
          "year": 2013
         },
         {
          "day": 20,
          "month": 7,
          "precipitation": 0,
          "temp_max": 25,
          "temp_min": 13.3,
          "weather": "sun",
          "wind": 2,
          "year": 2013
         },
         {
          "day": 21,
          "month": 7,
          "precipitation": 0,
          "temp_max": 23.9,
          "temp_min": 12.8,
          "weather": "sun",
          "wind": 2.3,
          "year": 2013
         },
         {
          "day": 22,
          "month": 7,
          "precipitation": 0,
          "temp_max": 26.1,
          "temp_min": 13.3,
          "weather": "fog",
          "wind": 2.4,
          "year": 2013
         },
         {
          "day": 23,
          "month": 7,
          "precipitation": 0,
          "temp_max": 31.1,
          "temp_min": 13.9,
          "weather": "sun",
          "wind": 3,
          "year": 2013
         },
         {
          "day": 24,
          "month": 7,
          "precipitation": 0,
          "temp_max": 31.1,
          "temp_min": 14.4,
          "weather": "sun",
          "wind": 2.5,
          "year": 2013
         },
         {
          "day": 25,
          "month": 7,
          "precipitation": 0,
          "temp_max": 31.1,
          "temp_min": 12.8,
          "weather": "sun",
          "wind": 2.3,
          "year": 2013
         },
         {
          "day": 26,
          "month": 7,
          "precipitation": 0,
          "temp_max": 31.1,
          "temp_min": 14.4,
          "weather": "sun",
          "wind": 2.9,
          "year": 2013
         },
         {
          "day": 27,
          "month": 7,
          "precipitation": 0,
          "temp_max": 25.6,
          "temp_min": 12.8,
          "weather": "sun",
          "wind": 2.6,
          "year": 2013
         },
         {
          "day": 28,
          "month": 7,
          "precipitation": 0,
          "temp_max": 21.1,
          "temp_min": 12.2,
          "weather": "fog",
          "wind": 3.4,
          "year": 2013
         },
         {
          "day": 29,
          "month": 7,
          "precipitation": 0,
          "temp_max": 25,
          "temp_min": 13.3,
          "weather": "sun",
          "wind": 1.4,
          "year": 2013
         },
         {
          "day": 30,
          "month": 7,
          "precipitation": 0,
          "temp_max": 25,
          "temp_min": 13.3,
          "weather": "sun",
          "wind": 2.8,
          "year": 2013
         },
         {
          "day": 31,
          "month": 7,
          "precipitation": 0,
          "temp_max": 21.7,
          "temp_min": 13.3,
          "weather": "sun",
          "wind": 1.8,
          "year": 2013
         },
         {
          "day": 1,
          "month": 8,
          "precipitation": 0,
          "temp_max": 20.6,
          "temp_min": 13.3,
          "weather": "sun",
          "wind": 3.9,
          "year": 2013
         },
         {
          "day": 2,
          "month": 8,
          "precipitation": 2,
          "temp_max": 17.2,
          "temp_min": 15,
          "weather": "sun",
          "wind": 2,
          "year": 2013
         },
         {
          "day": 3,
          "month": 8,
          "precipitation": 0,
          "temp_max": 25,
          "temp_min": 15.6,
          "weather": "fog",
          "wind": 2.4,
          "year": 2013
         },
         {
          "day": 4,
          "month": 8,
          "precipitation": 0,
          "temp_max": 28.9,
          "temp_min": 15,
          "weather": "sun",
          "wind": 3.4,
          "year": 2013
         },
         {
          "day": 5,
          "month": 8,
          "precipitation": 0,
          "temp_max": 30,
          "temp_min": 15,
          "weather": "sun",
          "wind": 2.1,
          "year": 2013
         },
         {
          "day": 6,
          "month": 8,
          "precipitation": 0,
          "temp_max": 30.6,
          "temp_min": 13.9,
          "weather": "sun",
          "wind": 1.4,
          "year": 2013
         },
         {
          "day": 7,
          "month": 8,
          "precipitation": 0,
          "temp_max": 31.1,
          "temp_min": 13.9,
          "weather": "sun",
          "wind": 1.9,
          "year": 2013
         },
         {
          "day": 8,
          "month": 8,
          "precipitation": 0,
          "temp_max": 28.3,
          "temp_min": 14.4,
          "weather": "sun",
          "wind": 2.5,
          "year": 2013
         },
         {
          "day": 9,
          "month": 8,
          "precipitation": 0,
          "temp_max": 28.3,
          "temp_min": 14.4,
          "weather": "rain",
          "wind": 2.1,
          "year": 2013
         },
         {
          "day": 10,
          "month": 8,
          "precipitation": 2.3,
          "temp_max": 25.6,
          "temp_min": 15,
          "weather": "sun",
          "wind": 2.9,
          "year": 2013
         },
         {
          "day": 11,
          "month": 8,
          "precipitation": 0,
          "temp_max": 25,
          "temp_min": 14.4,
          "weather": "sun",
          "wind": 2.9,
          "year": 2013
         },
         {
          "day": 12,
          "month": 8,
          "precipitation": 0,
          "temp_max": 25.6,
          "temp_min": 16.1,
          "weather": "sun",
          "wind": 1.9,
          "year": 2013
         },
         {
          "day": 13,
          "month": 8,
          "precipitation": 0,
          "temp_max": 27.8,
          "temp_min": 15,
          "weather": "sun",
          "wind": 1.8,
          "year": 2013
         },
         {
          "day": 14,
          "month": 8,
          "precipitation": 0.8,
          "temp_max": 27.2,
          "temp_min": 15,
          "weather": "sun",
          "wind": 2,
          "year": 2013
         },
         {
          "day": 15,
          "month": 8,
          "precipitation": 1.8,
          "temp_max": 21.1,
          "temp_min": 17.2,
          "weather": "sun",
          "wind": 1,
          "year": 2013
         },
         {
          "day": 16,
          "month": 8,
          "precipitation": 0,
          "temp_max": 28.9,
          "temp_min": 16.1,
          "weather": "fog",
          "wind": 2.2,
          "year": 2013
         },
         {
          "day": 17,
          "month": 8,
          "precipitation": 0,
          "temp_max": 25.6,
          "temp_min": 17.2,
          "weather": "sun",
          "wind": 3,
          "year": 2013
         },
         {
          "day": 18,
          "month": 8,
          "precipitation": 0,
          "temp_max": 26.1,
          "temp_min": 15.6,
          "weather": "sun",
          "wind": 3.1,
          "year": 2013
         },
         {
          "day": 19,
          "month": 8,
          "precipitation": 0,
          "temp_max": 26.7,
          "temp_min": 15.6,
          "weather": "sun",
          "wind": 3,
          "year": 2013
         },
         {
          "day": 20,
          "month": 8,
          "precipitation": 0,
          "temp_max": 25.6,
          "temp_min": 16.1,
          "weather": "sun",
          "wind": 4.6,
          "year": 2013
         },
         {
          "day": 21,
          "month": 8,
          "precipitation": 0,
          "temp_max": 27.8,
          "temp_min": 15,
          "weather": "sun",
          "wind": 4.3,
          "year": 2013
         },
         {
          "day": 22,
          "month": 8,
          "precipitation": 0,
          "temp_max": 28.9,
          "temp_min": 15,
          "weather": "sun",
          "wind": 1.9,
          "year": 2013
         },
         {
          "day": 23,
          "month": 8,
          "precipitation": 0,
          "temp_max": 25,
          "temp_min": 16.1,
          "weather": "sun",
          "wind": 4.1,
          "year": 2013
         },
         {
          "day": 24,
          "month": 8,
          "precipitation": 0,
          "temp_max": 25,
          "temp_min": 16.7,
          "weather": "sun",
          "wind": 2.7,
          "year": 2013
         },
         {
          "day": 25,
          "month": 8,
          "precipitation": 0.3,
          "temp_max": 22.2,
          "temp_min": 16.1,
          "weather": "sun",
          "wind": 2.6,
          "year": 2013
         },
         {
          "day": 26,
          "month": 8,
          "precipitation": 1,
          "temp_max": 24.4,
          "temp_min": 16.1,
          "weather": "sun",
          "wind": 1.9,
          "year": 2013
         },
         {
          "day": 27,
          "month": 8,
          "precipitation": 1.3,
          "temp_max": 26.7,
          "temp_min": 17.2,
          "weather": "sun",
          "wind": 1.4,
          "year": 2013
         },
         {
          "day": 28,
          "month": 8,
          "precipitation": 5.6,
          "temp_max": 26.7,
          "temp_min": 15.6,
          "weather": "fog",
          "wind": 1.3,
          "year": 2013
         },
         {
          "day": 29,
          "month": 8,
          "precipitation": 19.3,
          "temp_max": 23.9,
          "temp_min": 18.3,
          "weather": "sun",
          "wind": 3,
          "year": 2013
         },
         {
          "day": 30,
          "month": 8,
          "precipitation": 0,
          "temp_max": 26.1,
          "temp_min": 16.1,
          "weather": "sun",
          "wind": 2.9,
          "year": 2013
         },
         {
          "day": 31,
          "month": 8,
          "precipitation": 0,
          "temp_max": 27.8,
          "temp_min": 13.9,
          "weather": "sun",
          "wind": 2.6,
          "year": 2013
         },
         {
          "day": 1,
          "month": 9,
          "precipitation": 0,
          "temp_max": 27.8,
          "temp_min": 15.6,
          "weather": "sun",
          "wind": 2.5,
          "year": 2013
         },
         {
          "day": 2,
          "month": 9,
          "precipitation": 0,
          "temp_max": 27.8,
          "temp_min": 17.2,
          "weather": "sun",
          "wind": 2.1,
          "year": 2013
         },
         {
          "day": 3,
          "month": 9,
          "precipitation": 2.3,
          "temp_max": 25,
          "temp_min": 16.7,
          "weather": "fog",
          "wind": 1.7,
          "year": 2013
         },
         {
          "day": 4,
          "month": 9,
          "precipitation": 0.3,
          "temp_max": 22.8,
          "temp_min": 16.1,
          "weather": "fog",
          "wind": 2.4,
          "year": 2013
         },
         {
          "day": 5,
          "month": 9,
          "precipitation": 27.7,
          "temp_max": 20,
          "temp_min": 15.6,
          "weather": "sun",
          "wind": 2.5,
          "year": 2013
         },
         {
          "day": 6,
          "month": 9,
          "precipitation": 21.3,
          "temp_max": 21.7,
          "temp_min": 16.1,
          "weather": "fog",
          "wind": 2.6,
          "year": 2013
         },
         {
          "day": 7,
          "month": 9,
          "precipitation": 0,
          "temp_max": 23.3,
          "temp_min": 17.2,
          "weather": "sun",
          "wind": 2,
          "year": 2013
         },
         {
          "day": 8,
          "month": 9,
          "precipitation": 0,
          "temp_max": 26.7,
          "temp_min": 14.4,
          "weather": "fog",
          "wind": 1.5,
          "year": 2013
         },
         {
          "day": 9,
          "month": 9,
          "precipitation": 0,
          "temp_max": 26.1,
          "temp_min": 13.9,
          "weather": "sun",
          "wind": 2.1,
          "year": 2013
         },
         {
          "day": 10,
          "month": 9,
          "precipitation": 0,
          "temp_max": 26.7,
          "temp_min": 15,
          "weather": "sun",
          "wind": 3.7,
          "year": 2013
         },
         {
          "day": 11,
          "month": 9,
          "precipitation": 0,
          "temp_max": 33.9,
          "temp_min": 16.1,
          "weather": "sun",
          "wind": 2.4,
          "year": 2013
         },
         {
          "day": 12,
          "month": 9,
          "precipitation": 0,
          "temp_max": 25.6,
          "temp_min": 15,
          "weather": "sun",
          "wind": 1.7,
          "year": 2013
         },
         {
          "day": 13,
          "month": 9,
          "precipitation": 0,
          "temp_max": 18.9,
          "temp_min": 15.6,
          "weather": "sun",
          "wind": 2,
          "year": 2013
         },
         {
          "day": 14,
          "month": 9,
          "precipitation": 0,
          "temp_max": 21.7,
          "temp_min": 15.6,
          "weather": "fog",
          "wind": 1.4,
          "year": 2013
         },
         {
          "day": 15,
          "month": 9,
          "precipitation": 3.3,
          "temp_max": 18.9,
          "temp_min": 14.4,
          "weather": "sun",
          "wind": 2.2,
          "year": 2013
         },
         {
          "day": 16,
          "month": 9,
          "precipitation": 0.3,
          "temp_max": 21.7,
          "temp_min": 15,
          "weather": "fog",
          "wind": 4.3,
          "year": 2013
         },
         {
          "day": 17,
          "month": 9,
          "precipitation": 0,
          "temp_max": 17.8,
          "temp_min": 13.9,
          "weather": "sun",
          "wind": 2.3,
          "year": 2013
         },
         {
          "day": 18,
          "month": 9,
          "precipitation": 0,
          "temp_max": 21.1,
          "temp_min": 13.3,
          "weather": "sun",
          "wind": 2.5,
          "year": 2013
         },
         {
          "day": 19,
          "month": 9,
          "precipitation": 0,
          "temp_max": 25.6,
          "temp_min": 10,
          "weather": "sun",
          "wind": 1.5,
          "year": 2013
         },
         {
          "day": 20,
          "month": 9,
          "precipitation": 3.6,
          "temp_max": 23.3,
          "temp_min": 13.3,
          "weather": "fog",
          "wind": 3,
          "year": 2013
         },
         {
          "day": 21,
          "month": 9,
          "precipitation": 0,
          "temp_max": 21.1,
          "temp_min": 13.3,
          "weather": "sun",
          "wind": 2.5,
          "year": 2013
         },
         {
          "day": 22,
          "month": 9,
          "precipitation": 13.5,
          "temp_max": 17.2,
          "temp_min": 13.3,
          "weather": "fog",
          "wind": 5.5,
          "year": 2013
         },
         {
          "day": 23,
          "month": 9,
          "precipitation": 2.8,
          "temp_max": 16.1,
          "temp_min": 11.1,
          "weather": "fog",
          "wind": 4.5,
          "year": 2013
         },
         {
          "day": 24,
          "month": 9,
          "precipitation": 0,
          "temp_max": 17.8,
          "temp_min": 10,
          "weather": "sun",
          "wind": 2.6,
          "year": 2013
         },
         {
          "day": 25,
          "month": 9,
          "precipitation": 2,
          "temp_max": 16.1,
          "temp_min": 9.4,
          "weather": "fog",
          "wind": 3,
          "year": 2013
         },
         {
          "day": 26,
          "month": 9,
          "precipitation": 0,
          "temp_max": 17.2,
          "temp_min": 7.2,
          "weather": "sun",
          "wind": 2.2,
          "year": 2013
         },
         {
          "day": 27,
          "month": 9,
          "precipitation": 1,
          "temp_max": 13.9,
          "temp_min": 10.6,
          "weather": "fog",
          "wind": 4.3,
          "year": 2013
         },
         {
          "day": 28,
          "month": 9,
          "precipitation": 43.4,
          "temp_max": 16.7,
          "temp_min": 11.7,
          "weather": "fog",
          "wind": 6,
          "year": 2013
         },
         {
          "day": 29,
          "month": 9,
          "precipitation": 16.8,
          "temp_max": 14.4,
          "temp_min": 11.1,
          "weather": "sun",
          "wind": 7.1,
          "year": 2013
         },
         {
          "day": 30,
          "month": 9,
          "precipitation": 18.5,
          "temp_max": 13.9,
          "temp_min": 10,
          "weather": "fog",
          "wind": 6.3,
          "year": 2013
         },
         {
          "day": 1,
          "month": 10,
          "precipitation": 7.9,
          "temp_max": 14.4,
          "temp_min": 8.9,
          "weather": "fog",
          "wind": 4.7,
          "year": 2013
         },
         {
          "day": 2,
          "month": 10,
          "precipitation": 5.3,
          "temp_max": 12.8,
          "temp_min": 9.4,
          "weather": "fog",
          "wind": 2.4,
          "year": 2013
         },
         {
          "day": 3,
          "month": 10,
          "precipitation": 0.8,
          "temp_max": 14.4,
          "temp_min": 8.9,
          "weather": "fog",
          "wind": 0.9,
          "year": 2013
         },
         {
          "day": 4,
          "month": 10,
          "precipitation": 0,
          "temp_max": 17.8,
          "temp_min": 5.6,
          "weather": "sun",
          "wind": 1.1,
          "year": 2013
         },
         {
          "day": 5,
          "month": 10,
          "precipitation": 0,
          "temp_max": 20,
          "temp_min": 8.3,
          "weather": "sun",
          "wind": 1.6,
          "year": 2013
         },
         {
          "day": 6,
          "month": 10,
          "precipitation": 4.1,
          "temp_max": 22.8,
          "temp_min": 7.8,
          "weather": "fog",
          "wind": 2.6,
          "year": 2013
         },
         {
          "day": 7,
          "month": 10,
          "precipitation": 0.5,
          "temp_max": 16.1,
          "temp_min": 11.7,
          "weather": "fog",
          "wind": 6.3,
          "year": 2013
         },
         {
          "day": 8,
          "month": 10,
          "precipitation": 6.9,
          "temp_max": 13.9,
          "temp_min": 7.8,
          "weather": "rain",
          "wind": 3,
          "year": 2013
         },
         {
          "day": 9,
          "month": 10,
          "precipitation": 0,
          "temp_max": 15,
          "temp_min": 5.6,
          "weather": "sun",
          "wind": 1.6,
          "year": 2013
         },
         {
          "day": 10,
          "month": 10,
          "precipitation": 1,
          "temp_max": 14.4,
          "temp_min": 8.3,
          "weather": "fog",
          "wind": 1.7,
          "year": 2013
         },
         {
          "day": 11,
          "month": 10,
          "precipitation": 9.1,
          "temp_max": 13.9,
          "temp_min": 10.6,
          "weather": "sun",
          "wind": 1,
          "year": 2013
         },
         {
          "day": 12,
          "month": 10,
          "precipitation": 1,
          "temp_max": 14.4,
          "temp_min": 8.9,
          "weather": "fog",
          "wind": 2.2,
          "year": 2013
         },
         {
          "day": 13,
          "month": 10,
          "precipitation": 0,
          "temp_max": 15,
          "temp_min": 6.7,
          "weather": "fog",
          "wind": 1.8,
          "year": 2013
         },
         {
          "day": 14,
          "month": 10,
          "precipitation": 0,
          "temp_max": 15.6,
          "temp_min": 3.9,
          "weather": "sun",
          "wind": 1.6,
          "year": 2013
         },
         {
          "day": 15,
          "month": 10,
          "precipitation": 0,
          "temp_max": 15.6,
          "temp_min": 5,
          "weather": "sun",
          "wind": 0.9,
          "year": 2013
         },
         {
          "day": 16,
          "month": 10,
          "precipitation": 0,
          "temp_max": 12.8,
          "temp_min": 8.9,
          "weather": "fog",
          "wind": 2.7,
          "year": 2013
         },
         {
          "day": 17,
          "month": 10,
          "precipitation": 0,
          "temp_max": 14.4,
          "temp_min": 8.9,
          "weather": "fog",
          "wind": 1.7,
          "year": 2013
         },
         {
          "day": 18,
          "month": 10,
          "precipitation": 0,
          "temp_max": 12.8,
          "temp_min": 7.2,
          "weather": "sun",
          "wind": 1.2,
          "year": 2013
         },
         {
          "day": 19,
          "month": 10,
          "precipitation": 0,
          "temp_max": 10.6,
          "temp_min": 7.8,
          "weather": "sun",
          "wind": 1.4,
          "year": 2013
         },
         {
          "day": 20,
          "month": 10,
          "precipitation": 0,
          "temp_max": 10.6,
          "temp_min": 7.8,
          "weather": "sun",
          "wind": 2.4,
          "year": 2013
         },
         {
          "day": 21,
          "month": 10,
          "precipitation": 0,
          "temp_max": 11.7,
          "temp_min": 8.3,
          "weather": "sun",
          "wind": 2.5,
          "year": 2013
         },
         {
          "day": 22,
          "month": 10,
          "precipitation": 0,
          "temp_max": 14.4,
          "temp_min": 7.2,
          "weather": "sun",
          "wind": 1.9,
          "year": 2013
         },
         {
          "day": 23,
          "month": 10,
          "precipitation": 0,
          "temp_max": 12.8,
          "temp_min": 6.1,
          "weather": "sun",
          "wind": 0.4,
          "year": 2013
         },
         {
          "day": 24,
          "month": 10,
          "precipitation": 0,
          "temp_max": 10,
          "temp_min": 6.1,
          "weather": "sun",
          "wind": 0.6,
          "year": 2013
         },
         {
          "day": 25,
          "month": 10,
          "precipitation": 0,
          "temp_max": 12.2,
          "temp_min": 7.8,
          "weather": "sun",
          "wind": 1.8,
          "year": 2013
         },
         {
          "day": 26,
          "month": 10,
          "precipitation": 0,
          "temp_max": 11.7,
          "temp_min": 8.3,
          "weather": "sun",
          "wind": 2.7,
          "year": 2013
         },
         {
          "day": 27,
          "month": 10,
          "precipitation": 1.8,
          "temp_max": 13.9,
          "temp_min": 8.3,
          "weather": "fog",
          "wind": 4.4,
          "year": 2013
         },
         {
          "day": 28,
          "month": 10,
          "precipitation": 0,
          "temp_max": 14.4,
          "temp_min": 7.2,
          "weather": "sun",
          "wind": 5.1,
          "year": 2013
         },
         {
          "day": 29,
          "month": 10,
          "precipitation": 0,
          "temp_max": 13.3,
          "temp_min": 3.3,
          "weather": "sun",
          "wind": 2.2,
          "year": 2013
         },
         {
          "day": 30,
          "month": 10,
          "precipitation": 0.5,
          "temp_max": 15,
          "temp_min": 5.6,
          "weather": "sun",
          "wind": 3.9,
          "year": 2013
         },
         {
          "day": 31,
          "month": 10,
          "precipitation": 0.3,
          "temp_max": 14.4,
          "temp_min": 10.6,
          "weather": "fog",
          "wind": 2.2,
          "year": 2013
         },
         {
          "day": 1,
          "month": 11,
          "precipitation": 1.3,
          "temp_max": 17.8,
          "temp_min": 11.7,
          "weather": "sun",
          "wind": 1.4,
          "year": 2013
         },
         {
          "day": 2,
          "month": 11,
          "precipitation": 12.7,
          "temp_max": 14.4,
          "temp_min": 8.3,
          "weather": "fog",
          "wind": 7.9,
          "year": 2013
         },
         {
          "day": 3,
          "month": 11,
          "precipitation": 0.5,
          "temp_max": 12.2,
          "temp_min": 4.4,
          "weather": "sun",
          "wind": 2.4,
          "year": 2013
         },
         {
          "day": 4,
          "month": 11,
          "precipitation": 0,
          "temp_max": 10.6,
          "temp_min": 3.9,
          "weather": "drizzle",
          "wind": 1.6,
          "year": 2013
         },
         {
          "day": 5,
          "month": 11,
          "precipitation": 2.5,
          "temp_max": 13.3,
          "temp_min": 7.2,
          "weather": "fog",
          "wind": 3.1,
          "year": 2013
         },
         {
          "day": 6,
          "month": 11,
          "precipitation": 3.8,
          "temp_max": 12.8,
          "temp_min": 7.8,
          "weather": "sun",
          "wind": 1.7,
          "year": 2013
         },
         {
          "day": 7,
          "month": 11,
          "precipitation": 30,
          "temp_max": 11.1,
          "temp_min": 10,
          "weather": "fog",
          "wind": 7.2,
          "year": 2013
         },
         {
          "day": 8,
          "month": 11,
          "precipitation": 0,
          "temp_max": 13.3,
          "temp_min": 7.2,
          "weather": "sun",
          "wind": 4.1,
          "year": 2013
         },
         {
          "day": 9,
          "month": 11,
          "precipitation": 1.8,
          "temp_max": 11.1,
          "temp_min": 5,
          "weather": "sun",
          "wind": 1.4,
          "year": 2013
         },
         {
          "day": 10,
          "month": 11,
          "precipitation": 0,
          "temp_max": 11.1,
          "temp_min": 8.3,
          "weather": "sun",
          "wind": 4.4,
          "year": 2013
         },
         {
          "day": 11,
          "month": 11,
          "precipitation": 0,
          "temp_max": 16.1,
          "temp_min": 6.1,
          "weather": "fog",
          "wind": 2.6,
          "year": 2013
         },
         {
          "day": 12,
          "month": 11,
          "precipitation": 4.1,
          "temp_max": 15.6,
          "temp_min": 8.9,
          "weather": "fog",
          "wind": 2.2,
          "year": 2013
         },
         {
          "day": 13,
          "month": 11,
          "precipitation": 0,
          "temp_max": 13.9,
          "temp_min": 10.6,
          "weather": "sun",
          "wind": 3.8,
          "year": 2013
         },
         {
          "day": 14,
          "month": 11,
          "precipitation": 1.3,
          "temp_max": 11.1,
          "temp_min": 6.1,
          "weather": "fog",
          "wind": 1.1,
          "year": 2013
         },
         {
          "day": 15,
          "month": 11,
          "precipitation": 3,
          "temp_max": 10.6,
          "temp_min": 7.2,
          "weather": "sun",
          "wind": 6,
          "year": 2013
         },
         {
          "day": 16,
          "month": 11,
          "precipitation": 0,
          "temp_max": 10,
          "temp_min": 5,
          "weather": "sun",
          "wind": 4.6,
          "year": 2013
         },
         {
          "day": 17,
          "month": 11,
          "precipitation": 5.3,
          "temp_max": 11.7,
          "temp_min": 7.2,
          "weather": "fog",
          "wind": 5.4,
          "year": 2013
         },
         {
          "day": 18,
          "month": 11,
          "precipitation": 26.2,
          "temp_max": 12.8,
          "temp_min": 9.4,
          "weather": "fog",
          "wind": 3.9,
          "year": 2013
         },
         {
          "day": 19,
          "month": 11,
          "precipitation": 1,
          "temp_max": 13.3,
          "temp_min": 4.4,
          "weather": "fog",
          "wind": 5.1,
          "year": 2013
         },
         {
          "day": 20,
          "month": 11,
          "precipitation": 0,
          "temp_max": 7.8,
          "temp_min": 1.7,
          "weather": "sun",
          "wind": 4.3,
          "year": 2013
         },
         {
          "day": 21,
          "month": 11,
          "precipitation": 0,
          "temp_max": 7.8,
          "temp_min": -0.5,
          "weather": "sun",
          "wind": 3.6,
          "year": 2013
         },
         {
          "day": 22,
          "month": 11,
          "precipitation": 0,
          "temp_max": 9.4,
          "temp_min": 0,
          "weather": "sun",
          "wind": 4.6,
          "year": 2013
         },
         {
          "day": 23,
          "month": 11,
          "precipitation": 0,
          "temp_max": 11.1,
          "temp_min": 1.1,
          "weather": "sun",
          "wind": 2.6,
          "year": 2013
         },
         {
          "day": 24,
          "month": 11,
          "precipitation": 0,
          "temp_max": 11.7,
          "temp_min": 0.6,
          "weather": "fog",
          "wind": 0.9,
          "year": 2013
         },
         {
          "day": 25,
          "month": 11,
          "precipitation": 0,
          "temp_max": 12.2,
          "temp_min": 2.2,
          "weather": "sun",
          "wind": 0.5,
          "year": 2013
         },
         {
          "day": 26,
          "month": 11,
          "precipitation": 0,
          "temp_max": 12.2,
          "temp_min": 2.8,
          "weather": "sun",
          "wind": 1,
          "year": 2013
         },
         {
          "day": 27,
          "month": 11,
          "precipitation": 0,
          "temp_max": 14.4,
          "temp_min": 5.6,
          "weather": "sun",
          "wind": 1.3,
          "year": 2013
         },
         {
          "day": 28,
          "month": 11,
          "precipitation": 0,
          "temp_max": 11.7,
          "temp_min": 3.3,
          "weather": "sun",
          "wind": 0.7,
          "year": 2013
         },
         {
          "day": 29,
          "month": 11,
          "precipitation": 0.5,
          "temp_max": 9.4,
          "temp_min": 5,
          "weather": "fog",
          "wind": 2.1,
          "year": 2013
         },
         {
          "day": 30,
          "month": 11,
          "precipitation": 2.3,
          "temp_max": 11.1,
          "temp_min": 7.2,
          "weather": "fog",
          "wind": 3.9,
          "year": 2013
         },
         {
          "day": 1,
          "month": 12,
          "precipitation": 3,
          "temp_max": 13.3,
          "temp_min": 7.8,
          "weather": "fog",
          "wind": 8.8,
          "year": 2013
         },
         {
          "day": 2,
          "month": 12,
          "precipitation": 4.6,
          "temp_max": 7.8,
          "temp_min": 1.7,
          "weather": "sun",
          "wind": 3.5,
          "year": 2013
         },
         {
          "day": 3,
          "month": 12,
          "precipitation": 0,
          "temp_max": 5,
          "temp_min": -0.5,
          "weather": "sun",
          "wind": 5.6,
          "year": 2013
         },
         {
          "day": 4,
          "month": 12,
          "precipitation": 0,
          "temp_max": 4.4,
          "temp_min": -2.1,
          "weather": "sun",
          "wind": 1.6,
          "year": 2013
         },
         {
          "day": 5,
          "month": 12,
          "precipitation": 0,
          "temp_max": 1.1,
          "temp_min": -4.9,
          "weather": "sun",
          "wind": 2.6,
          "year": 2013
         },
         {
          "day": 6,
          "month": 12,
          "precipitation": 0,
          "temp_max": 1.1,
          "temp_min": -4.3,
          "weather": "sun",
          "wind": 4.7,
          "year": 2013
         },
         {
          "day": 7,
          "month": 12,
          "precipitation": 0,
          "temp_max": 0,
          "temp_min": -7.1,
          "weather": "sun",
          "wind": 3.1,
          "year": 2013
         },
         {
          "day": 8,
          "month": 12,
          "precipitation": 0,
          "temp_max": 2.2,
          "temp_min": -6.6,
          "weather": "sun",
          "wind": 2.2,
          "year": 2013
         },
         {
          "day": 9,
          "month": 12,
          "precipitation": 0,
          "temp_max": 1.1,
          "temp_min": -4.9,
          "weather": "sun",
          "wind": 1.3,
          "year": 2013
         },
         {
          "day": 10,
          "month": 12,
          "precipitation": 0,
          "temp_max": 5.6,
          "temp_min": 0.6,
          "weather": "sun",
          "wind": 1.5,
          "year": 2013
         },
         {
          "day": 11,
          "month": 12,
          "precipitation": 0,
          "temp_max": 5,
          "temp_min": -1.6,
          "weather": "sun",
          "wind": 0.8,
          "year": 2013
         },
         {
          "day": 12,
          "month": 12,
          "precipitation": 6.9,
          "temp_max": 5.6,
          "temp_min": -0.5,
          "weather": "sun",
          "wind": 2.3,
          "year": 2013
         },
         {
          "day": 13,
          "month": 12,
          "precipitation": 0.5,
          "temp_max": 9.4,
          "temp_min": 5.6,
          "weather": "fog",
          "wind": 2.9,
          "year": 2013
         },
         {
          "day": 14,
          "month": 12,
          "precipitation": 0,
          "temp_max": 9.4,
          "temp_min": 6.1,
          "weather": "sun",
          "wind": 3.7,
          "year": 2013
         },
         {
          "day": 15,
          "month": 12,
          "precipitation": 1.3,
          "temp_max": 11.7,
          "temp_min": 8.3,
          "weather": "fog",
          "wind": 3.9,
          "year": 2013
         },
         {
          "day": 16,
          "month": 12,
          "precipitation": 0.3,
          "temp_max": 10,
          "temp_min": 4.4,
          "weather": "sun",
          "wind": 1,
          "year": 2013
         },
         {
          "day": 17,
          "month": 12,
          "precipitation": 0,
          "temp_max": 8.3,
          "temp_min": 4.4,
          "weather": "sun",
          "wind": 2.7,
          "year": 2013
         },
         {
          "day": 18,
          "month": 12,
          "precipitation": 1.3,
          "temp_max": 7.8,
          "temp_min": 2.2,
          "weather": "fog",
          "wind": 2.8,
          "year": 2013
         },
         {
          "day": 19,
          "month": 12,
          "precipitation": 0,
          "temp_max": 5,
          "temp_min": 0,
          "weather": "sun",
          "wind": 2.1,
          "year": 2013
         },
         {
          "day": 20,
          "month": 12,
          "precipitation": 5.6,
          "temp_max": 8.3,
          "temp_min": 0.6,
          "weather": "fog",
          "wind": 3.7,
          "year": 2013
         },
         {
          "day": 21,
          "month": 12,
          "precipitation": 5.6,
          "temp_max": 8.9,
          "temp_min": 5.6,
          "weather": "fog",
          "wind": 2.3,
          "year": 2013
         },
         {
          "day": 22,
          "month": 12,
          "precipitation": 10.7,
          "temp_max": 10.6,
          "temp_min": 8.3,
          "weather": "fog",
          "wind": 4,
          "year": 2013
         },
         {
          "day": 23,
          "month": 12,
          "precipitation": 1.5,
          "temp_max": 11.7,
          "temp_min": 6.1,
          "weather": "fog",
          "wind": 5.9,
          "year": 2013
         },
         {
          "day": 24,
          "month": 12,
          "precipitation": 0,
          "temp_max": 8.3,
          "temp_min": 2.8,
          "weather": "sun",
          "wind": 1.7,
          "year": 2013
         },
         {
          "day": 25,
          "month": 12,
          "precipitation": 0,
          "temp_max": 6.7,
          "temp_min": 1.7,
          "weather": "sun",
          "wind": 0.8,
          "year": 2013
         },
         {
          "day": 26,
          "month": 12,
          "precipitation": 0,
          "temp_max": 6.7,
          "temp_min": 0.6,
          "weather": "sun",
          "wind": 0.5,
          "year": 2013
         },
         {
          "day": 27,
          "month": 12,
          "precipitation": 0.3,
          "temp_max": 8.9,
          "temp_min": 0,
          "weather": "fog",
          "wind": 2.1,
          "year": 2013
         },
         {
          "day": 28,
          "month": 12,
          "precipitation": 0,
          "temp_max": 9.4,
          "temp_min": 3.3,
          "weather": "sun",
          "wind": 1.3,
          "year": 2013
         },
         {
          "day": 29,
          "month": 12,
          "precipitation": 0,
          "temp_max": 7.2,
          "temp_min": 1.7,
          "weather": "sun",
          "wind": 1.1,
          "year": 2013
         },
         {
          "day": 30,
          "month": 12,
          "precipitation": 0.3,
          "temp_max": 8.9,
          "temp_min": 4.4,
          "weather": "sun",
          "wind": 2.6,
          "year": 2013
         },
         {
          "day": 31,
          "month": 12,
          "precipitation": 0.5,
          "temp_max": 8.3,
          "temp_min": 5,
          "weather": "sun",
          "wind": 1.7,
          "year": 2013
         },
         {
          "day": 1,
          "month": 1,
          "precipitation": 0,
          "temp_max": 7.2,
          "temp_min": 3.3,
          "weather": "sun",
          "wind": 1.2,
          "year": 2014
         },
         {
          "day": 2,
          "month": 1,
          "precipitation": 4.1,
          "temp_max": 10.6,
          "temp_min": 6.1,
          "weather": "sun",
          "wind": 3.2,
          "year": 2014
         },
         {
          "day": 3,
          "month": 1,
          "precipitation": 1.5,
          "temp_max": 8.9,
          "temp_min": 2.8,
          "weather": "fog",
          "wind": 2.6,
          "year": 2014
         },
         {
          "day": 4,
          "month": 1,
          "precipitation": 0,
          "temp_max": 7.8,
          "temp_min": 0.6,
          "weather": "fog",
          "wind": 2.7,
          "year": 2014
         },
         {
          "day": 5,
          "month": 1,
          "precipitation": 0,
          "temp_max": 8.3,
          "temp_min": -0.5,
          "weather": "sun",
          "wind": 3.7,
          "year": 2014
         },
         {
          "day": 6,
          "month": 1,
          "precipitation": 0.3,
          "temp_max": 7.8,
          "temp_min": -0.5,
          "weather": "fog",
          "wind": 2.6,
          "year": 2014
         },
         {
          "day": 7,
          "month": 1,
          "precipitation": 12.2,
          "temp_max": 8.3,
          "temp_min": 5,
          "weather": "sun",
          "wind": 1.6,
          "year": 2014
         },
         {
          "day": 8,
          "month": 1,
          "precipitation": 9.7,
          "temp_max": 10,
          "temp_min": 7.2,
          "weather": "fog",
          "wind": 4.6,
          "year": 2014
         },
         {
          "day": 9,
          "month": 1,
          "precipitation": 5.8,
          "temp_max": 9.4,
          "temp_min": 5.6,
          "weather": "fog",
          "wind": 6.3,
          "year": 2014
         },
         {
          "day": 10,
          "month": 1,
          "precipitation": 4.3,
          "temp_max": 12.8,
          "temp_min": 8.3,
          "weather": "sun",
          "wind": 7,
          "year": 2014
         },
         {
          "day": 11,
          "month": 1,
          "precipitation": 21.3,
          "temp_max": 14.4,
          "temp_min": 7.2,
          "weather": "fog",
          "wind": 8.8,
          "year": 2014
         },
         {
          "day": 12,
          "month": 1,
          "precipitation": 1.5,
          "temp_max": 11.1,
          "temp_min": 5.6,
          "weather": "fog",
          "wind": 8.1,
          "year": 2014
         },
         {
          "day": 13,
          "month": 1,
          "precipitation": 0,
          "temp_max": 10.6,
          "temp_min": 10,
          "weather": "sun",
          "wind": 7.1,
          "year": 2014
         },
         {
          "day": 14,
          "month": 1,
          "precipitation": 0,
          "temp_max": 11.1,
          "temp_min": 7.2,
          "weather": "sun",
          "wind": 1.3,
          "year": 2014
         },
         {
          "day": 15,
          "month": 1,
          "precipitation": 0,
          "temp_max": 11.1,
          "temp_min": 5.6,
          "weather": "sun",
          "wind": 2.5,
          "year": 2014
         },
         {
          "day": 16,
          "month": 1,
          "precipitation": 0,
          "temp_max": 6.7,
          "temp_min": 4.4,
          "weather": "sun",
          "wind": 2.7,
          "year": 2014
         },
         {
          "day": 17,
          "month": 1,
          "precipitation": 0,
          "temp_max": 5.6,
          "temp_min": 2.8,
          "weather": "sun",
          "wind": 2.3,
          "year": 2014
         },
         {
          "day": 18,
          "month": 1,
          "precipitation": 0,
          "temp_max": 9.4,
          "temp_min": 0.6,
          "weather": "sun",
          "wind": 2.2,
          "year": 2014
         },
         {
          "day": 19,
          "month": 1,
          "precipitation": 0,
          "temp_max": 6.1,
          "temp_min": 3.3,
          "weather": "sun",
          "wind": 2.5,
          "year": 2014
         },
         {
          "day": 20,
          "month": 1,
          "precipitation": 0,
          "temp_max": 10,
          "temp_min": 2.8,
          "weather": "sun",
          "wind": 2.2,
          "year": 2014
         },
         {
          "day": 21,
          "month": 1,
          "precipitation": 0,
          "temp_max": 10,
          "temp_min": 1.7,
          "weather": "sun",
          "wind": 1.5,
          "year": 2014
         },
         {
          "day": 22,
          "month": 1,
          "precipitation": 0.5,
          "temp_max": 9.4,
          "temp_min": 5.6,
          "weather": "sun",
          "wind": 2.6,
          "year": 2014
         },
         {
          "day": 23,
          "month": 1,
          "precipitation": 0,
          "temp_max": 10,
          "temp_min": 2.8,
          "weather": "fog",
          "wind": 5.2,
          "year": 2014
         },
         {
          "day": 24,
          "month": 1,
          "precipitation": 0,
          "temp_max": 12.8,
          "temp_min": 1.1,
          "weather": "sun",
          "wind": 1.9,
          "year": 2014
         },
         {
          "day": 25,
          "month": 1,
          "precipitation": 0,
          "temp_max": 12.2,
          "temp_min": 1.1,
          "weather": "sun",
          "wind": 0.8,
          "year": 2014
         },
         {
          "day": 26,
          "month": 1,
          "precipitation": 0,
          "temp_max": 8.3,
          "temp_min": 0.6,
          "weather": "sun",
          "wind": 1.3,
          "year": 2014
         },
         {
          "day": 27,
          "month": 1,
          "precipitation": 0,
          "temp_max": 9.4,
          "temp_min": 1.7,
          "weather": "sun",
          "wind": 1.3,
          "year": 2014
         },
         {
          "day": 28,
          "month": 1,
          "precipitation": 8.9,
          "temp_max": 11.1,
          "temp_min": 6.1,
          "weather": "fog",
          "wind": 1.6,
          "year": 2014
         },
         {
          "day": 29,
          "month": 1,
          "precipitation": 21.6,
          "temp_max": 11.1,
          "temp_min": 7.2,
          "weather": "fog",
          "wind": 3.4,
          "year": 2014
         },
         {
          "day": 30,
          "month": 1,
          "precipitation": 0,
          "temp_max": 8.3,
          "temp_min": 6.1,
          "weather": "sun",
          "wind": 6.4,
          "year": 2014
         },
         {
          "day": 31,
          "month": 1,
          "precipitation": 2.3,
          "temp_max": 7.8,
          "temp_min": 5.6,
          "weather": "fog",
          "wind": 2.6,
          "year": 2014
         },
         {
          "day": 1,
          "month": 2,
          "precipitation": 2,
          "temp_max": 7.8,
          "temp_min": 2.8,
          "weather": "sun",
          "wind": 0.8,
          "year": 2014
         },
         {
          "day": 2,
          "month": 2,
          "precipitation": 0,
          "temp_max": 8.9,
          "temp_min": 1.1,
          "weather": "sun",
          "wind": 2.5,
          "year": 2014
         },
         {
          "day": 3,
          "month": 2,
          "precipitation": 0,
          "temp_max": 5,
          "temp_min": 0,
          "weather": "sun",
          "wind": 4.3,
          "year": 2014
         },
         {
          "day": 4,
          "month": 2,
          "precipitation": 0,
          "temp_max": 2.8,
          "temp_min": -2.1,
          "weather": "sun",
          "wind": 4.7,
          "year": 2014
         },
         {
          "day": 5,
          "month": 2,
          "precipitation": 0,
          "temp_max": -0.5,
          "temp_min": -5.5,
          "weather": "sun",
          "wind": 6.6,
          "year": 2014
         },
         {
          "day": 6,
          "month": 2,
          "precipitation": 0,
          "temp_max": -1.6,
          "temp_min": -6,
          "weather": "sun",
          "wind": 4.5,
          "year": 2014
         },
         {
          "day": 7,
          "month": 2,
          "precipitation": 0,
          "temp_max": 3.3,
          "temp_min": -4.9,
          "weather": "sun",
          "wind": 4.2,
          "year": 2014
         },
         {
          "day": 8,
          "month": 2,
          "precipitation": 5.1,
          "temp_max": 5.6,
          "temp_min": -0.5,
          "weather": "fog",
          "wind": 4.6,
          "year": 2014
         },
         {
          "day": 9,
          "month": 2,
          "precipitation": 0.5,
          "temp_max": 3.9,
          "temp_min": 0,
          "weather": "fog",
          "wind": 2.4,
          "year": 2014
         },
         {
          "day": 10,
          "month": 2,
          "precipitation": 18.3,
          "temp_max": 10,
          "temp_min": 2.2,
          "weather": "fog",
          "wind": 4.7,
          "year": 2014
         },
         {
          "day": 11,
          "month": 2,
          "precipitation": 17,
          "temp_max": 12.2,
          "temp_min": 5.6,
          "weather": "fog",
          "wind": 3.8,
          "year": 2014
         },
         {
          "day": 12,
          "month": 2,
          "precipitation": 4.6,
          "temp_max": 12.2,
          "temp_min": 7.2,
          "weather": "fog",
          "wind": 6.4,
          "year": 2014
         },
         {
          "day": 13,
          "month": 2,
          "precipitation": 1.8,
          "temp_max": 12.8,
          "temp_min": 7.8,
          "weather": "fog",
          "wind": 6.3,
          "year": 2014
         },
         {
          "day": 14,
          "month": 2,
          "precipitation": 9.4,
          "temp_max": 11.7,
          "temp_min": 6.1,
          "weather": "fog",
          "wind": 6.4,
          "year": 2014
         },
         {
          "day": 15,
          "month": 2,
          "precipitation": 11.7,
          "temp_max": 11.1,
          "temp_min": 5,
          "weather": "fog",
          "wind": 5.1,
          "year": 2014
         },
         {
          "day": 16,
          "month": 2,
          "precipitation": 26.4,
          "temp_max": 9.4,
          "temp_min": 3.9,
          "weather": "fog",
          "wind": 7.9,
          "year": 2014
         },
         {
          "day": 17,
          "month": 2,
          "precipitation": 14.5,
          "temp_max": 8.3,
          "temp_min": 4.4,
          "weather": "fog",
          "wind": 5.5,
          "year": 2014
         },
         {
          "day": 18,
          "month": 2,
          "precipitation": 15.2,
          "temp_max": 8.9,
          "temp_min": 5,
          "weather": "fog",
          "wind": 6.2,
          "year": 2014
         },
         {
          "day": 19,
          "month": 2,
          "precipitation": 1,
          "temp_max": 8.3,
          "temp_min": 3.9,
          "weather": "sun",
          "wind": 6,
          "year": 2014
         },
         {
          "day": 20,
          "month": 2,
          "precipitation": 3,
          "temp_max": 10,
          "temp_min": 5.6,
          "weather": "fog",
          "wind": 6.9,
          "year": 2014
         },
         {
          "day": 21,
          "month": 2,
          "precipitation": 2.8,
          "temp_max": 6.7,
          "temp_min": 3.9,
          "weather": "fog",
          "wind": 2.9,
          "year": 2014
         },
         {
          "day": 22,
          "month": 2,
          "precipitation": 2.5,
          "temp_max": 5.6,
          "temp_min": 2.8,
          "weather": "fog",
          "wind": 3.1,
          "year": 2014
         },
         {
          "day": 23,
          "month": 2,
          "precipitation": 6.1,
          "temp_max": 7.2,
          "temp_min": 3.9,
          "weather": "fog",
          "wind": 2.6,
          "year": 2014
         },
         {
          "day": 24,
          "month": 2,
          "precipitation": 13,
          "temp_max": 6.7,
          "temp_min": 3.3,
          "weather": "fog",
          "wind": 3.2,
          "year": 2014
         },
         {
          "day": 25,
          "month": 2,
          "precipitation": 0.3,
          "temp_max": 12.2,
          "temp_min": 3.9,
          "weather": "fog",
          "wind": 4.5,
          "year": 2014
         },
         {
          "day": 26,
          "month": 2,
          "precipitation": 0,
          "temp_max": 13.9,
          "temp_min": 5.6,
          "weather": "sun",
          "wind": 2.5,
          "year": 2014
         },
         {
          "day": 27,
          "month": 2,
          "precipitation": 0,
          "temp_max": 12.8,
          "temp_min": 4.4,
          "weather": "sun",
          "wind": 2.3,
          "year": 2014
         },
         {
          "day": 28,
          "month": 2,
          "precipitation": 0,
          "temp_max": 14.4,
          "temp_min": 4.4,
          "weather": "sun",
          "wind": 5.9,
          "year": 2014
         },
         {
          "day": 1,
          "month": 3,
          "precipitation": 0.5,
          "temp_max": 7.2,
          "temp_min": 4.4,
          "weather": "sun",
          "wind": 4.7,
          "year": 2014
         },
         {
          "day": 2,
          "month": 3,
          "precipitation": 19.1,
          "temp_max": 11.1,
          "temp_min": 2.8,
          "weather": "fog",
          "wind": 5.7,
          "year": 2014
         },
         {
          "day": 3,
          "month": 3,
          "precipitation": 10.7,
          "temp_max": 14.4,
          "temp_min": 8.9,
          "weather": "fog",
          "wind": 5.1,
          "year": 2014
         },
         {
          "day": 4,
          "month": 3,
          "precipitation": 16.5,
          "temp_max": 13.9,
          "temp_min": 7.8,
          "weather": "fog",
          "wind": 3.9,
          "year": 2014
         },
         {
          "day": 5,
          "month": 3,
          "precipitation": 46.7,
          "temp_max": 15.6,
          "temp_min": 10.6,
          "weather": "fog",
          "wind": 3.9,
          "year": 2014
         },
         {
          "day": 6,
          "month": 3,
          "precipitation": 3,
          "temp_max": 13.3,
          "temp_min": 10,
          "weather": "fog",
          "wind": 6.2,
          "year": 2014
         },
         {
          "day": 7,
          "month": 3,
          "precipitation": 0,
          "temp_max": 15.6,
          "temp_min": 8.9,
          "weather": "sun",
          "wind": 4.2,
          "year": 2014
         },
         {
          "day": 8,
          "month": 3,
          "precipitation": 32.3,
          "temp_max": 12.8,
          "temp_min": 6.7,
          "weather": "fog",
          "wind": 2.7,
          "year": 2014
         },
         {
          "day": 9,
          "month": 3,
          "precipitation": 4.3,
          "temp_max": 15,
          "temp_min": 9.4,
          "weather": "fog",
          "wind": 4.3,
          "year": 2014
         },
         {
          "day": 10,
          "month": 3,
          "precipitation": 18.8,
          "temp_max": 12.2,
          "temp_min": 6.1,
          "weather": "fog",
          "wind": 2.2,
          "year": 2014
         },
         {
          "day": 11,
          "month": 3,
          "precipitation": 0,
          "temp_max": 14.4,
          "temp_min": 4.4,
          "weather": "fog",
          "wind": 2.3,
          "year": 2014
         },
         {
          "day": 12,
          "month": 3,
          "precipitation": 0,
          "temp_max": 16.1,
          "temp_min": 3.3,
          "weather": "fog",
          "wind": 1.9,
          "year": 2014
         },
         {
          "day": 13,
          "month": 3,
          "precipitation": 0.5,
          "temp_max": 13.9,
          "temp_min": 5,
          "weather": "fog",
          "wind": 2.5,
          "year": 2014
         },
         {
          "day": 14,
          "month": 3,
          "precipitation": 6.9,
          "temp_max": 14.4,
          "temp_min": 8.3,
          "weather": "fog",
          "wind": 6.1,
          "year": 2014
         },
         {
          "day": 15,
          "month": 3,
          "precipitation": 8.1,
          "temp_max": 16.7,
          "temp_min": 4.4,
          "weather": "fog",
          "wind": 3,
          "year": 2014
         },
         {
          "day": 16,
          "month": 3,
          "precipitation": 27.7,
          "temp_max": 10.6,
          "temp_min": 4.4,
          "weather": "fog",
          "wind": 3.8,
          "year": 2014
         },
         {
          "day": 17,
          "month": 3,
          "precipitation": 0.3,
          "temp_max": 10,
          "temp_min": 2.8,
          "weather": "fog",
          "wind": 3.2,
          "year": 2014
         },
         {
          "day": 18,
          "month": 3,
          "precipitation": 0,
          "temp_max": 10,
          "temp_min": 3.3,
          "weather": "sun",
          "wind": 1.6,
          "year": 2014
         },
         {
          "day": 19,
          "month": 3,
          "precipitation": 0.5,
          "temp_max": 11.1,
          "temp_min": 3.3,
          "weather": "sun",
          "wind": 5.1,
          "year": 2014
         },
         {
          "day": 20,
          "month": 3,
          "precipitation": 0,
          "temp_max": 11.1,
          "temp_min": 1.7,
          "weather": "sun",
          "wind": 3,
          "year": 2014
         },
         {
          "day": 21,
          "month": 3,
          "precipitation": 0,
          "temp_max": 10.6,
          "temp_min": 2.8,
          "weather": "sun",
          "wind": 3.8,
          "year": 2014
         },
         {
          "day": 22,
          "month": 3,
          "precipitation": 0,
          "temp_max": 11.1,
          "temp_min": 1.1,
          "weather": "sun",
          "wind": 1.8,
          "year": 2014
         },
         {
          "day": 23,
          "month": 3,
          "precipitation": 0,
          "temp_max": 12.8,
          "temp_min": 4.4,
          "weather": "sun",
          "wind": 3.3,
          "year": 2014
         },
         {
          "day": 24,
          "month": 3,
          "precipitation": 0,
          "temp_max": 18.9,
          "temp_min": 2.8,
          "weather": "sun",
          "wind": 2.2,
          "year": 2014
         },
         {
          "day": 25,
          "month": 3,
          "precipitation": 4.1,
          "temp_max": 13.9,
          "temp_min": 6.7,
          "weather": "fog",
          "wind": 4.4,
          "year": 2014
         },
         {
          "day": 26,
          "month": 3,
          "precipitation": 3.6,
          "temp_max": 11.1,
          "temp_min": 5.6,
          "weather": "fog",
          "wind": 2.4,
          "year": 2014
         },
         {
          "day": 27,
          "month": 3,
          "precipitation": 0.3,
          "temp_max": 12.2,
          "temp_min": 6.7,
          "weather": "fog",
          "wind": 2.8,
          "year": 2014
         },
         {
          "day": 28,
          "month": 3,
          "precipitation": 22.1,
          "temp_max": 11.7,
          "temp_min": 7.2,
          "weather": "fog",
          "wind": 3.9,
          "year": 2014
         },
         {
          "day": 29,
          "month": 3,
          "precipitation": 14,
          "temp_max": 11.7,
          "temp_min": 7.2,
          "weather": "fog",
          "wind": 5.1,
          "year": 2014
         },
         {
          "day": 30,
          "month": 3,
          "precipitation": 0,
          "temp_max": 11.1,
          "temp_min": 5,
          "weather": "sun",
          "wind": 5.1,
          "year": 2014
         },
         {
          "day": 31,
          "month": 3,
          "precipitation": 0,
          "temp_max": 15.6,
          "temp_min": 2.2,
          "weather": "sun",
          "wind": 3.8,
          "year": 2014
         },
         {
          "day": 1,
          "month": 4,
          "precipitation": 0,
          "temp_max": 14.4,
          "temp_min": 6.7,
          "weather": "sun",
          "wind": 2.8,
          "year": 2014
         },
         {
          "day": 2,
          "month": 4,
          "precipitation": 0,
          "temp_max": 14.4,
          "temp_min": 5.6,
          "weather": "sun",
          "wind": 4.2,
          "year": 2014
         },
         {
          "day": 3,
          "month": 4,
          "precipitation": 2.5,
          "temp_max": 13.3,
          "temp_min": 6.1,
          "weather": "sun",
          "wind": 3.9,
          "year": 2014
         },
         {
          "day": 4,
          "month": 4,
          "precipitation": 0,
          "temp_max": 12.8,
          "temp_min": 6.1,
          "weather": "sun",
          "wind": 4.7,
          "year": 2014
         },
         {
          "day": 5,
          "month": 4,
          "precipitation": 4.6,
          "temp_max": 11.7,
          "temp_min": 7.8,
          "weather": "fog",
          "wind": 4.3,
          "year": 2014
         },
         {
          "day": 6,
          "month": 4,
          "precipitation": 0,
          "temp_max": 13.9,
          "temp_min": 8.3,
          "weather": "sun",
          "wind": 2.6,
          "year": 2014
         },
         {
          "day": 7,
          "month": 4,
          "precipitation": 0,
          "temp_max": 21.1,
          "temp_min": 9.4,
          "weather": "sun",
          "wind": 2.5,
          "year": 2014
         },
         {
          "day": 8,
          "month": 4,
          "precipitation": 4.6,
          "temp_max": 15.6,
          "temp_min": 8.3,
          "weather": "fog",
          "wind": 4.2,
          "year": 2014
         },
         {
          "day": 9,
          "month": 4,
          "precipitation": 0,
          "temp_max": 14.4,
          "temp_min": 6.7,
          "weather": "sun",
          "wind": 2.9,
          "year": 2014
         },
         {
          "day": 10,
          "month": 4,
          "precipitation": 0,
          "temp_max": 15,
          "temp_min": 6.7,
          "weather": "sun",
          "wind": 3.6,
          "year": 2014
         },
         {
          "day": 11,
          "month": 4,
          "precipitation": 0,
          "temp_max": 17.2,
          "temp_min": 5,
          "weather": "sun",
          "wind": 2.8,
          "year": 2014
         },
         {
          "day": 12,
          "month": 4,
          "precipitation": 0,
          "temp_max": 16.1,
          "temp_min": 7.8,
          "weather": "sun",
          "wind": 4.4,
          "year": 2014
         },
         {
          "day": 13,
          "month": 4,
          "precipitation": 0,
          "temp_max": 20.6,
          "temp_min": 5.6,
          "weather": "sun",
          "wind": 3.1,
          "year": 2014
         },
         {
          "day": 14,
          "month": 4,
          "precipitation": 0,
          "temp_max": 20,
          "temp_min": 5.6,
          "weather": "sun",
          "wind": 2.6,
          "year": 2014
         },
         {
          "day": 15,
          "month": 4,
          "precipitation": 0.5,
          "temp_max": 14.4,
          "temp_min": 7.8,
          "weather": "sun",
          "wind": 4,
          "year": 2014
         },
         {
          "day": 16,
          "month": 4,
          "precipitation": 10.9,
          "temp_max": 11.1,
          "temp_min": 8.9,
          "weather": "fog",
          "wind": 4.6,
          "year": 2014
         },
         {
          "day": 17,
          "month": 4,
          "precipitation": 18.5,
          "temp_max": 11.7,
          "temp_min": 7.2,
          "weather": "fog",
          "wind": 4.7,
          "year": 2014
         },
         {
          "day": 18,
          "month": 4,
          "precipitation": 0,
          "temp_max": 14.4,
          "temp_min": 5.6,
          "weather": "sun",
          "wind": 3.8,
          "year": 2014
         },
         {
          "day": 19,
          "month": 4,
          "precipitation": 13.7,
          "temp_max": 11.7,
          "temp_min": 5.6,
          "weather": "fog",
          "wind": 4.7,
          "year": 2014
         },
         {
          "day": 20,
          "month": 4,
          "precipitation": 0,
          "temp_max": 15.6,
          "temp_min": 5.6,
          "weather": "sun",
          "wind": 2.7,
          "year": 2014
         },
         {
          "day": 21,
          "month": 4,
          "precipitation": 5.1,
          "temp_max": 17.2,
          "temp_min": 7.8,
          "weather": "fog",
          "wind": 2.5,
          "year": 2014
         },
         {
          "day": 22,
          "month": 4,
          "precipitation": 14.2,
          "temp_max": 12.2,
          "temp_min": 5,
          "weather": "fog",
          "wind": 4.2,
          "year": 2014
         },
         {
          "day": 23,
          "month": 4,
          "precipitation": 8.9,
          "temp_max": 11.7,
          "temp_min": 6.1,
          "weather": "fog",
          "wind": 5,
          "year": 2014
         },
         {
          "day": 24,
          "month": 4,
          "precipitation": 12.4,
          "temp_max": 13.9,
          "temp_min": 6.1,
          "weather": "fog",
          "wind": 5.3,
          "year": 2014
         },
         {
          "day": 25,
          "month": 4,
          "precipitation": 0,
          "temp_max": 14.4,
          "temp_min": 5.6,
          "weather": "sun",
          "wind": 2.3,
          "year": 2014
         },
         {
          "day": 26,
          "month": 4,
          "precipitation": 3.3,
          "temp_max": 15,
          "temp_min": 5.6,
          "weather": "sun",
          "wind": 3.9,
          "year": 2014
         },
         {
          "day": 27,
          "month": 4,
          "precipitation": 6.9,
          "temp_max": 11.1,
          "temp_min": 6.1,
          "weather": "fog",
          "wind": 5.8,
          "year": 2014
         },
         {
          "day": 28,
          "month": 4,
          "precipitation": 0,
          "temp_max": 16.1,
          "temp_min": 4.4,
          "weather": "sun",
          "wind": 2.6,
          "year": 2014
         },
         {
          "day": 29,
          "month": 4,
          "precipitation": 0,
          "temp_max": 25,
          "temp_min": 9.4,
          "weather": "sun",
          "wind": 2.3,
          "year": 2014
         },
         {
          "day": 30,
          "month": 4,
          "precipitation": 0,
          "temp_max": 27.8,
          "temp_min": 9.4,
          "weather": "sun",
          "wind": 3.9,
          "year": 2014
         },
         {
          "day": 1,
          "month": 5,
          "precipitation": 0,
          "temp_max": 29.4,
          "temp_min": 11.1,
          "weather": "sun",
          "wind": 3,
          "year": 2014
         },
         {
          "day": 2,
          "month": 5,
          "precipitation": 0,
          "temp_max": 18.3,
          "temp_min": 10.6,
          "weather": "sun",
          "wind": 4.7,
          "year": 2014
         },
         {
          "day": 3,
          "month": 5,
          "precipitation": 33.3,
          "temp_max": 15,
          "temp_min": 8.9,
          "weather": "fog",
          "wind": 3.4,
          "year": 2014
         },
         {
          "day": 4,
          "month": 5,
          "precipitation": 16,
          "temp_max": 14.4,
          "temp_min": 8.9,
          "weather": "fog",
          "wind": 4.2,
          "year": 2014
         },
         {
          "day": 5,
          "month": 5,
          "precipitation": 5.1,
          "temp_max": 15.6,
          "temp_min": 9.4,
          "weather": "fog",
          "wind": 3.8,
          "year": 2014
         },
         {
          "day": 6,
          "month": 5,
          "precipitation": 0,
          "temp_max": 16.7,
          "temp_min": 8.3,
          "weather": "sun",
          "wind": 2.6,
          "year": 2014
         },
         {
          "day": 7,
          "month": 5,
          "precipitation": 0,
          "temp_max": 18.3,
          "temp_min": 7.2,
          "weather": "sun",
          "wind": 1.7,
          "year": 2014
         },
         {
          "day": 8,
          "month": 5,
          "precipitation": 13.7,
          "temp_max": 13.9,
          "temp_min": 9.4,
          "weather": "fog",
          "wind": 3.4,
          "year": 2014
         },
         {
          "day": 9,
          "month": 5,
          "precipitation": 2,
          "temp_max": 13.3,
          "temp_min": 7.2,
          "weather": "sun",
          "wind": 5.6,
          "year": 2014
         },
         {
          "day": 10,
          "month": 5,
          "precipitation": 0.5,
          "temp_max": 15.6,
          "temp_min": 7.2,
          "weather": "fog",
          "wind": 2.1,
          "year": 2014
         },
         {
          "day": 11,
          "month": 5,
          "precipitation": 0,
          "temp_max": 18.9,
          "temp_min": 8.3,
          "weather": "sun",
          "wind": 1.7,
          "year": 2014
         },
         {
          "day": 12,
          "month": 5,
          "precipitation": 0,
          "temp_max": 24.4,
          "temp_min": 9.4,
          "weather": "sun",
          "wind": 2.7,
          "year": 2014
         },
         {
          "day": 13,
          "month": 5,
          "precipitation": 0,
          "temp_max": 26.7,
          "temp_min": 12.8,
          "weather": "sun",
          "wind": 3.8,
          "year": 2014
         },
         {
          "day": 14,
          "month": 5,
          "precipitation": 0,
          "temp_max": 27.8,
          "temp_min": 13.3,
          "weather": "sun",
          "wind": 3.3,
          "year": 2014
         },
         {
          "day": 15,
          "month": 5,
          "precipitation": 0,
          "temp_max": 26.7,
          "temp_min": 12.8,
          "weather": "sun",
          "wind": 3,
          "year": 2014
         },
         {
          "day": 16,
          "month": 5,
          "precipitation": 0,
          "temp_max": 20,
          "temp_min": 11.7,
          "weather": "sun",
          "wind": 4.1,
          "year": 2014
         },
         {
          "day": 17,
          "month": 5,
          "precipitation": 0,
          "temp_max": 20,
          "temp_min": 11.7,
          "weather": "sun",
          "wind": 3.2,
          "year": 2014
         },
         {
          "day": 18,
          "month": 5,
          "precipitation": 0,
          "temp_max": 20,
          "temp_min": 10.6,
          "weather": "sun",
          "wind": 3.2,
          "year": 2014
         },
         {
          "day": 19,
          "month": 5,
          "precipitation": 0,
          "temp_max": 21.1,
          "temp_min": 10,
          "weather": "sun",
          "wind": 2.2,
          "year": 2014
         },
         {
          "day": 20,
          "month": 5,
          "precipitation": 0,
          "temp_max": 22.2,
          "temp_min": 10,
          "weather": "sun",
          "wind": 2.7,
          "year": 2014
         },
         {
          "day": 21,
          "month": 5,
          "precipitation": 0,
          "temp_max": 20,
          "temp_min": 10.6,
          "weather": "sun",
          "wind": 1.7,
          "year": 2014
         },
         {
          "day": 22,
          "month": 5,
          "precipitation": 0,
          "temp_max": 24.4,
          "temp_min": 11.7,
          "weather": "sun",
          "wind": 2.5,
          "year": 2014
         },
         {
          "day": 23,
          "month": 5,
          "precipitation": 3.8,
          "temp_max": 20,
          "temp_min": 12.8,
          "weather": "fog",
          "wind": 4,
          "year": 2014
         },
         {
          "day": 24,
          "month": 5,
          "precipitation": 0,
          "temp_max": 18.3,
          "temp_min": 11.1,
          "weather": "sun",
          "wind": 2.4,
          "year": 2014
         },
         {
          "day": 25,
          "month": 5,
          "precipitation": 5.6,
          "temp_max": 15,
          "temp_min": 10.6,
          "weather": "fog",
          "wind": 1.4,
          "year": 2014
         },
         {
          "day": 26,
          "month": 5,
          "precipitation": 0,
          "temp_max": 18.3,
          "temp_min": 11.1,
          "weather": "sun",
          "wind": 4.5,
          "year": 2014
         },
         {
          "day": 27,
          "month": 5,
          "precipitation": 0,
          "temp_max": 20,
          "temp_min": 10,
          "weather": "sun",
          "wind": 2.5,
          "year": 2014
         },
         {
          "day": 28,
          "month": 5,
          "precipitation": 0,
          "temp_max": 18.9,
          "temp_min": 10,
          "weather": "sun",
          "wind": 3.4,
          "year": 2014
         },
         {
          "day": 29,
          "month": 5,
          "precipitation": 0,
          "temp_max": 18.9,
          "temp_min": 11.1,
          "weather": "sun",
          "wind": 4.3,
          "year": 2014
         },
         {
          "day": 30,
          "month": 5,
          "precipitation": 0,
          "temp_max": 20.6,
          "temp_min": 8.9,
          "weather": "sun",
          "wind": 4.5,
          "year": 2014
         },
         {
          "day": 31,
          "month": 5,
          "precipitation": 0,
          "temp_max": 23.3,
          "temp_min": 10,
          "weather": "sun",
          "wind": 2.2,
          "year": 2014
         },
         {
          "day": 1,
          "month": 6,
          "precipitation": 0,
          "temp_max": 22.2,
          "temp_min": 10.6,
          "weather": "sun",
          "wind": 2.3,
          "year": 2014
         },
         {
          "day": 2,
          "month": 6,
          "precipitation": 0,
          "temp_max": 23.3,
          "temp_min": 11.1,
          "weather": "sun",
          "wind": 2.4,
          "year": 2014
         },
         {
          "day": 3,
          "month": 6,
          "precipitation": 0,
          "temp_max": 18.3,
          "temp_min": 11.1,
          "weather": "sun",
          "wind": 3.2,
          "year": 2014
         },
         {
          "day": 4,
          "month": 6,
          "precipitation": 0,
          "temp_max": 19.4,
          "temp_min": 10,
          "weather": "sun",
          "wind": 2.6,
          "year": 2014
         },
         {
          "day": 5,
          "month": 6,
          "precipitation": 0,
          "temp_max": 22.2,
          "temp_min": 10,
          "weather": "sun",
          "wind": 2.4,
          "year": 2014
         },
         {
          "day": 6,
          "month": 6,
          "precipitation": 0,
          "temp_max": 25,
          "temp_min": 10.6,
          "weather": "sun",
          "wind": 3.2,
          "year": 2014
         },
         {
          "day": 7,
          "month": 6,
          "precipitation": 0,
          "temp_max": 24.4,
          "temp_min": 13.3,
          "weather": "sun",
          "wind": 3.1,
          "year": 2014
         },
         {
          "day": 8,
          "month": 6,
          "precipitation": 0,
          "temp_max": 23.3,
          "temp_min": 12.2,
          "weather": "sun",
          "wind": 2.1,
          "year": 2014
         },
         {
          "day": 9,
          "month": 6,
          "precipitation": 0,
          "temp_max": 21.1,
          "temp_min": 13.3,
          "weather": "sun",
          "wind": 3.6,
          "year": 2014
         },
         {
          "day": 10,
          "month": 6,
          "precipitation": 0,
          "temp_max": 20,
          "temp_min": 12.2,
          "weather": "sun",
          "wind": 2.9,
          "year": 2014
         },
         {
          "day": 11,
          "month": 6,
          "precipitation": 0,
          "temp_max": 23.9,
          "temp_min": 11.1,
          "weather": "sun",
          "wind": 2.7,
          "year": 2014
         },
         {
          "day": 12,
          "month": 6,
          "precipitation": 1.8,
          "temp_max": 21.7,
          "temp_min": 12.2,
          "weather": "sun",
          "wind": 4,
          "year": 2014
         },
         {
          "day": 13,
          "month": 6,
          "precipitation": 6.4,
          "temp_max": 15.6,
          "temp_min": 11.1,
          "weather": "fog",
          "wind": 5,
          "year": 2014
         },
         {
          "day": 14,
          "month": 6,
          "precipitation": 0,
          "temp_max": 17.8,
          "temp_min": 11.7,
          "weather": "sun",
          "wind": 3.2,
          "year": 2014
         },
         {
          "day": 15,
          "month": 6,
          "precipitation": 0.5,
          "temp_max": 18.3,
          "temp_min": 10,
          "weather": "fog",
          "wind": 3.6,
          "year": 2014
         },
         {
          "day": 16,
          "month": 6,
          "precipitation": 3.6,
          "temp_max": 17.8,
          "temp_min": 8.9,
          "weather": "fog",
          "wind": 2.4,
          "year": 2014
         },
         {
          "day": 17,
          "month": 6,
          "precipitation": 1.3,
          "temp_max": 17.8,
          "temp_min": 10,
          "weather": "fog",
          "wind": 3,
          "year": 2014
         },
         {
          "day": 18,
          "month": 6,
          "precipitation": 0,
          "temp_max": 18.9,
          "temp_min": 11.1,
          "weather": "sun",
          "wind": 2.7,
          "year": 2014
         },
         {
          "day": 19,
          "month": 6,
          "precipitation": 0.8,
          "temp_max": 25.6,
          "temp_min": 11.7,
          "weather": "sun",
          "wind": 3.7,
          "year": 2014
         },
         {
          "day": 20,
          "month": 6,
          "precipitation": 0.3,
          "temp_max": 20,
          "temp_min": 10,
          "weather": "sun",
          "wind": 3.4,
          "year": 2014
         },
         {
          "day": 21,
          "month": 6,
          "precipitation": 0,
          "temp_max": 22.2,
          "temp_min": 10.6,
          "weather": "sun",
          "wind": 3.6,
          "year": 2014
         },
         {
          "day": 22,
          "month": 6,
          "precipitation": 0,
          "temp_max": 25,
          "temp_min": 11.1,
          "weather": "sun",
          "wind": 2.7,
          "year": 2014
         },
         {
          "day": 23,
          "month": 6,
          "precipitation": 0,
          "temp_max": 25,
          "temp_min": 13.3,
          "weather": "sun",
          "wind": 2.5,
          "year": 2014
         },
         {
          "day": 24,
          "month": 6,
          "precipitation": 0,
          "temp_max": 24.4,
          "temp_min": 14.4,
          "weather": "sun",
          "wind": 2.5,
          "year": 2014
         },
         {
          "day": 25,
          "month": 6,
          "precipitation": 0,
          "temp_max": 26.1,
          "temp_min": 13.9,
          "weather": "sun",
          "wind": 2.4,
          "year": 2014
         },
         {
          "day": 26,
          "month": 6,
          "precipitation": 0,
          "temp_max": 21.1,
          "temp_min": 14.4,
          "weather": "sun",
          "wind": 4.1,
          "year": 2014
         },
         {
          "day": 27,
          "month": 6,
          "precipitation": 1.8,
          "temp_max": 21.1,
          "temp_min": 13.9,
          "weather": "fog",
          "wind": 4.5,
          "year": 2014
         },
         {
          "day": 28,
          "month": 6,
          "precipitation": 2.3,
          "temp_max": 20,
          "temp_min": 13.3,
          "weather": "fog",
          "wind": 4.3,
          "year": 2014
         },
         {
          "day": 29,
          "month": 6,
          "precipitation": 0,
          "temp_max": 20.6,
          "temp_min": 12.8,
          "weather": "sun",
          "wind": 3.2,
          "year": 2014
         },
         {
          "day": 30,
          "month": 6,
          "precipitation": 0,
          "temp_max": 25.6,
          "temp_min": 12.8,
          "weather": "sun",
          "wind": 4.4,
          "year": 2014
         },
         {
          "day": 1,
          "month": 7,
          "precipitation": 0,
          "temp_max": 34.4,
          "temp_min": 15.6,
          "weather": "sun",
          "wind": 3.5,
          "year": 2014
         },
         {
          "day": 2,
          "month": 7,
          "precipitation": 0,
          "temp_max": 27.2,
          "temp_min": 14.4,
          "weather": "sun",
          "wind": 3.6,
          "year": 2014
         },
         {
          "day": 3,
          "month": 7,
          "precipitation": 0,
          "temp_max": 21.7,
          "temp_min": 13.9,
          "weather": "sun",
          "wind": 3.1,
          "year": 2014
         },
         {
          "day": 4,
          "month": 7,
          "precipitation": 0,
          "temp_max": 23.9,
          "temp_min": 13.9,
          "weather": "sun",
          "wind": 3.6,
          "year": 2014
         },
         {
          "day": 5,
          "month": 7,
          "precipitation": 0,
          "temp_max": 24.4,
          "temp_min": 13.3,
          "weather": "fog",
          "wind": 2.2,
          "year": 2014
         },
         {
          "day": 6,
          "month": 7,
          "precipitation": 0,
          "temp_max": 28.9,
          "temp_min": 15,
          "weather": "sun",
          "wind": 3,
          "year": 2014
         },
         {
          "day": 7,
          "month": 7,
          "precipitation": 0,
          "temp_max": 27.2,
          "temp_min": 17.8,
          "weather": "fog",
          "wind": 4.1,
          "year": 2014
         },
         {
          "day": 8,
          "month": 7,
          "precipitation": 0,
          "temp_max": 30,
          "temp_min": 15.6,
          "weather": "sun",
          "wind": 3.5,
          "year": 2014
         },
         {
          "day": 9,
          "month": 7,
          "precipitation": 0,
          "temp_max": 26.7,
          "temp_min": 13.9,
          "weather": "sun",
          "wind": 2.3,
          "year": 2014
         },
         {
          "day": 10,
          "month": 7,
          "precipitation": 0,
          "temp_max": 28.9,
          "temp_min": 12.8,
          "weather": "fog",
          "wind": 2.2,
          "year": 2014
         },
         {
          "day": 11,
          "month": 7,
          "precipitation": 0,
          "temp_max": 31.1,
          "temp_min": 15,
          "weather": "sun",
          "wind": 2.2,
          "year": 2014
         },
         {
          "day": 12,
          "month": 7,
          "precipitation": 0,
          "temp_max": 32.2,
          "temp_min": 16.7,
          "weather": "sun",
          "wind": 2.2,
          "year": 2014
         },
         {
          "day": 13,
          "month": 7,
          "precipitation": 0,
          "temp_max": 29.4,
          "temp_min": 15,
          "weather": "rain",
          "wind": 2.6,
          "year": 2014
         },
         {
          "day": 14,
          "month": 7,
          "precipitation": 0,
          "temp_max": 27.8,
          "temp_min": 15,
          "weather": "sun",
          "wind": 2.8,
          "year": 2014
         },
         {
          "day": 15,
          "month": 7,
          "precipitation": 0,
          "temp_max": 31.1,
          "temp_min": 13.9,
          "weather": "sun",
          "wind": 2.3,
          "year": 2014
         },
         {
          "day": 16,
          "month": 7,
          "precipitation": 0,
          "temp_max": 31.1,
          "temp_min": 14.4,
          "weather": "sun",
          "wind": 2.4,
          "year": 2014
         },
         {
          "day": 17,
          "month": 7,
          "precipitation": 0,
          "temp_max": 26.7,
          "temp_min": 13.9,
          "weather": "sun",
          "wind": 3.7,
          "year": 2014
         },
         {
          "day": 18,
          "month": 7,
          "precipitation": 0,
          "temp_max": 23.9,
          "temp_min": 11.7,
          "weather": "sun",
          "wind": 2.8,
          "year": 2014
         },
         {
          "day": 19,
          "month": 7,
          "precipitation": 0,
          "temp_max": 25.6,
          "temp_min": 15,
          "weather": "fog",
          "wind": 5.4,
          "year": 2014
         },
         {
          "day": 20,
          "month": 7,
          "precipitation": 0,
          "temp_max": 19.4,
          "temp_min": 14.4,
          "weather": "sun",
          "wind": 2.8,
          "year": 2014
         },
         {
          "day": 21,
          "month": 7,
          "precipitation": 0,
          "temp_max": 23.9,
          "temp_min": 13.3,
          "weather": "sun",
          "wind": 2.2,
          "year": 2014
         },
         {
          "day": 22,
          "month": 7,
          "precipitation": 0.3,
          "temp_max": 21.1,
          "temp_min": 13.3,
          "weather": "fog",
          "wind": 1.1,
          "year": 2014
         },
         {
          "day": 23,
          "month": 7,
          "precipitation": 19.3,
          "temp_max": 18.9,
          "temp_min": 13.3,
          "weather": "sun",
          "wind": 3.3,
          "year": 2014
         },
         {
          "day": 24,
          "month": 7,
          "precipitation": 0,
          "temp_max": 20.6,
          "temp_min": 12.8,
          "weather": "sun",
          "wind": 4.7,
          "year": 2014
         },
         {
          "day": 25,
          "month": 7,
          "precipitation": 0,
          "temp_max": 22.8,
          "temp_min": 12.2,
          "weather": "sun",
          "wind": 2.7,
          "year": 2014
         },
         {
          "day": 26,
          "month": 7,
          "precipitation": 0,
          "temp_max": 26.1,
          "temp_min": 13.3,
          "weather": "sun",
          "wind": 3.6,
          "year": 2014
         },
         {
          "day": 27,
          "month": 7,
          "precipitation": 0,
          "temp_max": 28.3,
          "temp_min": 15,
          "weather": "sun",
          "wind": 4.1,
          "year": 2014
         },
         {
          "day": 28,
          "month": 7,
          "precipitation": 0,
          "temp_max": 30.6,
          "temp_min": 15,
          "weather": "sun",
          "wind": 3.7,
          "year": 2014
         },
         {
          "day": 29,
          "month": 7,
          "precipitation": 0,
          "temp_max": 30,
          "temp_min": 15.6,
          "weather": "sun",
          "wind": 2.8,
          "year": 2014
         },
         {
          "day": 30,
          "month": 7,
          "precipitation": 0,
          "temp_max": 29.4,
          "temp_min": 14.4,
          "weather": "sun",
          "wind": 3.4,
          "year": 2014
         },
         {
          "day": 31,
          "month": 7,
          "precipitation": 0,
          "temp_max": 30.6,
          "temp_min": 17.8,
          "weather": "sun",
          "wind": 4.1,
          "year": 2014
         },
         {
          "day": 1,
          "month": 8,
          "precipitation": 0,
          "temp_max": 28.9,
          "temp_min": 15,
          "weather": "sun",
          "wind": 3.3,
          "year": 2014
         },
         {
          "day": 2,
          "month": 8,
          "precipitation": 0.5,
          "temp_max": 29.4,
          "temp_min": 15.6,
          "weather": "sun",
          "wind": 1.7,
          "year": 2014
         },
         {
          "day": 3,
          "month": 8,
          "precipitation": 0,
          "temp_max": 31.7,
          "temp_min": 14.4,
          "weather": "sun",
          "wind": 2.6,
          "year": 2014
         },
         {
          "day": 4,
          "month": 8,
          "precipitation": 0,
          "temp_max": 32.8,
          "temp_min": 16.1,
          "weather": "sun",
          "wind": 2.6,
          "year": 2014
         },
         {
          "day": 5,
          "month": 8,
          "precipitation": 0,
          "temp_max": 25,
          "temp_min": 13.9,
          "weather": "sun",
          "wind": 2.7,
          "year": 2014
         },
         {
          "day": 6,
          "month": 8,
          "precipitation": 0,
          "temp_max": 26.1,
          "temp_min": 15,
          "weather": "fog",
          "wind": 2.2,
          "year": 2014
         },
         {
          "day": 7,
          "month": 8,
          "precipitation": 0,
          "temp_max": 25.6,
          "temp_min": 13.3,
          "weather": "fog",
          "wind": 2.4,
          "year": 2014
         },
         {
          "day": 8,
          "month": 8,
          "precipitation": 0,
          "temp_max": 25.6,
          "temp_min": 13.3,
          "weather": "sun",
          "wind": 2.9,
          "year": 2014
         },
         {
          "day": 9,
          "month": 8,
          "precipitation": 0,
          "temp_max": 27.2,
          "temp_min": 15.6,
          "weather": "sun",
          "wind": 4.1,
          "year": 2014
         },
         {
          "day": 10,
          "month": 8,
          "precipitation": 0,
          "temp_max": 30.6,
          "temp_min": 13.9,
          "weather": "sun",
          "wind": 3.4,
          "year": 2014
         },
         {
          "day": 11,
          "month": 8,
          "precipitation": 0.5,
          "temp_max": 35.6,
          "temp_min": 17.8,
          "weather": "rain",
          "wind": 2.6,
          "year": 2014
         },
         {
          "day": 12,
          "month": 8,
          "precipitation": 12.7,
          "temp_max": 27.2,
          "temp_min": 17.2,
          "weather": "fog",
          "wind": 3.1,
          "year": 2014
         },
         {
          "day": 13,
          "month": 8,
          "precipitation": 21.6,
          "temp_max": 23.3,
          "temp_min": 15,
          "weather": "fog",
          "wind": 2.7,
          "year": 2014
         },
         {
          "day": 14,
          "month": 8,
          "precipitation": 0,
          "temp_max": 21.1,
          "temp_min": 17.2,
          "weather": "sun",
          "wind": 0.6,
          "year": 2014
         },
         {
          "day": 15,
          "month": 8,
          "precipitation": 1,
          "temp_max": 24.4,
          "temp_min": 16.7,
          "weather": "fog",
          "wind": 1.5,
          "year": 2014
         },
         {
          "day": 16,
          "month": 8,
          "precipitation": 0,
          "temp_max": 25.6,
          "temp_min": 15.6,
          "weather": "sun",
          "wind": 2.2,
          "year": 2014
         },
         {
          "day": 17,
          "month": 8,
          "precipitation": 0,
          "temp_max": 27.8,
          "temp_min": 15,
          "weather": "sun",
          "wind": 2.8,
          "year": 2014
         },
         {
          "day": 18,
          "month": 8,
          "precipitation": 0,
          "temp_max": 29.4,
          "temp_min": 15.6,
          "weather": "sun",
          "wind": 3.3,
          "year": 2014
         },
         {
          "day": 19,
          "month": 8,
          "precipitation": 0,
          "temp_max": 27.2,
          "temp_min": 15.6,
          "weather": "sun",
          "wind": 2.4,
          "year": 2014
         },
         {
          "day": 20,
          "month": 8,
          "precipitation": 0,
          "temp_max": 21.7,
          "temp_min": 13.9,
          "weather": "sun",
          "wind": 3.6,
          "year": 2014
         },
         {
          "day": 21,
          "month": 8,
          "precipitation": 0,
          "temp_max": 21.1,
          "temp_min": 11.1,
          "weather": "sun",
          "wind": 1.7,
          "year": 2014
         },
         {
          "day": 22,
          "month": 8,
          "precipitation": 0,
          "temp_max": 23.9,
          "temp_min": 13.3,
          "weather": "sun",
          "wind": 2.9,
          "year": 2014
         },
         {
          "day": 23,
          "month": 8,
          "precipitation": 0,
          "temp_max": 27.8,
          "temp_min": 13.9,
          "weather": "sun",
          "wind": 2,
          "year": 2014
         },
         {
          "day": 24,
          "month": 8,
          "precipitation": 0,
          "temp_max": 25,
          "temp_min": 13.3,
          "weather": "sun",
          "wind": 2.3,
          "year": 2014
         },
         {
          "day": 25,
          "month": 8,
          "precipitation": 0,
          "temp_max": 28.9,
          "temp_min": 14.4,
          "weather": "sun",
          "wind": 2,
          "year": 2014
         },
         {
          "day": 26,
          "month": 8,
          "precipitation": 0,
          "temp_max": 31.1,
          "temp_min": 15.6,
          "weather": "sun",
          "wind": 1.8,
          "year": 2014
         },
         {
          "day": 27,
          "month": 8,
          "precipitation": 0,
          "temp_max": 28.9,
          "temp_min": 16.1,
          "weather": "sun",
          "wind": 1.6,
          "year": 2014
         },
         {
          "day": 28,
          "month": 8,
          "precipitation": 0,
          "temp_max": 23.3,
          "temp_min": 14.4,
          "weather": "sun",
          "wind": 2.3,
          "year": 2014
         },
         {
          "day": 29,
          "month": 8,
          "precipitation": 0,
          "temp_max": 22.8,
          "temp_min": 15,
          "weather": "sun",
          "wind": 3.4,
          "year": 2014
         },
         {
          "day": 30,
          "month": 8,
          "precipitation": 8.4,
          "temp_max": 17.8,
          "temp_min": 15,
          "weather": "fog",
          "wind": 2.2,
          "year": 2014
         },
         {
          "day": 31,
          "month": 8,
          "precipitation": 1.3,
          "temp_max": 21.1,
          "temp_min": 13.9,
          "weather": "fog",
          "wind": 1.9,
          "year": 2014
         },
         {
          "day": 1,
          "month": 9,
          "precipitation": 0,
          "temp_max": 23.3,
          "temp_min": 12.8,
          "weather": "sun",
          "wind": 2.5,
          "year": 2014
         },
         {
          "day": 2,
          "month": 9,
          "precipitation": 3,
          "temp_max": 20,
          "temp_min": 13.9,
          "weather": "fog",
          "wind": 4.3,
          "year": 2014
         },
         {
          "day": 3,
          "month": 9,
          "precipitation": 0,
          "temp_max": 20.6,
          "temp_min": 12.8,
          "weather": "sun",
          "wind": 2.7,
          "year": 2014
         },
         {
          "day": 4,
          "month": 9,
          "precipitation": 0,
          "temp_max": 23.9,
          "temp_min": 11.1,
          "weather": "fog",
          "wind": 3.1,
          "year": 2014
         },
         {
          "day": 5,
          "month": 9,
          "precipitation": 0,
          "temp_max": 27.8,
          "temp_min": 13.9,
          "weather": "fog",
          "wind": 6.5,
          "year": 2014
         },
         {
          "day": 6,
          "month": 9,
          "precipitation": 0,
          "temp_max": 32.2,
          "temp_min": 15,
          "weather": "sun",
          "wind": 2.9,
          "year": 2014
         },
         {
          "day": 7,
          "month": 9,
          "precipitation": 0,
          "temp_max": 28.3,
          "temp_min": 13.3,
          "weather": "sun",
          "wind": 2.1,
          "year": 2014
         },
         {
          "day": 8,
          "month": 9,
          "precipitation": 0,
          "temp_max": 21.1,
          "temp_min": 13.3,
          "weather": "sun",
          "wind": 2.8,
          "year": 2014
         },
         {
          "day": 9,
          "month": 9,
          "precipitation": 0,
          "temp_max": 21.7,
          "temp_min": 13.3,
          "weather": "sun",
          "wind": 2.3,
          "year": 2014
         },
         {
          "day": 10,
          "month": 9,
          "precipitation": 0,
          "temp_max": 22.2,
          "temp_min": 12.2,
          "weather": "sun",
          "wind": 3.9,
          "year": 2014
         },
         {
          "day": 11,
          "month": 9,
          "precipitation": 0,
          "temp_max": 24.4,
          "temp_min": 12.8,
          "weather": "sun",
          "wind": 5.3,
          "year": 2014
         },
         {
          "day": 12,
          "month": 9,
          "precipitation": 0,
          "temp_max": 24.4,
          "temp_min": 12.8,
          "weather": "sun",
          "wind": 5.9,
          "year": 2014
         },
         {
          "day": 13,
          "month": 9,
          "precipitation": 0,
          "temp_max": 28.3,
          "temp_min": 10,
          "weather": "sun",
          "wind": 4.2,
          "year": 2014
         },
         {
          "day": 14,
          "month": 9,
          "precipitation": 0,
          "temp_max": 30,
          "temp_min": 11.7,
          "weather": "sun",
          "wind": 1.8,
          "year": 2014
         },
         {
          "day": 15,
          "month": 9,
          "precipitation": 0,
          "temp_max": 30.6,
          "temp_min": 12.2,
          "weather": "sun",
          "wind": 1.2,
          "year": 2014
         },
         {
          "day": 16,
          "month": 9,
          "precipitation": 0,
          "temp_max": 22.2,
          "temp_min": 13.9,
          "weather": "sun",
          "wind": 2.8,
          "year": 2014
         },
         {
          "day": 17,
          "month": 9,
          "precipitation": 0.5,
          "temp_max": 22.8,
          "temp_min": 14.4,
          "weather": "sun",
          "wind": 2.3,
          "year": 2014
         },
         {
          "day": 18,
          "month": 9,
          "precipitation": 0.3,
          "temp_max": 19.4,
          "temp_min": 15,
          "weather": "fog",
          "wind": 3.1,
          "year": 2014
         },
         {
          "day": 19,
          "month": 9,
          "precipitation": 0,
          "temp_max": 23.9,
          "temp_min": 16.1,
          "weather": "sun",
          "wind": 2.8,
          "year": 2014
         },
         {
          "day": 20,
          "month": 9,
          "precipitation": 0,
          "temp_max": 24.4,
          "temp_min": 14.4,
          "weather": "fog",
          "wind": 4.4,
          "year": 2014
         },
         {
          "day": 21,
          "month": 9,
          "precipitation": 0,
          "temp_max": 26.1,
          "temp_min": 12.8,
          "weather": "sun",
          "wind": 3,
          "year": 2014
         },
         {
          "day": 22,
          "month": 9,
          "precipitation": 0.3,
          "temp_max": 22.2,
          "temp_min": 15,
          "weather": "fog",
          "wind": 2.1,
          "year": 2014
         },
         {
          "day": 23,
          "month": 9,
          "precipitation": 18.3,
          "temp_max": 18.9,
          "temp_min": 14.4,
          "weather": "fog",
          "wind": 2.5,
          "year": 2014
         },
         {
          "day": 24,
          "month": 9,
          "precipitation": 20.3,
          "temp_max": 18.9,
          "temp_min": 14.4,
          "weather": "fog",
          "wind": 2.7,
          "year": 2014
         },
         {
          "day": 25,
          "month": 9,
          "precipitation": 4.3,
          "temp_max": 21.7,
          "temp_min": 14.4,
          "weather": "fog",
          "wind": 2.5,
          "year": 2014
         },
         {
          "day": 26,
          "month": 9,
          "precipitation": 8.9,
          "temp_max": 20,
          "temp_min": 13.9,
          "weather": "fog",
          "wind": 3.3,
          "year": 2014
         },
         {
          "day": 27,
          "month": 9,
          "precipitation": 0,
          "temp_max": 20.6,
          "temp_min": 11.7,
          "weather": "fog",
          "wind": 3.2,
          "year": 2014
         },
         {
          "day": 28,
          "month": 9,
          "precipitation": 0,
          "temp_max": 18.9,
          "temp_min": 12.2,
          "weather": "fog",
          "wind": 2,
          "year": 2014
         },
         {
          "day": 29,
          "month": 9,
          "precipitation": 0.8,
          "temp_max": 16.7,
          "temp_min": 11.1,
          "weather": "fog",
          "wind": 3.5,
          "year": 2014
         },
         {
          "day": 30,
          "month": 9,
          "precipitation": 0,
          "temp_max": 19.4,
          "temp_min": 12.2,
          "weather": "sun",
          "wind": 2.6,
          "year": 2014
         },
         {
          "day": 1,
          "month": 10,
          "precipitation": 0,
          "temp_max": 18.3,
          "temp_min": 11.1,
          "weather": "sun",
          "wind": 2.1,
          "year": 2014
         },
         {
          "day": 2,
          "month": 10,
          "precipitation": 0,
          "temp_max": 19.4,
          "temp_min": 10,
          "weather": "sun",
          "wind": 2,
          "year": 2014
         },
         {
          "day": 3,
          "month": 10,
          "precipitation": 0,
          "temp_max": 22.2,
          "temp_min": 8.9,
          "weather": "sun",
          "wind": 1,
          "year": 2014
         },
         {
          "day": 4,
          "month": 10,
          "precipitation": 0,
          "temp_max": 21.7,
          "temp_min": 12.2,
          "weather": "sun",
          "wind": 1.2,
          "year": 2014
         },
         {
          "day": 5,
          "month": 10,
          "precipitation": 0,
          "temp_max": 23.9,
          "temp_min": 11.7,
          "weather": "fog",
          "wind": 1.4,
          "year": 2014
         },
         {
          "day": 6,
          "month": 10,
          "precipitation": 0,
          "temp_max": 25.6,
          "temp_min": 13.3,
          "weather": "fog",
          "wind": 2.5,
          "year": 2014
         },
         {
          "day": 7,
          "month": 10,
          "precipitation": 0,
          "temp_max": 18.9,
          "temp_min": 13.9,
          "weather": "fog",
          "wind": 1,
          "year": 2014
         },
         {
          "day": 8,
          "month": 10,
          "precipitation": 0,
          "temp_max": 20.6,
          "temp_min": 12.8,
          "weather": "fog",
          "wind": 1.8,
          "year": 2014
         },
         {
          "day": 9,
          "month": 10,
          "precipitation": 0,
          "temp_max": 17.2,
          "temp_min": 11.1,
          "weather": "fog",
          "wind": 1,
          "year": 2014
         },
         {
          "day": 10,
          "month": 10,
          "precipitation": 0.3,
          "temp_max": 18.3,
          "temp_min": 10,
          "weather": "fog",
          "wind": 3.8,
          "year": 2014
         },
         {
          "day": 11,
          "month": 10,
          "precipitation": 7.4,
          "temp_max": 18.3,
          "temp_min": 11.7,
          "weather": "rain",
          "wind": 3.5,
          "year": 2014
         },
         {
          "day": 12,
          "month": 10,
          "precipitation": 0,
          "temp_max": 17.8,
          "temp_min": 11.7,
          "weather": "sun",
          "wind": 2.1,
          "year": 2014
         },
         {
          "day": 13,
          "month": 10,
          "precipitation": 7.6,
          "temp_max": 21.1,
          "temp_min": 10,
          "weather": "fog",
          "wind": 3.1,
          "year": 2014
         },
         {
          "day": 14,
          "month": 10,
          "precipitation": 7.1,
          "temp_max": 16.7,
          "temp_min": 11.7,
          "weather": "fog",
          "wind": 2.2,
          "year": 2014
         },
         {
          "day": 15,
          "month": 10,
          "precipitation": 8.6,
          "temp_max": 16.1,
          "temp_min": 11.7,
          "weather": "fog",
          "wind": 4.7,
          "year": 2014
         },
         {
          "day": 16,
          "month": 10,
          "precipitation": 0,
          "temp_max": 20.6,
          "temp_min": 11.1,
          "weather": "sun",
          "wind": 3.3,
          "year": 2014
         },
         {
          "day": 17,
          "month": 10,
          "precipitation": 3.3,
          "temp_max": 16.7,
          "temp_min": 11.7,
          "weather": "fog",
          "wind": 3,
          "year": 2014
         },
         {
          "day": 18,
          "month": 10,
          "precipitation": 15,
          "temp_max": 19.4,
          "temp_min": 13.9,
          "weather": "fog",
          "wind": 1.9,
          "year": 2014
         },
         {
          "day": 19,
          "month": 10,
          "precipitation": 0,
          "temp_max": 22.2,
          "temp_min": 12.8,
          "weather": "sun",
          "wind": 3.2,
          "year": 2014
         },
         {
          "day": 20,
          "month": 10,
          "precipitation": 11.7,
          "temp_max": 16.1,
          "temp_min": 12.2,
          "weather": "fog",
          "wind": 3.1,
          "year": 2014
         },
         {
          "day": 21,
          "month": 10,
          "precipitation": 1,
          "temp_max": 16.1,
          "temp_min": 11.7,
          "weather": "sun",
          "wind": 4.7,
          "year": 2014
         },
         {
          "day": 22,
          "month": 10,
          "precipitation": 32,
          "temp_max": 15.6,
          "temp_min": 11.7,
          "weather": "fog",
          "wind": 5,
          "year": 2014
         },
         {
          "day": 23,
          "month": 10,
          "precipitation": 9.4,
          "temp_max": 14.4,
          "temp_min": 8.3,
          "weather": "sun",
          "wind": 4.6,
          "year": 2014
         },
         {
          "day": 24,
          "month": 10,
          "precipitation": 4.1,
          "temp_max": 14.4,
          "temp_min": 8.9,
          "weather": "sun",
          "wind": 3.2,
          "year": 2014
         },
         {
          "day": 25,
          "month": 10,
          "precipitation": 6.1,
          "temp_max": 16.7,
          "temp_min": 8.3,
          "weather": "fog",
          "wind": 5.4,
          "year": 2014
         },
         {
          "day": 26,
          "month": 10,
          "precipitation": 1.5,
          "temp_max": 12.8,
          "temp_min": 7.8,
          "weather": "fog",
          "wind": 5,
          "year": 2014
         },
         {
          "day": 27,
          "month": 10,
          "precipitation": 0.8,
          "temp_max": 15.6,
          "temp_min": 6.7,
          "weather": "sun",
          "wind": 2.4,
          "year": 2014
         },
         {
          "day": 28,
          "month": 10,
          "precipitation": 12.7,
          "temp_max": 15,
          "temp_min": 9.4,
          "weather": "fog",
          "wind": 3.9,
          "year": 2014
         },
         {
          "day": 29,
          "month": 10,
          "precipitation": 0.5,
          "temp_max": 16.7,
          "temp_min": 11.7,
          "weather": "fog",
          "wind": 3.1,
          "year": 2014
         },
         {
          "day": 30,
          "month": 10,
          "precipitation": 25.4,
          "temp_max": 15.6,
          "temp_min": 11.1,
          "weather": "fog",
          "wind": 3.2,
          "year": 2014
         },
         {
          "day": 31,
          "month": 10,
          "precipitation": 17,
          "temp_max": 12.8,
          "temp_min": 8.3,
          "weather": "fog",
          "wind": 2,
          "year": 2014
         },
         {
          "day": 1,
          "month": 11,
          "precipitation": 0,
          "temp_max": 11.1,
          "temp_min": 7.2,
          "weather": "fog",
          "wind": 1.2,
          "year": 2014
         },
         {
          "day": 2,
          "month": 11,
          "precipitation": 1.8,
          "temp_max": 13.3,
          "temp_min": 7.2,
          "weather": "fog",
          "wind": 2.9,
          "year": 2014
         },
         {
          "day": 3,
          "month": 11,
          "precipitation": 10.9,
          "temp_max": 13.9,
          "temp_min": 11.1,
          "weather": "fog",
          "wind": 4.8,
          "year": 2014
         },
         {
          "day": 4,
          "month": 11,
          "precipitation": 4.1,
          "temp_max": 14.4,
          "temp_min": 10.6,
          "weather": "fog",
          "wind": 3.3,
          "year": 2014
         },
         {
          "day": 5,
          "month": 11,
          "precipitation": 4.8,
          "temp_max": 15,
          "temp_min": 10.6,
          "weather": "fog",
          "wind": 2.1,
          "year": 2014
         },
         {
          "day": 6,
          "month": 11,
          "precipitation": 4.1,
          "temp_max": 16.7,
          "temp_min": 10.6,
          "weather": "fog",
          "wind": 6.7,
          "year": 2014
         },
         {
          "day": 7,
          "month": 11,
          "precipitation": 0,
          "temp_max": 14.4,
          "temp_min": 7.2,
          "weather": "sun",
          "wind": 2.3,
          "year": 2014
         },
         {
          "day": 8,
          "month": 11,
          "precipitation": 0,
          "temp_max": 12.8,
          "temp_min": 3.9,
          "weather": "fog",
          "wind": 0.8,
          "year": 2014
         },
         {
          "day": 9,
          "month": 11,
          "precipitation": 5.1,
          "temp_max": 13.3,
          "temp_min": 7.8,
          "weather": "fog",
          "wind": 3,
          "year": 2014
         },
         {
          "day": 10,
          "month": 11,
          "precipitation": 0,
          "temp_max": 11.1,
          "temp_min": 5.6,
          "weather": "sun",
          "wind": 3.9,
          "year": 2014
         },
         {
          "day": 11,
          "month": 11,
          "precipitation": 0,
          "temp_max": 7.8,
          "temp_min": 1.1,
          "weather": "sun",
          "wind": 7.7,
          "year": 2014
         },
         {
          "day": 12,
          "month": 11,
          "precipitation": 0,
          "temp_max": 6.7,
          "temp_min": 0,
          "weather": "sun",
          "wind": 7.6,
          "year": 2014
         },
         {
          "day": 13,
          "month": 11,
          "precipitation": 0,
          "temp_max": 7.2,
          "temp_min": 0.6,
          "weather": "sun",
          "wind": 4.7,
          "year": 2014
         },
         {
          "day": 14,
          "month": 11,
          "precipitation": 0,
          "temp_max": 7.2,
          "temp_min": -2.1,
          "weather": "sun",
          "wind": 4.5,
          "year": 2014
         },
         {
          "day": 15,
          "month": 11,
          "precipitation": 0,
          "temp_max": 8.3,
          "temp_min": -1.6,
          "weather": "sun",
          "wind": 4.2,
          "year": 2014
         },
         {
          "day": 16,
          "month": 11,
          "precipitation": 0,
          "temp_max": 9.4,
          "temp_min": -2.1,
          "weather": "sun",
          "wind": 4.2,
          "year": 2014
         },
         {
          "day": 17,
          "month": 11,
          "precipitation": 0,
          "temp_max": 10.6,
          "temp_min": -2.1,
          "weather": "sun",
          "wind": 1.9,
          "year": 2014
         },
         {
          "day": 18,
          "month": 11,
          "precipitation": 0,
          "temp_max": 7.2,
          "temp_min": -0.5,
          "weather": "sun",
          "wind": 0.9,
          "year": 2014
         },
         {
          "day": 19,
          "month": 11,
          "precipitation": 0,
          "temp_max": 11.1,
          "temp_min": 2.2,
          "weather": "sun",
          "wind": 1.9,
          "year": 2014
         },
         {
          "day": 20,
          "month": 11,
          "precipitation": 3.6,
          "temp_max": 11.1,
          "temp_min": 5.6,
          "weather": "fog",
          "wind": 2.1,
          "year": 2014
         },
         {
          "day": 21,
          "month": 11,
          "precipitation": 15.2,
          "temp_max": 11.1,
          "temp_min": 8.3,
          "weather": "fog",
          "wind": 4.7,
          "year": 2014
         },
         {
          "day": 22,
          "month": 11,
          "precipitation": 0.5,
          "temp_max": 9.4,
          "temp_min": 6.7,
          "weather": "sun",
          "wind": 4.7,
          "year": 2014
         },
         {
          "day": 23,
          "month": 11,
          "precipitation": 11.9,
          "temp_max": 12.8,
          "temp_min": 5.6,
          "weather": "fog",
          "wind": 5.1,
          "year": 2014
         },
         {
          "day": 24,
          "month": 11,
          "precipitation": 1.3,
          "temp_max": 11.7,
          "temp_min": 4.4,
          "weather": "fog",
          "wind": 3.8,
          "year": 2014
         },
         {
          "day": 25,
          "month": 11,
          "precipitation": 18.3,
          "temp_max": 13.9,
          "temp_min": 9.4,
          "weather": "fog",
          "wind": 4.5,
          "year": 2014
         },
         {
          "day": 26,
          "month": 11,
          "precipitation": 0.3,
          "temp_max": 15,
          "temp_min": 12.2,
          "weather": "sun",
          "wind": 3.9,
          "year": 2014
         },
         {
          "day": 27,
          "month": 11,
          "precipitation": 3.3,
          "temp_max": 14.4,
          "temp_min": 11.7,
          "weather": "fog",
          "wind": 6.6,
          "year": 2014
         },
         {
          "day": 28,
          "month": 11,
          "precipitation": 34.3,
          "temp_max": 12.8,
          "temp_min": 3.3,
          "weather": "fog",
          "wind": 5.8,
          "year": 2014
         },
         {
          "day": 29,
          "month": 11,
          "precipitation": 3.6,
          "temp_max": 4.4,
          "temp_min": -4.3,
          "weather": "fog",
          "wind": 5.3,
          "year": 2014
         },
         {
          "day": 30,
          "month": 11,
          "precipitation": 0,
          "temp_max": 2.8,
          "temp_min": -4.9,
          "weather": "sun",
          "wind": 4.4,
          "year": 2014
         },
         {
          "day": 1,
          "month": 12,
          "precipitation": 0,
          "temp_max": 4.4,
          "temp_min": -3.2,
          "weather": "sun",
          "wind": 2.2,
          "year": 2014
         },
         {
          "day": 2,
          "month": 12,
          "precipitation": 0,
          "temp_max": 5.6,
          "temp_min": -3.2,
          "weather": "fog",
          "wind": 5.7,
          "year": 2014
         },
         {
          "day": 3,
          "month": 12,
          "precipitation": 0,
          "temp_max": 10,
          "temp_min": 0,
          "weather": "sun",
          "wind": 3.6,
          "year": 2014
         },
         {
          "day": 4,
          "month": 12,
          "precipitation": 0.8,
          "temp_max": 8.3,
          "temp_min": 3.9,
          "weather": "fog",
          "wind": 1.1,
          "year": 2014
         },
         {
          "day": 5,
          "month": 12,
          "precipitation": 3,
          "temp_max": 12.8,
          "temp_min": 6.7,
          "weather": "fog",
          "wind": 3.1,
          "year": 2014
         },
         {
          "day": 6,
          "month": 12,
          "precipitation": 7.4,
          "temp_max": 11.7,
          "temp_min": 7.8,
          "weather": "fog",
          "wind": 3.6,
          "year": 2014
         },
         {
          "day": 7,
          "month": 12,
          "precipitation": 0,
          "temp_max": 14.4,
          "temp_min": 6.1,
          "weather": "sun",
          "wind": 2.8,
          "year": 2014
         },
         {
          "day": 8,
          "month": 12,
          "precipitation": 9.1,
          "temp_max": 14.4,
          "temp_min": 8.9,
          "weather": "fog",
          "wind": 4.2,
          "year": 2014
         },
         {
          "day": 9,
          "month": 12,
          "precipitation": 9.9,
          "temp_max": 16.1,
          "temp_min": 10.6,
          "weather": "fog",
          "wind": 5.1,
          "year": 2014
         },
         {
          "day": 10,
          "month": 12,
          "precipitation": 13,
          "temp_max": 18.9,
          "temp_min": 10,
          "weather": "fog",
          "wind": 6.7,
          "year": 2014
         },
         {
          "day": 11,
          "month": 12,
          "precipitation": 6.9,
          "temp_max": 14.4,
          "temp_min": 8.3,
          "weather": "fog",
          "wind": 6.4,
          "year": 2014
         },
         {
          "day": 12,
          "month": 12,
          "precipitation": 0,
          "temp_max": 11.1,
          "temp_min": 7.2,
          "weather": "sun",
          "wind": 3.7,
          "year": 2014
         },
         {
          "day": 13,
          "month": 12,
          "precipitation": 0,
          "temp_max": 10,
          "temp_min": 3.9,
          "weather": "fog",
          "wind": 1.1,
          "year": 2014
         },
         {
          "day": 14,
          "month": 12,
          "precipitation": 0,
          "temp_max": 12.8,
          "temp_min": 1.7,
          "weather": "fog",
          "wind": 3.5,
          "year": 2014
         },
         {
          "day": 15,
          "month": 12,
          "precipitation": 0,
          "temp_max": 12.2,
          "temp_min": 6.7,
          "weather": "sun",
          "wind": 5.9,
          "year": 2014
         },
         {
          "day": 16,
          "month": 12,
          "precipitation": 0,
          "temp_max": 10,
          "temp_min": 8.3,
          "weather": "sun",
          "wind": 4,
          "year": 2014
         },
         {
          "day": 17,
          "month": 12,
          "precipitation": 2.8,
          "temp_max": 8.9,
          "temp_min": 6.1,
          "weather": "fog",
          "wind": 1.6,
          "year": 2014
         },
         {
          "day": 18,
          "month": 12,
          "precipitation": 13,
          "temp_max": 9.4,
          "temp_min": 6.7,
          "weather": "fog",
          "wind": 3.1,
          "year": 2014
         },
         {
          "day": 19,
          "month": 12,
          "precipitation": 3,
          "temp_max": 11.1,
          "temp_min": 7.2,
          "weather": "sun",
          "wind": 4.3,
          "year": 2014
         },
         {
          "day": 20,
          "month": 12,
          "precipitation": 19.6,
          "temp_max": 12.8,
          "temp_min": 6.7,
          "weather": "fog",
          "wind": 5.5,
          "year": 2014
         },
         {
          "day": 21,
          "month": 12,
          "precipitation": 0,
          "temp_max": 12.8,
          "temp_min": 10,
          "weather": "sun",
          "wind": 5.2,
          "year": 2014
         },
         {
          "day": 22,
          "month": 12,
          "precipitation": 0,
          "temp_max": 10.6,
          "temp_min": 6.1,
          "weather": "sun",
          "wind": 1.5,
          "year": 2014
         },
         {
          "day": 23,
          "month": 12,
          "precipitation": 20.6,
          "temp_max": 12.2,
          "temp_min": 5,
          "weather": "fog",
          "wind": 3.8,
          "year": 2014
         },
         {
          "day": 24,
          "month": 12,
          "precipitation": 5.3,
          "temp_max": 7.2,
          "temp_min": 3.9,
          "weather": "fog",
          "wind": 1.8,
          "year": 2014
         },
         {
          "day": 25,
          "month": 12,
          "precipitation": 0,
          "temp_max": 7.8,
          "temp_min": 2.8,
          "weather": "fog",
          "wind": 2.2,
          "year": 2014
         },
         {
          "day": 26,
          "month": 12,
          "precipitation": 0,
          "temp_max": 5.6,
          "temp_min": 1.7,
          "weather": "fog",
          "wind": 1.2,
          "year": 2014
         },
         {
          "day": 27,
          "month": 12,
          "precipitation": 3.3,
          "temp_max": 9.4,
          "temp_min": 4.4,
          "weather": "fog",
          "wind": 4.9,
          "year": 2014
         },
         {
          "day": 28,
          "month": 12,
          "precipitation": 4.1,
          "temp_max": 6.7,
          "temp_min": 2.8,
          "weather": "fog",
          "wind": 1.8,
          "year": 2014
         },
         {
          "day": 29,
          "month": 12,
          "precipitation": 0,
          "temp_max": 6.1,
          "temp_min": 0.6,
          "weather": "fog",
          "wind": 4.3,
          "year": 2014
         },
         {
          "day": 30,
          "month": 12,
          "precipitation": 0,
          "temp_max": 3.3,
          "temp_min": -2.1,
          "weather": "sun",
          "wind": 3.6,
          "year": 2014
         },
         {
          "day": 31,
          "month": 12,
          "precipitation": 0,
          "temp_max": 3.3,
          "temp_min": -2.7,
          "weather": "sun",
          "wind": 3,
          "year": 2014
         },
         {
          "day": 1,
          "month": 1,
          "precipitation": 0,
          "temp_max": 5.6,
          "temp_min": -3.2,
          "weather": "sun",
          "wind": 1.2,
          "year": 2015
         },
         {
          "day": 2,
          "month": 1,
          "precipitation": 1.5,
          "temp_max": 5.6,
          "temp_min": 0,
          "weather": "fog",
          "wind": 2.3,
          "year": 2015
         },
         {
          "day": 3,
          "month": 1,
          "precipitation": 0,
          "temp_max": 5,
          "temp_min": 1.7,
          "weather": "fog",
          "wind": 1.7,
          "year": 2015
         },
         {
          "day": 4,
          "month": 1,
          "precipitation": 10.2,
          "temp_max": 10.6,
          "temp_min": 3.3,
          "weather": "fog",
          "wind": 4.5,
          "year": 2015
         },
         {
          "day": 5,
          "month": 1,
          "precipitation": 8.1,
          "temp_max": 12.2,
          "temp_min": 9.4,
          "weather": "fog",
          "wind": 6.4,
          "year": 2015
         },
         {
          "day": 6,
          "month": 1,
          "precipitation": 0,
          "temp_max": 12.2,
          "temp_min": 6.1,
          "weather": "fog",
          "wind": 1.3,
          "year": 2015
         },
         {
          "day": 7,
          "month": 1,
          "precipitation": 0,
          "temp_max": 7.8,
          "temp_min": 5.6,
          "weather": "fog",
          "wind": 1.6,
          "year": 2015
         },
         {
          "day": 8,
          "month": 1,
          "precipitation": 0,
          "temp_max": 7.8,
          "temp_min": 1.7,
          "weather": "fog",
          "wind": 2.6,
          "year": 2015
         },
         {
          "day": 9,
          "month": 1,
          "precipitation": 0.3,
          "temp_max": 10,
          "temp_min": 3.3,
          "weather": "fog",
          "wind": 0.6,
          "year": 2015
         },
         {
          "day": 10,
          "month": 1,
          "precipitation": 5.8,
          "temp_max": 7.8,
          "temp_min": 6.1,
          "weather": "fog",
          "wind": 0.5,
          "year": 2015
         },
         {
          "day": 11,
          "month": 1,
          "precipitation": 1.5,
          "temp_max": 9.4,
          "temp_min": 7.2,
          "weather": "fog",
          "wind": 1.1,
          "year": 2015
         },
         {
          "day": 12,
          "month": 1,
          "precipitation": 0,
          "temp_max": 11.1,
          "temp_min": 4.4,
          "weather": "fog",
          "wind": 1.6,
          "year": 2015
         },
         {
          "day": 13,
          "month": 1,
          "precipitation": 0,
          "temp_max": 9.4,
          "temp_min": 2.8,
          "weather": "fog",
          "wind": 2.7,
          "year": 2015
         },
         {
          "day": 14,
          "month": 1,
          "precipitation": 0,
          "temp_max": 6.1,
          "temp_min": 0.6,
          "weather": "fog",
          "wind": 2.8,
          "year": 2015
         },
         {
          "day": 15,
          "month": 1,
          "precipitation": 9.7,
          "temp_max": 7.8,
          "temp_min": 1.1,
          "weather": "fog",
          "wind": 3.2,
          "year": 2015
         },
         {
          "day": 16,
          "month": 1,
          "precipitation": 0,
          "temp_max": 11.7,
          "temp_min": 5.6,
          "weather": "fog",
          "wind": 4.5,
          "year": 2015
         },
         {
          "day": 17,
          "month": 1,
          "precipitation": 26.2,
          "temp_max": 13.3,
          "temp_min": 3.3,
          "weather": "fog",
          "wind": 2.8,
          "year": 2015
         },
         {
          "day": 18,
          "month": 1,
          "precipitation": 21.3,
          "temp_max": 13.9,
          "temp_min": 7.2,
          "weather": "rain",
          "wind": 6.6,
          "year": 2015
         },
         {
          "day": 19,
          "month": 1,
          "precipitation": 0.5,
          "temp_max": 10,
          "temp_min": 6.1,
          "weather": "sun",
          "wind": 2.8,
          "year": 2015
         },
         {
          "day": 20,
          "month": 1,
          "precipitation": 0,
          "temp_max": 10,
          "temp_min": 3.3,
          "weather": "fog",
          "wind": 3,
          "year": 2015
         },
         {
          "day": 21,
          "month": 1,
          "precipitation": 0,
          "temp_max": 7.2,
          "temp_min": -0.5,
          "weather": "fog",
          "wind": 1.3,
          "year": 2015
         },
         {
          "day": 22,
          "month": 1,
          "precipitation": 0.8,
          "temp_max": 9.4,
          "temp_min": 6.1,
          "weather": "fog",
          "wind": 1.3,
          "year": 2015
         },
         {
          "day": 23,
          "month": 1,
          "precipitation": 5.8,
          "temp_max": 12.2,
          "temp_min": 8.3,
          "weather": "fog",
          "wind": 2.6,
          "year": 2015
         },
         {
          "day": 24,
          "month": 1,
          "precipitation": 0.5,
          "temp_max": 14.4,
          "temp_min": 11.1,
          "weather": "fog",
          "wind": 3.3,
          "year": 2015
         },
         {
          "day": 25,
          "month": 1,
          "precipitation": 0,
          "temp_max": 17.2,
          "temp_min": 7.2,
          "weather": "fog",
          "wind": 1.4,
          "year": 2015
         },
         {
          "day": 26,
          "month": 1,
          "precipitation": 0,
          "temp_max": 16.1,
          "temp_min": 6.1,
          "weather": "fog",
          "wind": 2.2,
          "year": 2015
         },
         {
          "day": 27,
          "month": 1,
          "precipitation": 0.8,
          "temp_max": 11.1,
          "temp_min": 8.3,
          "weather": "fog",
          "wind": 2,
          "year": 2015
         },
         {
          "day": 28,
          "month": 1,
          "precipitation": 0,
          "temp_max": 12.2,
          "temp_min": 5,
          "weather": "fog",
          "wind": 1.8,
          "year": 2015
         },
         {
          "day": 29,
          "month": 1,
          "precipitation": 0,
          "temp_max": 12.2,
          "temp_min": 3.3,
          "weather": "sun",
          "wind": 2.9,
          "year": 2015
         },
         {
          "day": 30,
          "month": 1,
          "precipitation": 0,
          "temp_max": 8.3,
          "temp_min": 1.1,
          "weather": "fog",
          "wind": 0.8,
          "year": 2015
         },
         {
          "day": 31,
          "month": 1,
          "precipitation": 0,
          "temp_max": 7.2,
          "temp_min": 3.3,
          "weather": "fog",
          "wind": 1.9,
          "year": 2015
         },
         {
          "day": 1,
          "month": 2,
          "precipitation": 1.5,
          "temp_max": 9.4,
          "temp_min": 4.4,
          "weather": "fog",
          "wind": 2.6,
          "year": 2015
         },
         {
          "day": 2,
          "month": 2,
          "precipitation": 7.4,
          "temp_max": 11.1,
          "temp_min": 5,
          "weather": "fog",
          "wind": 4,
          "year": 2015
         },
         {
          "day": 3,
          "month": 2,
          "precipitation": 1.3,
          "temp_max": 10,
          "temp_min": 5.6,
          "weather": "fog",
          "wind": 1.9,
          "year": 2015
         },
         {
          "day": 4,
          "month": 2,
          "precipitation": 8.4,
          "temp_max": 10.6,
          "temp_min": 4.4,
          "weather": "fog",
          "wind": 1.7,
          "year": 2015
         },
         {
          "day": 5,
          "month": 2,
          "precipitation": 26.2,
          "temp_max": 13.3,
          "temp_min": 8.3,
          "weather": "fog",
          "wind": 4.6,
          "year": 2015
         },
         {
          "day": 6,
          "month": 2,
          "precipitation": 17.3,
          "temp_max": 14.4,
          "temp_min": 10,
          "weather": "fog",
          "wind": 4.5,
          "year": 2015
         },
         {
          "day": 7,
          "month": 2,
          "precipitation": 23.6,
          "temp_max": 12.2,
          "temp_min": 9.4,
          "weather": "fog",
          "wind": 4.6,
          "year": 2015
         },
         {
          "day": 8,
          "month": 2,
          "precipitation": 3.6,
          "temp_max": 15,
          "temp_min": 8.3,
          "weather": "fog",
          "wind": 3.9,
          "year": 2015
         },
         {
          "day": 9,
          "month": 2,
          "precipitation": 6.1,
          "temp_max": 13.3,
          "temp_min": 8.3,
          "weather": "fog",
          "wind": 2.5,
          "year": 2015
         },
         {
          "day": 10,
          "month": 2,
          "precipitation": 0.3,
          "temp_max": 12.8,
          "temp_min": 8.3,
          "weather": "fog",
          "wind": 4,
          "year": 2015
         },
         {
          "day": 11,
          "month": 2,
          "precipitation": 0,
          "temp_max": 12.8,
          "temp_min": 5.6,
          "weather": "fog",
          "wind": 1,
          "year": 2015
         },
         {
          "day": 12,
          "month": 2,
          "precipitation": 1,
          "temp_max": 16.7,
          "temp_min": 9.4,
          "weather": "sun",
          "wind": 2.1,
          "year": 2015
         },
         {
          "day": 13,
          "month": 2,
          "precipitation": 0,
          "temp_max": 15.6,
          "temp_min": 6.7,
          "weather": "fog",
          "wind": 1.7,
          "year": 2015
         },
         {
          "day": 14,
          "month": 2,
          "precipitation": 0.3,
          "temp_max": 14.4,
          "temp_min": 6.7,
          "weather": "fog",
          "wind": 2.9,
          "year": 2015
         },
         {
          "day": 15,
          "month": 2,
          "precipitation": 0,
          "temp_max": 12.2,
          "temp_min": 3.9,
          "weather": "sun",
          "wind": 4.8,
          "year": 2015
         },
         {
          "day": 16,
          "month": 2,
          "precipitation": 0,
          "temp_max": 15,
          "temp_min": 5.6,
          "weather": "fog",
          "wind": 6.6,
          "year": 2015
         },
         {
          "day": 17,
          "month": 2,
          "precipitation": 0,
          "temp_max": 16.1,
          "temp_min": 4.4,
          "weather": "sun",
          "wind": 4,
          "year": 2015
         },
         {
          "day": 18,
          "month": 2,
          "precipitation": 0,
          "temp_max": 12.2,
          "temp_min": 4.4,
          "weather": "sun",
          "wind": 2.6,
          "year": 2015
         },
         {
          "day": 19,
          "month": 2,
          "precipitation": 4.6,
          "temp_max": 10.6,
          "temp_min": 8.3,
          "weather": "fog",
          "wind": 2.2,
          "year": 2015
         },
         {
          "day": 20,
          "month": 2,
          "precipitation": 0.8,
          "temp_max": 11.1,
          "temp_min": 7.2,
          "weather": "fog",
          "wind": 0.9,
          "year": 2015
         },
         {
          "day": 21,
          "month": 2,
          "precipitation": 0,
          "temp_max": 12.2,
          "temp_min": 5.6,
          "weather": "sun",
          "wind": 4.5,
          "year": 2015
         },
         {
          "day": 22,
          "month": 2,
          "precipitation": 0,
          "temp_max": 11.7,
          "temp_min": 3.3,
          "weather": "sun",
          "wind": 4.2,
          "year": 2015
         },
         {
          "day": 23,
          "month": 2,
          "precipitation": 0,
          "temp_max": 12.8,
          "temp_min": 0.6,
          "weather": "sun",
          "wind": 1.4,
          "year": 2015
         },
         {
          "day": 24,
          "month": 2,
          "precipitation": 0,
          "temp_max": 11.1,
          "temp_min": 2.2,
          "weather": "sun",
          "wind": 1.5,
          "year": 2015
         },
         {
          "day": 25,
          "month": 2,
          "precipitation": 4.1,
          "temp_max": 10,
          "temp_min": 6.7,
          "weather": "fog",
          "wind": 1,
          "year": 2015
         },
         {
          "day": 26,
          "month": 2,
          "precipitation": 9.4,
          "temp_max": 11.7,
          "temp_min": 7.8,
          "weather": "fog",
          "wind": 1.4,
          "year": 2015
         },
         {
          "day": 27,
          "month": 2,
          "precipitation": 18.3,
          "temp_max": 10,
          "temp_min": 6.7,
          "weather": "fog",
          "wind": 4,
          "year": 2015
         },
         {
          "day": 28,
          "month": 2,
          "precipitation": 0,
          "temp_max": 12.2,
          "temp_min": 3.3,
          "weather": "sun",
          "wind": 5.1,
          "year": 2015
         },
         {
          "day": 1,
          "month": 3,
          "precipitation": 0,
          "temp_max": 11.1,
          "temp_min": 1.1,
          "weather": "sun",
          "wind": 2.2,
          "year": 2015
         },
         {
          "day": 2,
          "month": 3,
          "precipitation": 0,
          "temp_max": 11.1,
          "temp_min": 4.4,
          "weather": "sun",
          "wind": 4.8,
          "year": 2015
         },
         {
          "day": 3,
          "month": 3,
          "precipitation": 0,
          "temp_max": 10.6,
          "temp_min": 0,
          "weather": "sun",
          "wind": 2.1,
          "year": 2015
         },
         {
          "day": 4,
          "month": 3,
          "precipitation": 0,
          "temp_max": 12.8,
          "temp_min": -0.5,
          "weather": "sun",
          "wind": 1.8,
          "year": 2015
         },
         {
          "day": 5,
          "month": 3,
          "precipitation": 0,
          "temp_max": 13.3,
          "temp_min": 2.8,
          "weather": "sun",
          "wind": 1.3,
          "year": 2015
         },
         {
          "day": 6,
          "month": 3,
          "precipitation": 0,
          "temp_max": 15,
          "temp_min": 3.3,
          "weather": "sun",
          "wind": 1.4,
          "year": 2015
         },
         {
          "day": 7,
          "month": 3,
          "precipitation": 0,
          "temp_max": 16.7,
          "temp_min": 3.9,
          "weather": "fog",
          "wind": 2.7,
          "year": 2015
         },
         {
          "day": 8,
          "month": 3,
          "precipitation": 0,
          "temp_max": 17.2,
          "temp_min": 3.9,
          "weather": "fog",
          "wind": 1.7,
          "year": 2015
         },
         {
          "day": 9,
          "month": 3,
          "precipitation": 0,
          "temp_max": 14.4,
          "temp_min": 4.4,
          "weather": "fog",
          "wind": 1.8,
          "year": 2015
         },
         {
          "day": 10,
          "month": 3,
          "precipitation": 0.8,
          "temp_max": 13.3,
          "temp_min": 5,
          "weather": "fog",
          "wind": 2.6,
          "year": 2015
         },
         {
          "day": 11,
          "month": 3,
          "precipitation": 2.5,
          "temp_max": 14.4,
          "temp_min": 8.9,
          "weather": "fog",
          "wind": 3.1,
          "year": 2015
         },
         {
          "day": 12,
          "month": 3,
          "precipitation": 0,
          "temp_max": 17.8,
          "temp_min": 9.4,
          "weather": "sun",
          "wind": 3.2,
          "year": 2015
         },
         {
          "day": 13,
          "month": 3,
          "precipitation": 2,
          "temp_max": 17.2,
          "temp_min": 7.8,
          "weather": "sun",
          "wind": 2.2,
          "year": 2015
         },
         {
          "day": 14,
          "month": 3,
          "precipitation": 17,
          "temp_max": 13.9,
          "temp_min": 9.4,
          "weather": "fog",
          "wind": 3.8,
          "year": 2015
         },
         {
          "day": 15,
          "month": 3,
          "precipitation": 55.9,
          "temp_max": 10.6,
          "temp_min": 6.1,
          "weather": "fog",
          "wind": 4.2,
          "year": 2015
         },
         {
          "day": 16,
          "month": 3,
          "precipitation": 1,
          "temp_max": 13.9,
          "temp_min": 6.1,
          "weather": "fog",
          "wind": 3,
          "year": 2015
         },
         {
          "day": 17,
          "month": 3,
          "precipitation": 0.8,
          "temp_max": 13.3,
          "temp_min": 4.4,
          "weather": "sun",
          "wind": 2.6,
          "year": 2015
         },
         {
          "day": 18,
          "month": 3,
          "precipitation": 0,
          "temp_max": 15.6,
          "temp_min": 7.2,
          "weather": "sun",
          "wind": 2.5,
          "year": 2015
         },
         {
          "day": 19,
          "month": 3,
          "precipitation": 0,
          "temp_max": 15.6,
          "temp_min": 8.3,
          "weather": "sun",
          "wind": 1.9,
          "year": 2015
         },
         {
          "day": 20,
          "month": 3,
          "precipitation": 4.1,
          "temp_max": 13.9,
          "temp_min": 8.9,
          "weather": "sun",
          "wind": 1.9,
          "year": 2015
         },
         {
          "day": 21,
          "month": 3,
          "precipitation": 3.8,
          "temp_max": 13.3,
          "temp_min": 8.3,
          "weather": "fog",
          "wind": 4.7,
          "year": 2015
         },
         {
          "day": 22,
          "month": 3,
          "precipitation": 1,
          "temp_max": 11.7,
          "temp_min": 6.1,
          "weather": "sun",
          "wind": 2.3,
          "year": 2015
         },
         {
          "day": 23,
          "month": 3,
          "precipitation": 8.1,
          "temp_max": 11.1,
          "temp_min": 5.6,
          "weather": "fog",
          "wind": 2.8,
          "year": 2015
         },
         {
          "day": 24,
          "month": 3,
          "precipitation": 7.6,
          "temp_max": 12.8,
          "temp_min": 6.1,
          "weather": "fog",
          "wind": 3.9,
          "year": 2015
         },
         {
          "day": 25,
          "month": 3,
          "precipitation": 5.1,
          "temp_max": 14.4,
          "temp_min": 7.2,
          "weather": "fog",
          "wind": 4.4,
          "year": 2015
         },
         {
          "day": 26,
          "month": 3,
          "precipitation": 0,
          "temp_max": 20.6,
          "temp_min": 10,
          "weather": "sun",
          "wind": 2.2,
          "year": 2015
         },
         {
          "day": 27,
          "month": 3,
          "precipitation": 1,
          "temp_max": 18.3,
          "temp_min": 8.9,
          "weather": "fog",
          "wind": 4,
          "year": 2015
         },
         {
          "day": 28,
          "month": 3,
          "precipitation": 0,
          "temp_max": 15.6,
          "temp_min": 9.4,
          "weather": "sun",
          "wind": 5.7,
          "year": 2015
         },
         {
          "day": 29,
          "month": 3,
          "precipitation": 0,
          "temp_max": 15.6,
          "temp_min": 8.9,
          "weather": "sun",
          "wind": 3,
          "year": 2015
         },
         {
          "day": 30,
          "month": 3,
          "precipitation": 1.8,
          "temp_max": 17.8,
          "temp_min": 10.6,
          "weather": "fog",
          "wind": 2.9,
          "year": 2015
         },
         {
          "day": 31,
          "month": 3,
          "precipitation": 1,
          "temp_max": 12.8,
          "temp_min": 6.1,
          "weather": "fog",
          "wind": 4.2,
          "year": 2015
         },
         {
          "day": 1,
          "month": 4,
          "precipitation": 5.1,
          "temp_max": 12.8,
          "temp_min": 5.6,
          "weather": "rain",
          "wind": 3.2,
          "year": 2015
         },
         {
          "day": 2,
          "month": 4,
          "precipitation": 0,
          "temp_max": 13.3,
          "temp_min": 5.6,
          "weather": "sun",
          "wind": 2.4,
          "year": 2015
         },
         {
          "day": 3,
          "month": 4,
          "precipitation": 1.5,
          "temp_max": 11.1,
          "temp_min": 5,
          "weather": "fog",
          "wind": 3.6,
          "year": 2015
         },
         {
          "day": 4,
          "month": 4,
          "precipitation": 0,
          "temp_max": 12.8,
          "temp_min": 3.9,
          "weather": "sun",
          "wind": 1.7,
          "year": 2015
         },
         {
          "day": 5,
          "month": 4,
          "precipitation": 0,
          "temp_max": 16.7,
          "temp_min": 2.8,
          "weather": "sun",
          "wind": 2.4,
          "year": 2015
         },
         {
          "day": 6,
          "month": 4,
          "precipitation": 1,
          "temp_max": 13.9,
          "temp_min": 6.7,
          "weather": "sun",
          "wind": 3.5,
          "year": 2015
         },
         {
          "day": 7,
          "month": 4,
          "precipitation": 0.5,
          "temp_max": 14.4,
          "temp_min": 6.7,
          "weather": "sun",
          "wind": 3.9,
          "year": 2015
         },
         {
          "day": 8,
          "month": 4,
          "precipitation": 0,
          "temp_max": 17.2,
          "temp_min": 6.1,
          "weather": "sun",
          "wind": 1.7,
          "year": 2015
         },
         {
          "day": 9,
          "month": 4,
          "precipitation": 0,
          "temp_max": 17.2,
          "temp_min": 6.1,
          "weather": "sun",
          "wind": 2.3,
          "year": 2015
         },
         {
          "day": 10,
          "month": 4,
          "precipitation": 10.9,
          "temp_max": 13.9,
          "temp_min": 7.8,
          "weather": "fog",
          "wind": 4.6,
          "year": 2015
         },
         {
          "day": 11,
          "month": 4,
          "precipitation": 0,
          "temp_max": 11.7,
          "temp_min": 5.6,
          "weather": "sun",
          "wind": 6.5,
          "year": 2015
         },
         {
          "day": 12,
          "month": 4,
          "precipitation": 0,
          "temp_max": 13.3,
          "temp_min": 5.6,
          "weather": "sun",
          "wind": 3.6,
          "year": 2015
         },
         {
          "day": 13,
          "month": 4,
          "precipitation": 14,
          "temp_max": 11.7,
          "temp_min": 3.9,
          "weather": "fog",
          "wind": 3.6,
          "year": 2015
         },
         {
          "day": 14,
          "month": 4,
          "precipitation": 3.3,
          "temp_max": 11.7,
          "temp_min": 2.8,
          "weather": "sun",
          "wind": 3.3,
          "year": 2015
         },
         {
          "day": 15,
          "month": 4,
          "precipitation": 0,
          "temp_max": 13.9,
          "temp_min": 3.3,
          "weather": "sun",
          "wind": 2.4,
          "year": 2015
         },
         {
          "day": 16,
          "month": 4,
          "precipitation": 0,
          "temp_max": 17.8,
          "temp_min": 3.9,
          "weather": "sun",
          "wind": 3.1,
          "year": 2015
         },
         {
          "day": 17,
          "month": 4,
          "precipitation": 0,
          "temp_max": 18.9,
          "temp_min": 6.1,
          "weather": "sun",
          "wind": 3.6,
          "year": 2015
         },
         {
          "day": 18,
          "month": 4,
          "precipitation": 0,
          "temp_max": 18.9,
          "temp_min": 8.3,
          "weather": "sun",
          "wind": 3.9,
          "year": 2015
         },
         {
          "day": 19,
          "month": 4,
          "precipitation": 0,
          "temp_max": 21.1,
          "temp_min": 8.3,
          "weather": "sun",
          "wind": 3.6,
          "year": 2015
         },
         {
          "day": 20,
          "month": 4,
          "precipitation": 0,
          "temp_max": 22.8,
          "temp_min": 7.8,
          "weather": "sun",
          "wind": 2.6,
          "year": 2015
         },
         {
          "day": 21,
          "month": 4,
          "precipitation": 5.6,
          "temp_max": 17.2,
          "temp_min": 6.7,
          "weather": "fog",
          "wind": 3.4,
          "year": 2015
         },
         {
          "day": 22,
          "month": 4,
          "precipitation": 0,
          "temp_max": 15.6,
          "temp_min": 5,
          "weather": "sun",
          "wind": 2.3,
          "year": 2015
         },
         {
          "day": 23,
          "month": 4,
          "precipitation": 3,
          "temp_max": 12.2,
          "temp_min": 6.7,
          "weather": "fog",
          "wind": 4.1,
          "year": 2015
         },
         {
          "day": 24,
          "month": 4,
          "precipitation": 3.3,
          "temp_max": 12.2,
          "temp_min": 6.1,
          "weather": "fog",
          "wind": 5,
          "year": 2015
         },
         {
          "day": 25,
          "month": 4,
          "precipitation": 1.3,
          "temp_max": 13.3,
          "temp_min": 5.6,
          "weather": "fog",
          "wind": 3,
          "year": 2015
         },
         {
          "day": 26,
          "month": 4,
          "precipitation": 0,
          "temp_max": 15.6,
          "temp_min": 4.4,
          "weather": "fog",
          "wind": 2.7,
          "year": 2015
         },
         {
          "day": 27,
          "month": 4,
          "precipitation": 0.3,
          "temp_max": 25,
          "temp_min": 10.6,
          "weather": "fog",
          "wind": 2.3,
          "year": 2015
         },
         {
          "day": 28,
          "month": 4,
          "precipitation": 1.8,
          "temp_max": 15.6,
          "temp_min": 8.9,
          "weather": "fog",
          "wind": 4.3,
          "year": 2015
         },
         {
          "day": 29,
          "month": 4,
          "precipitation": 0,
          "temp_max": 16.1,
          "temp_min": 7.2,
          "weather": "sun",
          "wind": 4.7,
          "year": 2015
         },
         {
          "day": 30,
          "month": 4,
          "precipitation": 0,
          "temp_max": 17.2,
          "temp_min": 7.8,
          "weather": "sun",
          "wind": 2.1,
          "year": 2015
         },
         {
          "day": 1,
          "month": 5,
          "precipitation": 0,
          "temp_max": 18.3,
          "temp_min": 8.9,
          "weather": "sun",
          "wind": 3.7,
          "year": 2015
         },
         {
          "day": 2,
          "month": 5,
          "precipitation": 0,
          "temp_max": 18.3,
          "temp_min": 7.8,
          "weather": "sun",
          "wind": 3.7,
          "year": 2015
         },
         {
          "day": 3,
          "month": 5,
          "precipitation": 0,
          "temp_max": 20.6,
          "temp_min": 7.8,
          "weather": "sun",
          "wind": 2.6,
          "year": 2015
         },
         {
          "day": 4,
          "month": 5,
          "precipitation": 0,
          "temp_max": 17.2,
          "temp_min": 7.2,
          "weather": "sun",
          "wind": 5.2,
          "year": 2015
         },
         {
          "day": 5,
          "month": 5,
          "precipitation": 6.1,
          "temp_max": 14.4,
          "temp_min": 7.2,
          "weather": "fog",
          "wind": 5.1,
          "year": 2015
         },
         {
          "day": 6,
          "month": 5,
          "precipitation": 0,
          "temp_max": 16.7,
          "temp_min": 7.2,
          "weather": "fog",
          "wind": 2.6,
          "year": 2015
         },
         {
          "day": 7,
          "month": 5,
          "precipitation": 0,
          "temp_max": 20.6,
          "temp_min": 6.1,
          "weather": "sun",
          "wind": 3,
          "year": 2015
         },
         {
          "day": 8,
          "month": 5,
          "precipitation": 0,
          "temp_max": 23.9,
          "temp_min": 8.3,
          "weather": "sun",
          "wind": 3,
          "year": 2015
         },
         {
          "day": 9,
          "month": 5,
          "precipitation": 0,
          "temp_max": 26.7,
          "temp_min": 9.4,
          "weather": "sun",
          "wind": 2.6,
          "year": 2015
         },
         {
          "day": 10,
          "month": 5,
          "precipitation": 0,
          "temp_max": 19.4,
          "temp_min": 11.1,
          "weather": "sun",
          "wind": 2.8,
          "year": 2015
         },
         {
          "day": 11,
          "month": 5,
          "precipitation": 0,
          "temp_max": 13.9,
          "temp_min": 10,
          "weather": "fog",
          "wind": 2.5,
          "year": 2015
         },
         {
          "day": 12,
          "month": 5,
          "precipitation": 4.3,
          "temp_max": 15.6,
          "temp_min": 10.6,
          "weather": "fog",
          "wind": 3.3,
          "year": 2015
         },
         {
          "day": 13,
          "month": 5,
          "precipitation": 4.1,
          "temp_max": 12.2,
          "temp_min": 10,
          "weather": "fog",
          "wind": 2.8,
          "year": 2015
         },
         {
          "day": 14,
          "month": 5,
          "precipitation": 0.3,
          "temp_max": 17.8,
          "temp_min": 9.4,
          "weather": "fog",
          "wind": 2,
          "year": 2015
         },
         {
          "day": 15,
          "month": 5,
          "precipitation": 0,
          "temp_max": 20,
          "temp_min": 9.4,
          "weather": "fog",
          "wind": 2.8,
          "year": 2015
         },
         {
          "day": 16,
          "month": 5,
          "precipitation": 0,
          "temp_max": 15.6,
          "temp_min": 11.1,
          "weather": "sun",
          "wind": 3,
          "year": 2015
         },
         {
          "day": 17,
          "month": 5,
          "precipitation": 0,
          "temp_max": 19.4,
          "temp_min": 10.6,
          "weather": "sun",
          "wind": 2.1,
          "year": 2015
         },
         {
          "day": 18,
          "month": 5,
          "precipitation": 0,
          "temp_max": 25.6,
          "temp_min": 12.2,
          "weather": "sun",
          "wind": 3,
          "year": 2015
         },
         {
          "day": 19,
          "month": 5,
          "precipitation": 0,
          "temp_max": 21.7,
          "temp_min": 11.7,
          "weather": "sun",
          "wind": 2.6,
          "year": 2015
         },
         {
          "day": 20,
          "month": 5,
          "precipitation": 0,
          "temp_max": 23.3,
          "temp_min": 10.6,
          "weather": "fog",
          "wind": 1.8,
          "year": 2015
         },
         {
          "day": 21,
          "month": 5,
          "precipitation": 0,
          "temp_max": 25.6,
          "temp_min": 11.7,
          "weather": "sun",
          "wind": 2.1,
          "year": 2015
         },
         {
          "day": 22,
          "month": 5,
          "precipitation": 0,
          "temp_max": 16.7,
          "temp_min": 11.7,
          "weather": "sun",
          "wind": 3.7,
          "year": 2015
         },
         {
          "day": 23,
          "month": 5,
          "precipitation": 0,
          "temp_max": 16.1,
          "temp_min": 11.7,
          "weather": "sun",
          "wind": 2.6,
          "year": 2015
         },
         {
          "day": 24,
          "month": 5,
          "precipitation": 0,
          "temp_max": 17.8,
          "temp_min": 11.1,
          "weather": "sun",
          "wind": 2.7,
          "year": 2015
         },
         {
          "day": 25,
          "month": 5,
          "precipitation": 0,
          "temp_max": 15.6,
          "temp_min": 11.1,
          "weather": "sun",
          "wind": 2.7,
          "year": 2015
         },
         {
          "day": 26,
          "month": 5,
          "precipitation": 0,
          "temp_max": 21.7,
          "temp_min": 11.7,
          "weather": "sun",
          "wind": 2.1,
          "year": 2015
         },
         {
          "day": 27,
          "month": 5,
          "precipitation": 0,
          "temp_max": 24.4,
          "temp_min": 11.7,
          "weather": "sun",
          "wind": 1.8,
          "year": 2015
         },
         {
          "day": 28,
          "month": 5,
          "precipitation": 0,
          "temp_max": 27.8,
          "temp_min": 12.2,
          "weather": "sun",
          "wind": 2.1,
          "year": 2015
         },
         {
          "day": 29,
          "month": 5,
          "precipitation": 0,
          "temp_max": 26.1,
          "temp_min": 12.8,
          "weather": "sun",
          "wind": 2.5,
          "year": 2015
         },
         {
          "day": 30,
          "month": 5,
          "precipitation": 0,
          "temp_max": 22.8,
          "temp_min": 10,
          "weather": "sun",
          "wind": 2.5,
          "year": 2015
         },
         {
          "day": 31,
          "month": 5,
          "precipitation": 0,
          "temp_max": 25,
          "temp_min": 11.7,
          "weather": "sun",
          "wind": 2.2,
          "year": 2015
         },
         {
          "day": 1,
          "month": 6,
          "precipitation": 4.6,
          "temp_max": 16.1,
          "temp_min": 11.7,
          "weather": "fog",
          "wind": 3.4,
          "year": 2015
         },
         {
          "day": 2,
          "month": 6,
          "precipitation": 0.5,
          "temp_max": 17.8,
          "temp_min": 12.8,
          "weather": "sun",
          "wind": 5,
          "year": 2015
         },
         {
          "day": 3,
          "month": 6,
          "precipitation": 0,
          "temp_max": 20,
          "temp_min": 11.7,
          "weather": "sun",
          "wind": 3,
          "year": 2015
         },
         {
          "day": 4,
          "month": 6,
          "precipitation": 0,
          "temp_max": 22.8,
          "temp_min": 11.7,
          "weather": "sun",
          "wind": 3.9,
          "year": 2015
         },
         {
          "day": 5,
          "month": 6,
          "precipitation": 0,
          "temp_max": 26.7,
          "temp_min": 12.8,
          "weather": "sun",
          "wind": 4.3,
          "year": 2015
         },
         {
          "day": 6,
          "month": 6,
          "precipitation": 0,
          "temp_max": 29.4,
          "temp_min": 13.3,
          "weather": "sun",
          "wind": 2.6,
          "year": 2015
         },
         {
          "day": 7,
          "month": 6,
          "precipitation": 0,
          "temp_max": 31.1,
          "temp_min": 15.6,
          "weather": "sun",
          "wind": 3.2,
          "year": 2015
         },
         {
          "day": 8,
          "month": 6,
          "precipitation": 0,
          "temp_max": 30.6,
          "temp_min": 14.4,
          "weather": "sun",
          "wind": 3.5,
          "year": 2015
         },
         {
          "day": 9,
          "month": 6,
          "precipitation": 0,
          "temp_max": 28.9,
          "temp_min": 14.4,
          "weather": "sun",
          "wind": 2.7,
          "year": 2015
         },
         {
          "day": 10,
          "month": 6,
          "precipitation": 0,
          "temp_max": 25.6,
          "temp_min": 11.1,
          "weather": "sun",
          "wind": 3,
          "year": 2015
         },
         {
          "day": 11,
          "month": 6,
          "precipitation": 0,
          "temp_max": 24.4,
          "temp_min": 11.1,
          "weather": "sun",
          "wind": 3.5,
          "year": 2015
         },
         {
          "day": 12,
          "month": 6,
          "precipitation": 0,
          "temp_max": 20,
          "temp_min": 11.7,
          "weather": "sun",
          "wind": 2.3,
          "year": 2015
         },
         {
          "day": 13,
          "month": 6,
          "precipitation": 0,
          "temp_max": 23.9,
          "temp_min": 9.4,
          "weather": "sun",
          "wind": 2.6,
          "year": 2015
         },
         {
          "day": 14,
          "month": 6,
          "precipitation": 0,
          "temp_max": 27.8,
          "temp_min": 11.7,
          "weather": "sun",
          "wind": 3.7,
          "year": 2015
         },
         {
          "day": 15,
          "month": 6,
          "precipitation": 0,
          "temp_max": 30,
          "temp_min": 16.1,
          "weather": "drizzle",
          "wind": 3.5,
          "year": 2015
         },
         {
          "day": 16,
          "month": 6,
          "precipitation": 0,
          "temp_max": 22.8,
          "temp_min": 11.1,
          "weather": "sun",
          "wind": 3,
          "year": 2015
         },
         {
          "day": 17,
          "month": 6,
          "precipitation": 0,
          "temp_max": 25,
          "temp_min": 11.1,
          "weather": "sun",
          "wind": 3.1,
          "year": 2015
         },
         {
          "day": 18,
          "month": 6,
          "precipitation": 0,
          "temp_max": 24.4,
          "temp_min": 13.9,
          "weather": "sun",
          "wind": 3,
          "year": 2015
         },
         {
          "day": 19,
          "month": 6,
          "precipitation": 0.5,
          "temp_max": 23.9,
          "temp_min": 13.3,
          "weather": "fog",
          "wind": 3.2,
          "year": 2015
         },
         {
          "day": 20,
          "month": 6,
          "precipitation": 0,
          "temp_max": 25,
          "temp_min": 12.8,
          "weather": "sun",
          "wind": 4.3,
          "year": 2015
         },
         {
          "day": 21,
          "month": 6,
          "precipitation": 0,
          "temp_max": 25.6,
          "temp_min": 13.9,
          "weather": "sun",
          "wind": 3.4,
          "year": 2015
         },
         {
          "day": 22,
          "month": 6,
          "precipitation": 0,
          "temp_max": 25,
          "temp_min": 12.8,
          "weather": "sun",
          "wind": 2.4,
          "year": 2015
         },
         {
          "day": 23,
          "month": 6,
          "precipitation": 0,
          "temp_max": 26.1,
          "temp_min": 11.7,
          "weather": "sun",
          "wind": 2.4,
          "year": 2015
         },
         {
          "day": 24,
          "month": 6,
          "precipitation": 0,
          "temp_max": 25.6,
          "temp_min": 16.1,
          "weather": "sun",
          "wind": 2.6,
          "year": 2015
         },
         {
          "day": 25,
          "month": 6,
          "precipitation": 0,
          "temp_max": 30.6,
          "temp_min": 15.6,
          "weather": "sun",
          "wind": 3,
          "year": 2015
         },
         {
          "day": 26,
          "month": 6,
          "precipitation": 0,
          "temp_max": 31.7,
          "temp_min": 17.8,
          "weather": "sun",
          "wind": 4.7,
          "year": 2015
         },
         {
          "day": 27,
          "month": 6,
          "precipitation": 0,
          "temp_max": 33.3,
          "temp_min": 17.2,
          "weather": "sun",
          "wind": 3.9,
          "year": 2015
         },
         {
          "day": 28,
          "month": 6,
          "precipitation": 0.3,
          "temp_max": 28.3,
          "temp_min": 18.3,
          "weather": "sun",
          "wind": 2.1,
          "year": 2015
         },
         {
          "day": 29,
          "month": 6,
          "precipitation": 0,
          "temp_max": 28.9,
          "temp_min": 17.2,
          "weather": "sun",
          "wind": 2.7,
          "year": 2015
         },
         {
          "day": 30,
          "month": 6,
          "precipitation": 0,
          "temp_max": 30.6,
          "temp_min": 15,
          "weather": "fog",
          "wind": 3.4,
          "year": 2015
         },
         {
          "day": 1,
          "month": 7,
          "precipitation": 0,
          "temp_max": 32.2,
          "temp_min": 17.2,
          "weather": "sun",
          "wind": 4.3,
          "year": 2015
         },
         {
          "day": 2,
          "month": 7,
          "precipitation": 0,
          "temp_max": 33.9,
          "temp_min": 17.8,
          "weather": "sun",
          "wind": 3.4,
          "year": 2015
         },
         {
          "day": 3,
          "month": 7,
          "precipitation": 0,
          "temp_max": 33.3,
          "temp_min": 17.8,
          "weather": "sun",
          "wind": 2.6,
          "year": 2015
         },
         {
          "day": 4,
          "month": 7,
          "precipitation": 0,
          "temp_max": 33.3,
          "temp_min": 15,
          "weather": "sun",
          "wind": 2.9,
          "year": 2015
         },
         {
          "day": 5,
          "month": 7,
          "precipitation": 0,
          "temp_max": 32.8,
          "temp_min": 16.7,
          "weather": "sun",
          "wind": 2.1,
          "year": 2015
         },
         {
          "day": 6,
          "month": 7,
          "precipitation": 0,
          "temp_max": 29.4,
          "temp_min": 15.6,
          "weather": "drizzle",
          "wind": 3.2,
          "year": 2015
         },
         {
          "day": 7,
          "month": 7,
          "precipitation": 0,
          "temp_max": 27.2,
          "temp_min": 13.9,
          "weather": "sun",
          "wind": 2.4,
          "year": 2015
         },
         {
          "day": 8,
          "month": 7,
          "precipitation": 0,
          "temp_max": 30,
          "temp_min": 14.4,
          "weather": "drizzle",
          "wind": 1.9,
          "year": 2015
         },
         {
          "day": 9,
          "month": 7,
          "precipitation": 0,
          "temp_max": 28.9,
          "temp_min": 14.4,
          "weather": "sun",
          "wind": 3.4,
          "year": 2015
         },
         {
          "day": 10,
          "month": 7,
          "precipitation": 0,
          "temp_max": 21.1,
          "temp_min": 16.7,
          "weather": "sun",
          "wind": 3.7,
          "year": 2015
         },
         {
          "day": 11,
          "month": 7,
          "precipitation": 0,
          "temp_max": 22.2,
          "temp_min": 16.7,
          "weather": "sun",
          "wind": 3,
          "year": 2015
         },
         {
          "day": 12,
          "month": 7,
          "precipitation": 0,
          "temp_max": 26.1,
          "temp_min": 16.7,
          "weather": "sun",
          "wind": 2.2,
          "year": 2015
         },
         {
          "day": 13,
          "month": 7,
          "precipitation": 0,
          "temp_max": 25.6,
          "temp_min": 16.1,
          "weather": "sun",
          "wind": 3.1,
          "year": 2015
         },
         {
          "day": 14,
          "month": 7,
          "precipitation": 0,
          "temp_max": 27.8,
          "temp_min": 16.1,
          "weather": "sun",
          "wind": 3.3,
          "year": 2015
         },
         {
          "day": 15,
          "month": 7,
          "precipitation": 0,
          "temp_max": 26.1,
          "temp_min": 14.4,
          "weather": "sun",
          "wind": 3.2,
          "year": 2015
         },
         {
          "day": 16,
          "month": 7,
          "precipitation": 0,
          "temp_max": 26.1,
          "temp_min": 15,
          "weather": "sun",
          "wind": 2.8,
          "year": 2015
         },
         {
          "day": 17,
          "month": 7,
          "precipitation": 0,
          "temp_max": 27.8,
          "temp_min": 13.9,
          "weather": "sun",
          "wind": 3.3,
          "year": 2015
         },
         {
          "day": 18,
          "month": 7,
          "precipitation": 0,
          "temp_max": 33.3,
          "temp_min": 17.8,
          "weather": "sun",
          "wind": 3.4,
          "year": 2015
         },
         {
          "day": 19,
          "month": 7,
          "precipitation": 0,
          "temp_max": 35,
          "temp_min": 17.2,
          "weather": "sun",
          "wind": 3.3,
          "year": 2015
         },
         {
          "day": 20,
          "month": 7,
          "precipitation": 0,
          "temp_max": 26.7,
          "temp_min": 16.7,
          "weather": "sun",
          "wind": 3.9,
          "year": 2015
         },
         {
          "day": 21,
          "month": 7,
          "precipitation": 0,
          "temp_max": 23.9,
          "temp_min": 15,
          "weather": "sun",
          "wind": 2.4,
          "year": 2015
         },
         {
          "day": 22,
          "month": 7,
          "precipitation": 0,
          "temp_max": 23.9,
          "temp_min": 13.9,
          "weather": "sun",
          "wind": 2.8,
          "year": 2015
         },
         {
          "day": 23,
          "month": 7,
          "precipitation": 0,
          "temp_max": 26.1,
          "temp_min": 14.4,
          "weather": "sun",
          "wind": 1.9,
          "year": 2015
         },
         {
          "day": 24,
          "month": 7,
          "precipitation": 0.3,
          "temp_max": 22.8,
          "temp_min": 13.3,
          "weather": "fog",
          "wind": 3.8,
          "year": 2015
         },
         {
          "day": 25,
          "month": 7,
          "precipitation": 0,
          "temp_max": 21.1,
          "temp_min": 14.4,
          "weather": "fog",
          "wind": 2.4,
          "year": 2015
         },
         {
          "day": 26,
          "month": 7,
          "precipitation": 2,
          "temp_max": 22.2,
          "temp_min": 13.9,
          "weather": "fog",
          "wind": 2.6,
          "year": 2015
         },
         {
          "day": 27,
          "month": 7,
          "precipitation": 0,
          "temp_max": 23.3,
          "temp_min": 12.2,
          "weather": "fog",
          "wind": 1.9,
          "year": 2015
         },
         {
          "day": 28,
          "month": 7,
          "precipitation": 0,
          "temp_max": 27.8,
          "temp_min": 13.9,
          "weather": "sun",
          "wind": 3.4,
          "year": 2015
         },
         {
          "day": 29,
          "month": 7,
          "precipitation": 0,
          "temp_max": 32.2,
          "temp_min": 14.4,
          "weather": "sun",
          "wind": 3.8,
          "year": 2015
         },
         {
          "day": 30,
          "month": 7,
          "precipitation": 0,
          "temp_max": 34.4,
          "temp_min": 17.2,
          "weather": "sun",
          "wind": 3.5,
          "year": 2015
         },
         {
          "day": 31,
          "month": 7,
          "precipitation": 0,
          "temp_max": 34.4,
          "temp_min": 17.8,
          "weather": "sun",
          "wind": 2.6,
          "year": 2015
         },
         {
          "day": 1,
          "month": 8,
          "precipitation": 0,
          "temp_max": 33.3,
          "temp_min": 15.6,
          "weather": "sun",
          "wind": 3.1,
          "year": 2015
         },
         {
          "day": 2,
          "month": 8,
          "precipitation": 0,
          "temp_max": 30.6,
          "temp_min": 16.1,
          "weather": "sun",
          "wind": 2,
          "year": 2015
         },
         {
          "day": 3,
          "month": 8,
          "precipitation": 0,
          "temp_max": 28.3,
          "temp_min": 17.2,
          "weather": "sun",
          "wind": 2.3,
          "year": 2015
         },
         {
          "day": 4,
          "month": 8,
          "precipitation": 0,
          "temp_max": 26.1,
          "temp_min": 14.4,
          "weather": "fog",
          "wind": 2.6,
          "year": 2015
         },
         {
          "day": 5,
          "month": 8,
          "precipitation": 0,
          "temp_max": 23.3,
          "temp_min": 12.2,
          "weather": "sun",
          "wind": 3.5,
          "year": 2015
         },
         {
          "day": 6,
          "month": 8,
          "precipitation": 0,
          "temp_max": 25,
          "temp_min": 15,
          "weather": "sun",
          "wind": 2.9,
          "year": 2015
         },
         {
          "day": 7,
          "month": 8,
          "precipitation": 0,
          "temp_max": 28.3,
          "temp_min": 15.6,
          "weather": "sun",
          "wind": 3.7,
          "year": 2015
         },
         {
          "day": 8,
          "month": 8,
          "precipitation": 0,
          "temp_max": 25,
          "temp_min": 15.6,
          "weather": "fog",
          "wind": 3.6,
          "year": 2015
         },
         {
          "day": 9,
          "month": 8,
          "precipitation": 0,
          "temp_max": 28.3,
          "temp_min": 15,
          "weather": "sun",
          "wind": 2.2,
          "year": 2015
         },
         {
          "day": 10,
          "month": 8,
          "precipitation": 0,
          "temp_max": 28.9,
          "temp_min": 16.1,
          "weather": "sun",
          "wind": 2.4,
          "year": 2015
         },
         {
          "day": 11,
          "month": 8,
          "precipitation": 0,
          "temp_max": 30,
          "temp_min": 16.7,
          "weather": "sun",
          "wind": 4.4,
          "year": 2015
         },
         {
          "day": 12,
          "month": 8,
          "precipitation": 7.6,
          "temp_max": 28.3,
          "temp_min": 16.7,
          "weather": "rain",
          "wind": 2.7,
          "year": 2015
         },
         {
          "day": 13,
          "month": 8,
          "precipitation": 0,
          "temp_max": 28.3,
          "temp_min": 15.6,
          "weather": "sun",
          "wind": 2.2,
          "year": 2015
         },
         {
          "day": 14,
          "month": 8,
          "precipitation": 30.5,
          "temp_max": 18.3,
          "temp_min": 15,
          "weather": "rain",
          "wind": 5.2,
          "year": 2015
         },
         {
          "day": 15,
          "month": 8,
          "precipitation": 0,
          "temp_max": 21.7,
          "temp_min": 13.9,
          "weather": "sun",
          "wind": 3.7,
          "year": 2015
         },
         {
          "day": 16,
          "month": 8,
          "precipitation": 0,
          "temp_max": 25,
          "temp_min": 14.4,
          "weather": "sun",
          "wind": 3.7,
          "year": 2015
         },
         {
          "day": 17,
          "month": 8,
          "precipitation": 0,
          "temp_max": 27.2,
          "temp_min": 13.9,
          "weather": "sun",
          "wind": 3,
          "year": 2015
         },
         {
          "day": 18,
          "month": 8,
          "precipitation": 0,
          "temp_max": 30,
          "temp_min": 15,
          "weather": "sun",
          "wind": 3,
          "year": 2015
         },
         {
          "day": 19,
          "month": 8,
          "precipitation": 0,
          "temp_max": 31.7,
          "temp_min": 16.1,
          "weather": "drizzle",
          "wind": 2.1,
          "year": 2015
         },
         {
          "day": 20,
          "month": 8,
          "precipitation": 2,
          "temp_max": 22.8,
          "temp_min": 14.4,
          "weather": "fog",
          "wind": 4.2,
          "year": 2015
         },
         {
          "day": 21,
          "month": 8,
          "precipitation": 0,
          "temp_max": 22.2,
          "temp_min": 14.4,
          "weather": "sun",
          "wind": 2.6,
          "year": 2015
         },
         {
          "day": 22,
          "month": 8,
          "precipitation": 0,
          "temp_max": 26.7,
          "temp_min": 12.2,
          "weather": "drizzle",
          "wind": 2.5,
          "year": 2015
         },
         {
          "day": 23,
          "month": 8,
          "precipitation": 0,
          "temp_max": 27.8,
          "temp_min": 13.9,
          "weather": "drizzle",
          "wind": 1.8,
          "year": 2015
         },
         {
          "day": 24,
          "month": 8,
          "precipitation": 0,
          "temp_max": 23.9,
          "temp_min": 12.2,
          "weather": "sun",
          "wind": 2.3,
          "year": 2015
         },
         {
          "day": 25,
          "month": 8,
          "precipitation": 0,
          "temp_max": 25.6,
          "temp_min": 12.2,
          "weather": "sun",
          "wind": 3.4,
          "year": 2015
         },
         {
          "day": 26,
          "month": 8,
          "precipitation": 0,
          "temp_max": 28.3,
          "temp_min": 13.9,
          "weather": "sun",
          "wind": 1.7,
          "year": 2015
         },
         {
          "day": 27,
          "month": 8,
          "precipitation": 0,
          "temp_max": 29.4,
          "temp_min": 14.4,
          "weather": "sun",
          "wind": 2.1,
          "year": 2015
         },
         {
          "day": 28,
          "month": 8,
          "precipitation": 0.5,
          "temp_max": 23.3,
          "temp_min": 15.6,
          "weather": "fog",
          "wind": 2.6,
          "year": 2015
         },
         {
          "day": 29,
          "month": 8,
          "precipitation": 32.5,
          "temp_max": 22.2,
          "temp_min": 13.3,
          "weather": "fog",
          "wind": 5.8,
          "year": 2015
         },
         {
          "day": 30,
          "month": 8,
          "precipitation": 10.2,
          "temp_max": 20,
          "temp_min": 12.8,
          "weather": "fog",
          "wind": 4.7,
          "year": 2015
         },
         {
          "day": 31,
          "month": 8,
          "precipitation": 0,
          "temp_max": 18.9,
          "temp_min": 16.1,
          "weather": "sun",
          "wind": 5.8,
          "year": 2015
         },
         {
          "day": 1,
          "month": 9,
          "precipitation": 5.8,
          "temp_max": 19.4,
          "temp_min": 13.9,
          "weather": "fog",
          "wind": 5,
          "year": 2015
         },
         {
          "day": 2,
          "month": 9,
          "precipitation": 0,
          "temp_max": 19.4,
          "temp_min": 11.1,
          "weather": "sun",
          "wind": 3.8,
          "year": 2015
         },
         {
          "day": 3,
          "month": 9,
          "precipitation": 0,
          "temp_max": 18.3,
          "temp_min": 10.6,
          "weather": "sun",
          "wind": 2.9,
          "year": 2015
         },
         {
          "day": 4,
          "month": 9,
          "precipitation": 0,
          "temp_max": 18.3,
          "temp_min": 10,
          "weather": "sun",
          "wind": 2.9,
          "year": 2015
         },
         {
          "day": 5,
          "month": 9,
          "precipitation": 0.3,
          "temp_max": 20.6,
          "temp_min": 8.9,
          "weather": "sun",
          "wind": 3.5,
          "year": 2015
         },
         {
          "day": 6,
          "month": 9,
          "precipitation": 5.3,
          "temp_max": 16.1,
          "temp_min": 11.7,
          "weather": "fog",
          "wind": 2.4,
          "year": 2015
         },
         {
          "day": 7,
          "month": 9,
          "precipitation": 0.3,
          "temp_max": 21.1,
          "temp_min": 13.3,
          "weather": "fog",
          "wind": 1.5,
          "year": 2015
         },
         {
          "day": 8,
          "month": 9,
          "precipitation": 0,
          "temp_max": 22.8,
          "temp_min": 13.3,
          "weather": "sun",
          "wind": 2.4,
          "year": 2015
         },
         {
          "day": 9,
          "month": 9,
          "precipitation": 0,
          "temp_max": 24.4,
          "temp_min": 13.9,
          "weather": "sun",
          "wind": 3.3,
          "year": 2015
         },
         {
          "day": 10,
          "month": 9,
          "precipitation": 0,
          "temp_max": 25,
          "temp_min": 14.4,
          "weather": "fog",
          "wind": 3.6,
          "year": 2015
         },
         {
          "day": 11,
          "month": 9,
          "precipitation": 0,
          "temp_max": 27.2,
          "temp_min": 15,
          "weather": "sun",
          "wind": 3.1,
          "year": 2015
         },
         {
          "day": 12,
          "month": 9,
          "precipitation": 0,
          "temp_max": 26.7,
          "temp_min": 14.4,
          "weather": "sun",
          "wind": 2.1,
          "year": 2015
         },
         {
          "day": 13,
          "month": 9,
          "precipitation": 0.5,
          "temp_max": 20.6,
          "temp_min": 12.8,
          "weather": "fog",
          "wind": 3,
          "year": 2015
         },
         {
          "day": 14,
          "month": 9,
          "precipitation": 0,
          "temp_max": 16.7,
          "temp_min": 10.6,
          "weather": "sun",
          "wind": 3.4,
          "year": 2015
         },
         {
          "day": 15,
          "month": 9,
          "precipitation": 0,
          "temp_max": 17.8,
          "temp_min": 10,
          "weather": "sun",
          "wind": 2.8,
          "year": 2015
         },
         {
          "day": 16,
          "month": 9,
          "precipitation": 1,
          "temp_max": 20,
          "temp_min": 10,
          "weather": "sun",
          "wind": 1.9,
          "year": 2015
         },
         {
          "day": 17,
          "month": 9,
          "precipitation": 1.8,
          "temp_max": 18.3,
          "temp_min": 12.8,
          "weather": "fog",
          "wind": 3.8,
          "year": 2015
         },
         {
          "day": 18,
          "month": 9,
          "precipitation": 0,
          "temp_max": 19.4,
          "temp_min": 12.8,
          "weather": "sun",
          "wind": 2.6,
          "year": 2015
         },
         {
          "day": 19,
          "month": 9,
          "precipitation": 0,
          "temp_max": 21.1,
          "temp_min": 14.4,
          "weather": "sun",
          "wind": 4.3,
          "year": 2015
         },
         {
          "day": 20,
          "month": 9,
          "precipitation": 4.1,
          "temp_max": 22.8,
          "temp_min": 12.2,
          "weather": "fog",
          "wind": 6.8,
          "year": 2015
         },
         {
          "day": 21,
          "month": 9,
          "precipitation": 0,
          "temp_max": 18.3,
          "temp_min": 9.4,
          "weather": "fog",
          "wind": 2.7,
          "year": 2015
         },
         {
          "day": 22,
          "month": 9,
          "precipitation": 0,
          "temp_max": 18.9,
          "temp_min": 7.8,
          "weather": "sun",
          "wind": 2,
          "year": 2015
         },
         {
          "day": 23,
          "month": 9,
          "precipitation": 0,
          "temp_max": 20.6,
          "temp_min": 8.3,
          "weather": "sun",
          "wind": 1.8,
          "year": 2015
         },
         {
          "day": 24,
          "month": 9,
          "precipitation": 0,
          "temp_max": 22.2,
          "temp_min": 11.1,
          "weather": "fog",
          "wind": 2.5,
          "year": 2015
         },
         {
          "day": 25,
          "month": 9,
          "precipitation": 2,
          "temp_max": 15.6,
          "temp_min": 12.8,
          "weather": "fog",
          "wind": 2.6,
          "year": 2015
         },
         {
          "day": 26,
          "month": 9,
          "precipitation": 0,
          "temp_max": 18.3,
          "temp_min": 10,
          "weather": "sun",
          "wind": 2.7,
          "year": 2015
         },
         {
          "day": 27,
          "month": 9,
          "precipitation": 0,
          "temp_max": 17.8,
          "temp_min": 7.2,
          "weather": "sun",
          "wind": 3.8,
          "year": 2015
         },
         {
          "day": 28,
          "month": 9,
          "precipitation": 0,
          "temp_max": 21.1,
          "temp_min": 9.4,
          "weather": "sun",
          "wind": 5.1,
          "year": 2015
         },
         {
          "day": 29,
          "month": 9,
          "precipitation": 0,
          "temp_max": 21.7,
          "temp_min": 8.9,
          "weather": "sun",
          "wind": 1.9,
          "year": 2015
         },
         {
          "day": 30,
          "month": 9,
          "precipitation": 0,
          "temp_max": 18.3,
          "temp_min": 10,
          "weather": "fog",
          "wind": 1.3,
          "year": 2015
         },
         {
          "day": 1,
          "month": 10,
          "precipitation": 0,
          "temp_max": 21.1,
          "temp_min": 9.4,
          "weather": "fog",
          "wind": 1.3,
          "year": 2015
         },
         {
          "day": 2,
          "month": 10,
          "precipitation": 0,
          "temp_max": 15.6,
          "temp_min": 10,
          "weather": "fog",
          "wind": 2.9,
          "year": 2015
         },
         {
          "day": 3,
          "month": 10,
          "precipitation": 0,
          "temp_max": 19.4,
          "temp_min": 11.1,
          "weather": "sun",
          "wind": 4.8,
          "year": 2015
         },
         {
          "day": 4,
          "month": 10,
          "precipitation": 0,
          "temp_max": 22.8,
          "temp_min": 10,
          "weather": "sun",
          "wind": 3.7,
          "year": 2015
         },
         {
          "day": 5,
          "month": 10,
          "precipitation": 0,
          "temp_max": 23.3,
          "temp_min": 9.4,
          "weather": "sun",
          "wind": 1.6,
          "year": 2015
         },
         {
          "day": 6,
          "month": 10,
          "precipitation": 0,
          "temp_max": 18.3,
          "temp_min": 10,
          "weather": "drizzle",
          "wind": 2.6,
          "year": 2015
         },
         {
          "day": 7,
          "month": 10,
          "precipitation": 9.9,
          "temp_max": 16.1,
          "temp_min": 13.9,
          "weather": "fog",
          "wind": 2.2,
          "year": 2015
         },
         {
          "day": 8,
          "month": 10,
          "precipitation": 0,
          "temp_max": 18.9,
          "temp_min": 13.3,
          "weather": "fog",
          "wind": 1.1,
          "year": 2015
         },
         {
          "day": 9,
          "month": 10,
          "precipitation": 0.3,
          "temp_max": 19.4,
          "temp_min": 12.2,
          "weather": "fog",
          "wind": 2.6,
          "year": 2015
         },
         {
          "day": 10,
          "month": 10,
          "precipitation": 28.7,
          "temp_max": 21.1,
          "temp_min": 13.3,
          "weather": "fog",
          "wind": 4.7,
          "year": 2015
         },
         {
          "day": 11,
          "month": 10,
          "precipitation": 0,
          "temp_max": 17.8,
          "temp_min": 10.6,
          "weather": "sun",
          "wind": 2.6,
          "year": 2015
         },
         {
          "day": 12,
          "month": 10,
          "precipitation": 4.6,
          "temp_max": 18.3,
          "temp_min": 10.6,
          "weather": "fog",
          "wind": 2.8,
          "year": 2015
         },
         {
          "day": 13,
          "month": 10,
          "precipitation": 1.3,
          "temp_max": 16.7,
          "temp_min": 9.4,
          "weather": "fog",
          "wind": 3.2,
          "year": 2015
         },
         {
          "day": 14,
          "month": 10,
          "precipitation": 0,
          "temp_max": 15,
          "temp_min": 10,
          "weather": "fog",
          "wind": 5,
          "year": 2015
         },
         {
          "day": 15,
          "month": 10,
          "precipitation": 0,
          "temp_max": 21.1,
          "temp_min": 9.4,
          "weather": "fog",
          "wind": 3.4,
          "year": 2015
         },
         {
          "day": 16,
          "month": 10,
          "precipitation": 0,
          "temp_max": 20,
          "temp_min": 8.9,
          "weather": "sun",
          "wind": 1.3,
          "year": 2015
         },
         {
          "day": 17,
          "month": 10,
          "precipitation": 0.3,
          "temp_max": 19.4,
          "temp_min": 11.7,
          "weather": "fog",
          "wind": 1.3,
          "year": 2015
         },
         {
          "day": 18,
          "month": 10,
          "precipitation": 3.8,
          "temp_max": 15,
          "temp_min": 12.8,
          "weather": "fog",
          "wind": 2,
          "year": 2015
         },
         {
          "day": 19,
          "month": 10,
          "precipitation": 0.3,
          "temp_max": 17.2,
          "temp_min": 12.2,
          "weather": "fog",
          "wind": 2.6,
          "year": 2015
         },
         {
          "day": 20,
          "month": 10,
          "precipitation": 0,
          "temp_max": 17.8,
          "temp_min": 10.6,
          "weather": "fog",
          "wind": 1.8,
          "year": 2015
         },
         {
          "day": 21,
          "month": 10,
          "precipitation": 0,
          "temp_max": 16.1,
          "temp_min": 8.3,
          "weather": "fog",
          "wind": 1.3,
          "year": 2015
         },
         {
          "day": 22,
          "month": 10,
          "precipitation": 0,
          "temp_max": 16.1,
          "temp_min": 8.9,
          "weather": "fog",
          "wind": 2.7,
          "year": 2015
         },
         {
          "day": 23,
          "month": 10,
          "precipitation": 0,
          "temp_max": 12.8,
          "temp_min": 7.2,
          "weather": "fog",
          "wind": 2.6,
          "year": 2015
         },
         {
          "day": 24,
          "month": 10,
          "precipitation": 0,
          "temp_max": 15,
          "temp_min": 8.9,
          "weather": "fog",
          "wind": 2.9,
          "year": 2015
         },
         {
          "day": 25,
          "month": 10,
          "precipitation": 8.9,
          "temp_max": 19.4,
          "temp_min": 8.9,
          "weather": "rain",
          "wind": 3.4,
          "year": 2015
         },
         {
          "day": 26,
          "month": 10,
          "precipitation": 6.9,
          "temp_max": 12.2,
          "temp_min": 10,
          "weather": "fog",
          "wind": 4.6,
          "year": 2015
         },
         {
          "day": 27,
          "month": 10,
          "precipitation": 0,
          "temp_max": 16.1,
          "temp_min": 7.8,
          "weather": "fog",
          "wind": 1.7,
          "year": 2015
         },
         {
          "day": 28,
          "month": 10,
          "precipitation": 3.3,
          "temp_max": 13.9,
          "temp_min": 11.1,
          "weather": "fog",
          "wind": 2.8,
          "year": 2015
         },
         {
          "day": 29,
          "month": 10,
          "precipitation": 1.8,
          "temp_max": 15,
          "temp_min": 12.2,
          "weather": "fog",
          "wind": 4.7,
          "year": 2015
         },
         {
          "day": 30,
          "month": 10,
          "precipitation": 19.3,
          "temp_max": 17.2,
          "temp_min": 11.7,
          "weather": "fog",
          "wind": 6.7,
          "year": 2015
         },
         {
          "day": 31,
          "month": 10,
          "precipitation": 33,
          "temp_max": 15.6,
          "temp_min": 11.7,
          "weather": "fog",
          "wind": 7.2,
          "year": 2015
         },
         {
          "day": 1,
          "month": 11,
          "precipitation": 26.2,
          "temp_max": 12.2,
          "temp_min": 8.9,
          "weather": "fog",
          "wind": 6,
          "year": 2015
         },
         {
          "day": 2,
          "month": 11,
          "precipitation": 0.3,
          "temp_max": 11.1,
          "temp_min": 7.2,
          "weather": "fog",
          "wind": 2.8,
          "year": 2015
         },
         {
          "day": 3,
          "month": 11,
          "precipitation": 0.8,
          "temp_max": 10.6,
          "temp_min": 5,
          "weather": "fog",
          "wind": 1.4,
          "year": 2015
         },
         {
          "day": 4,
          "month": 11,
          "precipitation": 0,
          "temp_max": 10,
          "temp_min": 3.3,
          "weather": "sun",
          "wind": 2.2,
          "year": 2015
         },
         {
          "day": 5,
          "month": 11,
          "precipitation": 1.3,
          "temp_max": 11.7,
          "temp_min": 7.8,
          "weather": "fog",
          "wind": 2.3,
          "year": 2015
         },
         {
          "day": 6,
          "month": 11,
          "precipitation": 0,
          "temp_max": 15.6,
          "temp_min": 8.3,
          "weather": "fog",
          "wind": 2.7,
          "year": 2015
         },
         {
          "day": 7,
          "month": 11,
          "precipitation": 12.7,
          "temp_max": 12.2,
          "temp_min": 9.4,
          "weather": "fog",
          "wind": 3,
          "year": 2015
         },
         {
          "day": 8,
          "month": 11,
          "precipitation": 6.6,
          "temp_max": 11.1,
          "temp_min": 7.8,
          "weather": "fog",
          "wind": 1.8,
          "year": 2015
         },
         {
          "day": 9,
          "month": 11,
          "precipitation": 3.3,
          "temp_max": 10,
          "temp_min": 5,
          "weather": "fog",
          "wind": 1.3,
          "year": 2015
         },
         {
          "day": 10,
          "month": 11,
          "precipitation": 1.3,
          "temp_max": 11.1,
          "temp_min": 3.9,
          "weather": "fog",
          "wind": 3.9,
          "year": 2015
         },
         {
          "day": 11,
          "month": 11,
          "precipitation": 1.5,
          "temp_max": 11.1,
          "temp_min": 6.1,
          "weather": "sun",
          "wind": 4.6,
          "year": 2015
         },
         {
          "day": 12,
          "month": 11,
          "precipitation": 9.9,
          "temp_max": 11.1,
          "temp_min": 5,
          "weather": "fog",
          "wind": 5.1,
          "year": 2015
         },
         {
          "day": 13,
          "month": 11,
          "precipitation": 33.5,
          "temp_max": 13.3,
          "temp_min": 9.4,
          "weather": "fog",
          "wind": 6.5,
          "year": 2015
         },
         {
          "day": 14,
          "month": 11,
          "precipitation": 47.2,
          "temp_max": 9.4,
          "temp_min": 6.1,
          "weather": "fog",
          "wind": 4.5,
          "year": 2015
         },
         {
          "day": 15,
          "month": 11,
          "precipitation": 22.4,
          "temp_max": 8.9,
          "temp_min": 2.2,
          "weather": "fog",
          "wind": 4.1,
          "year": 2015
         },
         {
          "day": 16,
          "month": 11,
          "precipitation": 2,
          "temp_max": 8.9,
          "temp_min": 1.7,
          "weather": "fog",
          "wind": 4,
          "year": 2015
         },
         {
          "day": 17,
          "month": 11,
          "precipitation": 29.5,
          "temp_max": 13.3,
          "temp_min": 6.7,
          "weather": "fog",
          "wind": 8,
          "year": 2015
         },
         {
          "day": 18,
          "month": 11,
          "precipitation": 1.5,
          "temp_max": 8.9,
          "temp_min": 3.3,
          "weather": "sun",
          "wind": 3.8,
          "year": 2015
         },
         {
          "day": 19,
          "month": 11,
          "precipitation": 2,
          "temp_max": 8.9,
          "temp_min": 2.8,
          "weather": "sun",
          "wind": 4.2,
          "year": 2015
         },
         {
          "day": 20,
          "month": 11,
          "precipitation": 0,
          "temp_max": 8.3,
          "temp_min": 0.6,
          "weather": "fog",
          "wind": 4,
          "year": 2015
         },
         {
          "day": 21,
          "month": 11,
          "precipitation": 0,
          "temp_max": 8.9,
          "temp_min": 0.6,
          "weather": "sun",
          "wind": 4.7,
          "year": 2015
         },
         {
          "day": 22,
          "month": 11,
          "precipitation": 0,
          "temp_max": 10,
          "temp_min": 1.7,
          "weather": "fog",
          "wind": 3.1,
          "year": 2015
         },
         {
          "day": 23,
          "month": 11,
          "precipitation": 3,
          "temp_max": 6.7,
          "temp_min": 0,
          "weather": "fog",
          "wind": 1.3,
          "year": 2015
         },
         {
          "day": 24,
          "month": 11,
          "precipitation": 7.1,
          "temp_max": 6.7,
          "temp_min": 2.8,
          "weather": "fog",
          "wind": 4.5,
          "year": 2015
         },
         {
          "day": 25,
          "month": 11,
          "precipitation": 0,
          "temp_max": 7.2,
          "temp_min": 0,
          "weather": "sun",
          "wind": 5.7,
          "year": 2015
         },
         {
          "day": 26,
          "month": 11,
          "precipitation": 0,
          "temp_max": 9.4,
          "temp_min": -1,
          "weather": "sun",
          "wind": 4.3,
          "year": 2015
         },
         {
          "day": 27,
          "month": 11,
          "precipitation": 0,
          "temp_max": 9.4,
          "temp_min": -1.6,
          "weather": "sun",
          "wind": 3,
          "year": 2015
         },
         {
          "day": 28,
          "month": 11,
          "precipitation": 0,
          "temp_max": 7.2,
          "temp_min": -2.7,
          "weather": "sun",
          "wind": 1,
          "year": 2015
         },
         {
          "day": 29,
          "month": 11,
          "precipitation": 0,
          "temp_max": 1.7,
          "temp_min": -2.1,
          "weather": "fog",
          "wind": 0.9,
          "year": 2015
         },
         {
          "day": 30,
          "month": 11,
          "precipitation": 0.5,
          "temp_max": 5.6,
          "temp_min": -3.8,
          "weather": "fog",
          "wind": 1.7,
          "year": 2015
         },
         {
          "day": 1,
          "month": 12,
          "precipitation": 12.2,
          "temp_max": 10,
          "temp_min": 3.9,
          "weather": "fog",
          "wind": 3.5,
          "year": 2015
         },
         {
          "day": 2,
          "month": 12,
          "precipitation": 2.5,
          "temp_max": 10.6,
          "temp_min": 4.4,
          "weather": "fog",
          "wind": 5,
          "year": 2015
         },
         {
          "day": 3,
          "month": 12,
          "precipitation": 12.7,
          "temp_max": 15.6,
          "temp_min": 7.8,
          "weather": "fog",
          "wind": 5.9,
          "year": 2015
         },
         {
          "day": 4,
          "month": 12,
          "precipitation": 2,
          "temp_max": 10.6,
          "temp_min": 6.1,
          "weather": "fog",
          "wind": 4.7,
          "year": 2015
         },
         {
          "day": 5,
          "month": 12,
          "precipitation": 15.7,
          "temp_max": 10,
          "temp_min": 6.1,
          "weather": "fog",
          "wind": 4,
          "year": 2015
         },
         {
          "day": 6,
          "month": 12,
          "precipitation": 11.2,
          "temp_max": 12.8,
          "temp_min": 7.2,
          "weather": "fog",
          "wind": 5.9,
          "year": 2015
         },
         {
          "day": 7,
          "month": 12,
          "precipitation": 27.4,
          "temp_max": 11.1,
          "temp_min": 8.3,
          "weather": "fog",
          "wind": 3.4,
          "year": 2015
         },
         {
          "day": 8,
          "month": 12,
          "precipitation": 54.1,
          "temp_max": 15.6,
          "temp_min": 10,
          "weather": "fog",
          "wind": 6.2,
          "year": 2015
         },
         {
          "day": 9,
          "month": 12,
          "precipitation": 13.5,
          "temp_max": 12.2,
          "temp_min": 7.8,
          "weather": "fog",
          "wind": 6.3,
          "year": 2015
         },
         {
          "day": 10,
          "month": 12,
          "precipitation": 9.4,
          "temp_max": 11.7,
          "temp_min": 6.1,
          "weather": "fog",
          "wind": 7.5,
          "year": 2015
         },
         {
          "day": 11,
          "month": 12,
          "precipitation": 0.3,
          "temp_max": 9.4,
          "temp_min": 4.4,
          "weather": "sun",
          "wind": 2.8,
          "year": 2015
         },
         {
          "day": 12,
          "month": 12,
          "precipitation": 16,
          "temp_max": 8.9,
          "temp_min": 5.6,
          "weather": "fog",
          "wind": 5.6,
          "year": 2015
         },
         {
          "day": 13,
          "month": 12,
          "precipitation": 1.3,
          "temp_max": 7.8,
          "temp_min": 6.1,
          "weather": "sun",
          "wind": 6.1,
          "year": 2015
         },
         {
          "day": 14,
          "month": 12,
          "precipitation": 0,
          "temp_max": 7.8,
          "temp_min": 1.7,
          "weather": "sun",
          "wind": 1.7,
          "year": 2015
         },
         {
          "day": 15,
          "month": 12,
          "precipitation": 1.5,
          "temp_max": 6.7,
          "temp_min": 1.1,
          "weather": "fog",
          "wind": 2.9,
          "year": 2015
         },
         {
          "day": 16,
          "month": 12,
          "precipitation": 3.6,
          "temp_max": 6.1,
          "temp_min": 2.8,
          "weather": "fog",
          "wind": 2.3,
          "year": 2015
         },
         {
          "day": 17,
          "month": 12,
          "precipitation": 21.8,
          "temp_max": 6.7,
          "temp_min": 3.9,
          "weather": "fog",
          "wind": 6,
          "year": 2015
         },
         {
          "day": 18,
          "month": 12,
          "precipitation": 18.5,
          "temp_max": 8.9,
          "temp_min": 4.4,
          "weather": "fog",
          "wind": 5.1,
          "year": 2015
         },
         {
          "day": 19,
          "month": 12,
          "precipitation": 0,
          "temp_max": 8.3,
          "temp_min": 2.8,
          "weather": "fog",
          "wind": 4.1,
          "year": 2015
         },
         {
          "day": 20,
          "month": 12,
          "precipitation": 4.3,
          "temp_max": 7.8,
          "temp_min": 4.4,
          "weather": "fog",
          "wind": 6.7,
          "year": 2015
         },
         {
          "day": 21,
          "month": 12,
          "precipitation": 27.4,
          "temp_max": 5.6,
          "temp_min": 2.8,
          "weather": "fog",
          "wind": 4.3,
          "year": 2015
         },
         {
          "day": 22,
          "month": 12,
          "precipitation": 4.6,
          "temp_max": 7.8,
          "temp_min": 2.8,
          "weather": "fog",
          "wind": 5,
          "year": 2015
         },
         {
          "day": 23,
          "month": 12,
          "precipitation": 6.1,
          "temp_max": 5,
          "temp_min": 2.8,
          "weather": "fog",
          "wind": 7.6,
          "year": 2015
         },
         {
          "day": 24,
          "month": 12,
          "precipitation": 2.5,
          "temp_max": 5.6,
          "temp_min": 2.2,
          "weather": "fog",
          "wind": 4.3,
          "year": 2015
         },
         {
          "day": 25,
          "month": 12,
          "precipitation": 5.8,
          "temp_max": 5,
          "temp_min": 2.2,
          "weather": "fog",
          "wind": 1.5,
          "year": 2015
         },
         {
          "day": 26,
          "month": 12,
          "precipitation": 0,
          "temp_max": 4.4,
          "temp_min": 0,
          "weather": "sun",
          "wind": 2.5,
          "year": 2015
         },
         {
          "day": 27,
          "month": 12,
          "precipitation": 8.6,
          "temp_max": 4.4,
          "temp_min": 1.7,
          "weather": "fog",
          "wind": 2.9,
          "year": 2015
         },
         {
          "day": 28,
          "month": 12,
          "precipitation": 1.5,
          "temp_max": 5,
          "temp_min": 1.7,
          "weather": "fog",
          "wind": 1.3,
          "year": 2015
         },
         {
          "day": 29,
          "month": 12,
          "precipitation": 0,
          "temp_max": 7.2,
          "temp_min": 0.6,
          "weather": "fog",
          "wind": 2.6,
          "year": 2015
         },
         {
          "day": 30,
          "month": 12,
          "precipitation": 0,
          "temp_max": 5.6,
          "temp_min": -1,
          "weather": "sun",
          "wind": 3.4,
          "year": 2015
         },
         {
          "day": 31,
          "month": 12,
          "precipitation": 0,
          "temp_max": 5.6,
          "temp_min": -2.1,
          "weather": "sun",
          "wind": 3.5,
          "year": 2015
         }
        ]
       },
       "layer": [
        {
         "encoding": {
          "opacity": {
           "condition": {
            "selection": "selector008",
            "value": 1
           },
           "value": 0.5
          },
          "x": {
           "field": "month",
           "type": "ordinal"
          },
          "y": {
           "aggregate": "mean",
           "field": "temp_max",
           "type": "quantitative"
          }
         },
         "height": 400,
         "mark": {
          "color": "blue",
          "type": "bar"
         },
         "selection": {
          "selector008": {
           "encodings": [
            "x"
           ],
           "type": "interval"
          }
         },
         "width": 600
        },
        {
         "encoding": {
          "size": {
           "value": 5
          },
          "y": {
           "aggregate": "mean",
           "field": "temp_max",
           "type": "quantitative"
          }
         },
         "mark": {
          "color": "red",
          "type": "rule"
         },
         "transform": [
          {
           "filter": {
            "selection": "selector008"
           }
          }
         ]
        }
       ]
      },
      "image/png": "[encoded data removed]",
      "text/plain": [
       "<VegaLite 4 object>\n",
       "\n",
       "If you see this message, it means the renderer has not been properly enabled\n",
       "for the frontend that you are using. For more information, see\n",
       "https://altair-viz.github.io/user_guide/troubleshooting.html\n"
      ]
     },
     "execution_count": 35,
     "metadata": {},
     "output_type": "execute_result"
    }
   ],
   "source": [
    "brush = alt.selection(type= 'interval', encodings = ['x'])\n",
    "\n",
    "bars = alt.Chart(height = 400, width = 600) \\\n",
    "        .mark_bar(color = 'blue') \\\n",
    "        .encode(x = 'month:O',\n",
    "               y = 'mean(temp_max):Q',\n",
    "               opacity = alt.condition(brush,\n",
    "                                      alt.OpacityValue(1),\n",
    "                                      alt.OpacityValue(0.5))) \\\n",
    "        .add_selection(brush)\n",
    "\n",
    "line = alt.Chart() \\\n",
    "        .mark_rule(color = 'red') \\\n",
    "        .encode(y = 'mean(temp_max):Q',\n",
    "               size = alt.SizeValue(5))  \\\n",
    "        .transform_filter(brush)\n",
    "\n",
    "alt.layer(bars, line, data = weather_data)"
   ]
  },
  {
   "cell_type": "code",
   "execution_count": null,
   "metadata": {},
   "outputs": [],
   "source": []
  }
 ],
 "metadata": {
  "kernelspec": {
   "display_name": "Python 3",
   "language": "python",
   "name": "python3"
  },
  "language_info": {
   "codemirror_mode": {
    "name": "ipython",
    "version": 3
   },
   "file_extension": ".py",
   "mimetype": "text/x-python",
   "name": "python",
   "nbconvert_exporter": "python",
   "pygments_lexer": "ipython3",
   "version": "3.8.1"
  }
 },
 "nbformat": 4,
 "nbformat_minor": 4
}
